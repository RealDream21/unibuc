{
 "cells": [
  {
   "cell_type": "code",
   "execution_count": 1,
   "id": "1747bdcc-61a1-4240-95e5-c8db421aa2cc",
   "metadata": {},
   "outputs": [],
   "source": [
    "# !set CUDA_VISIBLE_DEVICES=\"\"\n",
    "# !set CUDA_LAUNCH_BLOCKING=1"
   ]
  },
  {
   "cell_type": "code",
   "execution_count": 1,
   "id": "b33ee191-930b-493c-9cf5-b44ef8bba8f4",
   "metadata": {},
   "outputs": [],
   "source": [
    "import pandas as pd\n",
    "import sklearn\n",
    "import os\n",
    "import torch\n",
    "import matplotlib as mpl\n",
    "import matplotlib.pyplot as plt\n",
    "import numpy as np\n",
    "import seaborn as sns\n",
    "from torch.utils.data import DataLoader\n",
    "os.environ[\"KERAS_BACKEND\"] = 'torch'\n",
    "# os.environ[\"CUDA_VISIBLE_DEVICES\"] = \"\" \n",
    "import keras"
   ]
  },
  {
   "cell_type": "code",
   "execution_count": 2,
   "id": "066cc298-1d72-429b-aded-98410bb31cf3",
   "metadata": {},
   "outputs": [
    {
     "data": {
      "text/plain": [
       "device(type='cpu')"
      ]
     },
     "execution_count": 2,
     "metadata": {},
     "output_type": "execute_result"
    }
   ],
   "source": [
    "# torch.backends.cudnn.enabled = False\n",
    "# torch.cuda.is_available = lambda: False\n",
    "# torch.device(\"cpu\")"
   ]
  },
  {
   "cell_type": "code",
   "execution_count": 2,
   "id": "93cabb2e-770f-4874-96f8-11bb82d80c57",
   "metadata": {},
   "outputs": [
    {
     "data": {
      "text/plain": [
       "True"
      ]
     },
     "execution_count": 2,
     "metadata": {},
     "output_type": "execute_result"
    }
   ],
   "source": [
    "torch.cuda.is_available()"
   ]
  },
  {
   "cell_type": "code",
   "execution_count": 3,
   "id": "2eb62918-7e05-4723-9cf3-148902c33988",
   "metadata": {},
   "outputs": [],
   "source": [
    "df = pd.read_csv('pmi-data.csv')\n",
    "df = df.loc[df['split'] == 'train']"
   ]
  },
  {
   "cell_type": "code",
   "execution_count": 4,
   "id": "22c47842-303a-4c3b-8cbb-86680c32a6c4",
   "metadata": {},
   "outputs": [
    {
     "data": {
      "text/html": [
       "<h1>1. Datasets and Dataloaders</h1>\n"
      ],
      "text/plain": [
       "<IPython.core.display.HTML object>"
      ]
     },
     "metadata": {},
     "output_type": "display_data"
    }
   ],
   "source": [
    "%%html\n",
    "<h1>1. Datasets and Dataloaders</h1>"
   ]
  },
  {
   "cell_type": "code",
   "execution_count": 4,
   "id": "15a08f94-4174-4e7f-bd9b-9ef66662ca1b",
   "metadata": {},
   "outputs": [],
   "source": [
    "train_data, valid_data = sklearn.model_selection.train_test_split(df, test_size=0.25, shuffle=True, random_state=120)"
   ]
  },
  {
   "cell_type": "code",
   "execution_count": 5,
   "id": "f2e8287c-7dac-45e1-9376-1cb684e3300b",
   "metadata": {},
   "outputs": [],
   "source": [
    "minmax_scaler = sklearn.preprocessing.MinMaxScaler()\n",
    "train_data[['age', 'avg_glucose_level', 'bmi']] = minmax_scaler.fit_transform(train_data[['age', 'avg_glucose_level', 'bmi']])\n",
    "valid_data[['age', 'avg_glucose_level', 'bmi']] = minmax_scaler.transform(valid_data[['age', 'avg_glucose_level', 'bmi']])"
   ]
  },
  {
   "cell_type": "code",
   "execution_count": 6,
   "id": "46e83e66-f7c9-4466-83d0-b73f6e0ccc38",
   "metadata": {},
   "outputs": [
    {
     "data": {
      "text/html": [
       "<div>\n",
       "<style scoped>\n",
       "    .dataframe tbody tr th:only-of-type {\n",
       "        vertical-align: middle;\n",
       "    }\n",
       "\n",
       "    .dataframe tbody tr th {\n",
       "        vertical-align: top;\n",
       "    }\n",
       "\n",
       "    .dataframe thead th {\n",
       "        text-align: right;\n",
       "    }\n",
       "</style>\n",
       "<table border=\"1\" class=\"dataframe\">\n",
       "  <thead>\n",
       "    <tr style=\"text-align: right;\">\n",
       "      <th></th>\n",
       "      <th>id</th>\n",
       "      <th>gender</th>\n",
       "      <th>age</th>\n",
       "      <th>hypertension</th>\n",
       "      <th>heart_disease</th>\n",
       "      <th>ever_married</th>\n",
       "      <th>work_type</th>\n",
       "      <th>Residence_type</th>\n",
       "      <th>avg_glucose_level</th>\n",
       "      <th>bmi</th>\n",
       "      <th>smoking_status</th>\n",
       "      <th>stroke</th>\n",
       "      <th>split</th>\n",
       "    </tr>\n",
       "  </thead>\n",
       "  <tbody>\n",
       "    <tr>\n",
       "      <th>2082</th>\n",
       "      <td>60586</td>\n",
       "      <td>1</td>\n",
       "      <td>0.805556</td>\n",
       "      <td>0</td>\n",
       "      <td>0</td>\n",
       "      <td>1</td>\n",
       "      <td>4</td>\n",
       "      <td>1</td>\n",
       "      <td>0.139276</td>\n",
       "      <td>0.153846</td>\n",
       "      <td>1</td>\n",
       "      <td>0</td>\n",
       "      <td>train</td>\n",
       "    </tr>\n",
       "    <tr>\n",
       "      <th>2267</th>\n",
       "      <td>28027</td>\n",
       "      <td>1</td>\n",
       "      <td>0.444444</td>\n",
       "      <td>0</td>\n",
       "      <td>0</td>\n",
       "      <td>1</td>\n",
       "      <td>2</td>\n",
       "      <td>0</td>\n",
       "      <td>0.131936</td>\n",
       "      <td>0.069100</td>\n",
       "      <td>2</td>\n",
       "      <td>0</td>\n",
       "      <td>train</td>\n",
       "    </tr>\n",
       "    <tr>\n",
       "      <th>2902</th>\n",
       "      <td>59272</td>\n",
       "      <td>2</td>\n",
       "      <td>0.388889</td>\n",
       "      <td>0</td>\n",
       "      <td>0</td>\n",
       "      <td>1</td>\n",
       "      <td>4</td>\n",
       "      <td>1</td>\n",
       "      <td>0.111255</td>\n",
       "      <td>0.254237</td>\n",
       "      <td>0</td>\n",
       "      <td>0</td>\n",
       "      <td>train</td>\n",
       "    </tr>\n",
       "    <tr>\n",
       "      <th>1666</th>\n",
       "      <td>10649</td>\n",
       "      <td>1</td>\n",
       "      <td>1.000000</td>\n",
       "      <td>0</td>\n",
       "      <td>0</td>\n",
       "      <td>1</td>\n",
       "      <td>4</td>\n",
       "      <td>0</td>\n",
       "      <td>0.114856</td>\n",
       "      <td>0.238592</td>\n",
       "      <td>2</td>\n",
       "      <td>0</td>\n",
       "      <td>train</td>\n",
       "    </tr>\n",
       "    <tr>\n",
       "      <th>899</th>\n",
       "      <td>39823</td>\n",
       "      <td>1</td>\n",
       "      <td>0.430556</td>\n",
       "      <td>0</td>\n",
       "      <td>0</td>\n",
       "      <td>1</td>\n",
       "      <td>2</td>\n",
       "      <td>1</td>\n",
       "      <td>0.806666</td>\n",
       "      <td>0.259452</td>\n",
       "      <td>0</td>\n",
       "      <td>0</td>\n",
       "      <td>train</td>\n",
       "    </tr>\n",
       "    <tr>\n",
       "      <th>...</th>\n",
       "      <td>...</td>\n",
       "      <td>...</td>\n",
       "      <td>...</td>\n",
       "      <td>...</td>\n",
       "      <td>...</td>\n",
       "      <td>...</td>\n",
       "      <td>...</td>\n",
       "      <td>...</td>\n",
       "      <td>...</td>\n",
       "      <td>...</td>\n",
       "      <td>...</td>\n",
       "      <td>...</td>\n",
       "      <td>...</td>\n",
       "    </tr>\n",
       "    <tr>\n",
       "      <th>725</th>\n",
       "      <td>19101</td>\n",
       "      <td>1</td>\n",
       "      <td>0.083333</td>\n",
       "      <td>0</td>\n",
       "      <td>0</td>\n",
       "      <td>0</td>\n",
       "      <td>4</td>\n",
       "      <td>0</td>\n",
       "      <td>0.151694</td>\n",
       "      <td>0.092568</td>\n",
       "      <td>2</td>\n",
       "      <td>0</td>\n",
       "      <td>train</td>\n",
       "    </tr>\n",
       "    <tr>\n",
       "      <th>12</th>\n",
       "      <td>58202</td>\n",
       "      <td>1</td>\n",
       "      <td>0.555556</td>\n",
       "      <td>1</td>\n",
       "      <td>0</td>\n",
       "      <td>1</td>\n",
       "      <td>3</td>\n",
       "      <td>1</td>\n",
       "      <td>0.518373</td>\n",
       "      <td>0.203390</td>\n",
       "      <td>2</td>\n",
       "      <td>1</td>\n",
       "      <td>train</td>\n",
       "    </tr>\n",
       "    <tr>\n",
       "      <th>940</th>\n",
       "      <td>321</td>\n",
       "      <td>1</td>\n",
       "      <td>0.958333</td>\n",
       "      <td>0</td>\n",
       "      <td>0</td>\n",
       "      <td>0</td>\n",
       "      <td>3</td>\n",
       "      <td>1</td>\n",
       "      <td>0.077832</td>\n",
       "      <td>0.275098</td>\n",
       "      <td>2</td>\n",
       "      <td>0</td>\n",
       "      <td>train</td>\n",
       "    </tr>\n",
       "    <tr>\n",
       "      <th>1495</th>\n",
       "      <td>1679</td>\n",
       "      <td>2</td>\n",
       "      <td>0.347222</td>\n",
       "      <td>0</td>\n",
       "      <td>0</td>\n",
       "      <td>1</td>\n",
       "      <td>4</td>\n",
       "      <td>1</td>\n",
       "      <td>0.103222</td>\n",
       "      <td>0.179922</td>\n",
       "      <td>1</td>\n",
       "      <td>0</td>\n",
       "      <td>train</td>\n",
       "    </tr>\n",
       "    <tr>\n",
       "      <th>2253</th>\n",
       "      <td>30303</td>\n",
       "      <td>2</td>\n",
       "      <td>0.319444</td>\n",
       "      <td>0</td>\n",
       "      <td>0</td>\n",
       "      <td>0</td>\n",
       "      <td>4</td>\n",
       "      <td>1</td>\n",
       "      <td>0.154095</td>\n",
       "      <td>0.225554</td>\n",
       "      <td>1</td>\n",
       "      <td>0</td>\n",
       "      <td>train</td>\n",
       "    </tr>\n",
       "  </tbody>\n",
       "</table>\n",
       "<p>2139 rows × 13 columns</p>\n",
       "</div>"
      ],
      "text/plain": [
       "         id  gender       age  hypertension  heart_disease  ever_married  \\\n",
       "2082  60586       1  0.805556             0              0             1   \n",
       "2267  28027       1  0.444444             0              0             1   \n",
       "2902  59272       2  0.388889             0              0             1   \n",
       "1666  10649       1  1.000000             0              0             1   \n",
       "899   39823       1  0.430556             0              0             1   \n",
       "...     ...     ...       ...           ...            ...           ...   \n",
       "725   19101       1  0.083333             0              0             0   \n",
       "12    58202       1  0.555556             1              0             1   \n",
       "940     321       1  0.958333             0              0             0   \n",
       "1495   1679       2  0.347222             0              0             1   \n",
       "2253  30303       2  0.319444             0              0             0   \n",
       "\n",
       "      work_type  Residence_type  avg_glucose_level       bmi  smoking_status  \\\n",
       "2082          4               1           0.139276  0.153846               1   \n",
       "2267          2               0           0.131936  0.069100               2   \n",
       "2902          4               1           0.111255  0.254237               0   \n",
       "1666          4               0           0.114856  0.238592               2   \n",
       "899           2               1           0.806666  0.259452               0   \n",
       "...         ...             ...                ...       ...             ...   \n",
       "725           4               0           0.151694  0.092568               2   \n",
       "12            3               1           0.518373  0.203390               2   \n",
       "940           3               1           0.077832  0.275098               2   \n",
       "1495          4               1           0.103222  0.179922               1   \n",
       "2253          4               1           0.154095  0.225554               1   \n",
       "\n",
       "      stroke  split  \n",
       "2082       0  train  \n",
       "2267       0  train  \n",
       "2902       0  train  \n",
       "1666       0  train  \n",
       "899        0  train  \n",
       "...      ...    ...  \n",
       "725        0  train  \n",
       "12         1  train  \n",
       "940        0  train  \n",
       "1495       0  train  \n",
       "2253       0  train  \n",
       "\n",
       "[2139 rows x 13 columns]"
      ]
     },
     "execution_count": 6,
     "metadata": {},
     "output_type": "execute_result"
    }
   ],
   "source": [
    "train_data"
   ]
  },
  {
   "cell_type": "code",
   "execution_count": 7,
   "id": "c48e59d3-b0f1-48e8-9839-5481c31a8c61",
   "metadata": {},
   "outputs": [],
   "source": [
    "class StrokeDataset(torch.utils.data.Dataset):\n",
    "    def __init__(self, data):\n",
    "        self.labels = data['stroke']\n",
    "        self.samples = data.drop(columns=['stroke', 'id', 'split'])\n",
    "\n",
    "    def __len__(self):\n",
    "        return len(self.labels)\n",
    "\n",
    "    def __getitem__(self, idx):        \n",
    "        return torch.Tensor(self.samples.iloc[0].values), torch.tensor(self.labels.iloc[idx])"
   ]
  },
  {
   "cell_type": "code",
   "execution_count": 8,
   "id": "92292b71-b835-4745-b4ce-0fd2d628b40c",
   "metadata": {},
   "outputs": [],
   "source": [
    "train_dataloader = DataLoader(StrokeDataset(train_data), batch_size=16, shuffle=True)\n",
    "valid_dataloader = DataLoader(StrokeDataset(valid_data))"
   ]
  },
  {
   "cell_type": "code",
   "execution_count": 9,
   "id": "57166e26-ce6e-49f9-8b78-dd8de1bbada2",
   "metadata": {},
   "outputs": [
    {
     "data": {
      "text/html": [
       "<h3>I think shuffling is a good idea because if we take a look at the pmi-data.csv we can see that all the cases with stroke=1 come first in the csv so that means if we didnt shuffle, all of them would be chosen for the training and none would be left for the testing</h3>\n"
      ],
      "text/plain": [
       "<IPython.core.display.HTML object>"
      ]
     },
     "metadata": {},
     "output_type": "display_data"
    }
   ],
   "source": [
    "%%html\n",
    "<h3>I think shuffling is a good idea because if we take a look at the pmi-data.csv we can see that all the cases with stroke=1 come first in the csv so that means if we didnt shuffle, all of them would be chosen for the training and none would be left for the testing</h3>"
   ]
  },
  {
   "cell_type": "code",
   "execution_count": 10,
   "id": "97f462e1-9e0a-4142-9d3d-e5cc02731440",
   "metadata": {},
   "outputs": [
    {
     "data": {
      "text/html": [
       "<h1>2. Model</h1>\n"
      ],
      "text/plain": [
       "<IPython.core.display.HTML object>"
      ]
     },
     "metadata": {},
     "output_type": "display_data"
    }
   ],
   "source": [
    "%%html\n",
    "<h1>2. Model</h1>"
   ]
  },
  {
   "cell_type": "code",
   "execution_count": 62,
   "id": "33efe778-00cd-4130-bbb5-185b9d3933aa",
   "metadata": {},
   "outputs": [],
   "source": [
    "import torch.nn.functional as F\n",
    "class Model(torch.nn.Module):\n",
    "    def __init__(self, in_size, out_size):\n",
    "        super().__init__()\n",
    "        self.l1 = torch.nn.Linear(in_size, 8)\n",
    "        self.l2 = torch.nn.Linear(8, 8)\n",
    "        # self.l3 = torch.nn.Linear(16, 8)\n",
    "        # self.l4 = torch.nn.Linear(8, 8)\n",
    "        # self.l5 = torch.nn.Linear(8, 8)\n",
    "        # self.l6 = torch.nn.Linear(8, 8)\n",
    "        # self.l7 = torch.nn.Linear(8, 8)\n",
    "        # self.l8 = torch.nn.Linear(8, 16)\n",
    "        # self.l9 = torch.nn.Linear(16, 16)\n",
    "        # self.l10 = torch.nn.Linear(16, 16)\n",
    "        # self.l11 = torch.nn.Linear(16, 8)\n",
    "        self.l12 = torch.nn.Linear(8, out_size)\n",
    "\n",
    "        torch.nn.init.xavier_uniform_(self.l1.weight)\n",
    "        torch.nn.init.xavier_uniform_(self.l2.weight)\n",
    "        # torch.nn.init.xavier_uniform_(self.l3.weight)\n",
    "        # torch.nn.init.xavier_uniform_(self.l4.weight)\n",
    "        # torch.nn.init.xavier_uniform_(self.l5.weight)\n",
    "        # torch.nn.init.xavier_uniform_(self.l6.weight)\n",
    "        # torch.nn.init.xavier_uniform_(self.l7.weight)\n",
    "        # torch.nn.init.xavier_uniform_(self.l8.weight)\n",
    "        # torch.nn.init.xavier_uniform_(self.l9.weight)\n",
    "        # torch.nn.init.xavier_uniform_(self.l10.weight)\n",
    "        # torch.nn.init.xavier_uniform_(self.l11.weight)\n",
    "        torch.nn.init.xavier_uniform_(self.l12.weight)\n",
    "\n",
    "    def forward(self, x):\n",
    "        x = F.relu(self.l1(x))\n",
    "        x = F.relu(self.l2(x))\n",
    "        # x = F.relu(self.l3(x))\n",
    "        # x = F.relu(self.l4(x))\n",
    "        # x = F.relu(self.l5(x))\n",
    "        # x = F.relu(self.l6(x))\n",
    "        # x = F.relu(self.l7(x))\n",
    "        # x = F.relu(self.l8(x))\n",
    "        # x = F.relu(self.l9(x))\n",
    "        # x = F.relu(self.l10(x))\n",
    "        # x = F.relu(self.l11(x))\n",
    "        x = self.l12(x)\n",
    "        return x.squeeze()\n",
    "\n",
    "def get_y_pred_y_true_valid_loss(model, threshold = 0.5):\n",
    "    y_pred = []\n",
    "    y_true = []\n",
    "    valid_loss = 0\n",
    "    with torch.no_grad():\n",
    "        for i, data in enumerate(valid_dataloader, 0):\n",
    "            features, labels = data\n",
    "            y_true.append(labels[0])\n",
    "            outputs = model.forward(features)\n",
    "\n",
    "            loss = loss_fn(outputs, labels[0].float())\n",
    "            valid_loss += loss.item()\n",
    "            y_pred.append((torch.sigmoid(outputs) > threshold).int())\n",
    "    return y_pred, y_true, valid_loss"
   ]
  },
  {
   "cell_type": "code",
   "execution_count": 39,
   "id": "204de917-1f32-4879-825c-10cf98df92a5",
   "metadata": {},
   "outputs": [],
   "source": [
    "model = Model(10, 1)"
   ]
  },
  {
   "cell_type": "code",
   "execution_count": 13,
   "id": "431b3e0e-f0d7-4d79-b21d-e7719b60192d",
   "metadata": {},
   "outputs": [],
   "source": [
    "# for param in model.parameters():\n",
    "#     print(param)"
   ]
  },
  {
   "cell_type": "code",
   "execution_count": 79,
   "id": "84d3ca2f-be4c-42d0-8d5f-42300f1a73dd",
   "metadata": {},
   "outputs": [
    {
     "data": {
      "text/html": [
       "<h1>3. Optimizer and Loss function</h1>\n"
      ],
      "text/plain": [
       "<IPython.core.display.HTML object>"
      ]
     },
     "metadata": {},
     "output_type": "display_data"
    }
   ],
   "source": [
    "%%html\n",
    "<h1>3. Optimizer and Loss function</h1>"
   ]
  },
  {
   "cell_type": "code",
   "execution_count": 14,
   "id": "be73d965-b2e8-45af-960c-4e1b2febf583",
   "metadata": {},
   "outputs": [],
   "source": [
    "optimizer = torch.optim.Adam(model.parameters())\n",
    "loss_fn = torch.nn.BCEWithLogitsLoss()"
   ]
  },
  {
   "cell_type": "code",
   "execution_count": 15,
   "id": "4696dbe8-1426-46d6-8916-9ecde245e3d7",
   "metadata": {},
   "outputs": [
    {
     "data": {
      "text/html": [
       "<h1>4. Training </h1>\n"
      ],
      "text/plain": [
       "<IPython.core.display.HTML object>"
      ]
     },
     "metadata": {},
     "output_type": "display_data"
    }
   ],
   "source": [
    "%%html\n",
    "<h1>4. Training </h1>"
   ]
  },
  {
   "cell_type": "code",
   "execution_count": 16,
   "id": "5636470d-e4e4-4b4e-a28e-3e289dec6f7c",
   "metadata": {},
   "outputs": [
    {
     "name": "stdout",
     "output_type": "stream",
     "text": [
      "Epoch 0, accuracy: 0.9565217391304348, train_loss=0.3411521362279778, valid_loss=0.1876725424890933\n",
      "Epoch 1, accuracy: 0.9565217391304348, train_loss=0.22054793218623348, valid_loss=0.19919706427532693\n",
      "Epoch 2, accuracy: 0.9565217391304348, train_loss=0.2188610520158241, valid_loss=0.20929445391115936\n",
      "Epoch 3, accuracy: 0.9565217391304348, train_loss=0.22046512354220918, valid_loss=0.19020257825436798\n",
      "Epoch 4, accuracy: 0.9565217391304348, train_loss=0.21909734940350944, valid_loss=0.1899769513503365\n",
      "Epoch 5, accuracy: 0.9565217391304348, train_loss=0.21874063840108132, valid_loss=0.20261729281881583\n",
      "Epoch 6, accuracy: 0.9565217391304348, train_loss=0.21905783141282067, valid_loss=0.18697687853937564\n",
      "Epoch 7, accuracy: 0.9565217391304348, train_loss=0.21936766447415992, valid_loss=0.19692585779272992\n",
      "Epoch 8, accuracy: 0.9565217391304348, train_loss=0.2206880160009683, valid_loss=0.19467556994894278\n",
      "Epoch 9, accuracy: 0.9565217391304348, train_loss=0.21890028365957204, valid_loss=0.19024880036063815\n",
      "Epoch 10, accuracy: 0.9565217391304348, train_loss=0.22021771578201607, valid_loss=0.18780323733454166\n",
      "Epoch 11, accuracy: 0.9565217391304348, train_loss=0.2199379040011719, valid_loss=0.18900376817454462\n",
      "Epoch 12, accuracy: 0.9565217391304348, train_loss=0.22023252253212147, valid_loss=0.19319274114525836\n",
      "Epoch 13, accuracy: 0.9565217391304348, train_loss=0.21884775095021547, valid_loss=0.20816176870594855\n",
      "Epoch 14, accuracy: 0.9565217391304348, train_loss=0.22141472461508283, valid_loss=0.19196591169937796\n",
      "Epoch 15, accuracy: 0.9565217391304348, train_loss=0.21916161266280643, valid_loss=0.19525886618572733\n",
      "Epoch 16, accuracy: 0.9565217391304348, train_loss=0.2190881513837558, valid_loss=0.1895652439283288\n",
      "Epoch 17, accuracy: 0.9565217391304348, train_loss=0.22070443229888803, valid_loss=0.19096906288810397\n",
      "Epoch 18, accuracy: 0.9565217391304348, train_loss=0.22037640036042058, valid_loss=0.19165358336075491\n",
      "Epoch 19, accuracy: 0.9565217391304348, train_loss=0.21744888943077914, valid_loss=0.2218337162681248\n",
      "Epoch 20, accuracy: 0.9565217391304348, train_loss=0.22019837451959723, valid_loss=0.18806937466497006\n",
      "Epoch 21, accuracy: 0.9565217391304348, train_loss=0.21981786002418888, valid_loss=0.19610262953716776\n",
      "Epoch 22, accuracy: 0.9565217391304348, train_loss=0.22080801505206235, valid_loss=0.18983031355816385\n",
      "Epoch 23, accuracy: 0.9565217391304348, train_loss=0.2202151065219694, valid_loss=0.19111673728279446\n",
      "Epoch 24, accuracy: 0.9565217391304348, train_loss=0.21986111954076967, valid_loss=0.19398907993150794\n",
      "Epoch 25, accuracy: 0.9565217391304348, train_loss=0.2204879701359948, valid_loss=0.19609398427216904\n",
      "Epoch 26, accuracy: 0.9565217391304348, train_loss=0.2190488283313922, valid_loss=0.18470571352087933\n",
      "Epoch 27, accuracy: 0.9565217391304348, train_loss=0.21952321057889, valid_loss=0.19499553804812225\n",
      "Epoch 28, accuracy: 0.9565217391304348, train_loss=0.2193514552356592, valid_loss=0.19036867307580035\n",
      "Epoch 29, accuracy: 0.9565217391304348, train_loss=0.21973843783584993, valid_loss=0.2001835988915485\n"
     ]
    }
   ],
   "source": [
    "N_EPOCHS = 30\n",
    "\n",
    "best_acc = 0\n",
    "\n",
    "hist_train_loss = []\n",
    "hist_valid_loss = []\n",
    "hist_accuracy = []\n",
    "\n",
    "for epoch in range(N_EPOCHS):\n",
    "    train_loss = 0\n",
    "    valid_loss = 0\n",
    "    for i, data in enumerate(train_dataloader, 0):\n",
    "        features, labels = data\n",
    "        \n",
    "        optimizer.zero_grad()\n",
    "\n",
    "        outputs = model(features).squeeze()\n",
    "        #y_true = torch.tensor(labels).to(torch.float)\n",
    "        loss = loss_fn(outputs, labels.float())\n",
    "        train_loss += loss.item()\n",
    "        loss.backward()\n",
    "        optimizer.step()\n",
    "\n",
    "    y_pred, y_true, valid_loss = get_y_pred_y_true_valid_loss(model)\n",
    "\n",
    "    accuracy = sklearn.metrics.accuracy_score(y_true, y_pred)\n",
    "    print(f'Epoch {epoch}, accuracy: {accuracy}, train_loss={train_loss / len(train_dataloader)}, valid_loss={valid_loss / len(valid_dataloader)}')\n",
    "    if accuracy > best_acc:\n",
    "        torch.save(model.state_dict(), 'best_unbalanced_accuracy')\n",
    "        best_acc = accuracy\n",
    "\n",
    "    hist_train_loss.append(train_loss)\n",
    "    hist_valid_loss.append(valid_loss)\n",
    "    hist_accuracy.append(accuracy)"
   ]
  },
  {
   "cell_type": "code",
   "execution_count": 17,
   "id": "075217b0-c83a-4fb5-b44d-fc293e179136",
   "metadata": {},
   "outputs": [
    {
     "data": {
      "image/png": "[encoded data removed]",
      "text/plain": [
       "<Figure size 1500x600 with 2 Axes>"
      ]
     },
     "metadata": {},
     "output_type": "display_data"
    }
   ],
   "source": [
    "plt.figure(figsize=(15, 6))\n",
    "\n",
    "plt.subplot(1, 2, 1)\n",
    "plt.plot(hist_train_loss, label='Training Loss')\n",
    "plt.plot(hist_valid_loss, label='Validation Loss')\n",
    "plt.title('Loss over Epochs')\n",
    "plt.xlabel('Epochs')\n",
    "plt.ylabel('Loss')\n",
    "plt.legend()\n",
    "plt.grid(True)\n",
    "\n",
    "plt.subplot(1, 2, 2)\n",
    "plt.plot(hist_accuracy, label='Training Accuracy')\n",
    "plt.title('Accuracy over Epochs')\n",
    "plt.xlabel('Epochs')\n",
    "plt.ylabel('Accuracy')\n",
    "plt.legend()\n",
    "plt.grid(True)\n",
    "\n",
    "plt.tight_layout()\n",
    "plt.show()"
   ]
  },
  {
   "cell_type": "code",
   "execution_count": 278,
   "id": "4abcf565-38a9-49c7-836a-6e1f28e6f44b",
   "metadata": {},
   "outputs": [
    {
     "data": {
      "text/html": [
       "<h1>5. Evaluation</h1>\n"
      ],
      "text/plain": [
       "<IPython.core.display.HTML object>"
      ]
     },
     "metadata": {},
     "output_type": "display_data"
    }
   ],
   "source": [
    "%%html\n",
    "<h1>5. Evaluation</h1>"
   ]
  },
  {
   "cell_type": "code",
   "execution_count": 18,
   "id": "b326747b-3422-460e-b909-7e64c3a23a06",
   "metadata": {},
   "outputs": [],
   "source": [
    "model.load_state_dict(torch.load('best_unbalanced_accuracy'))\n",
    "y_pred, y_true, _ = get_y_pred_y_true_valid_loss(model)"
   ]
  },
  {
   "cell_type": "code",
   "execution_count": 19,
   "id": "a81451d7-b644-4a20-8df9-86fd11e67ce2",
   "metadata": {},
   "outputs": [
    {
     "name": "stdout",
     "output_type": "stream",
     "text": [
      "Precision: 0.0\n",
      "Recall: 0.0\n",
      "F1_score: 0.0\n"
     ]
    },
    {
     "data": {
      "text/plain": [
       "<sklearn.metrics._plot.confusion_matrix.ConfusionMatrixDisplay at 0x1b966875220>"
      ]
     },
     "execution_count": 19,
     "metadata": {},
     "output_type": "execute_result"
    },
    {
     "data": {
      "image/png": "[encoded data removed]",
      "text/plain": [
       "<Figure size 640x480 with 2 Axes>"
      ]
     },
     "metadata": {},
     "output_type": "display_data"
    }
   ],
   "source": [
    "conf_matrix = sklearn.metrics.confusion_matrix(y_true, y_pred)\n",
    "precision = sklearn.metrics.precision_score(y_true, y_pred, zero_division=0)\n",
    "recall = sklearn.metrics.recall_score(y_true, y_pred,zero_division=0)\n",
    "f1_score = sklearn.metrics.f1_score(y_true, y_pred,zero_division=0)\n",
    "print(f'Precision: {precision}')\n",
    "print(f'Recall: {recall}')\n",
    "print(f'F1_score: {f1_score}')\n",
    "sklearn.metrics.ConfusionMatrixDisplay(conf_matrix).plot()"
   ]
  },
  {
   "cell_type": "code",
   "execution_count": 86,
   "id": "6681f2d7-1235-4847-b204-cb8c93516c6a",
   "metadata": {},
   "outputs": [
    {
     "data": {
      "text/html": [
       "<h1>6. Balance the training data distribution</h1>\n"
      ],
      "text/plain": [
       "<IPython.core.display.HTML object>"
      ]
     },
     "metadata": {},
     "output_type": "display_data"
    }
   ],
   "source": [
    "%%html\n",
    "<h1>6. Balance the training data distribution</h1>"
   ]
  },
  {
   "cell_type": "code",
   "execution_count": 71,
   "id": "192e2a2d-1b02-4c8f-9a77-d36e63363ef4",
   "metadata": {},
   "outputs": [],
   "source": [
    "model = Model(10, 1)\n",
    "pos_weight = torch.tensor(train_data['stroke'].loc[train_data.stroke == 0].count() / train_data['stroke'].loc[train_data.stroke == 1].count())\n",
    "optimizer = torch.optim.Adam(model.parameters(), lr=0.0001)\n",
    "loss_fn = torch.nn.BCEWithLogitsLoss(pos_weight=pos_weight)"
   ]
  },
  {
   "cell_type": "code",
   "execution_count": 32,
   "id": "7d59ba5d-33cc-4fe5-a969-3b6617b23897",
   "metadata": {},
   "outputs": [
    {
     "data": {
      "text/plain": [
       "tensor(16.5328, dtype=torch.float64)"
      ]
     },
     "execution_count": 32,
     "metadata": {},
     "output_type": "execute_result"
    }
   ],
   "source": [
    "pos_weight"
   ]
  },
  {
   "cell_type": "code",
   "execution_count": 64,
   "id": "5ebdc815-82ef-4374-9a36-2d1a73f1fdc3",
   "metadata": {},
   "outputs": [
    {
     "name": "stdout",
     "output_type": "stream",
     "text": [
      "torch.Size([2, 10])\n",
      "Overfit test loss: 0.09380269050598145\n"
     ]
    }
   ],
   "source": [
    "# Should reach <0.5 loss on 10 samples\n",
    "x_tiny, y_tiny = next(iter(train_dataloader))\n",
    "x_tiny = x_tiny[:2]\n",
    "y_tiny = y_tiny[:2]\n",
    "print(x_tiny.shape)\n",
    "for _ in range(3000):\n",
    "    optimizer.zero_grad()\n",
    "    loss = loss_fn(model(x_tiny), y_tiny.float())\n",
    "    loss.backward()\n",
    "    optimizer.step()\n",
    "print(\"Overfit test loss:\", loss.item())"
   ]
  },
  {
   "cell_type": "code",
   "execution_count": 72,
   "id": "bb12f01b-f6be-4810-acd9-f87b51c0c065",
   "metadata": {},
   "outputs": [
    {
     "name": "stdout",
     "output_type": "stream",
     "text": [
      "Epoch 0, accuracy: 0.9565217391304348, train_loss=2.567739305211537, valid_loss=1.8643287990404211, f1_score=0.0, recall=0.0, precision=0.0, *\n",
      "Epoch 1, accuracy: 0.9565217391304348, train_loss=2.3587017859985577, valid_loss=1.7550021876459536, f1_score=0.0, recall=0.0, precision=0.0, None\n",
      "Epoch 2, accuracy: 0.9565217391304348, train_loss=2.1712034922927175, valid_loss=1.658419422481371, f1_score=0.0, recall=0.0, precision=0.0, None\n",
      "Epoch 3, accuracy: 0.9565217391304348, train_loss=2.019740351990088, valid_loss=1.5756007692088252, f1_score=0.0, recall=0.0, precision=0.0, None\n",
      "Epoch 4, accuracy: 0.9565217391304348, train_loss=1.8985463411950354, valid_loss=1.5044195237367048, f1_score=0.0, recall=0.0, precision=0.0, None\n",
      "Epoch 5, accuracy: 0.9565217391304348, train_loss=1.7915349442567399, valid_loss=1.4466051537057627, f1_score=0.0, recall=0.0, precision=0.0, None\n",
      "Epoch 6, accuracy: 0.9565217391304348, train_loss=1.7176050072285667, valid_loss=1.3950771767160166, f1_score=0.0, recall=0.0, precision=0.0, None\n",
      "Epoch 7, accuracy: 0.9565217391304348, train_loss=1.6541526068502397, valid_loss=1.3543434557707414, f1_score=0.0, recall=0.0, precision=0.0, None\n",
      "Epoch 8, accuracy: 0.9565217391304348, train_loss=1.6052130171612127, valid_loss=1.3247657651486604, f1_score=0.0, recall=0.0, precision=0.0, None\n",
      "Epoch 9, accuracy: 0.9565217391304348, train_loss=1.5546345615120076, valid_loss=1.2979427835215693, f1_score=0.0, recall=0.0, precision=0.0, None\n",
      "Epoch 10, accuracy: 0.9565217391304348, train_loss=1.5201188779588957, valid_loss=1.2770994124205217, f1_score=0.0, recall=0.0, precision=0.0, None\n",
      "Epoch 11, accuracy: 0.9565217391304348, train_loss=1.482907019444366, valid_loss=1.2581642606984014, f1_score=0.0, recall=0.0, precision=0.0, None\n",
      "Epoch 12, accuracy: 0.9565217391304348, train_loss=1.4548284380293603, valid_loss=1.2420858507571013, f1_score=0.0, recall=0.0, precision=0.0, None\n",
      "Epoch 13, accuracy: 0.9565217391304348, train_loss=1.4347318290774502, valid_loss=1.2281776200170103, f1_score=0.0, recall=0.0, precision=0.0, None\n",
      "Epoch 14, accuracy: 0.9565217391304348, train_loss=1.4105339457294834, valid_loss=1.2166005373001099, f1_score=0.0, recall=0.0, precision=0.0, None\n",
      "Epoch 15, accuracy: 0.9565217391304348, train_loss=1.3969812655626839, valid_loss=1.2065506707067075, f1_score=0.0, recall=0.0, precision=0.0, None\n",
      "Epoch 16, accuracy: 0.9565217391304348, train_loss=1.3843931591332848, valid_loss=1.200006795966107, f1_score=0.0, recall=0.0, precision=0.0, None\n",
      "Epoch 17, accuracy: 0.9565217391304348, train_loss=1.3758752105840997, valid_loss=1.193823156149491, f1_score=0.0, recall=0.0, precision=0.0, None\n",
      "Epoch 18, accuracy: 0.9565217391304348, train_loss=1.3657617431078384, valid_loss=1.1889622211456299, f1_score=0.0, recall=0.0, precision=0.0, None\n",
      "Epoch 19, accuracy: 0.9565217391304348, train_loss=1.3609812139575161, valid_loss=1.1847031738447107, f1_score=0.0, recall=0.0, precision=0.0, None\n",
      "Epoch 20, accuracy: 0.9565217391304348, train_loss=1.3565489296148072, valid_loss=1.1808403108430945, f1_score=0.0, recall=0.0, precision=0.0, None\n",
      "Epoch 21, accuracy: 0.9565217391304348, train_loss=1.355540303151999, valid_loss=1.1769848388174307, f1_score=0.0, recall=0.0, precision=0.0, None\n",
      "Epoch 22, accuracy: 0.9565217391304348, train_loss=1.3547214100609963, valid_loss=1.1737167679745217, f1_score=0.0, recall=0.0, precision=0.0, None\n",
      "Epoch 23, accuracy: 0.9565217391304348, train_loss=1.3448766603398679, valid_loss=1.1704808732737666, f1_score=0.0, recall=0.0, precision=0.0, None\n",
      "Epoch 24, accuracy: 0.9565217391304348, train_loss=1.344682993728723, valid_loss=1.1676651809526526, f1_score=0.0, recall=0.0, precision=0.0, None\n",
      "Epoch 25, accuracy: 0.9565217391304348, train_loss=1.3384066998068966, valid_loss=1.1645861967750217, f1_score=0.0, recall=0.0, precision=0.0, None\n",
      "Epoch 26, accuracy: 0.9565217391304348, train_loss=1.335650353734173, valid_loss=1.1622935689013938, f1_score=0.0, recall=0.0, precision=0.0, None\n",
      "Epoch 27, accuracy: 0.9565217391304348, train_loss=1.3329269005291497, valid_loss=1.1606923860052358, f1_score=0.0, recall=0.0, precision=0.0, None\n",
      "Epoch 28, accuracy: 0.9565217391304348, train_loss=1.3305696346866551, valid_loss=1.159133149229962, f1_score=0.0, recall=0.0, precision=0.0, None\n",
      "Epoch 29, accuracy: 0.9565217391304348, train_loss=1.331226141150318, valid_loss=1.1576373680778171, f1_score=0.0, recall=0.0, precision=0.0, None\n"
     ]
    }
   ],
   "source": [
    "N_EPOCHS = 30\n",
    "\n",
    "best_f1_score = -1\n",
    "\n",
    "hist_train_loss = []\n",
    "hist_valid_loss = []\n",
    "\n",
    "hist_accuracy = []\n",
    "hist_precision = []\n",
    "hist_recall = []\n",
    "hist_f1_score = []\n",
    "\n",
    "for epoch in range(N_EPOCHS):\n",
    "    train_loss = 0\n",
    "    valid_loss = 0\n",
    "\n",
    "    for i, data in enumerate(train_dataloader, 0):\n",
    "        features, labels = data\n",
    "        \n",
    "        optimizer.zero_grad()\n",
    "\n",
    "        outputs = model(features).squeeze()\n",
    "        #y_true = torch.tensor(labels).to(torch.float)\n",
    "        loss = loss_fn(outputs, labels.float())\n",
    "        loss.backward()\n",
    "        optimizer.step()\n",
    "        \n",
    "        train_loss += loss.item()\n",
    "\n",
    "        # total_grad = 0\n",
    "        # for p in model.parameters():\n",
    "        #     if p.grad is not None:\n",
    "        #         total_grad += p.grad.norm().item()\n",
    "        # if total_grad < 0.1:\n",
    "        #     print('vanishing gradient')\n",
    "        # if total_grad > 1000:\n",
    "        #     print('exploding gradient')\n",
    "    \n",
    "        # for name, param in model.named_parameters():\n",
    "        #     print(param.grad)\n",
    "    \n",
    "    y_pred, y_true, valid_loss = get_y_pred_y_true_valid_loss(model)\n",
    "\n",
    "    accuracy = sklearn.metrics.accuracy_score(y_true, y_pred)\n",
    "    f1_score = sklearn.metrics.f1_score(y_true, y_pred, zero_division=0)\n",
    "    recall = sklearn.metrics.recall_score(y_true, y_pred, zero_division=0)\n",
    "    precision = sklearn.metrics.precision_score(y_true, y_pred, zero_division=0)\n",
    "\n",
    "    hist_f1_score.append(f1_score)\n",
    "    hist_recall.append(recall)\n",
    "    hist_precision.append(precision)\n",
    "    \n",
    "    print(f'Epoch {epoch}, accuracy: {accuracy}, train_loss={train_loss / len(train_dataloader)}, valid_loss={valid_loss / len(valid_dataloader)}, f1_score={f1_score}, recall={recall}, precision={precision}, {\"*\" if (f1_score > best_f1_score) else None}')\n",
    "    if f1_score > best_f1_score:\n",
    "        torch.save(model.state_dict(), 'best_balanced_f1')\n",
    "        best_f1_score = f1_score\n",
    "\n",
    "    hist_train_loss.append(train_loss / len(train_dataloader))\n",
    "    hist_valid_loss.append(valid_loss / len(valid_dataloader))\n",
    "    hist_accuracy.append(accuracy)"
   ]
  },
  {
   "cell_type": "code",
   "execution_count": 73,
   "id": "4fdaf8a0-ae35-492d-b98b-3eb6ffd728f0",
   "metadata": {},
   "outputs": [
    {
     "data": {
      "image/png": "[encoded data removed]",
      "text/plain": [
       "<Figure size 1500x600 with 2 Axes>"
      ]
     },
     "metadata": {},
     "output_type": "display_data"
    }
   ],
   "source": [
    "plt.figure(figsize=(15, 6))\n",
    "\n",
    "plt.subplot(1, 2, 1)\n",
    "plt.plot(hist_train_loss, label='Training Loss')\n",
    "plt.plot(hist_valid_loss, label='Validation Loss')\n",
    "plt.title('Loss over Epochs')\n",
    "plt.xlabel('Epochs')\n",
    "plt.ylabel('Loss')\n",
    "plt.legend()\n",
    "plt.grid(True)\n",
    "\n",
    "plt.subplot(1, 2, 2)\n",
    "plt.plot(hist_accuracy, label='Validation accuracy')\n",
    "plt.plot(hist_f1_score, label='Validation f1_score')\n",
    "plt.plot(hist_precision, label='Validation precision')\n",
    "plt.plot(hist_recall, label='Validation recall')\n",
    "plt.title('Accuracy over Epochs')\n",
    "plt.xlabel('Epochs')\n",
    "plt.ylabel('Accuracy')\n",
    "plt.legend()\n",
    "plt.grid(True)\n",
    "\n",
    "plt.tight_layout()\n",
    "plt.show()"
   ]
  },
  {
   "cell_type": "code",
   "execution_count": 74,
   "id": "e6534f57-6bdb-4b41-a4d5-32db3cf15b58",
   "metadata": {},
   "outputs": [
    {
     "name": "stdout",
     "output_type": "stream",
     "text": [
      "Precision: 0.0\n",
      "Recall: 0.0\n",
      "F1_score: 0.0\n"
     ]
    },
    {
     "data": {
      "text/plain": [
       "<sklearn.metrics._plot.confusion_matrix.ConfusionMatrixDisplay at 0x1b97b8aa0a0>"
      ]
     },
     "execution_count": 74,
     "metadata": {},
     "output_type": "execute_result"
    },
    {
     "data": {
      "image/png": "[encoded data removed]",
      "text/plain": [
       "<Figure size 640x480 with 2 Axes>"
      ]
     },
     "metadata": {},
     "output_type": "display_data"
    }
   ],
   "source": [
    "model.load_state_dict(torch.load('best_balanced_f1'))\n",
    "y_pred, y_true, _ = get_y_pred_y_true_valid_loss(model)\n",
    "        \n",
    "conf_matrix = sklearn.metrics.confusion_matrix(y_true, y_pred)\n",
    "precision = sklearn.metrics.precision_score(y_true, y_pred, zero_division=0)\n",
    "recall = sklearn.metrics.recall_score(y_true, y_pred)\n",
    "f1_score = sklearn.metrics.f1_score(y_true, y_pred)\n",
    "print(f'Precision: {precision}')\n",
    "print(f'Recall: {recall}')\n",
    "print(f'F1_score: {f1_score}')\n",
    "sklearn.metrics.ConfusionMatrixDisplay(conf_matrix).plot()"
   ]
  },
  {
   "cell_type": "code",
   "execution_count": 288,
   "id": "86e70b2b-d03f-420d-a1bc-1204c8487ee8",
   "metadata": {},
   "outputs": [
    {
     "data": {
      "text/html": [
       "<h1>7. Focal Loss</h1>\n"
      ],
      "text/plain": [
       "<IPython.core.display.HTML object>"
      ]
     },
     "metadata": {},
     "output_type": "display_data"
    }
   ],
   "source": [
    "%%html\n",
    "<h1>7. Focal Loss</h1>"
   ]
  },
  {
   "cell_type": "code",
   "execution_count": 289,
   "id": "2d271e3a-6865-4304-80e2-18d76611be43",
   "metadata": {},
   "outputs": [],
   "source": [
    "class BinaryFocalLoss(torch.nn.Module):\n",
    "    def __init__(self, alpha=0.25, gamma=2, reduction='mean'):\n",
    "        super(BinaryFocalLoss, self).__init__()\n",
    "        self.alpha = alpha\n",
    "        self.gamma = gamma\n",
    "        self.reduction = reduction\n",
    "        self.bce = torch.nn.BCEWithLogitsLoss(reduction='none')\n",
    "\n",
    "    def forward(self, inputs, targets):\n",
    "        BCE_loss = self.bce(inputs, targets)\n",
    "        pt = torch.exp(-BCE_loss)  # pt = p if target=1, else 1-p\n",
    "        alpha_t = self.alpha * targets + (1 - self.alpha) * (1 - targets)\n",
    "        F_loss = alpha_t * (1 - pt)**self.gamma * BCE_loss\n",
    "        \n",
    "        if self.reduction == 'mean':\n",
    "            return torch.mean(F_loss)\n",
    "        elif self.reduction == 'sum':\n",
    "            return torch.sum(F_loss)\n",
    "        else:\n",
    "            return F_loss"
   ]
  },
  {
   "cell_type": "code",
   "execution_count": 290,
   "id": "f2e60085-9813-4e6e-b1cd-0bd084b40741",
   "metadata": {},
   "outputs": [],
   "source": [
    "model = Model(10, 1)\n",
    "optimizer = torch.optim.Adam(model.parameters())\n",
    "loss_fn = BinaryFocalLoss(alpha=0.7, gamma=2)"
   ]
  },
  {
   "cell_type": "code",
   "execution_count": null,
   "id": "8c7b07fe-71cb-40a5-ba85-35cb203c3563",
   "metadata": {},
   "outputs": [],
   "source": [
    "N_EPOCHS = 30\n",
    "\n",
    "best_f1_score = 0\n",
    "\n",
    "hist_train_loss = []\n",
    "hist_valid_loss = []\n",
    "\n",
    "hist_accuracy = []\n",
    "hist_precision = []\n",
    "hist_recall = []\n",
    "hist_f1_score = []\n",
    "\n",
    "for epoch in range(N_EPOCHS):\n",
    "    train_loss = 0\n",
    "    valid_loss = 0\n",
    "    \n",
    "    for i, data in enumerate(train_dataloader, 0):\n",
    "        features, labels = data\n",
    "        \n",
    "        optimizer.zero_grad()\n",
    "\n",
    "        outputs = model(features).squeeze()\n",
    "        #y_true = torch.tensor(labels).to(torch.float)\n",
    "        loss = loss_fn(outputs, labels.float())\n",
    "        train_loss += loss.item()\n",
    "        loss.backward()\n",
    "        optimizer.step()\n",
    "\n",
    "    y_pred, y_true, _ = get_y_pred_y_true_valid_loss(model)\n",
    "\n",
    "    accuracy = sklearn.metrics.accuracy_score(y_true, y_pred)\n",
    "    f1_score = sklearn.metrics.f1_score(y_true, y_pred, zero_division=0)\n",
    "    recall = sklearn.metrics.recall_score(y_true, y_pred, zero_division=0)\n",
    "    precision = sklearn.metrics.precision_score(y_true, y_pred, zero_division=0)\n",
    "\n",
    "    hist_f1_score.append(f1_score)\n",
    "    hist_recall.append(recall)\n",
    "    hist_precision.append(precision)\n",
    "    \n",
    "    print(f'Epoch {epoch}, accuracy: {accuracy}, train_loss={train_loss / len(train_dataloader)}, valid_loss={valid_loss / len(valid_dataloader)}, f1_score={f1_score}, recall={recall}, precision={precision}, {\"*\" if (f1_score > best_f1_score) else None}')\n",
    "    if f1_score > best_f1_score:\n",
    "        torch.save(model.state_dict(), 'best_balanced_f1_focal_loss')\n",
    "        best_f1_score = f1_score\n",
    "\n",
    "    hist_train_loss.append(train_loss)\n",
    "    hist_valid_loss.append(valid_loss)\n",
    "    hist_accuracy.append(accuracy)"
   ]
  },
  {
   "cell_type": "code",
   "execution_count": 26,
   "id": "bd850ad5-d509-49ef-b579-48229b428f2c",
   "metadata": {},
   "outputs": [
    {
     "name": "stderr",
     "output_type": "stream",
     "text": [
      "C:\\Users\\Fabi\\AppData\\Local\\Temp\\ipykernel_25140\\1604072130.py:2: FutureWarning: You are using `torch.load` with `weights_only=False` (the current default value), which uses the default pickle module implicitly. It is possible to construct malicious pickle data which will execute arbitrary code during unpickling (See https://github.com/pytorch/pytorch/blob/main/SECURITY.md#untrusted-models for more details). In a future release, the default value for `weights_only` will be flipped to `True`. This limits the functions that could be executed during unpickling. Arbitrary objects will no longer be allowed to be loaded via this mode unless they are explicitly allowlisted by the user via `torch.serialization.add_safe_globals`. We recommend you start setting `weights_only=True` for any use case where you don't have full control of the loaded file. Please open an issue on GitHub for any issues related to this experimental feature.\n",
      "  model.load_state_dict(torch.load('best_balanced_f1_focal_loss'))\n"
     ]
    },
    {
     "name": "stdout",
     "output_type": "stream",
     "text": [
      "Precision: 0.043478260869565216\n",
      "Recall: 1.0\n",
      "F1_score: 0.08333333333333333\n"
     ]
    },
    {
     "data": {
      "text/plain": [
       "<sklearn.metrics._plot.confusion_matrix.ConfusionMatrixDisplay at 0x240984a8070>"
      ]
     },
     "execution_count": 26,
     "metadata": {},
     "output_type": "execute_result"
    },
    {
     "data": {
      "image/png": "[encoded data removed]",
      "text/plain": [
       "<Figure size 640x480 with 2 Axes>"
      ]
     },
     "metadata": {},
     "output_type": "display_data"
    }
   ],
   "source": [
    "model =  Model(10, 1)\n",
    "model.load_state_dict(torch.load('best_balanced_f1_focal_loss'))\n",
    "y_pred, y_true, _ = get_y_pred_y_true_valid_loss(model)\n",
    "        \n",
    "conf_matrix = sklearn.metrics.confusion_matrix(y_true, y_pred)\n",
    "precision = sklearn.metrics.precision_score(y_true, y_pred, zero_division=0)\n",
    "recall = sklearn.metrics.recall_score(y_true, y_pred)\n",
    "f1_score = sklearn.metrics.f1_score(y_true, y_pred)\n",
    "print(f'Precision: {precision}')\n",
    "print(f'Recall: {recall}')\n",
    "print(f'F1_score: {f1_score}')\n",
    "sklearn.metrics.ConfusionMatrixDisplay(conf_matrix).plot()"
   ]
  },
  {
   "cell_type": "code",
   "execution_count": 293,
   "id": "9d97ac22-a1ee-4bff-ac6c-968f9f37e897",
   "metadata": {},
   "outputs": [
    {
     "data": {
      "text/html": [
       "<h1>8. Inspecting model outputs. NOT DONE YET</h1>\n"
      ],
      "text/plain": [
       "<IPython.core.display.HTML object>"
      ]
     },
     "metadata": {},
     "output_type": "display_data"
    }
   ],
   "source": [
    "%%html\n",
    "<h1>8. Inspecting model outputs. NOT DONE YET</h1>"
   ]
  },
  {
   "cell_type": "code",
   "execution_count": 27,
   "id": "6cf5adff-ada0-40c0-ba6c-402d06604506",
   "metadata": {},
   "outputs": [
    {
     "name": "stderr",
     "output_type": "stream",
     "text": [
      "C:\\Users\\Fabi\\AppData\\Local\\Temp\\ipykernel_25140\\1535333809.py:2: FutureWarning: You are using `torch.load` with `weights_only=False` (the current default value), which uses the default pickle module implicitly. It is possible to construct malicious pickle data which will execute arbitrary code during unpickling (See https://github.com/pytorch/pytorch/blob/main/SECURITY.md#untrusted-models for more details). In a future release, the default value for `weights_only` will be flipped to `True`. This limits the functions that could be executed during unpickling. Arbitrary objects will no longer be allowed to be loaded via this mode unless they are explicitly allowlisted by the user via `torch.serialization.add_safe_globals`. We recommend you start setting `weights_only=True` for any use case where you don't have full control of the loaded file. Please open an issue on GitHub for any issues related to this experimental feature.\n",
      "  model_unbalanced_accuracy.load_state_dict(torch.load('best_unbalanced_accuracy'))\n",
      "C:\\Users\\Fabi\\AppData\\Local\\Temp\\ipykernel_25140\\1535333809.py:5: FutureWarning: You are using `torch.load` with `weights_only=False` (the current default value), which uses the default pickle module implicitly. It is possible to construct malicious pickle data which will execute arbitrary code during unpickling (See https://github.com/pytorch/pytorch/blob/main/SECURITY.md#untrusted-models for more details). In a future release, the default value for `weights_only` will be flipped to `True`. This limits the functions that could be executed during unpickling. Arbitrary objects will no longer be allowed to be loaded via this mode unless they are explicitly allowlisted by the user via `torch.serialization.add_safe_globals`. We recommend you start setting `weights_only=True` for any use case where you don't have full control of the loaded file. Please open an issue on GitHub for any issues related to this experimental feature.\n",
      "  model_balanced_f1.load_state_dict(torch.load('best_balanced_f1'))\n",
      "C:\\Users\\Fabi\\AppData\\Local\\Temp\\ipykernel_25140\\1535333809.py:8: FutureWarning: You are using `torch.load` with `weights_only=False` (the current default value), which uses the default pickle module implicitly. It is possible to construct malicious pickle data which will execute arbitrary code during unpickling (See https://github.com/pytorch/pytorch/blob/main/SECURITY.md#untrusted-models for more details). In a future release, the default value for `weights_only` will be flipped to `True`. This limits the functions that could be executed during unpickling. Arbitrary objects will no longer be allowed to be loaded via this mode unless they are explicitly allowlisted by the user via `torch.serialization.add_safe_globals`. We recommend you start setting `weights_only=True` for any use case where you don't have full control of the loaded file. Please open an issue on GitHub for any issues related to this experimental feature.\n",
      "  model_balanced_f1_focal.load_state_dict(torch.load('best_balanced_f1_focal_loss'))\n"
     ]
    },
    {
     "data": {
      "text/plain": [
       "<All keys matched successfully>"
      ]
     },
     "execution_count": 27,
     "metadata": {},
     "output_type": "execute_result"
    }
   ],
   "source": [
    "model_unbalanced_accuracy = Model(10, 1)\n",
    "model_unbalanced_accuracy.load_state_dict(torch.load('best_unbalanced_accuracy'))\n",
    "\n",
    "model_balanced_f1 = Model(10, 1)\n",
    "model_balanced_f1.load_state_dict(torch.load('best_balanced_f1'))\n",
    "\n",
    "model_balanced_f1_focal = Model(10, 1)\n",
    "model_balanced_f1_focal.load_state_dict(torch.load('best_balanced_f1_focal_loss'))"
   ]
  },
  {
   "cell_type": "code",
   "execution_count": 296,
   "id": "1d9db649-2f82-4e0a-b052-95d16c13c9c0",
   "metadata": {},
   "outputs": [],
   "source": [
    "def probabilities(model):\n",
    "    probs = []\n",
    "    with torch.no_grad():\n",
    "        for data, label in valid_dataloader:\n",
    "            if label == 0:\n",
    "                continue\n",
    "            logits = model(data)\n",
    "            probs.append(torch.sigmoid(logits))        \n",
    "    return np.array(probs)\n",
    "\n",
    "vals_model_unbalanced_accuracy = probabilities(model_unbalanced_accuracy)[0]\n",
    "vals_model_balanced_f1 = probabilities(model_balanced_f1)[0]\n",
    "vals_model_f1_focal = probabilities(model_balanced_f1_focal)[0]"
   ]
  },
  {
   "cell_type": "code",
   "execution_count": 297,
   "id": "664d316f-e7ad-4842-80fd-e6e2354d5dc7",
   "metadata": {},
   "outputs": [
    {
     "ename": "TypeError",
     "evalue": "object of type 'numpy.float32' has no len()",
     "output_type": "error",
     "traceback": [
      "\u001b[1;31m---------------------------------------------------------------------------\u001b[0m",
      "\u001b[1;31mTypeError\u001b[0m                                 Traceback (most recent call last)",
      "Cell \u001b[1;32mIn[297], line 3\u001b[0m\n\u001b[0;32m      1\u001b[0m fig, ax \u001b[38;5;241m=\u001b[39m plt\u001b[38;5;241m.\u001b[39msubplots()\n\u001b[1;32m----> 3\u001b[0m N \u001b[38;5;241m=\u001b[39m \u001b[38;5;28;43mlen\u001b[39;49m\u001b[43m(\u001b[49m\u001b[43mvals_model_unbalanced_accuracy\u001b[49m\u001b[43m)\u001b[49m\n\u001b[0;32m      4\u001b[0m x \u001b[38;5;241m=\u001b[39m np\u001b[38;5;241m.\u001b[39marange(N)  \u001b[38;5;66;03m# x-axis positions\u001b[39;00m\n\u001b[0;32m      5\u001b[0m width \u001b[38;5;241m=\u001b[39m \u001b[38;5;241m0.25\u001b[39m  \u001b[38;5;66;03m# Width of each bar\u001b[39;00m\n",
      "\u001b[1;31mTypeError\u001b[0m: object of type 'numpy.float32' has no len()"
     ]
    },
    {
     "data": {
      "image/png": "[encoded data removed]",
      "text/plain": [
       "<Figure size 640x480 with 1 Axes>"
      ]
     },
     "metadata": {},
     "output_type": "display_data"
    }
   ],
   "source": [
    "fig, ax = plt.subplots()\n",
    "\n",
    "N = len(vals_model_unbalanced_accuracy)\n",
    "x = np.arange(N)  # x-axis positions\n",
    "width = 0.25  # Width of each bar\n",
    "\n",
    "# Plot each set of bars with adjusted positions\n",
    "ax.bar(x - width, vals_model_unbalanced_accuracy, width,\n",
    "       edgecolor='white', linewidth=0.7, label='Unbalanced Accuracy')\n",
    "ax.bar(x, vals_model_balanced_f1, width,\n",
    "       edgecolor='white', linewidth=0.7, label='Balanced F1')\n",
    "ax.bar(x + width, vals_model_f1_focal, width,\n",
    "       edgecolor='white', linewidth=0.7, label='F1 Focal')\n",
    "\n",
    "# Configure axes and labels\n",
    "ax.set(\n",
    "    xticks=x,  # All values in the list (indices)\n",
    "    ylim=(0, 1),\n",
    "    yticks=np.linspace(0, 1, 11)  # Ticks every 0.1\n",
    ")\n",
    "ax.legend()\n",
    "\n",
    "plt.show()"
   ]
  },
  {
   "cell_type": "code",
   "execution_count": 298,
   "id": "0b7639c4-976a-4a5a-8537-644b9a16c09b",
   "metadata": {},
   "outputs": [
    {
     "data": {
      "text/html": [
       "<h1>9. Beyond default thresholds</h1>\n"
      ],
      "text/plain": [
       "<IPython.core.display.HTML object>"
      ]
     },
     "metadata": {},
     "output_type": "display_data"
    }
   ],
   "source": [
    "%%html\n",
    "<h1>9. Beyond default thresholds</h1>"
   ]
  },
  {
   "cell_type": "code",
   "execution_count": 31,
   "id": "051a0eaa-49f2-49de-b003-9bb855a2cc5a",
   "metadata": {},
   "outputs": [],
   "source": [
    "def get_f1_score_models(threshold):\n",
    "    f1_scores_model_unbalanced_accuracy = None\n",
    "    f1_scores_model_balanced_f1 = None\n",
    "    f1_scores_model_balanced_f1_focal = None\n",
    "\n",
    "    y_pred_model_unbalanced_accuracy = []\n",
    "    y_pred_model_balanced_f1 = []\n",
    "    y_pred_model_balanced_f1_focal = []\n",
    "    y_true = []\n",
    "    \n",
    "    y_pred_model_unbalanced_accuracy, y_true_1, _ = get_y_pred_y_true_valid_loss(model_unbalanced_accuracy, threshold)\n",
    "    y_pred_model_balanced_f1, y_true_2, _ = get_y_pred_y_true_valid_loss(model_balanced_f1, threshold)\n",
    "    y_pred_model_balanced_f1_focal, y_true_3, _ = get_y_pred_y_true_valid_loss(model_balanced_f1_focal, threshold)\n",
    "\n",
    "    f1_scores_model_unbalanced_accuracy = sklearn.metrics.f1_score(y_true_1, y_pred_model_unbalanced_accuracy)\n",
    "    f1_scores_model_balanced_f1 = sklearn.metrics.f1_score(y_true_2, y_pred_model_balanced_f1)\n",
    "    f1_scores_model_balanced_f1_focal = sklearn.metrics.f1_score(y_true_3, y_pred_model_balanced_f1_focal)\n",
    "\n",
    "    return f1_scores_model_unbalanced_accuracy, f1_scores_model_balanced_f1, f1_scores_model_balanced_f1_focal"
   ]
  },
  {
   "cell_type": "code",
   "execution_count": 52,
   "id": "5b0b2665-3ed8-4d36-9de9-2cb5dead06b7",
   "metadata": {},
   "outputs": [],
   "source": [
    "history_thresholds = []\n",
    "maximum = 0\n",
    "for threshold in np.arange(0.25, 0.76, 0.01):\n",
    "    history_thresholds.append(get_f1_score_models(threshold))\n",
    "    maximum = max(maximum, max(history_thresholds[-1]))"
   ]
  },
  {
   "cell_type": "code",
   "execution_count": 61,
   "id": "0015088a-c81f-4c4b-93fb-811108817676",
   "metadata": {},
   "outputs": [
    {
     "data": {
      "text/html": [
       "<h1>10. Threshold sensitivity</h1>\n"
      ],
      "text/plain": [
       "<IPython.core.display.HTML object>"
      ]
     },
     "metadata": {},
     "output_type": "display_data"
    }
   ],
   "source": [
    "%%html\n",
    "<h1>10. Threshold sensitivity</h1>"
   ]
  },
  {
   "cell_type": "code",
   "execution_count": 60,
   "id": "928ae8d1-7934-4a50-a3bd-c001cce19b86",
   "metadata": {},
   "outputs": [
    {
     "data": {
      "image/png": "[encoded data removed]",
      "text/plain": [
       "<Figure size 1000x600 with 1 Axes>"
      ]
     },
     "metadata": {},
     "output_type": "display_data"
    }
   ],
   "source": [
    "x = np.arange(0.25, 0.76, 0.01)\n",
    "\n",
    "a = [t[0] for t in history_thresholds]\n",
    "b = [t[1] for t in history_thresholds]\n",
    "c = [t[2] for t in history_thresholds]\n",
    "\n",
    "plt.figure(figsize=(10, 6))\n",
    "plt.plot(x, a, label='Unbalanced Model, Best Accuracy')\n",
    "plt.plot(x, b, label='Balanced, best f1, bce loss')\n",
    "plt.plot(x, c, label='Balanced, best f1, focal loss')\n",
    "\n",
    "plt.xlabel('Ox axis label')\n",
    "plt.ylabel('Oy axis label')\n",
    "plt.title('Evolution of Thresholds')\n",
    "plt.legend()\n",
    "plt.grid(True)\n",
    "plt.show()"
   ]
  }
 ],
 "metadata": {
  "kernelspec": {
   "display_name": "Python 3 (ipykernel)",
   "language": "python",
   "name": "python3"
  },
  "language_info": {
   "codemirror_mode": {
    "name": "ipython",
    "version": 3
   },
   "file_extension": ".py",
   "mimetype": "text/x-python",
   "name": "python",
   "nbconvert_exporter": "python",
   "pygments_lexer": "ipython3",
   "version": "3.9.20"
  }
 },
 "nbformat": 4,
 "nbformat_minor": 5
}
