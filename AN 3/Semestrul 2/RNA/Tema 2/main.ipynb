{
 "cells": [
  {
   "cell_type": "markdown",
   "metadata": {
    "id": "hL81rriY2e7X"
   },
   "source": [
    "<font size=25, color='#ED1F24'>Assigment 2 - Convolutional Networks"
   ]
  },
  {
   "cell_type": "markdown",
   "metadata": {
    "id": "3S6e3lV6ihEx"
   },
   "source": [
    "Import necessary libraries"
   ]
  },
  {
   "cell_type": "code",
   "execution_count": 90,
   "metadata": {
    "id": "-6YJzGUviDZY"
   },
   "outputs": [],
   "source": [
    "import torch\n",
    "import torch.optim as optim\n",
    "import torch.nn as nn\n",
    "import torch.nn.functional as F\n",
    "import torchvision\n",
    "import torchvision.transforms as transforms\n",
    "\n",
    "import matplotlib.pyplot as plt\n",
    "import numpy as np\n",
    "from random import sample\n",
    "\n",
    "from IPython.core.debugger import set_trace\n",
    "\n",
    "import sklearn\n"
   ]
  },
  {
   "cell_type": "markdown",
   "metadata": {
    "id": "THA5v2dWj8HQ"
   },
   "source": [
    "Set the parameters for training"
   ]
  },
  {
   "cell_type": "code",
   "execution_count": 2,
   "metadata": {
    "id": "WezqD0Kxj-s5"
   },
   "outputs": [],
   "source": [
    "lr = 0.001\n",
    "momentum = 0.9\n",
    "num_epochs = 5\n",
    "batch_size = 8\n",
    "num_cls = 10"
   ]
  },
  {
   "cell_type": "markdown",
   "metadata": {
    "id": "ik6dl-KRij-4"
   },
   "source": [
    "Load **CIFAR-10** dataset"
   ]
  },
  {
   "cell_type": "code",
   "execution_count": 69,
   "metadata": {
    "colab": {
     "base_uri": "https://localhost:8080/",
     "height": 154,
     "referenced_widgets": [
      "2d4be503335246aea5f7c1a76006993f",
      "19e046e842894462aeee1054f652410c",
      "701331258a974434b13aa1a961494b5f",
      "efe44ba7e0524b14a14c57117ec5d7e7",
      "202562a5914d4a4c8f2cc7e9fc132b55",
      "179636653eea4d58848a86219125ea5a",
      "b3141aceb7054e14b80ff9ab3e12cc67",
      "fb8b47f00999462191c9bb7b332e0354",
      "d1af14a94c0b4d88acfc4e8d8107880b",
      "e0c4786b294544c9b6fa406fa539133c",
      "551082cd4ef9472092426ae68660ab39"
     ]
    },
    "id": "9tc9g8jviLlz",
    "outputId": "a28ec7d3-336e-4110-fe80-36e7dca106e6"
   },
   "outputs": [],
   "source": [
    "transform = transforms.Compose(\n",
    "    [transforms.ToTensor(), transforms.Normalize((0.5, 0.5, 0.5), (0.5, 0.5, 0.5))]\n",
    ")\n",
    "\n",
    "trainset = torchvision.datasets.CIFAR10(root='./ds', train=True, download=True, transform=transform)\n",
    "trainset, valset = torch.utils.data.random_split(trainset, [0.8, 0.2])\n",
    "\n",
    "trainloader = torch.utils.data.DataLoader(trainset, batch_size=batch_size, shuffle=True, num_workers=4)\n",
    "validloader = torch.utils.data.DataLoader(valset, batch_size=batch_size, shuffle=True, num_workers=4)\n",
    "\n",
    "testset = torchvision.datasets.CIFAR10(root='./ds', train=False, download=True, transform=transform)\n",
    "testloader = torch.utils.data.DataLoader(testset, batch_size=batch_size, shuffle=False, num_workers=4)\n",
    "\n",
    "assert len(trainset) == 40000\n",
    "assert len(valset) == 10000\n",
    "assert len(testset) == 10000"
   ]
  },
  {
   "cell_type": "markdown",
   "metadata": {
    "id": "ia3HmJ-y0hBW"
   },
   "source": [
    "# **TASK 1**. Classification task"
   ]
  },
  {
   "cell_type": "markdown",
   "metadata": {
    "id": "7sjUv0GxjcTf"
   },
   "source": [
    "## **Task 1.1** Define a standard convolutional network"
   ]
  },
  {
   "cell_type": "code",
   "execution_count": 153,
   "metadata": {
    "id": "x80d1tDVCZYc"
   },
   "outputs": [],
   "source": [
    "class SimpleConvNet(nn.Module):\n",
    "    def __init__(self, out_size):\n",
    "        super().__init__()\n",
    "        self.conv1 = nn.Conv2d(in_channels=3, out_channels=8, kernel_size=(5, 5), padding=2) #P = (F-1)/2\n",
    "        self.activation_fn = nn.ReLU()\n",
    "        self.max_pool = nn.MaxPool2d(kernel_size=(2, 2))\n",
    "        self.conv2 = nn.Conv2d(in_channels=8, out_channels=16, kernel_size=(5,5), padding=2) \n",
    "        self.fc1 = nn.Linear(in_features=16*8*8, out_features=128)\n",
    "        self.fc2 = nn.Linear(in_features=128, out_features=64)\n",
    "        self.fc3 = nn.Linear(in_features=64, out_features=out_size)\n",
    "        # TODO\n",
    "\n",
    "    def forward(self, x):\n",
    "        #TODO\n",
    "        x = self.conv1(x)\n",
    "        x = self.activation_fn(x)\n",
    "        x = self.max_pool(x)\n",
    "        x = self.conv2(x)\n",
    "        x = self.activation_fn(x)\n",
    "        x = self.max_pool(x)\n",
    "        x = x.view(x.size(0), -1)\n",
    "        x = self.fc1(x)\n",
    "        x = self.activation_fn(x)\n",
    "        x = self.fc2(x)\n",
    "        x = self.activation_fn(x)\n",
    "        x = self.fc3(x)\n",
    "        return x\n",
    "\n",
    "net = SimpleConvNet(out_size=num_cls)\n",
    "device = torch.device('cuda' if torch.cuda.is_available() else 'cpu')\n",
    "net = net.to(device)"
   ]
  },
  {
   "cell_type": "markdown",
   "metadata": {
    "id": "_LmflsrFjrEb"
   },
   "source": [
    "## **Task 1.2.** Training and evaluation"
   ]
  },
  {
   "cell_type": "code",
   "execution_count": 154,
   "metadata": {},
   "outputs": [],
   "source": [
    "def validate(model, loss_fn, device):\n",
    "    model.eval()\n",
    "    y_pred = []\n",
    "    y_true = []\n",
    "    total_loss = 0\n",
    "    n_predictions = 0\n",
    "\n",
    "    with torch.no_grad():\n",
    "        for X, y in validloader:\n",
    "            X, y = X.to(device), y.to(device)\n",
    "            outputs = model(X)\n",
    "            loss = loss_fn(outputs, y)\n",
    "            \n",
    "            batch_size = X.size(0)\n",
    "            total_loss += loss.item() * batch_size\n",
    "            n_predictions += batch_size\n",
    "            \n",
    "            outputs = torch.argmax(outputs, dim=1)\n",
    "            y_pred.extend(outputs.cpu().numpy())\n",
    "            y_true.extend(y.cpu().numpy())\n",
    "    \n",
    "    average_loss = total_loss / n_predictions\n",
    "    return y_pred, y_true, average_loss, sklearn.metrics.accuracy_score(y_true, y_pred)"
   ]
  },
  {
   "cell_type": "code",
   "execution_count": 155,
   "metadata": {
    "id": "bNtSAo-e01QP"
   },
   "outputs": [],
   "source": [
    "def train_epoch(model, optimizer, loss_fn, device):\n",
    "    model.train()\n",
    "    y_true = []\n",
    "    y_pred = []\n",
    "    total_loss = 0\n",
    "    n_predictions = 0\n",
    "\n",
    "    for X, y in trainloader:\n",
    "        X, y = X.to(device), y.to(device)\n",
    "        optimizer.zero_grad()\n",
    "        \n",
    "        outputs = model(X)\n",
    "        loss = loss_fn(outputs, y)\n",
    "        \n",
    "        loss.backward()\n",
    "        optimizer.step()\n",
    "        \n",
    "        batch_size = X.size(0)\n",
    "        total_loss += loss.item() * batch_size\n",
    "        n_predictions += batch_size\n",
    "        \n",
    "        outputs = torch.argmax(outputs, dim=1)\n",
    "        y_pred.extend(outputs.cpu().numpy())\n",
    "        y_true.extend(y.cpu().numpy())\n",
    "    \n",
    "    average_loss = total_loss / n_predictions\n",
    "    \n",
    "    _, _, val_loss, val_accuracy = validate(model, loss_fn, device)\n",
    "    \n",
    "    return average_loss, sklearn.metrics.accuracy_score(y_true, y_pred), val_loss, val_accuracy"
   ]
  },
  {
   "cell_type": "code",
   "execution_count": 156,
   "metadata": {},
   "outputs": [],
   "source": [
    "def train_loop(n_epochs, net, optimizer, loss_fn):\n",
    "    hist_train_loss = []\n",
    "    hist_train_acc = []\n",
    "    hist_val_loss = []\n",
    "    hist_val_acc = []\n",
    "    for epoch in range(num_epochs):\n",
    "        train_loss, train_acc, val_loss, val_acc = train_epoch(net, optimizer, loss_fn, device)\n",
    "        print(f'Tran loss = {train_loss} | train acc = {train_acc} | val loss = {val_loss} | val acc = {val_acc}')\n",
    "        hist_train_loss.append(train_loss)\n",
    "        hist_train_acc.append(train_acc)\n",
    "        hist_val_loss.append(val_loss)\n",
    "        hist_val_acc.append(val_acc)\n",
    "    \n",
    "    plt.figure(figsize=(15, 6))\n",
    "    \n",
    "    plt.subplot(1, 2, 1)\n",
    "    plt.plot(hist_train_loss, label='Training Loss')\n",
    "    plt.plot(hist_val_loss, label='Validation Loss')\n",
    "    plt.title('Loss over Epochs')\n",
    "    plt.xlabel('Epochs')\n",
    "    plt.ylabel('Loss')\n",
    "    plt.legend()\n",
    "    plt.grid(True)\n",
    "    \n",
    "    plt.subplot(1, 2, 2)\n",
    "    plt.plot(hist_train_acc, label='Training Accuracy')\n",
    "    plt.plot(hist_val_acc, label='Validation Accuracy')\n",
    "    plt.title('Accuracy over Epochs')\n",
    "    plt.xlabel('Epochs')\n",
    "    plt.ylabel('Accuracy')\n",
    "    plt.legend()\n",
    "    plt.grid(True)\n",
    "    \n",
    "    plt.tight_layout()\n",
    "    plt.show()"
   ]
  },
  {
   "cell_type": "code",
   "execution_count": 157,
   "metadata": {},
   "outputs": [
    {
     "name": "stdout",
     "output_type": "stream",
     "text": [
      "Tran loss = 1.9404444083690644 | train acc = 0.280925 | val loss = 1.5563052790164948 | val acc = 0.4258\n",
      "Tran loss = 1.4223626999437808 | train acc = 0.484125 | val loss = 1.3071738960266113 | val acc = 0.5279\n",
      "Tran loss = 1.2011105140209197 | train acc = 0.572825 | val loss = 1.1234547350406647 | val acc = 0.6058\n",
      "Tran loss = 1.0495349202096462 | train acc = 0.63095 | val loss = 1.031836933362484 | val acc = 0.6473\n",
      "Tran loss = 0.9409173274934292 | train acc = 0.6686 | val loss = 1.0217762079894543 | val acc = 0.6476\n"
     ]
    },
    {
     "data": {
      "image/png": "[encoded data removed]",
      "text/plain": [
       "<Figure size 1500x600 with 2 Axes>"
      ]
     },
     "metadata": {},
     "output_type": "display_data"
    }
   ],
   "source": [
    "optimizer = torch.optim.SGD(params= net.parameters(), lr=lr, momentum=momentum)\n",
    "loss_fn = torch.nn.CrossEntropyLoss()\n",
    "\n",
    "train_loop(num_epochs, net, optimizer, loss_fn)"
   ]
  },
  {
   "cell_type": "markdown",
   "metadata": {
    "id": "tLQhc-Dl03ej"
   },
   "source": [
    "# **TASK 2**. Implement a fully connected layer"
   ]
  },
  {
   "cell_type": "markdown",
   "metadata": {
    "id": "EGKjxHSgB_Bm"
   },
   "source": [
    "## **Task 2.1.** Implement Linear layer"
   ]
  },
  {
   "cell_type": "code",
   "execution_count": 234,
   "metadata": {
    "id": "Ioi6NNWxMneU"
   },
   "outputs": [],
   "source": [
    "import math\n",
    "import pdb\n",
    "class myLinear(nn.Module):\n",
    "    def __init__(self, in_features, out_features, device=None):\n",
    "        super().__init__()\n",
    "        self.in_features = in_features # 8 \n",
    "        self.out_features = out_features # 16\n",
    "        # initialise parameters\n",
    "        # weight shape: [in, out]\n",
    "        # bias shape: [out]\n",
    "        \n",
    "        self.weight = torch.nn.parameter.Parameter(\n",
    "            torch.empty(out_features, in_features)\n",
    "        )\n",
    "        self.bias = torch.nn.parameter.Parameter(\n",
    "            torch.empty(out_features)\n",
    "        )\n",
    "        \n",
    "        self.reset_parameters()\n",
    "    \n",
    "    def reset_parameters(self):\n",
    "        self.scale = 1.0 / math.sqrt(self.in_features)\n",
    "        nn.init.uniform(self.weight, -self.scale, self.scale)\n",
    "        nn.init.uniform_(self.bias, -self.scale, self.scale)\n",
    "\n",
    "    def forward(self, x):\n",
    "    # weight shape: [out, in]\n",
    "    # x shape: [batch, in]\n",
    "    # we want do matrix multiplication between the weight and each element in the batch x[i] (seen as a column vector)\n",
    "    # y[i] = W x[i]\n",
    "    \n",
    "    # in order to do this we rely on broadcasting in torch.matmul and must reshape x as [batch, in , 1]\n",
    "    # such that the matrix multiplication is done on dimmensions [out, in] [in, 1] -> [out, 1]\n",
    "    # (https://pytorch.org/docs/stable/generated/torch.matmul.html)\n",
    "        x = torch.reshape(x, (x.size(0), x.size(1), 1))\n",
    "\n",
    "    # TODO\n",
    "    # compute the linear operation using torch.matmul\n",
    "    # y = ...\n",
    "        y = torch.matmul(self.weight, x)\n",
    "    \n",
    "    # we add the same bias column vector to each element in the batch y[i] = y[i] + bias\n",
    "    # we rely again on broadcasting and make the bias have dimension [1, out, 1]\n",
    "    # such that it aligns with y of shape [batch, out, 1]\n",
    "        bias_reshaped = torch.reshape(self.bias, (1, self.out_features, 1))\n",
    "    \n",
    "    # TODO add bias\n",
    "    # y = ...\n",
    "        y = y + bias_reshaped\n",
    "        return y.squeeze() # so that it is (batch_size, out_features) and not (batch_size, out_features, 1)\n"
   ]
  },
  {
   "cell_type": "code",
   "execution_count": 235,
   "metadata": {},
   "outputs": [
    {
     "name": "stderr",
     "output_type": "stream",
     "text": [
      "C:\\Users\\Fabi\\AppData\\Local\\Temp\\ipykernel_23180\\947790645.py:23: FutureWarning: `nn.init.uniform` is now deprecated in favor of `nn.init.uniform_`.\n",
      "  nn.init.uniform(self.weight, -self.scale, self.scale)\n"
     ]
    },
    {
     "data": {
      "text/plain": [
       "<All keys matched successfully>"
      ]
     },
     "execution_count": 235,
     "metadata": {},
     "output_type": "execute_result"
    }
   ],
   "source": [
    "my_linear = myLinear(8, 16)\n",
    "linear = nn.Linear(8, 16)\n",
    "my_linear.load_state_dict(linear.state_dict())"
   ]
  },
  {
   "cell_type": "code",
   "execution_count": 236,
   "metadata": {},
   "outputs": [],
   "source": [
    "input_tensor = torch.rand((batch_size, 8))\n",
    "output_linear = linear.forward(input_tensor)\n",
    "output_my_linear = my_linear.forward(input_tensor)"
   ]
  },
  {
   "cell_type": "code",
   "execution_count": 237,
   "metadata": {},
   "outputs": [
    {
     "data": {
      "text/plain": [
       "tensor(0., grad_fn=<SumBackward0>)"
      ]
     },
     "execution_count": 237,
     "metadata": {},
     "output_type": "execute_result"
    }
   ],
   "source": [
    "diff = output_linear - output_my_linear\n",
    "diff.sum()"
   ]
  },
  {
   "cell_type": "markdown",
   "metadata": {
    "id": "lND9oon71Z-6"
   },
   "source": [
    "# **TASK 3.** Implement a convolutional layer"
   ]
  },
  {
   "cell_type": "markdown",
   "metadata": {
    "id": "0o6MIv_OCMuu"
   },
   "source": [
    "## **Task 3.1.** Implement Conv2d layer"
   ]
  },
  {
   "cell_type": "code",
   "execution_count": 261,
   "metadata": {
    "id": "HcQ340QbSXG-"
   },
   "outputs": [],
   "source": [
    "class myConv2d(nn.Module):\n",
    "    def __init__(self, in_channels, out_channels, kernel_size, padding, device=None):\n",
    "        super(myConv2d, self).__init__()\n",
    "        self.in_channels = in_channels\n",
    "        self.out_channels = out_channels\n",
    "        self.kernel_size = kernel_size\n",
    "        self.padding = padding\n",
    "        \n",
    "        # initialise parameters\n",
    "        scale = 1.0 / math.sqrt(in_channels * kernel_size * kernel_size)\n",
    "        self.weight = torch.nn.parameter.Parameter(\n",
    "            torch.rand(out_channels, in_channels, kernel_size, kernel_size)\n",
    "        )\n",
    "        self.bias = torch.nn.parameter.Parameter(\n",
    "            torch.rand(out_channels)\n",
    "        )\n",
    "        \n",
    "        self.reset_parameters()\n",
    "\n",
    "    def reset_parameters(self):\n",
    "        self.scale = 1.0 / math.sqrt(self.in_channels * self.kernel_size * self.kernel_size )\n",
    "        nn.init.uniform(self.weight, -self.scale, self.scale)\n",
    "        nn.init.uniform_(self.bias, -self.scale, self.scale)\n",
    "\n",
    "    def forward(self, x):\n",
    "        print(x.shape)\n",
    "        x = torch.nn.functional.pad(x, (self.padding, self.padding, self.padding, self.padding), 'constant', 0)\n",
    "        print(x.shape)\n",
    "\n",
    "        \n",
    "        \n",
    "        # TODO\n",
    "        \n",
    "        return out\n"
   ]
  },
  {
   "cell_type": "code",
   "execution_count": 262,
   "metadata": {},
   "outputs": [
    {
     "name": "stderr",
     "output_type": "stream",
     "text": [
      "C:\\Users\\Fabi\\AppData\\Local\\Temp\\ipykernel_23180\\584813621.py:22: FutureWarning: `nn.init.uniform` is now deprecated in favor of `nn.init.uniform_`.\n",
      "  nn.init.uniform(self.weight, -self.scale, self.scale)\n"
     ]
    }
   ],
   "source": [
    "conv = nn.Conv2d(in_channels=3, out_channels=8, kernel_size=(5, 5), padding=2)\n",
    "my_conv = myConv2d(in_channels=3, out_channels=8, kernel_size=5, padding=2)\n",
    "input_image = torch.rand((8, 3, 32, 32))\n",
    "output_conv = conv.forward(input_image)"
   ]
  },
  {
   "cell_type": "code",
   "execution_count": 263,
   "metadata": {},
   "outputs": [
    {
     "data": {
      "text/plain": [
       "torch.Size([8, 8, 32, 32])"
      ]
     },
     "execution_count": 263,
     "metadata": {},
     "output_type": "execute_result"
    }
   ],
   "source": [
    "output_conv.shape"
   ]
  },
  {
   "cell_type": "code",
   "execution_count": 264,
   "metadata": {},
   "outputs": [
    {
     "name": "stdout",
     "output_type": "stream",
     "text": [
      "torch.Size([8, 3, 32, 32])\n",
      "torch.Size([8, 3, 36, 36])\n"
     ]
    },
    {
     "ename": "NameError",
     "evalue": "name 'out' is not defined",
     "output_type": "error",
     "traceback": [
      "\u001b[1;31m---------------------------------------------------------------------------\u001b[0m",
      "\u001b[1;31mNameError\u001b[0m                                 Traceback (most recent call last)",
      "Cell \u001b[1;32mIn[264], line 1\u001b[0m\n\u001b[1;32m----> 1\u001b[0m \u001b[43mmy_conv\u001b[49m\u001b[38;5;241;43m.\u001b[39;49m\u001b[43mforward\u001b[49m\u001b[43m(\u001b[49m\u001b[43minput_image\u001b[49m\u001b[43m)\u001b[49m\n",
      "Cell \u001b[1;32mIn[261], line 32\u001b[0m, in \u001b[0;36mmyConv2d.forward\u001b[1;34m(self, x)\u001b[0m\n\u001b[0;32m     28\u001b[0m \u001b[38;5;28mprint\u001b[39m(x\u001b[38;5;241m.\u001b[39mshape)\n\u001b[0;32m     30\u001b[0m \u001b[38;5;66;03m# TODO\u001b[39;00m\n\u001b[1;32m---> 32\u001b[0m \u001b[38;5;28;01mreturn\u001b[39;00m \u001b[43mout\u001b[49m\n",
      "\u001b[1;31mNameError\u001b[0m: name 'out' is not defined"
     ]
    }
   ],
   "source": [
    "my_conv.forward(input_image)"
   ]
  },
  {
   "cell_type": "markdown",
   "metadata": {
    "id": "eFHbbGgLDb-g"
   },
   "source": [
    "## **Task 3.2.** Evaluate your implementation of convolutional network."
   ]
  },
  {
   "cell_type": "code",
   "execution_count": null,
   "metadata": {
    "colab": {
     "base_uri": "https://localhost:8080/"
    },
    "id": "d82GyfUUjOwB",
    "outputId": "5a56bfa8-8cbb-4502-8325-8c831a035dde"
   },
   "outputs": [
    {
     "name": "stderr",
     "output_type": "stream",
     "text": [
      "/usr/local/lib/python3.7/dist-packages/ipykernel_launcher.py:24: UserWarning: nn.init.uniform is now deprecated in favor of nn.init.uniform_.\n"
     ]
    }
   ],
   "source": [
    "\n",
    "class mySimpleConvNet(nn.Module):\n",
    "    def __init__(self, out_size):\n",
    "        super().__init__()\n",
    "        self.conv1 = # TODO\n",
    "\n",
    "\n",
    "    def forward(self, x):\n",
    "        x = # TODO\n",
    "        return x\n",
    "\n",
    "\n",
    "my_net = mySimpleConvNet(out_size=num_cls)\n",
    "device = torch.device('cuda' if torch.cuda.is_available() else 'cpu')\n",
    "my_net = my_net.to(device)\n"
   ]
  },
  {
   "cell_type": "markdown",
   "metadata": {
    "id": "GDL9VZg4l04i"
   },
   "source": [
    "## **Task 3.3.** Feature map visualization"
   ]
  },
  {
   "cell_type": "code",
   "execution_count": null,
   "metadata": {
    "id": "XQ7uUW2Z4a2O"
   },
   "outputs": [],
   "source": []
  }
 ],
 "metadata": {
  "accelerator": "GPU",
  "colab": {
   "provenance": []
  },
  "kernelspec": {
   "display_name": "Python 3 (ipykernel)",
   "language": "python",
   "name": "python3"
  },
  "language_info": {
   "codemirror_mode": {
    "name": "ipython",
    "version": 3
   },
   "file_extension": ".py",
   "mimetype": "text/x-python",
   "name": "python",
   "nbconvert_exporter": "python",
   "pygments_lexer": "ipython3",
   "version": "3.9.20"
  },
  "widgets": {
   "application/vnd.jupyter.widget-state+json": {
    "179636653eea4d58848a86219125ea5a": {
     "model_module": "@jupyter-widgets/base",
     "model_module_version": "1.2.0",
     "model_name": "LayoutModel",
     "state": {
      "_model_module": "@jupyter-widgets/base",
      "_model_module_version": "1.2.0",
      "_model_name": "LayoutModel",
      "_view_count": null,
      "_view_module": "@jupyter-widgets/base",
      "_view_module_version": "1.2.0",
      "_view_name": "LayoutView",
      "align_content": null,
      "align_items": null,
      "align_self": null,
      "border": null,
      "bottom": null,
      "display": null,
      "flex": null,
      "flex_flow": null,
      "grid_area": null,
      "grid_auto_columns": null,
      "grid_auto_flow": null,
      "grid_auto_rows": null,
      "grid_column": null,
      "grid_gap": null,
      "grid_row": null,
      "grid_template_areas": null,
      "grid_template_columns": null,
      "grid_template_rows": null,
      "height": null,
      "justify_content": null,
      "justify_items": null,
      "left": null,
      "margin": null,
      "max_height": null,
      "max_width": null,
      "min_height": null,
      "min_width": null,
      "object_fit": null,
      "object_position": null,
      "order": null,
      "overflow": null,
      "overflow_x": null,
      "overflow_y": null,
      "padding": null,
      "right": null,
      "top": null,
      "visibility": null,
      "width": null
     }
    },
    "19e046e842894462aeee1054f652410c": {
     "model_module": "@jupyter-widgets/controls",
     "model_module_version": "1.5.0",
     "model_name": "HTMLModel",
     "state": {
      "_dom_classes": [],
      "_model_module": "@jupyter-widgets/controls",
      "_model_module_version": "1.5.0",
      "_model_name": "HTMLModel",
      "_view_count": null,
      "_view_module": "@jupyter-widgets/controls",
      "_view_module_version": "1.5.0",
      "_view_name": "HTMLView",
      "description": "",
      "description_tooltip": null,
      "layout": "IPY_MODEL_179636653eea4d58848a86219125ea5a",
      "placeholder": "​",
      "style": "IPY_MODEL_b3141aceb7054e14b80ff9ab3e12cc67",
      "value": ""
     }
    },
    "202562a5914d4a4c8f2cc7e9fc132b55": {
     "model_module": "@jupyter-widgets/base",
     "model_module_version": "1.2.0",
     "model_name": "LayoutModel",
     "state": {
      "_model_module": "@jupyter-widgets/base",
      "_model_module_version": "1.2.0",
      "_model_name": "LayoutModel",
      "_view_count": null,
      "_view_module": "@jupyter-widgets/base",
      "_view_module_version": "1.2.0",
      "_view_name": "LayoutView",
      "align_content": null,
      "align_items": null,
      "align_self": null,
      "border": null,
      "bottom": null,
      "display": null,
      "flex": null,
      "flex_flow": null,
      "grid_area": null,
      "grid_auto_columns": null,
      "grid_auto_flow": null,
      "grid_auto_rows": null,
      "grid_column": null,
      "grid_gap": null,
      "grid_row": null,
      "grid_template_areas": null,
      "grid_template_columns": null,
      "grid_template_rows": null,
      "height": null,
      "justify_content": null,
      "justify_items": null,
      "left": null,
      "margin": null,
      "max_height": null,
      "max_width": null,
      "min_height": null,
      "min_width": null,
      "object_fit": null,
      "object_position": null,
      "order": null,
      "overflow": null,
      "overflow_x": null,
      "overflow_y": null,
      "padding": null,
      "right": null,
      "top": null,
      "visibility": null,
      "width": null
     }
    },
    "2d4be503335246aea5f7c1a76006993f": {
     "model_module": "@jupyter-widgets/controls",
     "model_module_version": "1.5.0",
     "model_name": "HBoxModel",
     "state": {
      "_dom_classes": [],
      "_model_module": "@jupyter-widgets/controls",
      "_model_module_version": "1.5.0",
      "_model_name": "HBoxModel",
      "_view_count": null,
      "_view_module": "@jupyter-widgets/controls",
      "_view_module_version": "1.5.0",
      "_view_name": "HBoxView",
      "box_style": "",
      "children": [
       "IPY_MODEL_19e046e842894462aeee1054f652410c",
       "IPY_MODEL_701331258a974434b13aa1a961494b5f",
       "IPY_MODEL_efe44ba7e0524b14a14c57117ec5d7e7"
      ],
      "layout": "IPY_MODEL_202562a5914d4a4c8f2cc7e9fc132b55"
     }
    },
    "551082cd4ef9472092426ae68660ab39": {
     "model_module": "@jupyter-widgets/controls",
     "model_module_version": "1.5.0",
     "model_name": "DescriptionStyleModel",
     "state": {
      "_model_module": "@jupyter-widgets/controls",
      "_model_module_version": "1.5.0",
      "_model_name": "DescriptionStyleModel",
      "_view_count": null,
      "_view_module": "@jupyter-widgets/base",
      "_view_module_version": "1.2.0",
      "_view_name": "StyleView",
      "description_width": ""
     }
    },
    "701331258a974434b13aa1a961494b5f": {
     "model_module": "@jupyter-widgets/controls",
     "model_module_version": "1.5.0",
     "model_name": "FloatProgressModel",
     "state": {
      "_dom_classes": [],
      "_model_module": "@jupyter-widgets/controls",
      "_model_module_version": "1.5.0",
      "_model_name": "FloatProgressModel",
      "_view_count": null,
      "_view_module": "@jupyter-widgets/controls",
      "_view_module_version": "1.5.0",
      "_view_name": "ProgressView",
      "bar_style": "success",
      "description": "",
      "description_tooltip": null,
      "layout": "IPY_MODEL_fb8b47f00999462191c9bb7b332e0354",
      "max": 170498071,
      "min": 0,
      "orientation": "horizontal",
      "style": "IPY_MODEL_d1af14a94c0b4d88acfc4e8d8107880b",
      "value": 170498071
     }
    },
    "b3141aceb7054e14b80ff9ab3e12cc67": {
     "model_module": "@jupyter-widgets/controls",
     "model_module_version": "1.5.0",
     "model_name": "DescriptionStyleModel",
     "state": {
      "_model_module": "@jupyter-widgets/controls",
      "_model_module_version": "1.5.0",
      "_model_name": "DescriptionStyleModel",
      "_view_count": null,
      "_view_module": "@jupyter-widgets/base",
      "_view_module_version": "1.2.0",
      "_view_name": "StyleView",
      "description_width": ""
     }
    },
    "d1af14a94c0b4d88acfc4e8d8107880b": {
     "model_module": "@jupyter-widgets/controls",
     "model_module_version": "1.5.0",
     "model_name": "ProgressStyleModel",
     "state": {
      "_model_module": "@jupyter-widgets/controls",
      "_model_module_version": "1.5.0",
      "_model_name": "ProgressStyleModel",
      "_view_count": null,
      "_view_module": "@jupyter-widgets/base",
      "_view_module_version": "1.2.0",
      "_view_name": "StyleView",
      "bar_color": null,
      "description_width": ""
     }
    },
    "e0c4786b294544c9b6fa406fa539133c": {
     "model_module": "@jupyter-widgets/base",
     "model_module_version": "1.2.0",
     "model_name": "LayoutModel",
     "state": {
      "_model_module": "@jupyter-widgets/base",
      "_model_module_version": "1.2.0",
      "_model_name": "LayoutModel",
      "_view_count": null,
      "_view_module": "@jupyter-widgets/base",
      "_view_module_version": "1.2.0",
      "_view_name": "LayoutView",
      "align_content": null,
      "align_items": null,
      "align_self": null,
      "border": null,
      "bottom": null,
      "display": null,
      "flex": null,
      "flex_flow": null,
      "grid_area": null,
      "grid_auto_columns": null,
      "grid_auto_flow": null,
      "grid_auto_rows": null,
      "grid_column": null,
      "grid_gap": null,
      "grid_row": null,
      "grid_template_areas": null,
      "grid_template_columns": null,
      "grid_template_rows": null,
      "height": null,
      "justify_content": null,
      "justify_items": null,
      "left": null,
      "margin": null,
      "max_height": null,
      "max_width": null,
      "min_height": null,
      "min_width": null,
      "object_fit": null,
      "object_position": null,
      "order": null,
      "overflow": null,
      "overflow_x": null,
      "overflow_y": null,
      "padding": null,
      "right": null,
      "top": null,
      "visibility": null,
      "width": null
     }
    },
    "efe44ba7e0524b14a14c57117ec5d7e7": {
     "model_module": "@jupyter-widgets/controls",
     "model_module_version": "1.5.0",
     "model_name": "HTMLModel",
     "state": {
      "_dom_classes": [],
      "_model_module": "@jupyter-widgets/controls",
      "_model_module_version": "1.5.0",
      "_model_name": "HTMLModel",
      "_view_count": null,
      "_view_module": "@jupyter-widgets/controls",
      "_view_module_version": "1.5.0",
      "_view_name": "HTMLView",
      "description": "",
      "description_tooltip": null,
      "layout": "IPY_MODEL_e0c4786b294544c9b6fa406fa539133c",
      "placeholder": "​",
      "style": "IPY_MODEL_551082cd4ef9472092426ae68660ab39",
      "value": " 170499072/? [00:03&lt;00:00, 47229566.16it/s]"
     }
    },
    "fb8b47f00999462191c9bb7b332e0354": {
     "model_module": "@jupyter-widgets/base",
     "model_module_version": "1.2.0",
     "model_name": "LayoutModel",
     "state": {
      "_model_module": "@jupyter-widgets/base",
      "_model_module_version": "1.2.0",
      "_model_name": "LayoutModel",
      "_view_count": null,
      "_view_module": "@jupyter-widgets/base",
      "_view_module_version": "1.2.0",
      "_view_name": "LayoutView",
      "align_content": null,
      "align_items": null,
      "align_self": null,
      "border": null,
      "bottom": null,
      "display": null,
      "flex": null,
      "flex_flow": null,
      "grid_area": null,
      "grid_auto_columns": null,
      "grid_auto_flow": null,
      "grid_auto_rows": null,
      "grid_column": null,
      "grid_gap": null,
      "grid_row": null,
      "grid_template_areas": null,
      "grid_template_columns": null,
      "grid_template_rows": null,
      "height": null,
      "justify_content": null,
      "justify_items": null,
      "left": null,
      "margin": null,
      "max_height": null,
      "max_width": null,
      "min_height": null,
      "min_width": null,
      "object_fit": null,
      "object_position": null,
      "order": null,
      "overflow": null,
      "overflow_x": null,
      "overflow_y": null,
      "padding": null,
      "right": null,
      "top": null,
      "visibility": null,
      "width": null
     }
    }
   }
  }
 },
 "nbformat": 4,
 "nbformat_minor": 4
}
