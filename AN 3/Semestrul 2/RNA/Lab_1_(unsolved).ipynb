{
  "cells": [
    {
      "cell_type": "markdown",
      "metadata": {
        "id": "LS9OPx5Lb-Ll"
      },
      "source": [
        "# Lab terminology:\n",
        "  - **Jupyter notebook** = web-based 'document' where you can *run code* and *display rich content* (images, equations, formatted text etc.)\n",
        "  - **Colab notebook** = Jupyter notebook hosted in the Google cloud and offering access to *GPUs*.\n",
        "  - **PyTorch** = Deep Learning library offering a Python API to:\n",
        "   - manipulate tensors (like NumPy)\n",
        "   - train neural networks"
      ]
    },
    {
      "cell_type": "markdown",
      "metadata": {
        "id": "b0XnD3x1-C44"
      },
      "source": [
        "<font size=25>Laboratory 1 summary</font>\n",
        "\n",
        "In this lab you will:\n",
        "\n",
        "* learn to to create and manipulate tensors\n",
        "\n",
        "* gain an intuition of underfitting and overfitting by computing the closed-form solutions of linear regression over polynomial features"
      ]
    },
    {
      "cell_type": "markdown",
      "metadata": {
        "id": "s9ezP3i7Wzgm"
      },
      "source": [
        "One core concept used in Deep Learning is the **tensor**.\n",
        "\n",
        "A tensor is an interesting mathematical concept that's widely used in many science fields. For the sake of simplicity, we're going to think about a tensor as a multi-dimensional array of real numbers.\n",
        "\n",
        "A 1D tensor is an vector, a 2D tensor is a matrix and so on:\n",
        "\n",
        "![Source: DataCamp](https://i.imgur.com/1Ai1wAB.jpg)\n",
        "*Image source: [DataCamp](https://www.datacamp.com/)*"
      ]
    },
    {
      "cell_type": "markdown",
      "metadata": {
        "id": "WWzkCu8T3B5c"
      },
      "source": [
        "PyTorch is a multi-purpose Machine Learning Python library that has a number of advantages and features:\n",
        "\n",
        "*   It can be used as a general-purpose tensor compute engine (similar to NumPy [[1]]).\n",
        "*   It has GPU acceleration.\n",
        "*   It has a strong auto-differentiation (autograd) engine (we can easily train neural networks with it).\n",
        "*   It is a very popular **deep learning research platform that provides maximum flexibility and speed**.\n",
        "\n",
        "[1]: https://numpy.org/"
      ]
    },
    {
      "cell_type": "markdown",
      "metadata": {
        "id": "Su_o6fbJbLMl"
      },
      "source": [
        "# **Part I: Basic tensor operations**"
      ]
    },
    {
      "cell_type": "markdown",
      "metadata": {
        "id": "c8xdT_QTpTG0"
      },
      "source": [
        "## Initializing tensors"
      ]
    },
    {
      "cell_type": "markdown",
      "metadata": {
        "id": "x4Hj0QIU-_F3"
      },
      "source": [
        "PyTorch supports tensors and provides a lot of useful tensor operations. Let's play with some of them. When in doubt, look up function definitions and examples of use in the official PyTorch documentation https://pytorch.org/docs/stable/tensors.html"
      ]
    },
    {
      "cell_type": "code",
      "execution_count": null,
      "metadata": {
        "id": "vikLrtsj4S1C"
      },
      "outputs": [],
      "source": [
        "import torch\n",
        "import numpy"
      ]
    },
    {
      "cell_type": "markdown",
      "metadata": {
        "id": "qmq6OqEQxaI3"
      },
      "source": [
        "### Create tensor from existing data\n",
        "Let's create our first tensor from a list."
      ]
    },
    {
      "cell_type": "code",
      "execution_count": null,
      "metadata": {
        "id": "THoKHTPpxksq",
        "colab": {
          "base_uri": "https://localhost:8080/"
        },
        "outputId": "77a6ee34-401b-46e7-e513-f3d0d3bc2351"
      },
      "outputs": [
        {
          "output_type": "stream",
          "name": "stdout",
          "text": [
            "tensor([1, 2, 3])\n"
          ]
        }
      ],
      "source": [
        "x = torch.tensor([1, 2, 3])\n",
        "print(x)"
      ]
    },
    {
      "cell_type": "markdown",
      "metadata": {
        "id": "x5mHn3ZwyVDe"
      },
      "source": [
        "What is the type of our Tensor? We can find out by inspecting the ```.dtype``` attribute of the Tensor object. All Tensor types are listed in the documentation: https://pytorch.org/docs/stable/tensor_attributes.html#torch.torch.dtype\n",
        "\n"
      ]
    },
    {
      "cell_type": "code",
      "execution_count": null,
      "metadata": {
        "id": "Ba4DMUloynKf",
        "colab": {
          "base_uri": "https://localhost:8080/"
        },
        "outputId": "46a5f4ea-f775-4b66-8029-8a1eb9ac35e6"
      },
      "outputs": [
        {
          "output_type": "stream",
          "name": "stdout",
          "text": [
            "torch.int64\n"
          ]
        }
      ],
      "source": [
        "print(x.dtype)"
      ]
    },
    {
      "cell_type": "markdown",
      "metadata": {
        "id": "506y9zrpzXhQ"
      },
      "source": [
        "What is the size of our Tensor? To find out, call ```.size()``` or the attribute ```.shape``` on the Tensor object."
      ]
    },
    {
      "cell_type": "code",
      "execution_count": null,
      "metadata": {
        "id": "zYUU_Hpwzxfy",
        "colab": {
          "base_uri": "https://localhost:8080/"
        },
        "outputId": "db287fae-d265-4d77-9ed6-4b9389b57aa4"
      },
      "outputs": [
        {
          "output_type": "stream",
          "name": "stdout",
          "text": [
            "torch.Size([3])\n",
            "torch.Size([3])\n"
          ]
        }
      ],
      "source": [
        "print(x.size())\n",
        "print(x.shape)"
      ]
    },
    {
      "cell_type": "markdown",
      "metadata": {
        "id": "Pv8hi9gQz6nc"
      },
      "source": [
        "Where is our Tensor located? To find out whether the tensor is loaded into RAM or resides on the GPU, inspect the ```.device``` attribute."
      ]
    },
    {
      "cell_type": "code",
      "execution_count": null,
      "metadata": {
        "id": "cHpH3egk0R7w",
        "colab": {
          "base_uri": "https://localhost:8080/"
        },
        "outputId": "e010aed3-ca74-410e-ce62-f173fd86113f"
      },
      "outputs": [
        {
          "output_type": "stream",
          "name": "stdout",
          "text": [
            "cpu\n"
          ]
        }
      ],
      "source": [
        "print(x.device)"
      ]
    },
    {
      "cell_type": "markdown",
      "metadata": {
        "id": "FUiHzCS90iTp"
      },
      "source": [
        "To move Tensor to either CPU/GPU, call function ```.to()``` on the Tensor object with the argument ```device='cpu'``` or ```device='cuda'```."
      ]
    },
    {
      "cell_type": "code",
      "execution_count": null,
      "metadata": {
        "id": "TBlpfZkT07YJ",
        "colab": {
          "base_uri": "https://localhost:8080/"
        },
        "outputId": "3f75096a-a9f0-4830-c005-311773b5dd3a"
      },
      "outputs": [
        {
          "output_type": "stream",
          "name": "stdout",
          "text": [
            "cuda:0\n"
          ]
        }
      ],
      "source": [
        "x = x.to('cuda')\n",
        "print(x.device)"
      ]
    },
    {
      "cell_type": "markdown",
      "metadata": {
        "id": "UBLNpqjk19EB"
      },
      "source": [
        "Let's move the Tensor back to the CPU."
      ]
    },
    {
      "cell_type": "code",
      "execution_count": null,
      "metadata": {
        "id": "w2BldyIC1TIH",
        "colab": {
          "base_uri": "https://localhost:8080/"
        },
        "outputId": "e721d55a-a520-4cc3-cc36-18ee25f74360"
      },
      "outputs": [
        {
          "output_type": "stream",
          "name": "stdout",
          "text": [
            "cpu\n"
          ]
        }
      ],
      "source": [
        "x = x.to('cpu')\n",
        "print(x.device)"
      ]
    },
    {
      "cell_type": "markdown",
      "metadata": {
        "id": "8EuBazM72G8N"
      },
      "source": [
        "Let's now create 2 other Tensors of different shapes."
      ]
    },
    {
      "cell_type": "code",
      "execution_count": null,
      "metadata": {
        "id": "P7Xa1Mz71VGU",
        "colab": {
          "base_uri": "https://localhost:8080/"
        },
        "outputId": "b69821c1-e972-407b-ffdd-bb32d1916e1e"
      },
      "outputs": [
        {
          "output_type": "stream",
          "name": "stdout",
          "text": [
            "tensor([[1., 2., 3.],\n",
            "        [4., 5., 6.]])\n",
            "tensor([[[3, 7],\n",
            "         [6, 1]],\n",
            "\n",
            "        [[0, 9],\n",
            "         [2, 5]]])\n"
          ]
        }
      ],
      "source": [
        "y = torch.tensor([[1, 2, 3],\n",
        "                  [4, 5, 6.0]])\n",
        "z = torch.tensor([[[3, 7], [6, 1]],\n",
        "                  [[0, 9], [2, 5]]])\n",
        "print(y)\n",
        "print(z)"
      ]
    },
    {
      "cell_type": "markdown",
      "metadata": {
        "id": "Gzmsuz_t2qkT"
      },
      "source": [
        "What are the shapes and types of ```y``` and ```z```?"
      ]
    },
    {
      "cell_type": "code",
      "execution_count": null,
      "metadata": {
        "id": "9n-cf3EB2wAG",
        "colab": {
          "base_uri": "https://localhost:8080/"
        },
        "outputId": "61b654f2-7993-4bad-f24f-079c1111afaf"
      },
      "outputs": [
        {
          "output_type": "stream",
          "name": "stdout",
          "text": [
            "y shape:  torch.Size([2, 3])\n",
            "z shape:  torch.Size([2, 2, 2])\n",
            "y type:  torch.float32\n",
            "z type:  torch.int64\n"
          ]
        }
      ],
      "source": [
        "print('y shape: ', y.size())\n",
        "print('z shape: ', z.size())\n",
        "print('y type: ', y.dtype)\n",
        "print('z type: ', z.dtype)"
      ]
    },
    {
      "cell_type": "markdown",
      "metadata": {
        "id": "Lb9Q_G8j3Hlf"
      },
      "source": [
        "### Create tensor using predefined operations\n",
        "\n",
        "Let's create a Tensor and populate it with random numbers. We can call the [```torch.rand()```](https://pytorch.org/docs/stable/generated/torch.rand.html#torch.rand) function, which populates the Tensor with numbers from U(0, 1). The function requires the dimensions of the Tensor as arguments."
      ]
    },
    {
      "cell_type": "code",
      "execution_count": null,
      "metadata": {
        "id": "DViUnz8s4-Q1",
        "colab": {
          "base_uri": "https://localhost:8080/"
        },
        "outputId": "ae6227a3-c392-4dd9-fd2b-799ae610c85b"
      },
      "outputs": [
        {
          "output_type": "stream",
          "name": "stdout",
          "text": [
            "tensor([[0.2067, 0.4670, 0.0872],\n",
            "        [0.3547, 0.4430, 0.3471]])\n"
          ]
        }
      ],
      "source": [
        "x = torch.rand(2, 3)\n",
        "print(x)"
      ]
    },
    {
      "cell_type": "markdown",
      "metadata": {
        "id": "G2GojP_p6Fdf"
      },
      "source": [
        "To create a Tensor filled with 1s, use the function ```torch.ones()```."
      ]
    },
    {
      "cell_type": "code",
      "execution_count": null,
      "metadata": {
        "id": "TrU9Rhyt4xmI",
        "colab": {
          "base_uri": "https://localhost:8080/"
        },
        "outputId": "16e1234d-08f6-4a9f-ad60-0434ccdb89af"
      },
      "outputs": [
        {
          "output_type": "stream",
          "name": "stdout",
          "text": [
            "2D Tensor: \n",
            "tensor([[1., 1., 1.],\n",
            "        [1., 1., 1.],\n",
            "        [1., 1., 1.]])\n",
            "type: torch.float32\n"
          ]
        }
      ],
      "source": [
        "x = torch.ones(3, 3)  # Creates a 3x3 2D Tensor initialized with 1s\n",
        "print(f'2D Tensor: \\n{x}')\n",
        "print(f'type: {x.dtype}')"
      ]
    },
    {
      "cell_type": "markdown",
      "metadata": {
        "id": "u6NOosp56VCS"
      },
      "source": [
        "To create a Tensor filled with zeros, use the function ```torch.zeros()```."
      ]
    },
    {
      "cell_type": "code",
      "execution_count": null,
      "metadata": {
        "id": "VWe0uEwP40G0",
        "colab": {
          "base_uri": "https://localhost:8080/"
        },
        "outputId": "e2f20dc9-0681-4499-f306-e5fde5c03875"
      },
      "outputs": [
        {
          "output_type": "stream",
          "name": "stdout",
          "text": [
            "3D Tensor: \n",
            "tensor([[[0., 0., 0.],\n",
            "         [0., 0., 0.],\n",
            "         [0., 0., 0.]],\n",
            "\n",
            "        [[0., 0., 0.],\n",
            "         [0., 0., 0.],\n",
            "         [0., 0., 0.]],\n",
            "\n",
            "        [[0., 0., 0.],\n",
            "         [0., 0., 0.],\n",
            "         [0., 0., 0.]]])\n",
            "type: torch.float32\n"
          ]
        }
      ],
      "source": [
        "x = torch.zeros(3, 3, 3)  # Creates a 3x3x3 3D Tensor initialized with 0s\n",
        "print(f'3D Tensor: \\n{x}')\n",
        "print(f'type: {x.dtype}')"
      ]
    },
    {
      "cell_type": "markdown",
      "metadata": {
        "id": "bvEiKe527O6k"
      },
      "source": [
        "**TODO**: Create a 2D Tensor of size 100x100 representing an identity matrix. Use a predefined ```PyTorch``` operation (hint: look up function in the documentation - section Creation Ops [link to documentation](https://pytorch.org/docs/stable/torch.html#tensor-creation-ops))"
      ]
    },
    {
      "cell_type": "code",
      "execution_count": null,
      "metadata": {
        "colab": {
          "base_uri": "https://localhost:8080/"
        },
        "id": "QxUk3EuI25j0",
        "outputId": "57fdf781-df40-4b56-803d-700c96ede2eb"
      },
      "outputs": [
        {
          "output_type": "stream",
          "name": "stdout",
          "text": [
            "tensor([[1., 0., 0.,  ..., 0., 0., 0.],\n",
            "        [0., 1., 0.,  ..., 0., 0., 0.],\n",
            "        [0., 0., 1.,  ..., 0., 0., 0.],\n",
            "        ...,\n",
            "        [0., 0., 0.,  ..., 1., 0., 0.],\n",
            "        [0., 0., 0.,  ..., 0., 1., 0.],\n",
            "        [0., 0., 0.,  ..., 0., 0., 1.]])\n",
            "torch.Size([100, 100])\n"
          ]
        }
      ],
      "source": [
        "x = torch.eye(100, 100)\n",
        "print(x)\n",
        "print(x.size())"
      ]
    },
    {
      "cell_type": "markdown",
      "metadata": {
        "id": "WcxUFXsU40P3"
      },
      "source": [
        "You can create an interval \\[```start_index```, ```stop_index```) using the [```torch.arange()```](https://pytorch.org/docs/stable/generated/torch.arange.html#torch.arange) function."
      ]
    },
    {
      "cell_type": "code",
      "execution_count": null,
      "metadata": {
        "id": "kGdXZEMsExbR",
        "colab": {
          "base_uri": "https://localhost:8080/"
        },
        "outputId": "e16e5647-9b2f-4c1c-e9e2-68707f0783a0"
      },
      "outputs": [
        {
          "output_type": "stream",
          "name": "stdout",
          "text": [
            "tensor([0, 1, 2, 3, 4, 5, 6, 7, 8, 9])\n"
          ]
        }
      ],
      "source": [
        "x = torch.arange(start=0, end=10)\n",
        "print(x)"
      ]
    },
    {
      "cell_type": "markdown",
      "metadata": {
        "id": "6xw5d8iqE3wh"
      },
      "source": [
        "If you want steps > 1, use the ```step``` argument"
      ]
    },
    {
      "cell_type": "code",
      "execution_count": null,
      "metadata": {
        "id": "QnhBG0YMFDVd",
        "colab": {
          "base_uri": "https://localhost:8080/"
        },
        "outputId": "c9322631-6fb4-491d-d58f-06a0b2d41c26"
      },
      "outputs": [
        {
          "output_type": "stream",
          "name": "stdout",
          "text": [
            "tensor([10, 12, 14, 16, 18])\n"
          ]
        }
      ],
      "source": [
        "x = torch.arange(start=10, end=20, step=2)\n",
        "print(x)"
      ]
    },
    {
      "cell_type": "markdown",
      "metadata": {
        "id": "xkHkd-OT760P"
      },
      "source": [
        "### Conversions\n",
        "\n",
        "To convert a Float Tensor let's say to Long, use the [```.long()```](https://pytorch.org/docs/stable/generated/torch.Tensor.long.html?highlight=long) function."
      ]
    },
    {
      "cell_type": "code",
      "execution_count": null,
      "metadata": {
        "id": "zWmoAhGw8G91",
        "colab": {
          "base_uri": "https://localhost:8080/"
        },
        "outputId": "e1712cfe-9798-4be3-e16a-8403e15c2448"
      },
      "outputs": [
        {
          "output_type": "stream",
          "name": "stdout",
          "text": [
            "tensor([[1., 1., 1.],\n",
            "        [1., 1., 1.]])\n",
            "torch.float32\n",
            "tensor([[1, 1, 1],\n",
            "        [1, 1, 1]])\n",
            "torch.int64\n"
          ]
        }
      ],
      "source": [
        "x = torch.ones(2, 3)\n",
        "print(x)\n",
        "print(x.dtype)\n",
        "\n",
        "y = x.long()\n",
        "print(y)\n",
        "print(y.dtype)"
      ]
    },
    {
      "cell_type": "markdown",
      "metadata": {
        "id": "A2ktTipW84H4"
      },
      "source": [
        "Another option is to call the [```.to()```](https://pytorch.org/docs/stable/generated/torch.Tensor.to.html#torch.Tensor.to) function (which we used to move Tensors to GPU and back to CPU) and specify the ```dtype``` argument."
      ]
    },
    {
      "cell_type": "code",
      "execution_count": null,
      "metadata": {
        "id": "08UULINl9P8z",
        "colab": {
          "base_uri": "https://localhost:8080/"
        },
        "outputId": "aa510af2-d7aa-427c-e56d-52c2aa7a3f1e"
      },
      "outputs": [
        {
          "output_type": "stream",
          "name": "stdout",
          "text": [
            "tensor([[1, 1, 1],\n",
            "        [1, 1, 1]], dtype=torch.int32)\n",
            "torch.int32\n"
          ]
        }
      ],
      "source": [
        "z = x.to(dtype=torch.int32)\n",
        "print(z)\n",
        "print(z.dtype)"
      ]
    },
    {
      "cell_type": "markdown",
      "metadata": {
        "id": "LtYQTN0W9ngx"
      },
      "source": [
        "Sometimes our datasets are saved as [NumPy](https://numpy.org/doc/stable/reference/index.html#reference) arrays. To convert them to Tensors, call the [```torch.from_numpy```](https://pytorch.org/docs/stable/generated/torch.from_numpy.html#torch.from_numpy) (or [```torch.astensor()```](https://pytorch.org/docs/stable/generated/torch.as_tensor.html?highlight=as_tensor#torch.as_tensor)) function."
      ]
    },
    {
      "cell_type": "code",
      "execution_count": null,
      "metadata": {
        "id": "94U6M-ej-W53",
        "colab": {
          "base_uri": "https://localhost:8080/"
        },
        "outputId": "a60bf60e-01f2-4087-c94c-68d966be038b"
      },
      "outputs": [
        {
          "output_type": "stream",
          "name": "stdout",
          "text": [
            "tensor([1, 2, 3])\n",
            "torch.int64\n"
          ]
        }
      ],
      "source": [
        "x_np = numpy.array([1, 2, 3])\n",
        "x = torch.as_tensor(x_np)\n",
        "print(x)\n",
        "print(x.dtype)"
      ]
    },
    {
      "cell_type": "markdown",
      "metadata": {
        "id": "YJKKqDxgcgVE"
      },
      "source": [
        "**Careful:** The returned tensor will share the same memory as the original tensor."
      ]
    },
    {
      "cell_type": "code",
      "execution_count": null,
      "metadata": {
        "id": "VoXZGAM8hVIV",
        "colab": {
          "base_uri": "https://localhost:8080/"
        },
        "outputId": "14803d0c-01fa-41ca-9a45-83bd5806638c"
      },
      "outputs": [
        {
          "output_type": "stream",
          "name": "stdout",
          "text": [
            "x =  tensor([-10,   2,   3])\n",
            "x_np =  [-10   2   3]\n"
          ]
        }
      ],
      "source": [
        "x[0] = -10\n",
        "print(\"x = \", x)\n",
        "print(\"x_np = \", x_np)"
      ]
    },
    {
      "cell_type": "markdown",
      "metadata": {
        "id": "e4C-HLU-iMEr"
      },
      "source": [
        "To return a Tensor without sharing memory with the old one, call [```torch.tensor```](https://pytorch.org/docs/stable/generated/torch.tensor.html#torch.tensor):"
      ]
    },
    {
      "cell_type": "code",
      "execution_count": null,
      "metadata": {
        "id": "blHXZnlDuO7y",
        "colab": {
          "base_uri": "https://localhost:8080/"
        },
        "outputId": "8d38f3cf-661f-41c1-b903-563fa1b4b7a0"
      },
      "outputs": [
        {
          "output_type": "stream",
          "name": "stdout",
          "text": [
            "tensor([1, 2, 3])\n",
            "torch.int64\n",
            "x =  tensor([-10,   2,   3])\n",
            "x_np =  [1 2 3]\n"
          ]
        }
      ],
      "source": [
        "x_np = numpy.array([1, 2, 3])\n",
        "x = torch.tensor(x_np)\n",
        "print(x)\n",
        "print(x.dtype)\n",
        "x[0] = -10\n",
        "print(\"x = \", x)\n",
        "print(\"x_np = \", x_np)"
      ]
    },
    {
      "cell_type": "markdown",
      "metadata": {
        "id": "6AFPOWKQCeq-"
      },
      "source": [
        "## Basic arithmetic\n",
        "Let's do some basic matrix operations with PyTorch.\n"
      ]
    },
    {
      "cell_type": "code",
      "execution_count": null,
      "metadata": {
        "id": "SD8e49maUkib",
        "colab": {
          "base_uri": "https://localhost:8080/"
        },
        "outputId": "3addb04a-ae8f-48a2-eeec-dda4ad0b1047"
      },
      "outputs": [
        {
          "output_type": "stream",
          "name": "stdout",
          "text": [
            "Random PyTorch Tensor:\n",
            "tensor([[ 0.4875, -0.5180,  0.9934,  0.1143],\n",
            "        [-1.2843,  0.8498, -0.2773, -0.8228],\n",
            "        [-0.6510,  0.3341, -1.3336,  0.3208]])\n",
            "Ones PyTorch Tensor:\n",
            "tensor([[1., 1., 1., 1.],\n",
            "        [1., 1., 1., 1.],\n",
            "        [1., 1., 1., 1.]])\n"
          ]
        }
      ],
      "source": [
        "# Create a 3x4 random PyTorch Tensor and a 3x4 one filled with ones.\n",
        "rand_tens = torch.randn(3, 4)\n",
        "ones_tens = torch.ones(3, 4)\n",
        "print(f'Random PyTorch Tensor:\\n{rand_tens}')\n",
        "print(f'Ones PyTorch Tensor:\\n{ones_tens}')"
      ]
    },
    {
      "cell_type": "markdown",
      "metadata": {
        "id": "W-PRVjpn9FCB"
      },
      "source": [
        "You can perform addition:"
      ]
    },
    {
      "cell_type": "code",
      "execution_count": null,
      "metadata": {
        "id": "wpDxNYCS6A_p",
        "colab": {
          "base_uri": "https://localhost:8080/"
        },
        "outputId": "fb7a25a3-3f16-476e-ad96-53b92118c4f9"
      },
      "outputs": [
        {
          "output_type": "stream",
          "name": "stdout",
          "text": [
            "Their sum:\n",
            "tensor([[ 1.4875,  0.4820,  1.9934,  1.1143],\n",
            "        [-0.2843,  1.8498,  0.7227,  0.1772],\n",
            "        [ 0.3490,  1.3341, -0.3336,  1.3208]])\n"
          ]
        }
      ],
      "source": [
        "print(f'Their sum:\\n{ones_tens + rand_tens}')"
      ]
    },
    {
      "cell_type": "markdown",
      "metadata": {
        "id": "NPzhCvBa9I5G"
      },
      "source": [
        "And subtraction:"
      ]
    },
    {
      "cell_type": "code",
      "execution_count": null,
      "metadata": {
        "id": "LCgi5jRQ6fm-",
        "colab": {
          "base_uri": "https://localhost:8080/"
        },
        "outputId": "3da0c65d-069a-472f-ebc0-fc0838e1214a"
      },
      "outputs": [
        {
          "output_type": "stream",
          "name": "stdout",
          "text": [
            "Their difference:\n",
            "tensor([[0.5125, 1.5180, 0.0066, 0.8857],\n",
            "        [2.2843, 0.1502, 1.2773, 1.8228],\n",
            "        [1.6510, 0.6659, 2.3336, 0.6792]])\n"
          ]
        }
      ],
      "source": [
        "print(f'Their difference:\\n{ones_tens - rand_tens}')"
      ]
    },
    {
      "cell_type": "markdown",
      "metadata": {
        "id": "1I9AL2XE74kE"
      },
      "source": [
        "Matrix addition is not defined if the shapes are not the same. What do you think happens if you add a number to a Tensor?"
      ]
    },
    {
      "cell_type": "code",
      "execution_count": null,
      "metadata": {
        "id": "A917-vhv8AZr",
        "colab": {
          "base_uri": "https://localhost:8080/"
        },
        "outputId": "d100a2a6-08fb-4399-b5c7-b61001b1cfd8"
      },
      "outputs": [
        {
          "output_type": "stream",
          "name": "stdout",
          "text": [
            "tensor([[2., 2., 2., 2.],\n",
            "        [2., 2., 2., 2.],\n",
            "        [2., 2., 2., 2.]])\n"
          ]
        }
      ],
      "source": [
        "resulting = ones_tens + 1\n",
        "print(resulting)"
      ]
    },
    {
      "cell_type": "markdown",
      "metadata": {
        "id": "3lVcxbo68Rqr"
      },
      "source": [
        "Notice how *1* is added to every element in the Tensor. This convenient operation is called *broadcasting* and it's a way of '**stretching/copying**' some Tensor dimensions - we're gonna come back to this concept a bit later.\n",
        "\n",
        "Let's now multiply two matrices using `torch.mm()`:\n"
      ]
    },
    {
      "cell_type": "code",
      "execution_count": null,
      "metadata": {
        "id": "E7WAHNyY-EpZ",
        "colab": {
          "base_uri": "https://localhost:8080/",
          "height": 141
        },
        "outputId": "13724e7f-2720-46c8-f0d7-e1df559d410d"
      },
      "outputs": [
        {
          "output_type": "error",
          "ename": "RuntimeError",
          "evalue": "mat1 and mat2 shapes cannot be multiplied (3x4 and 3x4)",
          "traceback": [
            "\u001b[0;31m---------------------------------------------------------------------------\u001b[0m",
            "\u001b[0;31mRuntimeError\u001b[0m                              Traceback (most recent call last)",
            "\u001b[0;32m<ipython-input-28-1eb0e0613237>\u001b[0m in \u001b[0;36m<cell line: 0>\u001b[0;34m()\u001b[0m\n\u001b[0;32m----> 1\u001b[0;31m \u001b[0mprint\u001b[0m\u001b[0;34m(\u001b[0m\u001b[0;34mf'Their product:\\n{torch.mm(ones_tens, rand_tens)}'\u001b[0m\u001b[0;34m)\u001b[0m\u001b[0;34m\u001b[0m\u001b[0;34m\u001b[0m\u001b[0m\n\u001b[0m",
            "\u001b[0;31mRuntimeError\u001b[0m: mat1 and mat2 shapes cannot be multiplied (3x4 and 3x4)"
          ]
        }
      ],
      "source": [
        "print(f'Their product:\\n{torch.mm(ones_tens, rand_tens)}')"
      ]
    },
    {
      "cell_type": "markdown",
      "metadata": {
        "id": "2Ize7HSX-JIe"
      },
      "source": [
        "Whoops. Recall from Linear Algebra that matrix dimensions must agree. If A is an `m×n` matrix and B is an `n×p` matrix, the product will be an `m×p` matrix. Let's use `torch.transpose()` to swap the dimensions of `rand_tens`:"
      ]
    },
    {
      "cell_type": "code",
      "execution_count": null,
      "metadata": {
        "id": "XfRp1KCl6g6r",
        "colab": {
          "base_uri": "https://localhost:8080/"
        },
        "outputId": "236f5f4d-cf44-40f5-ac71-b93f01f6bb23"
      },
      "outputs": [
        {
          "output_type": "stream",
          "name": "stdout",
          "text": [
            "Their product:\n",
            "tensor([[ 1.0772, -1.5347, -1.3296],\n",
            "        [ 1.0772, -1.5347, -1.3296],\n",
            "        [ 1.0772, -1.5347, -1.3296]])\n"
          ]
        }
      ],
      "source": [
        "print(f'Their product:\\n{torch.mm(ones_tens, torch.transpose(rand_tens, 0, 1))}')"
      ]
    },
    {
      "cell_type": "markdown",
      "metadata": {
        "id": "hLO_b7uyHegG"
      },
      "source": [
        "TODO: Compute $X = ABC$, where $A$, $B$ and $C$ are three matrices defined below:"
      ]
    },
    {
      "cell_type": "code",
      "execution_count": null,
      "metadata": {
        "id": "oWICTrtbHfB7",
        "colab": {
          "base_uri": "https://localhost:8080/"
        },
        "outputId": "b19e1050-bbc0-4ea6-d640-26cddd4fd868"
      },
      "outputs": [
        {
          "output_type": "stream",
          "name": "stdout",
          "text": [
            "tensor([[40.7764, 40.0255, 35.5541, 39.6178, 39.3655],\n",
            "        [42.2232, 42.5552, 35.7874, 41.9127, 40.1035],\n",
            "        [46.3071, 44.3592, 38.0946, 43.8212, 43.4134]])\n"
          ]
        }
      ],
      "source": [
        "A = torch.rand(3, 10)\n",
        "B = torch.rand(10, 30)\n",
        "C = torch.rand(30, 5)\n",
        "X1 = torch.mm(A, B)\n",
        "X2 = torch.mm(X1, C)\n",
        "print(X2)"
      ]
    },
    {
      "cell_type": "markdown",
      "metadata": {
        "id": "zOI2juH8ND_E"
      },
      "source": [
        "Do not confuse ```torch.mm``` with ```*``` operator, which computes elementwise multiplication (if Tensor dimensions agreee):"
      ]
    },
    {
      "cell_type": "code",
      "execution_count": null,
      "metadata": {
        "id": "swqINzFNHhXJ",
        "colab": {
          "base_uri": "https://localhost:8080/"
        },
        "outputId": "8fe483a0-6880-4f17-ea26-882fc63b376a"
      },
      "outputs": [
        {
          "output_type": "stream",
          "name": "stdout",
          "text": [
            "x =  tensor([0, 1, 2, 3, 4, 5, 6, 7, 8, 9])\n",
            "y =  tensor([10, 11, 12, 13, 14, 15, 16, 17, 18, 19])\n",
            "elementwise multiplication:  tensor([  0,  11,  24,  39,  56,  75,  96, 119, 144, 171])\n"
          ]
        }
      ],
      "source": [
        "x = torch.arange(0, 10)\n",
        "y = torch.arange(10, 20)\n",
        "print('x = ', x)\n",
        "print('y = ', y)\n",
        "print('elementwise multiplication: ', x*y)"
      ]
    },
    {
      "cell_type": "markdown",
      "metadata": {
        "id": "IdZurKuWNxGH"
      },
      "source": [
        "Let's compute the sum of all the elements in a Tensor using ```torch.sum()```."
      ]
    },
    {
      "cell_type": "code",
      "execution_count": null,
      "metadata": {
        "id": "f1z_mmEmN4zW",
        "colab": {
          "base_uri": "https://localhost:8080/"
        },
        "outputId": "f98ca32c-e2cf-4768-ca1f-d075403ab75f"
      },
      "outputs": [
        {
          "output_type": "stream",
          "name": "stdout",
          "text": [
            "tensor([[1., 1., 1., 1., 1.],\n",
            "        [1., 1., 1., 1., 1.]])\n"
          ]
        }
      ],
      "source": [
        "x = torch.ones(2, 5)\n",
        "print(x)"
      ]
    },
    {
      "cell_type": "code",
      "execution_count": null,
      "metadata": {
        "id": "EHCPDYivOBCf",
        "colab": {
          "base_uri": "https://localhost:8080/"
        },
        "outputId": "c591b9d7-737d-4436-dd06-9ba782eb6af1"
      },
      "outputs": [
        {
          "output_type": "stream",
          "name": "stdout",
          "text": [
            "sum of elements in x =  tensor(10.)\n"
          ]
        }
      ],
      "source": [
        "print('sum of elements in x = ', torch.sum(x))"
      ]
    },
    {
      "cell_type": "markdown",
      "metadata": {
        "id": "S2Xe23TCOcBo"
      },
      "source": [
        "What if we want to compute the sum of each column of a 2D Tensor? We can specify the ```dim``` argument:"
      ]
    },
    {
      "cell_type": "code",
      "execution_count": null,
      "metadata": {
        "id": "9Lx6EfPqPFOY",
        "colab": {
          "base_uri": "https://localhost:8080/"
        },
        "outputId": "1c12b6f1-e74d-4950-97cb-9013c521753e"
      },
      "outputs": [
        {
          "output_type": "execute_result",
          "data": {
            "text/plain": [
              "tensor([2., 2., 2., 2., 2.])"
            ]
          },
          "metadata": {},
          "execution_count": 36
        }
      ],
      "source": [
        "# dim refers to the axis/dimension over which the operation is performed (i.e. over rows - dimension 0)\n",
        "torch.sum(x, dim=0)"
      ]
    },
    {
      "cell_type": "markdown",
      "metadata": {
        "id": "UITZPyM2Q2X0"
      },
      "source": [
        "What happens when we specify ```dim=1```?"
      ]
    },
    {
      "cell_type": "code",
      "execution_count": null,
      "metadata": {
        "id": "AplByDtyRSUn",
        "colab": {
          "base_uri": "https://localhost:8080/"
        },
        "outputId": "0a748a12-a61c-4c5c-b7d1-a88f23e689ae"
      },
      "outputs": [
        {
          "output_type": "execute_result",
          "data": {
            "text/plain": [
              "tensor([5., 5.])"
            ]
          },
          "metadata": {},
          "execution_count": 37
        }
      ],
      "source": [
        "torch.sum(x, dim=1)"
      ]
    },
    {
      "cell_type": "markdown",
      "metadata": {
        "id": "XqhYiOSo_Hge"
      },
      "source": [
        "The sum is of each row is computed, by aggregating the elements over the columns (dimension 1). You can think of `dim` as the dimension which is reduced/collapses as a result of the operation."
      ]
    },
    {
      "cell_type": "code",
      "execution_count": null,
      "metadata": {
        "id": "0DZUdaN47th2",
        "colab": {
          "base_uri": "https://localhost:8080/"
        },
        "outputId": "52d812c4-b192-4623-a47d-61776d497c9d"
      },
      "outputs": [
        {
          "output_type": "stream",
          "name": "stdout",
          "text": [
            "torch.Size([100, 32, 32])\n"
          ]
        }
      ],
      "source": [
        "# tensor containing 100 images\n",
        "images = torch.randn(100, 3, 32, 32) #=> 100 x 32 x 32\n",
        "\n",
        "# TODO: compute pixelwise mean over the 3 channels\n",
        "ch_mean = torch.mean(images, dim=1)\n",
        "\n",
        "print(ch_mean.size())"
      ]
    },
    {
      "cell_type": "markdown",
      "metadata": {
        "id": "DaeLJ_cdTAzF"
      },
      "source": [
        "We can compute the vector norm of a 1D Tensor of length n using [```torch.linalg.norm()```](https://pytorch.org/docs/stable/generated/torch.linalg.norm.html#torch.linalg.norm):\n",
        "$$\\|\\textbf{x}\\| = \\sqrt{x_1^{2}+x_2^{2}+...+x_n^{2}}$$"
      ]
    },
    {
      "cell_type": "code",
      "execution_count": null,
      "metadata": {
        "id": "r1GLUZhnRl2Y",
        "colab": {
          "base_uri": "https://localhost:8080/"
        },
        "outputId": "c3309acf-36fa-4f12-fa0a-35086cc7e7ff"
      },
      "outputs": [
        {
          "output_type": "stream",
          "name": "stdout",
          "text": [
            "tensor([0.3992, 0.0040, 0.6601, 0.6717, 0.5213, 0.6208, 0.9920, 0.3948, 0.8327,\n",
            "        0.3246])\n",
            "norm =  tensor(1.9084)\n"
          ]
        }
      ],
      "source": [
        "x = torch.rand(10)\n",
        "x_norm = torch.linalg.norm(x)\n",
        "print(x)\n",
        "print(\"norm = \", x_norm)"
      ]
    },
    {
      "cell_type": "markdown",
      "metadata": {
        "id": "wcLWbBTKTl4f"
      },
      "source": [
        "TODO: compute the vector norm using [```torch.sum()```](https://pytorch.org/docs/stable/generated/torch.sum.html?highlight=sum#torch.sum) and [```torch.sqrt()```](https://pytorch.org/docs/stable/generated/torch.sqrt.html?highlight=sqrt#torch.sqrt)"
      ]
    },
    {
      "cell_type": "code",
      "execution_count": null,
      "metadata": {
        "id": "96iJRvyrTTMN",
        "colab": {
          "base_uri": "https://localhost:8080/"
        },
        "outputId": "248ef834-cbbc-4f0e-fec3-23f840ae6813"
      },
      "outputs": [
        {
          "output_type": "stream",
          "name": "stdout",
          "text": [
            "norm =  tensor([0.3992, 0.0040, 0.6601, 0.6717, 0.5213, 0.6208, 0.9920, 0.3948, 0.8327,\n",
            "        0.3246])\n"
          ]
        }
      ],
      "source": [
        "# TODO\n",
        "x_norm_2 = torch.sqrt(x * x)\n",
        "print(\"norm = \", x_norm_2)"
      ]
    },
    {
      "cell_type": "markdown",
      "metadata": {
        "id": "iLho2sv2pgk9"
      },
      "source": [
        "## Non-arithmetic tensor operations"
      ]
    },
    {
      "cell_type": "markdown",
      "metadata": {
        "id": "ZFfx7ACUbei7"
      },
      "source": [
        "You can also do non-arithmetic operations, like slicing, reshaping and concatenation."
      ]
    },
    {
      "cell_type": "markdown",
      "metadata": {
        "id": "bml81BjOSs77"
      },
      "source": [
        "### Concatenating & Stacking Tensors"
      ]
    },
    {
      "cell_type": "code",
      "execution_count": null,
      "metadata": {
        "id": "qz6r-T2rbdRx",
        "colab": {
          "base_uri": "https://localhost:8080/"
        },
        "outputId": "00f0b283-32a1-4507-906d-56f3d9e0e159"
      },
      "outputs": [
        {
          "output_type": "stream",
          "name": "stdout",
          "text": [
            "m1: tensor([[0., 0., 0., 0.],\n",
            "        [0., 0., 0., 0.],\n",
            "        [0., 0., 0., 0.]]) shape: torch.Size([3, 4])\n",
            "m2: tensor([[1., 1., 1., 1.],\n",
            "        [1., 1., 1., 1.],\n",
            "        [1., 1., 1., 1.]]) shape: torch.Size([3, 4])\n",
            "m3: tensor([[2., 2., 2., 2.],\n",
            "        [2., 2., 2., 2.],\n",
            "        [2., 2., 2., 2.]]) shape: torch.Size([3, 4])\n"
          ]
        }
      ],
      "source": [
        "# Let's make some 2D Tensors:\n",
        "m1 = torch.zeros(3, 4)\n",
        "m2 = torch.ones(3, 4)\n",
        "m3 = torch.ones(3, 4) * 2\n",
        "print(f'm1: {m1} shape: {m1.shape}\\nm2: {m2} shape: {m2.shape}\\nm3: {m3} shape: {m3.shape}')"
      ]
    },
    {
      "cell_type": "markdown",
      "metadata": {
        "id": "jA0tu3I4Hijt"
      },
      "source": [
        "Let's concatenate them over dimension 0:"
      ]
    },
    {
      "cell_type": "code",
      "execution_count": null,
      "metadata": {
        "id": "_XA6P7xgHfwo",
        "colab": {
          "base_uri": "https://localhost:8080/"
        },
        "outputId": "9a412db4-b4c7-4920-d970-edef717d9242"
      },
      "outputs": [
        {
          "output_type": "stream",
          "name": "stdout",
          "text": [
            "Concatenated (dim=0):\n",
            "tensor([[0., 0., 0., 0.],\n",
            "        [0., 0., 0., 0.],\n",
            "        [0., 0., 0., 0.],\n",
            "        [1., 1., 1., 1.],\n",
            "        [1., 1., 1., 1.],\n",
            "        [1., 1., 1., 1.],\n",
            "        [2., 2., 2., 2.],\n",
            "        [2., 2., 2., 2.],\n",
            "        [2., 2., 2., 2.]]) shape: torch.Size([9, 4])\n"
          ]
        }
      ],
      "source": [
        "concat = torch.cat((m1, m2, m3), dim=0)\n",
        "print(f'Concatenated (dim=0):\\n{concat} shape: {concat.shape}')"
      ]
    },
    {
      "cell_type": "markdown",
      "metadata": {
        "id": "s-0906OgHrlA"
      },
      "source": [
        "... or over dimension 1:"
      ]
    },
    {
      "cell_type": "code",
      "execution_count": null,
      "metadata": {
        "id": "TmQumtrtHqZV",
        "colab": {
          "base_uri": "https://localhost:8080/"
        },
        "outputId": "ea04d34c-975f-49c2-bd90-dc73a71a850a"
      },
      "outputs": [
        {
          "output_type": "stream",
          "name": "stdout",
          "text": [
            "Concatenated: (dim=1)\n",
            "tensor([[0., 0., 0., 0., 1., 1., 1., 1., 2., 2., 2., 2.],\n",
            "        [0., 0., 0., 0., 1., 1., 1., 1., 2., 2., 2., 2.],\n",
            "        [0., 0., 0., 0., 1., 1., 1., 1., 2., 2., 2., 2.]]) shape: torch.Size([3, 12])\n"
          ]
        }
      ],
      "source": [
        "concat = torch.cat((m1, m2, m3), dim=1)\n",
        "print(f'Concatenated: (dim=1)\\n{concat} shape: {concat.shape}')"
      ]
    },
    {
      "cell_type": "code",
      "execution_count": null,
      "metadata": {
        "id": "U7XUw1nfWL9j"
      },
      "outputs": [],
      "source": []
    },
    {
      "cell_type": "markdown",
      "metadata": {
        "id": "gBAZmQAEkF0E"
      },
      "source": [
        "**There's a subtle difference between *concatenation* and *stacking*:**\n",
        "\n",
        "Consider three arrays with the following elements: [1, 1], [2, 2], [3, 3]\n",
        "\n",
        "If you *concatenate* them, the resulting array will be [1, 1, 2, 2, 3, 3] (1D - shape, same number of dimensions)\n",
        "\n",
        "If you *stack* them, the resulting array will be [[1, 1], [2, 2], [3, 3]] (2D - shape, additional dimension)"
      ]
    },
    {
      "cell_type": "code",
      "execution_count": null,
      "metadata": {
        "id": "NLEzgL0cj74C",
        "colab": {
          "base_uri": "https://localhost:8080/"
        },
        "outputId": "f1a596bd-2276-41ac-fbc8-730c45b0375f"
      },
      "outputs": [
        {
          "output_type": "stream",
          "name": "stdout",
          "text": [
            "Stacked: (dim=0)\n",
            "tensor([[[0., 0., 0., 0.],\n",
            "         [0., 0., 0., 0.],\n",
            "         [0., 0., 0., 0.]],\n",
            "\n",
            "        [[1., 1., 1., 1.],\n",
            "         [1., 1., 1., 1.],\n",
            "         [1., 1., 1., 1.]],\n",
            "\n",
            "        [[2., 2., 2., 2.],\n",
            "         [2., 2., 2., 2.],\n",
            "         [2., 2., 2., 2.]]]) shape: torch.Size([3, 3, 4])\n"
          ]
        }
      ],
      "source": [
        "# Tensors can also be stacked:\n",
        "stacked = torch.stack((m1, m2, m3))\n",
        "print(f'Stacked: (dim=0)\\n{stacked} shape: {stacked.shape}')\n",
        "# The Stacked tensor has 3 dimensions while the concatenated one has just 2."
      ]
    },
    {
      "cell_type": "markdown",
      "metadata": {
        "id": "VX5fdWVotGFq"
      },
      "source": [
        "### Slicing Tensors"
      ]
    },
    {
      "cell_type": "markdown",
      "metadata": {
        "id": "I5g0D76btzCb"
      },
      "source": [
        "Sometimes you need to select parts of your tensor. This is called *slicing/indexing*. Slicing in PyTorch is done using the `[ ]` operator (same as in NumPy).\n",
        "\n",
        "Let's get back the slices from our stacked Tensor.\n",
        "We're basically indexing the matrices along the first dimension.\n",
        "\n"
      ]
    },
    {
      "cell_type": "code",
      "execution_count": null,
      "metadata": {
        "id": "7xOstJPeqY-x",
        "colab": {
          "base_uri": "https://localhost:8080/"
        },
        "outputId": "9b0ffe03-4e3f-4ca7-ee14-d7e81a73ae50"
      },
      "outputs": [
        {
          "output_type": "stream",
          "name": "stdout",
          "text": [
            "tensor([[0., 0., 0., 0.],\n",
            "        [0., 0., 0., 0.],\n",
            "        [0., 0., 0., 0.]])\n",
            "tensor([[1., 1., 1., 1.],\n",
            "        [1., 1., 1., 1.],\n",
            "        [1., 1., 1., 1.]])\n",
            "tensor([[2., 2., 2., 2.],\n",
            "        [2., 2., 2., 2.],\n",
            "        [2., 2., 2., 2.]])\n"
          ]
        }
      ],
      "source": [
        "first_slice = stacked[0]\n",
        "second_slice = stacked[1]\n",
        "third_slice = stacked[2]\n",
        "print(f'{first_slice}\\n{second_slice}\\n{third_slice}')"
      ]
    },
    {
      "cell_type": "markdown",
      "metadata": {
        "id": "n6iINxcsQk8a"
      },
      "source": [
        "Let's now define a random cube."
      ]
    },
    {
      "cell_type": "code",
      "execution_count": null,
      "metadata": {
        "id": "2zzvZ1ZjW6Zs",
        "colab": {
          "base_uri": "https://localhost:8080/"
        },
        "outputId": "8f5d0812-5371-47a4-960d-0558d4a9db5f"
      },
      "outputs": [
        {
          "output_type": "stream",
          "name": "stdout",
          "text": [
            "tensor([[[0.0943, 0.1143, 0.4121],\n",
            "         [0.5296, 0.8223, 0.9530],\n",
            "         [0.0024, 0.8537, 0.2919]],\n",
            "\n",
            "        [[0.1546, 0.8180, 0.7177],\n",
            "         [0.6653, 0.7047, 0.7064],\n",
            "         [0.1260, 0.4091, 0.9525]],\n",
            "\n",
            "        [[0.7942, 0.0602, 0.1046],\n",
            "         [0.0124, 0.4910, 0.5551],\n",
            "         [0.1460, 0.6578, 0.7053]]])\n"
          ]
        }
      ],
      "source": [
        "cube = torch.rand(3, 3, 3)\n",
        "print(cube)"
      ]
    },
    {
      "cell_type": "markdown",
      "metadata": {
        "id": "KmiCofZKWwTB"
      },
      "source": [
        "To select the central element in the cube, we specify its position (0-indexed) along all dimensions/axes:"
      ]
    },
    {
      "cell_type": "code",
      "execution_count": null,
      "metadata": {
        "id": "o90wNgWAXoP3",
        "colab": {
          "base_uri": "https://localhost:8080/"
        },
        "outputId": "c76914fb-30e8-4dff-91d7-09a1435fd74a"
      },
      "outputs": [
        {
          "output_type": "execute_result",
          "data": {
            "text/plain": [
              "tensor(0.7047)"
            ]
          },
          "metadata": {},
          "execution_count": 51
        }
      ],
      "source": [
        "cube[1,1,1] # second matrix, second row, second column"
      ]
    },
    {
      "cell_type": "markdown",
      "metadata": {
        "id": "akw1bnMtYnAp"
      },
      "source": [
        "To select all the elements from a dimension, you can use `[:]`. Let's get the middle line from the central matrix:"
      ]
    },
    {
      "cell_type": "code",
      "execution_count": null,
      "metadata": {
        "id": "RoRHwhouZYZ6",
        "colab": {
          "base_uri": "https://localhost:8080/"
        },
        "outputId": "22748156-b121-48fd-acd6-2fc9a076ba6d"
      },
      "outputs": [
        {
          "output_type": "execute_result",
          "data": {
            "text/plain": [
              "tensor([0.6653, 0.7047, 0.7064])"
            ]
          },
          "metadata": {},
          "execution_count": 52
        }
      ],
      "source": [
        "cube[1,1,:] # second matrix, second row, all columns"
      ]
    },
    {
      "cell_type": "markdown",
      "metadata": {
        "id": "IyRyutGEZxOz"
      },
      "source": [
        "You can specify ranges by combining `:` and numbers. For instance:\n",
        " - `[:idx]` means all indices up to idx (excluding `idx`)\n",
        " - `[idx:]` means all indices starting from `idx` (including `idx`) all the way to the end\n",
        " - `[left_idx:right_idx]` means all indices starting from `left_idx` to `right_idx`\n",
        "\n",
        "One neat trick to get all elements except for the last one is to use `[:-1]`"
      ]
    },
    {
      "cell_type": "markdown",
      "metadata": {
        "id": "Ga3qdX6_atJa"
      },
      "source": [
        "#### Exercise 1\n",
        "\n",
        " a) TODO: Slice tensor `x` (defined in the code block below) to obtain matrices\n",
        "\n",
        "```\n",
        " A = [[1, 2],\n",
        "      [4, 5],\n",
        "      [7, 8]]\n",
        "```\n",
        "and\n",
        "```\n",
        " B = [[22, 23, 24],\n",
        "      [25, 26, 27]]\n",
        "```\n"
      ]
    },
    {
      "cell_type": "code",
      "execution_count": null,
      "metadata": {
        "colab": {
          "base_uri": "https://localhost:8080/"
        },
        "id": "vImukCmMYMWL",
        "outputId": "9efe36aa-116d-47ca-e0e6-7fe8abeb3a79"
      },
      "outputs": [
        {
          "output_type": "stream",
          "name": "stdout",
          "text": [
            "tensor([[[ 1,  2,  3],\n",
            "         [ 4,  5,  6],\n",
            "         [ 7,  8,  9]],\n",
            "\n",
            "        [[10, 11, 12],\n",
            "         [13, 14, 15],\n",
            "         [16, 17, 18]],\n",
            "\n",
            "        [[19, 20, 21],\n",
            "         [22, 23, 24],\n",
            "         [25, 26, 27]]])\n",
            "A\n",
            "tensor([[1, 2],\n",
            "        [4, 5],\n",
            "        [7, 8]])\n",
            "tensor([[22, 23, 24],\n",
            "        [25, 26, 27]])\n"
          ]
        }
      ],
      "source": [
        "x = torch.arange(1, 28).reshape(3, 3, 3)\n",
        "print(x)\n",
        "A = x[0, :, 0:2]\n",
        "B = x[2, -2:, :]\n",
        "print(\"A\")\n",
        "print(A)\n",
        "print(B)"
      ]
    },
    {
      "cell_type": "markdown",
      "metadata": {
        "id": "XWATLoegYbBD"
      },
      "source": [
        " b) TODO: Use `torch.mm` to multiply `A` and `B`"
      ]
    },
    {
      "cell_type": "code",
      "execution_count": null,
      "metadata": {
        "id": "nYTyxGFnZfui"
      },
      "outputs": [],
      "source": [
        "C = torch.mm(A, B)\n",
        "\n",
        "correct_result = torch.tensor(\n",
        "  [[ 72.,  75.,  78.],\n",
        "  [213., 222., 231.],\n",
        "  [354., 369., 384.]]\n",
        ")\n",
        "assert torch.all(torch.eq(C, correct_result)), \"try again :(\""
      ]
    },
    {
      "cell_type": "code",
      "execution_count": null,
      "metadata": {
        "id": "HpDnna_tYbBJ",
        "colab": {
          "base_uri": "https://localhost:8080/"
        },
        "outputId": "033ade55-e5d5-41ee-d416-224973324875"
      },
      "outputs": [
        {
          "output_type": "stream",
          "name": "stdout",
          "text": [
            "tensor([[[ 1,  2,  3],\n",
            "         [ 4,  5,  6],\n",
            "         [ 7,  8,  9]],\n",
            "\n",
            "        [[10, 11, 12],\n",
            "         [13, 14, 15],\n",
            "         [16, 17, 18]],\n",
            "\n",
            "        [[19, 20, 21],\n",
            "         [22, 23, 24],\n",
            "         [25, 26, 27]]])\n"
          ]
        }
      ],
      "source": [
        "x = torch.arange(1, 28).reshape(3, 3, 3)\n",
        "print(x)"
      ]
    },
    {
      "cell_type": "markdown",
      "metadata": {
        "id": "GoflaFC8S5hq"
      },
      "source": [
        "### Reshaping Tensors"
      ]
    },
    {
      "cell_type": "markdown",
      "metadata": {
        "id": "7D6tXY7bKcVa"
      },
      "source": [
        "Consider the `3x9` Tensor below. Let's reshape it into a cube."
      ]
    },
    {
      "cell_type": "code",
      "execution_count": null,
      "metadata": {
        "id": "3JmmrwaWY8-e",
        "colab": {
          "base_uri": "https://localhost:8080/"
        },
        "outputId": "c7ff072d-2d06-4a81-b0bb-6afbcd3803d9"
      },
      "outputs": [
        {
          "output_type": "stream",
          "name": "stdout",
          "text": [
            "tensor([[0., 0., 0., 1., 1., 1., 2., 2., 2.],\n",
            "        [0., 0., 0., 1., 1., 1., 2., 2., 2.],\n",
            "        [0., 0., 0., 1., 1., 1., 2., 2., 2.]])\n",
            "torch.Size([3, 9])\n"
          ]
        }
      ],
      "source": [
        "x = torch.tensor([[0., 0., 0., 1., 1., 1., 2., 2., 2.],\n",
        "                  [0., 0., 0., 1., 1., 1., 2., 2., 2.],\n",
        "                  [0., 0., 0., 1., 1., 1., 2., 2., 2.]])\n",
        "print(x)\n",
        "print(x.shape)"
      ]
    },
    {
      "cell_type": "code",
      "execution_count": null,
      "metadata": {
        "id": "3ZYOiu4_KZ95",
        "colab": {
          "base_uri": "https://localhost:8080/"
        },
        "outputId": "2a536443-c29a-47fa-f57a-ebe038328d22"
      },
      "outputs": [
        {
          "output_type": "stream",
          "name": "stdout",
          "text": [
            "Before reshape: \n",
            "tensor([[0., 0., 0., 1., 1., 1., 2., 2., 2.],\n",
            "        [0., 0., 0., 1., 1., 1., 2., 2., 2.],\n",
            "        [0., 0., 0., 1., 1., 1., 2., 2., 2.]]), shape: torch.Size([3, 9])\n",
            "After reshape: \n",
            "tensor([[[0., 0., 0.],\n",
            "         [1., 1., 1.],\n",
            "         [2., 2., 2.]],\n",
            "\n",
            "        [[0., 0., 0.],\n",
            "         [1., 1., 1.],\n",
            "         [2., 2., 2.]],\n",
            "\n",
            "        [[0., 0., 0.],\n",
            "         [1., 1., 1.],\n",
            "         [2., 2., 2.]]]), shape: torch.Size([3, 3, 3])\n"
          ]
        }
      ],
      "source": [
        "print(f'Before reshape: \\n{x}, shape: {x.shape}')\n",
        "cube_fst = x.reshape(3, 3, -1)\n",
        "print(f'After reshape: \\n{cube_fst}, shape: {cube_fst.shape}')\n",
        "# Note that we've expanded a 2D tensor onto 3 dimensions!"
      ]
    },
    {
      "cell_type": "markdown",
      "metadata": {
        "id": "t2Oe3qmuNoGj"
      },
      "source": [
        "One caveat is the fact that you can't specify the reshape dimension. For instance, each of the vectors above\n",
        "```\n",
        "[0., 0., 0., 1., 1., 1., 2., 2., 2.]\n",
        "```\n",
        "are reshaped into a `3x3` matrix, and then stacked together.\n",
        "\n",
        "What do you think happens when you reshape the `9x3` transpose of `x` into `3x3x3` cube?"
      ]
    },
    {
      "cell_type": "code",
      "execution_count": null,
      "metadata": {
        "id": "32-J_9h3NzfY",
        "colab": {
          "base_uri": "https://localhost:8080/"
        },
        "outputId": "5374abab-c889-4a80-c330-9ddda8d307d3"
      },
      "outputs": [
        {
          "output_type": "stream",
          "name": "stdout",
          "text": [
            "Before reshape: \n",
            "tensor([[0., 0., 0.],\n",
            "        [0., 0., 0.],\n",
            "        [0., 0., 0.],\n",
            "        [1., 1., 1.],\n",
            "        [1., 1., 1.],\n",
            "        [1., 1., 1.],\n",
            "        [2., 2., 2.],\n",
            "        [2., 2., 2.],\n",
            "        [2., 2., 2.]]), shape: torch.Size([9, 3])\n",
            "After reshape: \n",
            "tensor([[[0., 0., 0.],\n",
            "         [0., 0., 0.],\n",
            "         [0., 0., 0.]],\n",
            "\n",
            "        [[1., 1., 1.],\n",
            "         [1., 1., 1.],\n",
            "         [1., 1., 1.]],\n",
            "\n",
            "        [[2., 2., 2.],\n",
            "         [2., 2., 2.],\n",
            "         [2., 2., 2.]]]), shape: torch.Size([3, 3, 3])\n"
          ]
        }
      ],
      "source": [
        "x_concat = x.transpose(dim0=0, dim1=1)\n",
        "print(f'Before reshape: \\n{x_concat}, shape: {x_concat.shape}')\n",
        "cube_snd = x_concat.reshape(3,3,3)\n",
        "print(f'After reshape: \\n{cube_snd}, shape: {cube_snd.shape}')"
      ]
    },
    {
      "cell_type": "markdown",
      "metadata": {
        "id": "DwAA1wSlwVQU"
      },
      "source": [
        "### Collapsing, squeezing and unsqueezing Tensors\n",
        "Sometimes it's useful to `vectorize` a tensor of dimensions `d1 x d2 x ...` to a single array of length `d1*d2*...`. You can easily do this by calling `reshape(-1)` or `view(-1)`."
      ]
    },
    {
      "cell_type": "code",
      "execution_count": null,
      "metadata": {
        "id": "0Y0TJDStweFv",
        "colab": {
          "base_uri": "https://localhost:8080/"
        },
        "outputId": "d130ad0d-7593-4d68-f3fb-4467ffdeba19"
      },
      "outputs": [
        {
          "output_type": "stream",
          "name": "stdout",
          "text": [
            "Cube: \n",
            " tensor([[[ 1,  2,  3],\n",
            "         [ 4,  5,  6],\n",
            "         [ 7,  8,  9]],\n",
            "\n",
            "        [[10, 11, 12],\n",
            "         [13, 14, 15],\n",
            "         [16, 17, 18]],\n",
            "\n",
            "        [[19, 20, 21],\n",
            "         [22, 23, 24],\n",
            "         [25, 26, 27]]])  shape:  torch.Size([3, 3, 3])\n",
            "Collapsed cube: \n",
            " tensor([ 1,  2,  3,  4,  5,  6,  7,  8,  9, 10, 11, 12, 13, 14, 15, 16, 17, 18,\n",
            "        19, 20, 21, 22, 23, 24, 25, 26, 27])  shape:  torch.Size([27])\n"
          ]
        }
      ],
      "source": [
        "# initialize random cube\n",
        "cube = torch.arange(1,28).reshape(3, 3, 3)\n",
        "print(\"Cube: \\n\", cube, \" shape: \", cube.shape)\n",
        "\n",
        "# collapse cube into a single array:\n",
        "collapsed = cube.reshape(-1)\n",
        "\n",
        "print(\"Collapsed cube: \\n\", collapsed, \" shape: \", collapsed.shape)"
      ]
    },
    {
      "cell_type": "markdown",
      "metadata": {
        "id": "lffhL8TmEeeH"
      },
      "source": [
        "We can also explicitly *squeeze* (remove redundant dimensions) and *unsqueeze* (add redundant dimensions) Tensors.\n",
        "\n",
        "A 1D tensor of shape `5` can be seen as a `1x5` tensor. Analogously, a 2D tensor of shape `5x5` can be seen as a `1x5x5` tensor. This will be extremely helpful when handling *batches* of data (more on that in the next labs)."
      ]
    },
    {
      "cell_type": "code",
      "execution_count": null,
      "metadata": {
        "id": "OcPaStflExDw",
        "colab": {
          "base_uri": "https://localhost:8080/"
        },
        "outputId": "40b0a7a5-eefe-4f99-9dd9-8429d38ae8b6"
      },
      "outputs": [
        {
          "output_type": "stream",
          "name": "stdout",
          "text": [
            "Collapsed:  tensor([ 1,  2,  3,  4,  5,  6,  7,  8,  9, 10, 11, 12, 13, 14, 15, 16, 17, 18,\n",
            "        19, 20, 21, 22, 23, 24, 25, 26, 27]) shape:  torch.Size([27])\n",
            "Unsqueezed:  tensor([[ 1,  2,  3,  4,  5,  6,  7,  8,  9, 10, 11, 12, 13, 14, 15, 16, 17, 18,\n",
            "         19, 20, 21, 22, 23, 24, 25, 26, 27]]) shape:  torch.Size([1, 27])\n",
            "Squeezed:  tensor([ 1,  2,  3,  4,  5,  6,  7,  8,  9, 10, 11, 12, 13, 14, 15, 16, 17, 18,\n",
            "        19, 20, 21, 22, 23, 24, 25, 26, 27]) shape:  torch.Size([27])\n"
          ]
        }
      ],
      "source": [
        "print(\"Collapsed: \", collapsed, \"shape: \", collapsed.shape)\n",
        "\n",
        "# Let's unsqueeze the collapsed tensor (add redundant first dimension)\n",
        "collapsed = collapsed.unsqueeze(0)\n",
        "print(\"Unsqueezed: \", collapsed, \"shape: \", collapsed.shape)\n",
        "\n",
        "# Now, let's squeeze the expanded tensor and get back the initial tensor\n",
        "collapsed = collapsed.squeeze(0)\n",
        "print(\"Squeezed: \", collapsed, \"shape: \", collapsed.shape)"
      ]
    },
    {
      "cell_type": "markdown",
      "metadata": {
        "id": "DFF4zK-f3DRF"
      },
      "source": [
        "### Gathering from Tensors\n",
        "A very useful way to get elements from a Tensor is [`gather()`](https://pytorch.org/docs/stable/torch.html?highlight=gather#torch.gather) - as the name suggests, it is *gathering* values from a tensor `src` along a dimension specified by the `dim` argument. The gathering positions along dimension `dim` are specified by an `index` tensor.\n",
        "\n",
        "![source: stackoverflow](https://i.stack.imgur.com/ZnXZD.png)\n",
        "\n",
        "(**Note that in PyTorch, as opposed to the example above, the indexing starts at 0 for both Tensors and dimensions.)\n",
        "\n",
        "*Image source: [StackOverflow](https://stackoverflow.com/questions/50999977/what-does-the-gather-function-do-in-pytorch-in-layman-terms)*"
      ]
    },
    {
      "cell_type": "code",
      "execution_count": null,
      "metadata": {
        "id": "S2GRlK6x2-ir",
        "colab": {
          "base_uri": "https://localhost:8080/"
        },
        "outputId": "fe80ad61-25d7-4053-cac3-547c592901c2"
      },
      "outputs": [
        {
          "output_type": "stream",
          "name": "stdout",
          "text": [
            "Initial Tensor:\n",
            " tensor([[ 0.4633, -0.4690, -0.7201,  0.0797],\n",
            "        [-0.5391, -0.1069,  0.1136,  0.3666],\n",
            "        [-0.6582, -0.7844, -0.8549, -0.8322]])\n",
            "Gathered Tensor (along dim 0):\n",
            " tensor([[ 0.4633, -0.7844, -0.7201, -0.8322],\n",
            "        [-0.6582, -0.4690,  0.1136,  0.3666]])\n"
          ]
        }
      ],
      "source": [
        "random_tensor = torch.randn(3, 4)\n",
        "print('Initial Tensor:\\n', random_tensor)\n",
        "index = torch.Tensor([[0, 2, 0, 2], [2, 0, 1, 1]]).long()\n",
        "\n",
        "gathered = torch.gather(input=random_tensor, dim=0, index=index)\n",
        "print('Gathered Tensor (along dim 0):\\n', gathered)"
      ]
    },
    {
      "cell_type": "markdown",
      "metadata": {
        "id": "2hoVFR6xI6mM"
      },
      "source": [
        "### Exercise 2: student statistics\n",
        "\n",
        "Here is a table with 26 students, each student is graded for 4 different subjects.\n",
        "\n",
        "\n",
        "| Student || ML | OS | Intro to programming | Data structures |\n",
        "| --- || --- | --- | ---- | ---- |\n",
        "| A || 9 | 8 | 8 | 10 |\n",
        "| B || 6 | 5 | 7 | 7 |\n",
        "| ... ||  |  |  |  |\n",
        "| Z || 10 | 6 | 8 | 9 |"
      ]
    },
    {
      "cell_type": "code",
      "execution_count": null,
      "metadata": {
        "colab": {
          "base_uri": "https://localhost:8080/"
        },
        "id": "6lycrp2bmXmD",
        "outputId": "568c0435-244a-49d4-d0de-15b647b48744"
      },
      "outputs": [
        {
          "output_type": "stream",
          "name": "stdout",
          "text": [
            "Student grades:  tensor([[8, 9, 9, 6],\n",
            "        [7, 6, 8, 7],\n",
            "        [7, 7, 8, 5],\n",
            "        [9, 9, 9, 7],\n",
            "        [5, 9, 8, 7],\n",
            "        [8, 5, 7, 7],\n",
            "        [9, 7, 5, 6],\n",
            "        [6, 9, 5, 9],\n",
            "        [9, 8, 6, 6],\n",
            "        [7, 7, 8, 6],\n",
            "        [7, 9, 7, 5],\n",
            "        [7, 7, 8, 7],\n",
            "        [8, 7, 8, 8],\n",
            "        [9, 7, 5, 8],\n",
            "        [5, 8, 9, 5],\n",
            "        [6, 6, 8, 6],\n",
            "        [7, 9, 8, 9],\n",
            "        [5, 5, 9, 6],\n",
            "        [7, 6, 7, 6],\n",
            "        [7, 9, 9, 5],\n",
            "        [6, 5, 8, 9],\n",
            "        [6, 7, 7, 7],\n",
            "        [8, 5, 9, 9],\n",
            "        [7, 8, 6, 7],\n",
            "        [5, 5, 9, 8],\n",
            "        [7, 8, 7, 7]])\n"
          ]
        }
      ],
      "source": [
        "student_grades = torch.randint(low=5, high=10, size=(26,4))\n",
        "print(\"Student grades: \", student_grades)"
      ]
    },
    {
      "cell_type": "markdown",
      "metadata": {
        "id": "66asuSTdmXmD"
      },
      "source": [
        "We can use torch.gather() to retrive efficiently scores for ML and DS in a single tensor. The index argument of gather has to be of size (* x 2)"
      ]
    },
    {
      "cell_type": "code",
      "execution_count": null,
      "metadata": {
        "colab": {
          "base_uri": "https://localhost:8080/"
        },
        "id": "iGQUb0w3mXmD",
        "outputId": "777cc4c9-d596-4a3b-edff-777496fc17ac"
      },
      "outputs": [
        {
          "output_type": "stream",
          "name": "stdout",
          "text": [
            "ML and DS scores:  tensor([[8, 6],\n",
            "        [7, 7],\n",
            "        [7, 5],\n",
            "        [9, 7],\n",
            "        [5, 7],\n",
            "        [8, 7],\n",
            "        [9, 6],\n",
            "        [6, 9],\n",
            "        [9, 6],\n",
            "        [7, 6],\n",
            "        [7, 5],\n",
            "        [7, 7],\n",
            "        [8, 8],\n",
            "        [9, 8],\n",
            "        [5, 5],\n",
            "        [6, 6],\n",
            "        [7, 9],\n",
            "        [5, 6],\n",
            "        [7, 6],\n",
            "        [7, 5],\n",
            "        [6, 9],\n",
            "        [6, 7],\n",
            "        [8, 9],\n",
            "        [7, 7],\n",
            "        [5, 8],\n",
            "        [7, 7]])\n"
          ]
        }
      ],
      "source": [
        "ml_and_ds_indices = torch.tensor([0, 3])\n",
        "ml_and_ds_scores = torch.gather(\n",
        "    input=student_grades,\n",
        "    index=ml_and_ds_indices.expand(26, -1),\n",
        "    dim=1\n",
        ")\n",
        "print(\"ML and DS scores: \", ml_and_ds_scores)"
      ]
    },
    {
      "cell_type": "markdown",
      "metadata": {
        "id": "Ro_ujKV9mXmE"
      },
      "source": [
        "TODO: compute the standard deviation for the 'Machine Learning' and 'Data Structures' scores above"
      ]
    },
    {
      "cell_type": "code",
      "execution_count": null,
      "metadata": {
        "colab": {
          "base_uri": "https://localhost:8080/"
        },
        "id": "ITT8cQytmXmE",
        "outputId": "352a5b60-6dd5-4a61-cdf3-cf5d7fff50fd"
      },
      "outputs": [
        {
          "output_type": "stream",
          "name": "stdout",
          "text": [
            "Standard deviation for ML and DS:  tensor([1.2649, 1.2866])\n"
          ]
        }
      ],
      "source": [
        "# TODO: compute std for ML and DS scores\n",
        "std_ml_and_ds = torch.std(ml_and_ds_scores.float(), dim = 0)\n",
        "print(\"Standard deviation for ML and DS: \", std_ml_and_ds)"
      ]
    },
    {
      "cell_type": "markdown",
      "metadata": {
        "id": "c3OBjmP6mXmE"
      },
      "source": [
        "Compute the following quantities:\n",
        "1.   the maximum grade of student C\n",
        "2.   the average grade per subject\n",
        "3.   the student with the highest mean grade (print both the student and its grade)\n",
        "4.   retrieve the best 2 scores for each student into a single tensor using [torch.gather()](https://pytorch.org/docs/stable/generated/torch.gather.html#torch-gather) and [torch.topk()](https://pytorch.org/docs/main/generated/torch.topk.html)\n",
        "\n",
        "Try to use the [documentation](https://pytorch.org/docs/stable/torch.html#module-torch) to find the relevant function and correctly call its arguments."
      ]
    },
    {
      "cell_type": "code",
      "execution_count": null,
      "metadata": {
        "colab": {
          "base_uri": "https://localhost:8080/"
        },
        "id": "0aFuPDfVmXmE",
        "outputId": "f91ed18b-b8ae-4539-b494-650b6e4ee61e"
      },
      "outputs": [
        {
          "output_type": "stream",
          "name": "stdout",
          "text": [
            "Max grade of student C:  tensor(7)\n",
            "Average grade per subject:  tensor([7.0000, 6.8462])\n",
            "Students =  ['A', 'B', 'C', 'D', 'E', 'F', 'G', 'H', 'I', 'J', 'K', 'L', 'M', 'N', 'O', 'P', 'Q', 'R', 'S', 'T', 'U', 'V', 'W', 'X', 'Y', 'Z']\n",
            "Student with highest mean grades =  ... A tensor(8)\n",
            "Top 2 grades for each student:\n",
            "tensor([[9, 9],\n",
            "        [8, 7],\n",
            "        [8, 7],\n",
            "        [9, 9],\n",
            "        [9, 8],\n",
            "        [8, 7],\n",
            "        [9, 7],\n",
            "        [9, 9],\n",
            "        [9, 8],\n",
            "        [8, 7],\n",
            "        [9, 7],\n",
            "        [8, 7],\n",
            "        [8, 8],\n",
            "        [9, 8],\n",
            "        [9, 8],\n",
            "        [8, 6],\n",
            "        [9, 9],\n",
            "        [9, 6],\n",
            "        [7, 7],\n",
            "        [9, 9],\n",
            "        [9, 8],\n",
            "        [7, 7],\n",
            "        [9, 9],\n",
            "        [8, 7],\n",
            "        [9, 8],\n",
            "        [8, 7]])\n"
          ]
        }
      ],
      "source": [
        "# TODO:\n",
        "max_grade_student_c = torch.max(ml_and_ds_scores[2])\n",
        "print(\"Max grade of student C: \", max_grade_student_c)\n",
        "\n",
        "# TODO:\n",
        "avg_grade_per_subject = torch.mean(ml_and_ds_scores.float(), dim=0)\n",
        "print(\"Average grade per subject: \", avg_grade_per_subject)\n",
        "\n",
        "# TODO\n",
        "students = [chr(idx) for idx in range(ord('A'), ord('Z') + 1)]\n",
        "student_index = torch.argmax(avg_grade_per_subject)\n",
        "print('Students = ', students)\n",
        "print(\"Student with highest mean grades =  ...\", students[student_index], torch.max(ml_and_ds_scores[student_index]))\n",
        "\n",
        "# TODO: retrieve the best 2 scores for each student into a single tensor using torch.gather() and torch.topk()\n",
        "selected_scores = torch.gather(student_grades, index=torch.topk(student_grades, k=2).indices,dim=1)\n",
        "print(\"Top 2 grades for each student:\")\n",
        "print(selected_scores)"
      ]
    },
    {
      "cell_type": "markdown",
      "metadata": {
        "id": "yQrDSTb7Id-V"
      },
      "source": [
        "### Exercise 3: no more randomness\n",
        "Let's generate:\n",
        " - 3 random float numbers from $N(0, 1)$; you can think of them as parameters of a network\n",
        " - 4 random integers from 1 to 10; You can think of them as the order in which examples from a 10-class dataset will be seen during training\n",
        "\n",
        " We will use the [torch.randn()](https://pytorch.org/docs/stable/generated/torch.randn.html#torch-randn) and the [torch.randint()](https://pytorch.org/docs/stable/generated/torch.randint.html) functions."
      ]
    },
    {
      "cell_type": "code",
      "execution_count": null,
      "metadata": {
        "colab": {
          "base_uri": "https://localhost:8080/"
        },
        "id": "59xFkeotINzg",
        "outputId": "4a1f59bf-58ef-406f-8527-74cb56911886"
      },
      "outputs": [
        {
          "output_type": "stream",
          "name": "stdout",
          "text": [
            "tensor([-0.3647, -0.4610,  0.8369])\n",
            "tensor([1, 6, 4, 8])\n"
          ]
        }
      ],
      "source": [
        "w = torch.randn(3)\n",
        "idx = torch.randint(low=1, high=10, size=(4,))\n",
        "print(w)\n",
        "print(idx)"
      ]
    },
    {
      "cell_type": "markdown",
      "metadata": {
        "id": "VEo_ZEDAJk3y"
      },
      "source": [
        "Now run the previous cell again. What do you notice? Are the numbers the same every time?"
      ]
    },
    {
      "cell_type": "markdown",
      "metadata": {
        "id": "qj_335ypKVE3"
      },
      "source": [
        "The parameters of neural networks are **randomly initialized**. The order in which the examples are iterated through is also random.  \n",
        "\n",
        "In Pytorch this randomness is usually dictated by a seed number (which is used to initialize a [pseudorandom number generator](https://en.wikipedia.org/wiki/Pseudorandom_number_generator)). This seed is *different* every time you run Pytorch code. This means you get different initializations for 2 different runs.\n",
        "\n",
        "To ensure some reproducibility in experiments, it's good to set this seed yourself. Pytorch will then generate the same random numbers every time you use that seed.\n",
        "\n",
        "**TODO**:\n",
        " - set a manual seed below using a torch operation. You can find it described here https://pytorch.org/docs/stable/notes/randomness.html.\n",
        " - run the code several times"
      ]
    },
    {
      "cell_type": "code",
      "execution_count": null,
      "metadata": {
        "colab": {
          "base_uri": "https://localhost:8080/"
        },
        "id": "IoHreZdCIUc2",
        "outputId": "87c02d99-e173-433c-9b31-520f317c2283"
      },
      "outputs": [
        {
          "output_type": "stream",
          "name": "stdout",
          "text": [
            "tensor([ 0.0461,  0.4024, -1.0115])\n",
            "tensor([8, 4, 4, 2])\n"
          ]
        }
      ],
      "source": [
        "# TODO: set random seed using a torch operation.\n",
        "torch.manual_seed(1234)\n",
        "\n",
        "w = torch.randn(3)\n",
        "idx = torch.randint(low=1, high=10, size=(4,))\n",
        "print(w)\n",
        "print(idx)"
      ]
    },
    {
      "cell_type": "markdown",
      "metadata": {
        "id": "nWZZOlefghr4"
      },
      "source": [
        "## Polynomial Linear regression\n",
        "\n",
        "In this section we will compute the closed-form weights $\\textbf{w}$ for linear regression over *polynomial features* and illustrate the concepts of **overfitting** and **underfitting**.\n",
        "\n",
        "![source: stackoverflow](https://encrypted-tbn0.gstatic.com/images?q=tbn%3AANd9GcRSzpMF0I3xnf2T1mOb6hDEdLfWnSG38PF1s_TrDigGeMo0gftR)\n",
        "\n",
        "Training points ($x_n$, $t_n$) shown in blue, learned regression function shown in red. Image source: [Bishop, Chapter 1](http://users.isr.ist.utl.pt/~wurmd/Livros/school/Bishop%20-%20Pattern%20Recognition%20And%20Machine%20Learning%20-%20Springer%20%202006.pdf)\n",
        "\n",
        "### Goal\n",
        "Given points ($x_i^{(train)}$, $t_i^{(train)}$), the goal is to learn a function $y(x, \\textbf{w})$ in order to predict target values $t$ for new points $x$.\n",
        "\n",
        "More specifically, we need to find the weights $\\textbf{w}=[w_0, w_1, ..., w_M]$ of function\n",
        "$$y(x, \\textbf{w})=\\sum_{j=0}^{M}w_j ϕ_j(x)$$ where $ϕ_j(x)=x^j$.\n",
        "\n",
        "### 'Linear' misnomer\n",
        "Even though function $y$ is *linear* in the weights $\\textbf{w}$, we learn more complicated mappings from input to output by applying non-linear basis functions $ϕ$ on input $x$.\n",
        "\n",
        "For instance, let $\\phi_0(x) = 1, \\phi_1(x) = x$ and $\\phi_2(x) = x^2$. The function $y(x,\\textbf{w}) = w_0\\phi_0(x) + w_1\\phi_1(x) + w_2\\phi_2(x) = w_0 + w_1x + w_2x^2$ is quadratic with respect to $x$ but is linear with respect to the weights $w$.\n",
        "\n",
        "### Error function\n",
        "To find $\\textbf{w}$, we minimize the sum-of-squares error function:\n",
        "$$E(\\textbf{w}) = \\frac{1}{2} \\sum_{i=1}^{N} (y(x_i^{(train)}, \\textbf{w}) - t_i^{(train)})^2$$\n",
        "(sum of squared lengths of green bars in the picture above)"
      ]
    },
    {
      "cell_type": "code",
      "execution_count": null,
      "metadata": {
        "id": "vgdr26ZfgVOK"
      },
      "outputs": [],
      "source": [
        "import torch\n",
        "import math\n",
        "from numpy.linalg import lstsq\n",
        "from sklearn.datasets import make_regression\n",
        "from torch.distributions import Uniform, Normal\n",
        "from sklearn.pipeline import make_pipeline\n",
        "from sklearn.linear_model import LinearRegression\n",
        "import matplotlib.pyplot as plt"
      ]
    },
    {
      "cell_type": "markdown",
      "metadata": {
        "id": "248xUpLpPvti"
      },
      "source": [
        "Drag the slider below to set the number of points in our dataset."
      ]
    },
    {
      "cell_type": "code",
      "execution_count": null,
      "metadata": {
        "id": "hWBv7rpdWlWd"
      },
      "outputs": [],
      "source": [
        "# number of dataset points\n",
        "N = 48 #@param {type:\"slider\", min:10, max:100, step:1}"
      ]
    },
    {
      "cell_type": "markdown",
      "metadata": {
        "id": "uCVd1uXkXFo3"
      },
      "source": [
        "Let's generate 100 points $(x_i, y_i)$  from a sine wave and a dataset of **N** noisy points ($x_i^{(train)}$, $t_i^{(train)}$).\n",
        "\n",
        "The dataset points are sine measurements corrupted by Gaussian noise:\n",
        "\n",
        "Let $x_i\\in[0,1]$ and $t_{i}^{(train)} = sine(2πx_{i}^{(train)}) + ε_i$ , where $ε_i$ ~$\\mathcal{N}(μ=0,σ=0.5)$\n",
        "\n"
      ]
    },
    {
      "cell_type": "code",
      "execution_count": null,
      "metadata": {
        "cellView": "both",
        "colab": {
          "base_uri": "https://localhost:8080/",
          "height": 447
        },
        "id": "D6Er81ay1vkH",
        "outputId": "f267db2a-3924-4342-a7eb-bf5860c77a87"
      },
      "outputs": [
        {
          "output_type": "execute_result",
          "data": {
            "text/plain": [
              "<matplotlib.legend.Legend at 0x7cc0d3783190>"
            ]
          },
          "metadata": {},
          "execution_count": 99
        },
        {
          "output_type": "display_data",
          "data": {
            "text/plain": [
              "<Figure size 640x480 with 1 Axes>"
            ],
            "image/png": "[encoded data removed]"
          },
          "metadata": {}
        }
      ],
      "source": [
        "# generate 100 x values on which to evaluate sine\n",
        "x = torch.linspace(0, 1, 100)\n",
        "\n",
        "# generate 100 true sine values\n",
        "y = torch.sin(2 * math.pi * x)\n",
        "\n",
        "# generate Gaussian noise ε for| each data point\n",
        "noise = torch.normal(mean=0.0, std=0.5, size=(N,))\n",
        "\n",
        "# generate dataset points (noisy sine measurements)\n",
        "# t = y + ε\n",
        "x_train = torch.linspace(0, 1, N)\n",
        "t_train = torch.sin(2 * math.pi * x_train) + noise\n",
        "\n",
        "# plot true function and dataset points\n",
        "plt.plot(x,y, color='green', label='true function')\n",
        "plt.scatter(x_train, t_train, marker='o', color='blue', label='data points')\n",
        "plt.legend()"
      ]
    },
    {
      "cell_type": "markdown",
      "metadata": {
        "id": "9gxhe809PK_i"
      },
      "source": [
        "### Exercise 2\n",
        "\n",
        "### Polynomial feature vector\n",
        "\n",
        "An M-degree polynomial feature vector $\\textbf{ϕ}$ for a scalar $x$ is a vector of size **M+1**:\n",
        "\n",
        "$$\\textbf{ϕ} = [ϕ_0(x), ϕ_1(x), ..., ϕ_j(x), ..., ϕ_{M}(x)]$$\n",
        "\n",
        "where the polynomial basis function is $$ϕ_j(x)=x^j$$\n",
        "\n",
        "For instance, a 3-degree polynomial feature vector for $x=3$ is\n",
        "\n",
        "$$\\textbf{ϕ}= [1, 3, 3^2, 3^3] = [1,3, 9, 27]$$\n",
        "\n",
        "We can stack the polynomial feature vectors $\\textbf{ϕ}$ for all training points $x_i$ into an **N x (M+1)** matrix $\\textbf{Φ}$.\n",
        "\n",
        "$$\\textbf{Φ} =\n",
        "  \\begin{pmatrix}\n",
        "    ϕ_0(x_1) & ϕ_1(x_1) & \\cdots & ϕ_{M}(x_1) \\\\\n",
        "    ϕ_0(x_2) & ϕ_1(x_2) & \\cdots & ϕ_{M}(x_2) \\\\\n",
        "    \\vdots  & \\vdots  & \\ddots & \\vdots  \\\\\n",
        "    ϕ_0(x_N) & ϕ_1(x_N) & \\cdots & ϕ_{M}(x_N)\n",
        "  \\end{pmatrix} =\n",
        "  \\begin{pmatrix}\n",
        "    \\textbf{ϕ}(x_1)\\\\\n",
        "    \\textbf{ϕ}(x_2)\\\\\n",
        "    \\vdots\\\\\n",
        "    \\textbf{ϕ}(x_N)\n",
        "  \\end{pmatrix}\n",
        "$$\n",
        "\n",
        "**TODO**: Write the `get_polynomial_features` function, that receives a polynomial degree $M$ and a Tensor with scalars $x_1, x_2, ..., x_N$ and returns the **N x (M+1)** matrix $\\textbf{Φ}$."
      ]
    },
    {
      "cell_type": "code",
      "execution_count": null,
      "metadata": {
        "id": "M5naek7FG9YS"
      },
      "outputs": [],
      "source": [
        "def get_polynomial_features(x: torch.Tensor,\n",
        "                            poly_degree: int) -> torch.Tensor:\n",
        "    \"\"\"\n",
        "    Given N data points, return an N x (M+1) matrix\n",
        "    with M-degree polynomial features for each data point.\n",
        "\n",
        "    For instance, let x = Tensor([2, 3]) and poly_degree = 3.\n",
        "    The returned matrix is Φ = Tensor([[1, 2, 4, 8],\n",
        "                                       [1, 3, 9, 27]])\n",
        "    :param x: tensor with data points\n",
        "    :param poly_degree: polynomial degree (integer)\n",
        "    \"\"\"\n",
        "    # TODO:\n",
        "    Φ = [[x ** i for i in range(poly_degree + 1)] for x in x]\n",
        "    Φ = torch.tensor(Φ)\n",
        "\n",
        "    print(Φ)\n",
        "    # Solution 1: create an empty Tensor, then fill it with the correct values\n",
        "    # ...\n",
        "\n",
        "    # Solution 2: create a list of lists with the correct values, then\n",
        "    # convert it to a Tensor\n",
        "    # ...\n",
        "\n",
        "    assert Φ.shape[-1] == poly_degree + 1, \"wrong feature vector shape\"\n",
        "\n",
        "    return Φ"
      ]
    },
    {
      "cell_type": "markdown",
      "metadata": {
        "id": "gjPpnVdyRuY2"
      },
      "source": [
        "### Closed-form solution for linear regression\n",
        "The linear regression can be rewritten more compactly:\n",
        "$$y(x, \\textbf{w}) = \\sum_{j=0}^{M} w_j ϕ_j(x) = \\textbf{w}^{T}\\textbf{ϕ}(x)$$\n",
        "\n",
        "Minimizing the sum-of-squares function $E(\\textbf{w})$ above leads to the closed-form solution for $\\textbf{w}$:\n",
        "\n",
        "$$\\textbf{w} = (\\textbf{Φ}^{T}\\textbf{Φ})^{-1}\\textbf{Φ}^{T}\\textbf{t} = \\textbf{Φ}^†\\textbf{t}$$\n",
        "\n",
        "where $\\textbf{t}$ contains the target training points\n",
        "$$\\textbf{t} = [t_1^{(train)}, t_2^{(train)}..., t_N^{(train)}]$$\n",
        "\n",
        "\n",
        "$\\textbf{Φ}^†=(\\textbf{Φ}^{T}\\textbf{Φ})^{-1}\\textbf{Φ}^{T}$ is called the [pseudoinverse](https://en.wikipedia.org/wiki/Moore%E2%80%93Penrose_inverse) of matrix $\\textbf{Φ}$\n"
      ]
    },
    {
      "cell_type": "code",
      "execution_count": null,
      "metadata": {
        "id": "sWrWyrf1nW6S"
      },
      "outputs": [],
      "source": [
        "# polynomial degree\n",
        "M = 7 #@param [0, 1, 2, 3, 4, 5, 6, 7, 8, 9] {type:\"raw\"}"
      ]
    },
    {
      "cell_type": "code",
      "execution_count": null,
      "metadata": {
        "id": "aRFzZksX38r1",
        "colab": {
          "base_uri": "https://localhost:8080/",
          "height": 1000
        },
        "outputId": "427e97d1-a22f-4438-df7d-f71079ca0cce"
      },
      "outputs": [
        {
          "output_type": "stream",
          "name": "stdout",
          "text": [
            "tensor([[1.0000e+00, 0.0000e+00, 0.0000e+00, 0.0000e+00, 0.0000e+00, 0.0000e+00,\n",
            "         0.0000e+00, 0.0000e+00],\n",
            "        [1.0000e+00, 2.1277e-02, 4.5269e-04, 9.6318e-06, 2.0493e-07, 4.3602e-09,\n",
            "         9.2771e-11, 1.9739e-12],\n",
            "        [1.0000e+00, 4.2553e-02, 1.8108e-03, 7.7054e-05, 3.2789e-06, 1.3953e-07,\n",
            "         5.9374e-09, 2.5265e-10],\n",
            "        [1.0000e+00, 6.3830e-02, 4.0742e-03, 2.6006e-04, 1.6599e-05, 1.0595e-06,\n",
            "         6.7630e-08, 4.3168e-09],\n",
            "        [1.0000e+00, 8.5106e-02, 7.2431e-03, 6.1643e-04, 5.2462e-05, 4.4649e-06,\n",
            "         3.7999e-07, 3.2340e-08],\n",
            "        [1.0000e+00, 1.0638e-01, 1.1317e-02, 1.2040e-03, 1.2808e-04, 1.3626e-05,\n",
            "         1.4495e-06, 1.5421e-07],\n",
            "        [1.0000e+00, 1.2766e-01, 1.6297e-02, 2.0805e-03, 2.6559e-04, 3.3905e-05,\n",
            "         4.3283e-06, 5.5255e-07],\n",
            "        [1.0000e+00, 1.4894e-01, 2.2182e-02, 3.3037e-03, 4.9204e-04, 7.3283e-05,\n",
            "         1.0914e-05, 1.6256e-06],\n",
            "        [1.0000e+00, 1.7021e-01, 2.8972e-02, 4.9315e-03, 8.3940e-04, 1.4288e-04,\n",
            "         2.4319e-05, 4.1395e-06],\n",
            "        [1.0000e+00, 1.9149e-01, 3.6668e-02, 7.0216e-03, 1.3446e-03, 2.5747e-04,\n",
            "         4.9302e-05, 9.4409e-06],\n",
            "        [1.0000e+00, 2.1277e-01, 4.5269e-02, 9.6318e-03, 2.0493e-03, 4.3602e-04,\n",
            "         9.2771e-05, 1.9739e-05],\n",
            "        [1.0000e+00, 2.3404e-01, 5.4776e-02, 1.2820e-02, 3.0004e-03, 7.0222e-04,\n",
            "         1.6435e-04, 3.8465e-05],\n",
            "        [1.0000e+00, 2.5532e-01, 6.5188e-02, 1.6644e-02, 4.2495e-03, 1.0850e-03,\n",
            "         2.7701e-04, 7.0727e-05],\n",
            "        [1.0000e+00, 2.7660e-01, 7.6505e-02, 2.1161e-02, 5.8530e-03, 1.6189e-03,\n",
            "         4.4779e-04, 1.2386e-04],\n",
            "        [1.0000e+00, 2.9787e-01, 8.8728e-02, 2.6430e-02, 7.8726e-03, 2.3450e-03,\n",
            "         6.9852e-04, 2.0807e-04],\n",
            "        [1.0000e+00, 3.1915e-01, 1.0186e-01, 3.2507e-02, 1.0375e-02, 3.3111e-03,\n",
            "         1.0567e-03, 3.3725e-04],\n",
            "        [1.0000e+00, 3.4043e-01, 1.1589e-01, 3.9452e-02, 1.3430e-02, 4.5720e-03,\n",
            "         1.5564e-03, 5.2985e-04],\n",
            "        [1.0000e+00, 3.6170e-01, 1.3083e-01, 4.7321e-02, 1.7116e-02, 6.1909e-03,\n",
            "         2.2393e-03, 8.0995e-04],\n",
            "        [1.0000e+00, 3.8298e-01, 1.4667e-01, 5.6173e-02, 2.1513e-02, 8.2390e-03,\n",
            "         3.1554e-03, 1.2084e-03],\n",
            "        [1.0000e+00, 4.0426e-01, 1.6342e-01, 6.6064e-02, 2.6707e-02, 1.0796e-02,\n",
            "         4.3645e-03, 1.7644e-03],\n",
            "        [1.0000e+00, 4.2553e-01, 1.8108e-01, 7.7054e-02, 3.2789e-02, 1.3953e-02,\n",
            "         5.9374e-03, 2.5265e-03],\n",
            "        [1.0000e+00, 4.4681e-01, 1.9964e-01, 8.9200e-02, 3.9855e-02, 1.7808e-02,\n",
            "         7.9566e-03, 3.5551e-03],\n",
            "        [1.0000e+00, 4.6809e-01, 2.1910e-01, 1.0256e-01, 4.8006e-02, 2.2471e-02,\n",
            "         1.0518e-02, 4.9235e-03],\n",
            "        [1.0000e+00, 4.8936e-01, 2.3947e-01, 1.1719e-01, 5.7348e-02, 2.8064e-02,\n",
            "         1.3733e-02, 6.7206e-03],\n",
            "        [1.0000e+00, 5.1064e-01, 2.6075e-01, 1.3315e-01, 6.7991e-02, 3.4719e-02,\n",
            "         1.7729e-02, 9.0530e-03],\n",
            "        [1.0000e+00, 5.3191e-01, 2.8293e-01, 1.5050e-01, 8.0051e-02, 4.2580e-02,\n",
            "         2.2649e-02, 1.2047e-02],\n",
            "        [1.0000e+00, 5.5319e-01, 3.0602e-01, 1.6929e-01, 9.3649e-02, 5.1806e-02,\n",
            "         2.8658e-02, 1.5854e-02],\n",
            "        [1.0000e+00, 5.7447e-01, 3.3001e-01, 1.8958e-01, 1.0891e-01, 6.2565e-02,\n",
            "         3.5941e-02, 2.0647e-02],\n",
            "        [1.0000e+00, 5.9574e-01, 3.5491e-01, 2.1144e-01, 1.2596e-01, 7.5041e-02,\n",
            "         4.4706e-02, 2.6633e-02],\n",
            "        [1.0000e+00, 6.1702e-01, 3.8072e-01, 2.3491e-01, 1.4494e-01, 8.9434e-02,\n",
            "         5.5182e-02, 3.4049e-02],\n",
            "        [1.0000e+00, 6.3830e-01, 4.0742e-01, 2.6006e-01, 1.6599e-01, 1.0595e-01,\n",
            "         6.7630e-02, 4.3168e-02],\n",
            "        [1.0000e+00, 6.5957e-01, 4.3504e-01, 2.8694e-01, 1.8926e-01, 1.2483e-01,\n",
            "         8.2335e-02, 5.4306e-02],\n",
            "        [1.0000e+00, 6.8085e-01, 4.6356e-01, 3.1561e-01, 2.1489e-01, 1.4631e-01,\n",
            "         9.9612e-02, 6.7821e-02],\n",
            "        [1.0000e+00, 7.0213e-01, 4.9298e-01, 3.4614e-01, 2.4303e-01, 1.7064e-01,\n",
            "         1.1981e-01, 8.4123e-02],\n",
            "        [1.0000e+00, 7.2340e-01, 5.2331e-01, 3.7857e-01, 2.7386e-01, 1.9811e-01,\n",
            "         1.4331e-01, 1.0367e-01],\n",
            "        [1.0000e+00, 7.4468e-01, 5.5455e-01, 4.1296e-01, 3.0753e-01, 2.2901e-01,\n",
            "         1.7054e-01, 1.2700e-01],\n",
            "        [1.0000e+00, 7.6596e-01, 5.8669e-01, 4.4938e-01, 3.4421e-01, 2.6365e-01,\n",
            "         2.0194e-01, 1.5468e-01],\n",
            "        [1.0000e+00, 7.8723e-01, 6.1974e-01, 4.8788e-01, 3.8407e-01, 3.0236e-01,\n",
            "         2.3803e-01, 1.8738e-01],\n",
            "        [1.0000e+00, 8.0851e-01, 6.5369e-01, 5.2851e-01, 4.2731e-01, 3.4548e-01,\n",
            "         2.7933e-01, 2.2584e-01],\n",
            "        [1.0000e+00, 8.2979e-01, 6.8855e-01, 5.7135e-01, 4.7410e-01, 3.9340e-01,\n",
            "         3.2644e-01, 2.7087e-01],\n",
            "        [1.0000e+00, 8.5106e-01, 7.2431e-01, 6.1643e-01, 5.2462e-01, 4.4649e-01,\n",
            "         3.7999e-01, 3.2340e-01],\n",
            "        [1.0000e+00, 8.7234e-01, 7.6098e-01, 6.6383e-01, 5.7909e-01, 5.0516e-01,\n",
            "         4.4067e-01, 3.8442e-01],\n",
            "        [1.0000e+00, 8.9362e-01, 7.9855e-01, 7.1360e-01, 6.3768e-01, 5.6985e-01,\n",
            "         5.0922e-01, 4.5505e-01],\n",
            "        [1.0000e+00, 9.1489e-01, 8.3703e-01, 7.6579e-01, 7.0062e-01, 6.4099e-01,\n",
            "         5.8644e-01, 5.3653e-01],\n",
            "        [1.0000e+00, 9.3617e-01, 8.7641e-01, 8.2047e-01, 7.6810e-01, 7.1907e-01,\n",
            "         6.7318e-01, 6.3021e-01],\n",
            "        [1.0000e+00, 9.5745e-01, 9.1670e-01, 8.7770e-01, 8.4035e-01, 8.0459e-01,\n",
            "         7.7035e-01, 7.3757e-01],\n",
            "        [1.0000e+00, 9.7872e-01, 9.5790e-01, 9.3752e-01, 9.1757e-01, 8.9805e-01,\n",
            "         8.7894e-01, 8.6024e-01],\n",
            "        [1.0000e+00, 1.0000e+00, 1.0000e+00, 1.0000e+00, 1.0000e+00, 1.0000e+00,\n",
            "         1.0000e+00, 1.0000e+00]])\n",
            "Φ shape =  torch.Size([48, 8])\n",
            "weights (computed by scikit-learn):  tensor([[   0.7377,  -17.3745,  155.6527, -473.5221,  618.5483, -374.2007,\n",
            "          100.8148,  -10.3732]])\n",
            "weights (computed by us): tensor([   0.7376,  -17.3726,  155.6316, -473.4279,  618.3368, -373.9504,\n",
            "         100.6655,  -10.3376])\n",
            "tensor([[1.0000e+00, 0.0000e+00, 0.0000e+00, 0.0000e+00, 0.0000e+00, 0.0000e+00,\n",
            "         0.0000e+00, 0.0000e+00],\n",
            "        [1.0000e+00, 1.0101e-02, 1.0203e-04, 1.0306e-06, 1.0410e-08, 1.0515e-10,\n",
            "         1.0622e-12, 1.0729e-14],\n",
            "        [1.0000e+00, 2.0202e-02, 4.0812e-04, 8.2449e-06, 1.6656e-07, 3.3649e-09,\n",
            "         6.7978e-11, 1.3733e-12],\n",
            "        [1.0000e+00, 3.0303e-02, 9.1827e-04, 2.7826e-05, 8.4323e-07, 2.5552e-08,\n",
            "         7.7431e-10, 2.3464e-11],\n",
            "        [1.0000e+00, 4.0404e-02, 1.6325e-03, 6.5959e-05, 2.6650e-06, 1.0768e-07,\n",
            "         4.3506e-09, 1.7578e-10],\n",
            "        [1.0000e+00, 5.0505e-02, 2.5508e-03, 1.2883e-04, 6.5064e-06, 3.2860e-07,\n",
            "         1.6596e-08, 8.3819e-10],\n",
            "        [1.0000e+00, 6.0606e-02, 3.6731e-03, 2.2261e-04, 1.3492e-05, 8.1767e-07,\n",
            "         4.9556e-08, 3.0034e-09],\n",
            "        [1.0000e+00, 7.0707e-02, 4.9995e-03, 3.5350e-04, 2.4995e-05, 1.7673e-06,\n",
            "         1.2496e-07, 8.8357e-09],\n",
            "        [1.0000e+00, 8.0808e-02, 6.5299e-03, 5.2767e-04, 4.2640e-05, 3.4457e-06,\n",
            "         2.7844e-07, 2.2500e-08],\n",
            "        [1.0000e+00, 9.0909e-02, 8.2645e-03, 7.5131e-04, 6.8301e-05, 6.2092e-06,\n",
            "         5.6447e-07, 5.1316e-08],\n",
            "        [1.0000e+00, 1.0101e-01, 1.0203e-02, 1.0306e-03, 1.0410e-04, 1.0515e-05,\n",
            "         1.0622e-06, 1.0729e-07],\n",
            "        [1.0000e+00, 1.1111e-01, 1.2346e-02, 1.3717e-03, 1.5242e-04, 1.6935e-05,\n",
            "         1.8817e-06, 2.0908e-07],\n",
            "        [1.0000e+00, 1.2121e-01, 1.4692e-02, 1.7809e-03, 2.1587e-04, 2.6166e-05,\n",
            "         3.1716e-06, 3.8443e-07],\n",
            "        [1.0000e+00, 1.3131e-01, 1.7243e-02, 2.2643e-03, 2.9733e-04, 3.9043e-05,\n",
            "         5.1268e-06, 6.7322e-07],\n",
            "        [1.0000e+00, 1.4141e-01, 1.9998e-02, 2.8280e-03, 3.9992e-04, 5.6554e-05,\n",
            "         7.9975e-06, 1.1310e-06],\n",
            "        [1.0000e+00, 1.5152e-01, 2.2957e-02, 3.4783e-03, 5.2702e-04, 7.9851e-05,\n",
            "         1.2099e-05, 1.8331e-06],\n",
            "        [1.0000e+00, 1.6162e-01, 2.6120e-02, 4.2214e-03, 6.8224e-04, 1.1026e-04,\n",
            "         1.7820e-05, 2.8800e-06],\n",
            "        [1.0000e+00, 1.7172e-01, 2.9487e-02, 5.0634e-03, 8.6947e-04, 1.4930e-04,\n",
            "         2.5638e-05, 4.4025e-06],\n",
            "        [1.0000e+00, 1.8182e-01, 3.3058e-02, 6.0105e-03, 1.0928e-03, 1.9869e-04,\n",
            "         3.6126e-05, 6.5684e-06],\n",
            "        [1.0000e+00, 1.9192e-01, 3.6833e-02, 7.0690e-03, 1.3567e-03, 2.6037e-04,\n",
            "         4.9970e-05, 9.5902e-06],\n",
            "        [1.0000e+00, 2.0202e-01, 4.0812e-02, 8.2449e-03, 1.6656e-03, 3.3649e-04,\n",
            "         6.7978e-05, 1.3733e-05],\n",
            "        [1.0000e+00, 2.1212e-01, 4.4995e-02, 9.5445e-03, 2.0246e-03, 4.2946e-04,\n",
            "         9.1097e-05, 1.9324e-05],\n",
            "        [1.0000e+00, 2.2222e-01, 4.9383e-02, 1.0974e-02, 2.4387e-03, 5.4192e-04,\n",
            "         1.2043e-04, 2.6762e-05],\n",
            "        [1.0000e+00, 2.3232e-01, 5.3974e-02, 1.2539e-02, 2.9132e-03, 6.7680e-04,\n",
            "         1.5724e-04, 3.6530e-05],\n",
            "        [1.0000e+00, 2.4242e-01, 5.8770e-02, 1.4247e-02, 3.4539e-03, 8.3730e-04,\n",
            "         2.0298e-04, 4.9208e-05],\n",
            "        [1.0000e+00, 2.5253e-01, 6.3769e-02, 1.6103e-02, 4.0665e-03, 1.0269e-03,\n",
            "         2.5932e-04, 6.5484e-05],\n",
            "        [1.0000e+00, 2.6263e-01, 6.8973e-02, 1.8114e-02, 4.7572e-03, 1.2494e-03,\n",
            "         3.2812e-04, 8.6172e-05],\n",
            "        [1.0000e+00, 2.7273e-01, 7.4380e-02, 2.0286e-02, 5.5324e-03, 1.5088e-03,\n",
            "         4.1150e-04, 1.1223e-04],\n",
            "        [1.0000e+00, 2.8283e-01, 7.9992e-02, 2.2624e-02, 6.3987e-03, 1.8097e-03,\n",
            "         5.1184e-04, 1.4476e-04],\n",
            "        [1.0000e+00, 2.9293e-01, 8.5808e-02, 2.5136e-02, 7.3629e-03, 2.1568e-03,\n",
            "         6.3180e-04, 1.8507e-04],\n",
            "        [1.0000e+00, 3.0303e-01, 9.1827e-02, 2.7826e-02, 8.4323e-03, 2.5552e-03,\n",
            "         7.7431e-04, 2.3464e-04],\n",
            "        [1.0000e+00, 3.1313e-01, 9.8051e-02, 3.0703e-02, 9.6140e-03, 3.0105e-03,\n",
            "         9.4267e-04, 2.9518e-04],\n",
            "        [1.0000e+00, 3.2323e-01, 1.0448e-01, 3.3771e-02, 1.0916e-02, 3.5284e-03,\n",
            "         1.1405e-03, 3.6864e-04],\n",
            "        [1.0000e+00, 3.3333e-01, 1.1111e-01, 3.7037e-02, 1.2346e-02, 4.1152e-03,\n",
            "         1.3717e-03, 4.5725e-04],\n",
            "        [1.0000e+00, 3.4343e-01, 1.1795e-01, 4.0507e-02, 1.3912e-02, 4.7777e-03,\n",
            "         1.6408e-03, 5.6352e-04],\n",
            "        [1.0000e+00, 3.5354e-01, 1.2499e-01, 4.4187e-02, 1.5622e-02, 5.5229e-03,\n",
            "         1.9525e-03, 6.9029e-04],\n",
            "        [1.0000e+00, 3.6364e-01, 1.3223e-01, 4.8084e-02, 1.7485e-02, 6.3582e-03,\n",
            "         2.3121e-03, 8.4076e-04],\n",
            "        [1.0000e+00, 3.7374e-01, 1.3968e-01, 5.2203e-02, 1.9510e-02, 7.2918e-03,\n",
            "         2.7252e-03, 1.0185e-03],\n",
            "        [1.0000e+00, 3.8384e-01, 1.4733e-01, 5.6552e-02, 2.1707e-02, 8.3319e-03,\n",
            "         3.1981e-03, 1.2275e-03],\n",
            "        [1.0000e+00, 3.9394e-01, 1.5519e-01, 6.1135e-02, 2.4083e-02, 9.4874e-03,\n",
            "         3.7375e-03, 1.4723e-03],\n",
            "        [1.0000e+00, 4.0404e-01, 1.6325e-01, 6.5959e-02, 2.6650e-02, 1.0768e-02,\n",
            "         4.3506e-03, 1.7578e-03],\n",
            "        [1.0000e+00, 4.1414e-01, 1.7151e-01, 7.1031e-02, 2.9417e-02, 1.2183e-02,\n",
            "         5.0454e-03, 2.0895e-03],\n",
            "        [1.0000e+00, 4.2424e-01, 1.7998e-01, 7.6356e-02, 3.2393e-02, 1.3743e-02,\n",
            "         5.8302e-03, 2.4734e-03],\n",
            "        [1.0000e+00, 4.3434e-01, 1.8865e-01, 8.1941e-02, 3.5590e-02, 1.5458e-02,\n",
            "         6.7143e-03, 2.9163e-03],\n",
            "        [1.0000e+00, 4.4444e-01, 1.9753e-01, 8.7791e-02, 3.9018e-02, 1.7342e-02,\n",
            "         7.7073e-03, 3.4255e-03],\n",
            "        [1.0000e+00, 4.5455e-01, 2.0661e-01, 9.3914e-02, 4.2688e-02, 1.9404e-02,\n",
            "         8.8199e-03, 4.0090e-03],\n",
            "        [1.0000e+00, 4.6465e-01, 2.1590e-01, 1.0032e-01, 4.6611e-02, 2.1658e-02,\n",
            "         1.0063e-02, 4.6758e-03],\n",
            "        [1.0000e+00, 4.7475e-01, 2.2539e-01, 1.0700e-01, 5.0798e-02, 2.4116e-02,\n",
            "         1.1449e-02, 5.4355e-03],\n",
            "        [1.0000e+00, 4.8485e-01, 2.3508e-01, 1.1398e-01, 5.5262e-02, 2.6794e-02,\n",
            "         1.2991e-02, 6.2986e-03],\n",
            "        [1.0000e+00, 4.9495e-01, 2.4498e-01, 1.2125e-01, 6.0013e-02, 2.9703e-02,\n",
            "         1.4702e-02, 7.2766e-03],\n",
            "        [1.0000e+00, 5.0505e-01, 2.5508e-01, 1.2883e-01, 6.5064e-02, 3.2860e-02,\n",
            "         1.6596e-02, 8.3819e-03],\n",
            "        [1.0000e+00, 5.1515e-01, 2.6538e-01, 1.3671e-01, 7.0427e-02, 3.6281e-02,\n",
            "         1.8690e-02, 9.6282e-03],\n",
            "        [1.0000e+00, 5.2525e-01, 2.7589e-01, 1.4491e-01, 7.6115e-02, 3.9980e-02,\n",
            "         2.0999e-02, 1.1030e-02],\n",
            "        [1.0000e+00, 5.3535e-01, 2.8660e-01, 1.5343e-01, 8.2142e-02, 4.3975e-02,\n",
            "         2.3542e-02, 1.2603e-02],\n",
            "        [1.0000e+00, 5.4545e-01, 2.9752e-01, 1.6228e-01, 8.8519e-02, 4.8283e-02,\n",
            "         2.6336e-02, 1.4365e-02],\n",
            "        [1.0000e+00, 5.5556e-01, 3.0864e-01, 1.7147e-01, 9.5260e-02, 5.2922e-02,\n",
            "         2.9401e-02, 1.6334e-02],\n",
            "        [1.0000e+00, 5.6566e-01, 3.1997e-01, 1.8099e-01, 1.0238e-01, 5.7911e-02,\n",
            "         3.2758e-02, 1.8530e-02],\n",
            "        [1.0000e+00, 5.7576e-01, 3.3150e-01, 1.9086e-01, 1.0989e-01, 6.3270e-02,\n",
            "         3.6428e-02, 2.0974e-02],\n",
            "        [1.0000e+00, 5.8586e-01, 3.4323e-01, 2.0108e-01, 1.1781e-01, 6.9018e-02,\n",
            "         4.0435e-02, 2.3689e-02],\n",
            "        [1.0000e+00, 5.9596e-01, 3.5517e-01, 2.1167e-01, 1.2614e-01, 7.5177e-02,\n",
            "         4.4802e-02, 2.6700e-02],\n",
            "        [1.0000e+00, 6.0606e-01, 3.6731e-01, 2.2261e-01, 1.3492e-01, 8.1767e-02,\n",
            "         4.9556e-02, 3.0034e-02],\n",
            "        [1.0000e+00, 6.1616e-01, 3.7966e-01, 2.3393e-01, 1.4414e-01, 8.8812e-02,\n",
            "         5.4723e-02, 3.3718e-02],\n",
            "        [1.0000e+00, 6.2626e-01, 3.9220e-01, 2.4562e-01, 1.5382e-01, 9.6335e-02,\n",
            "         6.0331e-02, 3.7783e-02],\n",
            "        [1.0000e+00, 6.3636e-01, 4.0496e-01, 2.5770e-01, 1.6399e-01, 1.0436e-01,\n",
            "         6.6410e-02, 4.2261e-02],\n",
            "        [1.0000e+00, 6.4646e-01, 4.1792e-01, 2.7017e-01, 1.7465e-01, 1.1291e-01,\n",
            "         7.2991e-02, 4.7186e-02],\n",
            "        [1.0000e+00, 6.5657e-01, 4.3108e-01, 2.8303e-01, 1.8583e-01, 1.2201e-01,\n",
            "         8.0107e-02, 5.2595e-02],\n",
            "        [1.0000e+00, 6.6667e-01, 4.4444e-01, 2.9630e-01, 1.9753e-01, 1.3169e-01,\n",
            "         8.7792e-02, 5.8528e-02],\n",
            "        [1.0000e+00, 6.7677e-01, 4.5801e-01, 3.0997e-01, 2.0978e-01, 1.4197e-01,\n",
            "         9.6081e-02, 6.5025e-02],\n",
            "        [1.0000e+00, 6.8687e-01, 4.7179e-01, 3.2406e-01, 2.2258e-01, 1.5289e-01,\n",
            "         1.0501e-01, 7.2130e-02],\n",
            "        [1.0000e+00, 6.9697e-01, 4.8577e-01, 3.3856e-01, 2.3597e-01, 1.6446e-01,\n",
            "         1.1463e-01, 7.9891e-02],\n",
            "        [1.0000e+00, 7.0707e-01, 4.9995e-01, 3.5350e-01, 2.4995e-01, 1.7673e-01,\n",
            "         1.2496e-01, 8.8357e-02],\n",
            "        [1.0000e+00, 7.1717e-01, 5.1434e-01, 3.6887e-01, 2.6454e-01, 1.8972e-01,\n",
            "         1.3606e-01, 9.7580e-02],\n",
            "        [1.0000e+00, 7.2727e-01, 5.2893e-01, 3.8467e-01, 2.7976e-01, 2.0346e-01,\n",
            "         1.4797e-01, 1.0762e-01],\n",
            "        [1.0000e+00, 7.3737e-01, 5.4372e-01, 4.0092e-01, 2.9563e-01, 2.1799e-01,\n",
            "         1.6074e-01, 1.1853e-01],\n",
            "        [1.0000e+00, 7.4747e-01, 5.5872e-01, 4.1763e-01, 3.1217e-01, 2.3334e-01,\n",
            "         1.7441e-01, 1.3037e-01],\n",
            "        [1.0000e+00, 7.5758e-01, 5.7392e-01, 4.3479e-01, 3.2939e-01, 2.4953e-01,\n",
            "         1.8904e-01, 1.4321e-01],\n",
            "        [1.0000e+00, 7.6768e-01, 5.8933e-01, 4.5241e-01, 3.4731e-01, 2.6662e-01,\n",
            "         2.0468e-01, 1.5713e-01],\n",
            "        [1.0000e+00, 7.7778e-01, 6.0494e-01, 4.7051e-01, 3.6595e-01, 2.8463e-01,\n",
            "         2.2138e-01, 1.7218e-01],\n",
            "        [1.0000e+00, 7.8788e-01, 6.2075e-01, 4.8908e-01, 3.8533e-01, 3.0360e-01,\n",
            "         2.3920e-01, 1.8846e-01],\n",
            "        [1.0000e+00, 7.9798e-01, 6.3677e-01, 5.0813e-01, 4.0548e-01, 3.2356e-01,\n",
            "         2.5820e-01, 2.0604e-01],\n",
            "        [1.0000e+00, 8.0808e-01, 6.5299e-01, 5.2767e-01, 4.2640e-01, 3.4457e-01,\n",
            "         2.7844e-01, 2.2500e-01],\n",
            "        [1.0000e+00, 8.1818e-01, 6.6942e-01, 5.4771e-01, 4.4813e-01, 3.6665e-01,\n",
            "         2.9998e-01, 2.4544e-01],\n",
            "        [1.0000e+00, 8.2828e-01, 6.8605e-01, 5.6825e-01, 4.7067e-01, 3.8985e-01,\n",
            "         3.2290e-01, 2.6745e-01],\n",
            "        [1.0000e+00, 8.3838e-01, 7.0289e-01, 5.8929e-01, 4.9405e-01, 4.1420e-01,\n",
            "         3.4726e-01, 2.9114e-01],\n",
            "        [1.0000e+00, 8.4848e-01, 7.1993e-01, 6.1085e-01, 5.1829e-01, 4.3976e-01,\n",
            "         3.7313e-01, 3.1660e-01],\n",
            "        [1.0000e+00, 8.5859e-01, 7.3717e-01, 6.3292e-01, 5.4342e-01, 4.6657e-01,\n",
            "         4.0059e-01, 3.4394e-01],\n",
            "        [1.0000e+00, 8.6869e-01, 7.5462e-01, 6.5553e-01, 5.6945e-01, 4.9467e-01,\n",
            "         4.2971e-01, 3.7329e-01],\n",
            "        [1.0000e+00, 8.7879e-01, 7.7227e-01, 6.7866e-01, 5.9640e-01, 5.2411e-01,\n",
            "         4.6058e-01, 4.0475e-01],\n",
            "        [1.0000e+00, 8.8889e-01, 7.9012e-01, 7.0233e-01, 6.2430e-01, 5.5493e-01,\n",
            "         4.9327e-01, 4.3846e-01],\n",
            "        [1.0000e+00, 8.9899e-01, 8.0818e-01, 7.2655e-01, 6.5316e-01, 5.8718e-01,\n",
            "         5.2787e-01, 4.7455e-01],\n",
            "        [1.0000e+00, 9.0909e-01, 8.2645e-01, 7.5131e-01, 6.8301e-01, 6.2092e-01,\n",
            "         5.6447e-01, 5.1316e-01],\n",
            "        [1.0000e+00, 9.1919e-01, 8.4491e-01, 7.7664e-01, 7.1388e-01, 6.5619e-01,\n",
            "         6.0317e-01, 5.5443e-01],\n",
            "        [1.0000e+00, 9.2929e-01, 8.6359e-01, 8.0252e-01, 7.4578e-01, 6.9305e-01,\n",
            "         6.4404e-01, 5.9851e-01],\n",
            "        [1.0000e+00, 9.3939e-01, 8.8246e-01, 8.2898e-01, 7.7874e-01, 7.3154e-01,\n",
            "         6.8721e-01, 6.4556e-01],\n",
            "        [1.0000e+00, 9.4949e-01, 9.0154e-01, 8.5601e-01, 8.1278e-01, 7.7173e-01,\n",
            "         7.3275e-01, 6.9574e-01],\n",
            "        [1.0000e+00, 9.5960e-01, 9.2082e-01, 8.8362e-01, 8.4792e-01, 8.1366e-01,\n",
            "         7.8078e-01, 7.4924e-01],\n",
            "        [1.0000e+00, 9.6970e-01, 9.4031e-01, 9.1182e-01, 8.8419e-01, 8.5739e-01,\n",
            "         8.3141e-01, 8.0622e-01],\n",
            "        [1.0000e+00, 9.7980e-01, 9.6000e-01, 9.4061e-01, 9.2161e-01, 9.0299e-01,\n",
            "         8.8475e-01, 8.6687e-01],\n",
            "        [1.0000e+00, 9.8990e-01, 9.7990e-01, 9.7000e-01, 9.6020e-01, 9.5050e-01,\n",
            "         9.4090e-01, 9.3140e-01],\n",
            "        [1.0000e+00, 1.0000e+00, 1.0000e+00, 1.0000e+00, 1.0000e+00, 1.0000e+00,\n",
            "         1.0000e+00, 1.0000e+00]])\n"
          ]
        },
        {
          "output_type": "execute_result",
          "data": {
            "text/plain": [
              "<matplotlib.legend.Legend at 0x7cc0d0fff9d0>"
            ]
          },
          "metadata": {},
          "execution_count": 118
        },
        {
          "output_type": "display_data",
          "data": {
            "text/plain": [
              "<Figure size 640x480 with 1 Axes>"
            ],
            "image/png": "[encoded data removed]"
          },
          "metadata": {}
        }
      ],
      "source": [
        "# TODO ...\n",
        "# compute polynomial features for data points x_train\n",
        "# N x (M+1) tensor\n",
        "\n",
        "Φ = get_polynomial_features(x_train.unsqueeze(1), M)\n",
        "\n",
        "print(\"Φ shape = \", Φ.shape)\n",
        "\n",
        "# compute pseudo-inverse Φ†\n",
        "# (M+1)xN Tensor\n",
        "pseudo_inverse_auto = torch.pinverse(Φ)\n",
        "\n",
        "# Compute weights w according to closed-form equation\n",
        "# M+1 Tensor\n",
        "w = torch.matmul(pseudo_inverse_auto, t_train)\n",
        "\n",
        "# also learn weights w using scikit-learn module\n",
        "model = LinearRegression(fit_intercept=False)\n",
        "model.fit(Φ, t_train.unsqueeze(1))\n",
        "# M+1 Tensor\n",
        "w_auto = torch.from_numpy(model.coef_)\n",
        "\n",
        "print(\"weights (computed by scikit-learn): \", w_auto)\n",
        "print(\"weights (computed by us):\", w)\n",
        "assert w.shape == torch.Size([M+1]), \"wrong shape\"\n",
        "#assert torch.allclose(w, w_auto, atol=0.1, rtol=0.1), \\\n",
        "#    \"Different regression weights\"\n",
        "\n",
        "# Compute polynomial features for all 100 points\n",
        "# 100 x (M+1) Tensor\n",
        "dataset_features = get_polynomial_features(\n",
        "    x.unsqueeze(1),\n",
        "    poly_degree=M\n",
        ")\n",
        "\n",
        "# predict t=y(x,w)=w*x for all 100 x points, using the\n",
        "# learned weights w\n",
        "# 100 x 1 Tensor\n",
        "y_pred = torch.matmul(dataset_features, w.t())\n",
        "\n",
        "# plot the true sine function\n",
        "plt.ylim(top=2.0, bottom=-2.0)\n",
        "plt.plot(x, y, color='green', label='true function')\n",
        "\n",
        "# plot the learned regression function\n",
        "plt.plot(x, y_pred, color='red', label='linear model (degree %d)' % (M))\n",
        "\n",
        "# plot the dataset points\n",
        "plt.scatter(x_train, t_train, marker='o', color='blue', label='data points')\n",
        "\n",
        "plt.legend()"
      ]
    },
    {
      "cell_type": "markdown",
      "metadata": {
        "id": "4iZ1BR_13jIN"
      },
      "source": [
        "Try several values for the polynomial degree M. You will notice that:\n",
        " - a small polynomial degree (M<3) results in **underfitting** (linear or quadratic polynomials learn a poor representation of sine)\n",
        " - a large value of M results in **overfitting** (model learns to predict the training data points very well, but wildly oscillates and makes large errors on other points)\n",
        "\n"
      ]
    },
    {
      "cell_type": "markdown",
      "metadata": {
        "id": "xan9t3gzBw59"
      },
      "source": [
        "### Closed-form solution for ridge regression\n",
        "\n",
        "To combat **overfitting**, you can either:\n",
        " - increase the number of training points N (not always possible)\n",
        " - add a regularization term $R(\\textbf{w})$ to $E(\\textbf{w})$ to control model complexity\n",
        "\n",
        "The regularized error function for [ridge regression](https://en.wikipedia.org/wiki/Regularized_least_squares) is:\n",
        "$$E'(\\textbf{w}) = E(\\textbf{w}) + \\frac{\\lambda}{2} R(\\textbf{w}) =\\frac{1}{2} \\sum_{i=1}^{N} (y(x_i^{(train)}, \\textbf{w}) - t_i^{(train)})^2 + \\frac{λ}{2}\\textbf{w}^T\\textbf{w}$$\n",
        "\n",
        "We now have 2 sources of errors:\n",
        " - $E(\\textbf{w})$ - large differences between values $y$ predicted by model and train values $t$\n",
        " - $R(\\textbf{w})$ - large weights $\\textbf{w}$\n",
        "\n",
        "Minimizing $E'(\\textbf{w})$ leads to the closed-form solution for $\\textbf{w}$:\n",
        "$$\\textbf{w} = (\\textbf{Φ}^{T}\\textbf{Φ}+λI)^{-1}\\textbf{Φ}^{T}\\textbf{t}$$\n",
        "where λ controls the importance of large weights.\n",
        "\n",
        "A very small λ will increase model 'complexity' (by ignoring errors from large weights $\\textbf{w}$), while a large λ will decrease model 'complexity' (by penalizing large weights $\\textbf{w}$)."
      ]
    },
    {
      "cell_type": "code",
      "execution_count": null,
      "metadata": {
        "id": "RWjGSITjDIgO"
      },
      "outputs": [],
      "source": [
        "# regularization factor\n",
        "λ = 1e-100 #@param [1e-100, 1e-10, 1e-1, 1, 10] {type:\"raw\"}"
      ]
    },
    {
      "cell_type": "code",
      "execution_count": null,
      "metadata": {
        "colab": {
          "base_uri": "https://localhost:8080/",
          "height": 935
        },
        "id": "hgNTlfoNp-Jj",
        "outputId": "78608075-8eb1-4feb-fa58-4f64acb491e3"
      },
      "outputs": [
        {
          "output_type": "stream",
          "name": "stdout",
          "text": [
            "Original least squares weights:  tensor([   0.7376,  -17.3726,  155.6316, -473.4279,  618.3368, -373.9504,\n",
            "         100.6655,  -10.3376])\n",
            "Regularized least squares weights:  tensor([   0.5632,  -12.0350,   98.1769, -226.3542,   97.5295,  192.0675,\n",
            "        -199.6692,   50.0695])\n"
          ]
        },
        {
          "output_type": "display_data",
          "data": {
            "text/plain": [
              "<Figure size 640x480 with 1 Axes>"
            ],
            "image/png": "[encoded data removed]"
          },
          "metadata": {}
        },
        {
          "output_type": "execute_result",
          "data": {
            "text/plain": [
              "<matplotlib.legend.Legend at 0x7cc0d0e91210>"
            ]
          },
          "metadata": {},
          "execution_count": 120
        },
        {
          "output_type": "display_data",
          "data": {
            "text/plain": [
              "<Figure size 640x480 with 1 Axes>"
            ],
            "image/png": "[encoded data removed]"
          },
          "metadata": {}
        }
      ],
      "source": [
        "# compute the \"Φ\" matrix\n",
        "# (M+1)x(M+1) Tensor\n",
        "cov_matrix = torch.matmul(Φ.t(), Φ)\n",
        "assert cov_matrix.shape == torch.Size([M+1, M+1]),\\\n",
        "     \"wrong shape\"\n",
        "\n",
        "# add λ on the diagonal entries of the \"Φ\" matrix\n",
        "# that we computed above\n",
        "cov_diag = cov_matrix + λ * torch.eye(M+1)\n",
        "\n",
        "# compute its inverse\n",
        "# (M+1)x(M+1) Tensor\n",
        "cov_inv = torch.inverse(cov_diag)\n",
        "\n",
        "# (M+1)xN Tensor\n",
        "pseudo_inverse = torch.matmul(\n",
        "    cov_inv,\n",
        "    Φ.t()\n",
        ")\n",
        "\n",
        "# compute regularized least squares weights\n",
        "# M+1 Tensor\n",
        "w_reg = torch.matmul(pseudo_inverse, t_train)\n",
        "print(\"Original least squares weights: \", w)\n",
        "print(\"Regularized least squares weights: \", w_reg)\n",
        "\n",
        "# predict for all points\n",
        "y_pred_reg = torch.matmul(dataset_features, w_reg.t())\n",
        "\n",
        "plt.ylim(top=2.0, bottom=-2.0)\n",
        "\n",
        "# plot the learned regression function\n",
        "plt.plot(x, y, color='green', label='true function')\n",
        "plt.plot(x, y_pred, color='red', label='linear model (degree %d)' % (M))\n",
        "plt.scatter(x_train, t_train, marker='o', color='blue', label='data points')\n",
        "plt.legend()\n",
        "plt.show()\n",
        "\n",
        "# plot the regularized regression function\n",
        "plt.plot(x, y, color='green', label='true function')\n",
        "plt.plot(x, y_pred_reg, color='black', label='regularized model (λ=%f)' % (λ))\n",
        "plt.scatter(x_train, t_train, marker='o', color='blue', label='data points')\n",
        "plt.legend()"
      ]
    },
    {
      "cell_type": "code",
      "execution_count": null,
      "metadata": {
        "id": "BNZBkmhO4OLs"
      },
      "outputs": [],
      "source": []
    },
    {
      "cell_type": "markdown",
      "metadata": {
        "id": "MyOTYbX1D-c-"
      },
      "source": [
        "Notice that:\n",
        " - small values of λ combat the **overfitting**, by reducing the large oscillations in the model\n",
        " - large values of λ lead to **underfitting**, by making the model too 'rigid'"
      ]
    },
    {
      "cell_type": "code",
      "execution_count": null,
      "metadata": {
        "id": "wbB5qKshPnv-"
      },
      "outputs": [],
      "source": [
        "#@title Apache License\n",
        "# Licensed under the Apache License, Version 2.0 (the \"License\");\n",
        "# you may not use this file except in compliance with the License.\n",
        "# You may obtain a copy of the License at\n",
        "#\n",
        "# https://www.apache.org/licenses/LICENSE-2.0\n",
        "#\n",
        "# Unless required by applicable law or agreed to in writing, software\n",
        "# distributed under the License is distributed on an \"AS IS\" BASIS,\n",
        "# WITHOUT WARRANTIES OR CONDITIONS OF ANY KIND, either express or implied.\n",
        "# See the License for the specific language governing permissions and\n",
        "# limitations under the License."
      ]
    },
    {
      "cell_type": "markdown",
      "metadata": {
        "id": "tB9tg50pLBAE"
      },
      "source": [
        "# Part II: Miscellaneous (optional)"
      ]
    },
    {
      "cell_type": "markdown",
      "metadata": {
        "id": "vQkTwKiVLH89"
      },
      "source": [
        "## Broadcasting"
      ]
    },
    {
      "cell_type": "markdown",
      "metadata": {
        "id": "BzT1Hit0LTVn"
      },
      "source": [
        "As you probably know, not every two matrices can be multiplied or added together.\n",
        "\n",
        "We sometimes want a similar behaviour to the basic arithmetical operations with some more *relaxed* conditions. This is where **broadcasting** comes in.\n",
        "\n",
        "Two tensors are *broadcastable* if the following rules hold [[1]]:\n",
        "\n",
        "*   Each tensor has at least one dimension\n",
        "*   When iterating over the dimension sizes, starting at the trailing dimension, the dimension sizes must be either equal, one of them is 1, or one of them does not exist.\n",
        "\n",
        "The following image illustrates some broadcasting examples:\n",
        "\n",
        "![broadcast](https://i.imgur.com/3tYs3HO.png)\n",
        "\n",
        "*Figure adapted from the [Python Data Science Handbook](http://shop.oreilly.com/product/0636920034919.do)*\n",
        "\n",
        "[1]: https://pytorch.org/docs/stable/notes/broadcasting.html\n",
        "\n",
        "*The following code snippets are from the official PyTorch docs on broadcasting [[1]].*"
      ]
    },
    {
      "cell_type": "code",
      "execution_count": null,
      "metadata": {
        "id": "OUP4FoghLSTD"
      },
      "outputs": [],
      "source": [
        "x = torch.empty(5,7,3)\n",
        "y = torch.empty(5,7,3)\n",
        "# same shapes are always broadcastable (i.e. the above rules always hold)\n",
        "\n",
        "x = torch.empty((0,))\n",
        "y = torch.empty(2,2)\n",
        "# x and y are not broadcastable, because x does not have at least 1 dimension\n",
        "\n",
        "# can line up trailing dimensions\n",
        "x = torch.empty(5,3,4,1)\n",
        "y = torch.empty(  3,1,1)\n",
        "# x and y are broadcastable.\n",
        "# 1st trailing dimension: both have size 1\n",
        "# 2nd trailing dimension: y has size 1\n",
        "# 3rd trailing dimension: x size == y size\n",
        "# 4th trailing dimension: y dimension doesn't exist\n",
        "\n",
        "# but:\n",
        "x = torch.empty(5,2,4,1)\n",
        "y = torch.empty(  3,1,1)\n",
        "# x and y are not broadcastable, because in the 3rd trailing dimension 2 != 3"
      ]
    },
    {
      "cell_type": "markdown",
      "metadata": {
        "id": "U1iOWp--PPeP"
      },
      "source": [
        "If two tensors `x`, `y` are \"broadcastable\", the resulting tensor size is calculated as follows [[1]]:\n",
        "\n",
        "*   If the number of dimensions of `x` and `y` are not equal, prepend 1 to the dimensions of the tensor with fewer dimensions to make them equal length.\n",
        "*   Then, for each dimension size, the resulting dimension size is the max of the sizes of `x` and `y` along that dimension.\n",
        "\n",
        "[1]: https://pytorch.org/docs/stable/notes/broadcasting.html"
      ]
    },
    {
      "cell_type": "code",
      "execution_count": null,
      "metadata": {
        "colab": {
          "base_uri": "https://localhost:8080/",
          "height": 34
        },
        "id": "vq3e3oPTPR-V",
        "outputId": "74667769-a94a-481d-c9ad-c4824a73ce92"
      },
      "outputs": [
        {
          "data": {
            "text/plain": [
              "torch.Size([5, 3, 4, 1])"
            ]
          },
          "execution_count": 54,
          "metadata": {
            "tags": []
          },
          "output_type": "execute_result"
        }
      ],
      "source": [
        "# can line up trailing dimensions to make reading easier\n",
        "x = torch.empty(5,1,4,1)\n",
        "y = torch.empty(  3,1,1)\n",
        "(x+y).size()"
      ]
    },
    {
      "cell_type": "markdown",
      "metadata": {
        "id": "C_9dCCZfPUeq"
      },
      "source": [
        "## NumPy Bridge"
      ]
    },
    {
      "cell_type": "markdown",
      "metadata": {
        "id": "dCENorFCPZ1Q"
      },
      "source": [
        "PyTorch has a very useful NumPy (a strong scientific computing library [[1]]) bridge.\n",
        "\n",
        "You can manipulate NumPy arrays and convert them to PyTorch tensors easily:\n",
        "\n",
        "[1]: https://numpy.org/"
      ]
    },
    {
      "cell_type": "code",
      "execution_count": null,
      "metadata": {
        "colab": {
          "base_uri": "https://localhost:8080/"
        },
        "id": "HRVmhyEwPa2J",
        "outputId": "a733d606-8497-41ad-edd4-a9882a350eb6"
      },
      "outputs": [
        {
          "name": "stdout",
          "output_type": "stream",
          "text": [
            "Numpy array:\n",
            "[[0.01403396 0.15682405 0.63644481 0.50401538]\n",
            " [0.83894927 0.80386626 0.66836055 0.52180207]\n",
            " [0.56872629 0.0908505  0.66961978 0.31559491]]\n",
            "Tensor from Numpy array:\n",
            "tensor([[0.0140, 0.1568, 0.6364, 0.5040],\n",
            "        [0.8389, 0.8039, 0.6684, 0.5218],\n",
            "        [0.5687, 0.0909, 0.6696, 0.3156]], dtype=torch.float64)\n",
            "Tensor from Numpy array (constructor):\n",
            "tensor([[0.0140, 0.1568, 0.6364, 0.5040],\n",
            "        [0.8389, 0.8039, 0.6684, 0.5218],\n",
            "        [0.5687, 0.0909, 0.6696, 0.3156]], dtype=torch.float64)\n",
            "Numpy array from Tensor:\n",
            "[[0.01403396 0.15682405 0.63644481 0.50401538]\n",
            " [0.83894927 0.80386626 0.66836055 0.52180207]\n",
            " [0.56872629 0.0908505  0.66961978 0.31559491]]\n"
          ]
        }
      ],
      "source": [
        "import numpy as np\n",
        "\n",
        "# Create a 3x4 random NumPy array\n",
        "np_arr = np.random.rand(3, 4)\n",
        "print(f'Numpy array:\\n{np_arr}')\n",
        "\n",
        "# Convert it to a PyTorch Tensor using torch.from_numpy()\n",
        "np_tens = torch.from_numpy(np_arr)\n",
        "print(f'Tensor from Numpy array:\\n{np_tens}')\n",
        "\n",
        "# You can also use the Tensor constructor\n",
        "np_tens_cnstr = torch.tensor(np_arr)\n",
        "print(f'Tensor from Numpy array (constructor):\\n{np_tens_cnstr}')\n",
        "\n",
        "# To convert back, just use .numpy()\n",
        "back_to_np = np_tens.numpy()\n",
        "print(f'Numpy array from Tensor:\\n{back_to_np}')"
      ]
    },
    {
      "cell_type": "markdown",
      "metadata": {
        "id": "-cEbDNifPc3o"
      },
      "source": [
        "## GPU Acceleration"
      ]
    },
    {
      "cell_type": "markdown",
      "metadata": {
        "id": "ASZ70In2Pntb"
      },
      "source": [
        "PyTorch has a robust GPU acceleration engine that can greatly improve compute times. To move the tensor `T` to the GPU and back, you can use the `.cuda()` and `.cpu()` class member methods."
      ]
    },
    {
      "cell_type": "code",
      "execution_count": null,
      "metadata": {
        "colab": {
          "base_uri": "https://localhost:8080/"
        },
        "id": "I1cMZO1MPpRJ",
        "outputId": "cadcac0f-8ad2-4b72-dbb7-b769bd0622e9"
      },
      "outputs": [
        {
          "name": "stdout",
          "output_type": "stream",
          "text": [
            "Compute engine: cpu\n",
            "Compute engine: cuda:0\n",
            "Compute engine: cpu\n"
          ]
        }
      ],
      "source": [
        "# Tensors are computed on CPU by default\n",
        "x = torch.randn(3,3)\n",
        "print(f'Compute engine: {x.device}')\n",
        "\n",
        "# Move it to GPU:\n",
        "x = x.cuda()\n",
        "print(f'Compute engine: {x.device}')\n",
        "\n",
        "# Move it back to the CPU:\n",
        "x = x.cpu()\n",
        "print(f'Compute engine: {x.device}')"
      ]
    },
    {
      "cell_type": "markdown",
      "metadata": {
        "id": "jqBI3Je0Pqmu"
      },
      "source": [
        "You should be aware of the fact that you can't use both GPU and CPU Tensors together when doing computations. You can have both types of Tensors in memory, but they must agree on the computation engine (GPU or CPU) when \"interacting\" with each other.\n",
        "\n",
        "A useful way of automatically moving PyTorch objects to the GPU engine when available is using the following code snippet:"
      ]
    },
    {
      "cell_type": "code",
      "execution_count": null,
      "metadata": {
        "colab": {
          "base_uri": "https://localhost:8080/"
        },
        "id": "LpkqPHRrPsZD",
        "outputId": "8700a48c-4449-4426-fe13-022f5c2dfa36"
      },
      "outputs": [
        {
          "name": "stdout",
          "output_type": "stream",
          "text": [
            "cuda\n"
          ]
        }
      ],
      "source": [
        "device = torch.device(\"cuda\") if torch.cuda.is_available() else torch.device(\"cpu\")\n",
        "print(device)"
      ]
    },
    {
      "cell_type": "markdown",
      "metadata": {
        "id": "OFNufGeEPt88"
      },
      "source": [
        "Now we can be sure that our tensors will always agree on the computation engine by calling the `.to(device)` member function:"
      ]
    },
    {
      "cell_type": "code",
      "execution_count": null,
      "metadata": {
        "colab": {
          "base_uri": "https://localhost:8080/"
        },
        "id": "3Hgq0kjdPvIj",
        "outputId": "c6b6eb40-37a5-4487-e30d-fa8392a41c95"
      },
      "outputs": [
        {
          "name": "stdout",
          "output_type": "stream",
          "text": [
            "You can't use both cpu and cuda:0 in the same computation.\n",
            "\n",
            "(Engine: cuda) Using .to(device)\n"
          ]
        },
        {
          "data": {
            "text/plain": [
              "tensor([[-1.4060,  1.4716,  3.0267],\n",
              "        [-1.4426, -0.7504, -1.1823],\n",
              "        [ 1.3120,  0.3626,  2.2165]], device='cuda:0')"
            ]
          },
          "execution_count": 63,
          "metadata": {
            "tags": []
          },
          "output_type": "execute_result"
        }
      ],
      "source": [
        "# Won't work:\n",
        "x = torch.randn(3,3).cpu()\n",
        "y = torch.randn(3,3).cuda()\n",
        "try:\n",
        "  x + y\n",
        "except RuntimeError:\n",
        "  print(f\"You can't use both {x.device} and {y.device} in the same computation.\")\n",
        "\n",
        "# Works everytime:\n",
        "print(f'\\n(Engine: {device}) Using .to(device)')\n",
        "x.to(device) + y.to(device)"
      ]
    },
    {
      "cell_type": "markdown",
      "metadata": {
        "id": "5K91s-0iPxLn"
      },
      "source": [
        "We recommend using the `.to(device)` pattern when attaching Tensors and other PyTorch objects to different compute engines.\n",
        "\n",
        "\n",
        "**A quick note on running PyTorch locally:**\n",
        "\n",
        "We strongly recommend using Google Colab for this course, but if you plan on running PyTorch locally, on your own machines, you should know that NVidia GPUs do have the best support from PyTorch. Go through the following instructions [[1]] to install PyTorch locally, on a machine with supported NVidia GPUs.\n",
        "\n",
        "Running PyTorch on AMD hardware is possible, but much slower and with limited support. Follow the ROCm tutorial [[2]] to install PyTorch on a machine with an AMD GPU.\n",
        "\n",
        "[1]: https://pytorch.org/get-started/locally/\n",
        "[2]: https://rocm.github.io/pytorch.html"
      ]
    },
    {
      "cell_type": "code",
      "execution_count": null,
      "metadata": {
        "id": "OBDZ-RC4Qo9N"
      },
      "outputs": [],
      "source": []
    }
  ],
  "metadata": {
    "accelerator": "GPU",
    "colab": {
      "provenance": []
    },
    "kernelspec": {
      "display_name": "Python 3",
      "name": "python3"
    }
  },
  "nbformat": 4,
  "nbformat_minor": 0
}