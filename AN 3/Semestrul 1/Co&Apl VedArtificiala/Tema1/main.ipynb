{
 "cells": [
  {
   "cell_type": "code",
   "execution_count": null,
   "id": "78f61e8d-275e-4053-ad96-99e5e7ddc930",
   "metadata": {},
   "outputs": [],
   "source": [
    "!pip install opencv-python\n",
    "!pip install matplotlib"
   ]
  },
  {
   "cell_type": "code",
   "execution_count": 1,
   "id": "994be86a-219e-41c9-9fc0-e823f9a95b4a",
   "metadata": {},
   "outputs": [],
   "source": [
    "import cv2 as cv\n",
    "import os\n",
    "import numpy as np"
   ]
  },
  {
   "cell_type": "code",
   "execution_count": 361,
   "id": "f48c5039-1131-4986-a141-789a3e84d9a6",
   "metadata": {},
   "outputs": [],
   "source": [
    "folder_imagini = os.getcwd() #Tema1\n",
    "folder_imagini = os.path.join(folder_imagini, 'antrenare') # Tema1/antrenare\n",
    "continut_folder_imagini = [x for x in os.listdir(folder_imagini) if x.endswith('.txt') or x.endswith('.jpg')]\n",
    "\n",
    "def show_image(title, image):\n",
    "    image = cv.resize(image,(0,0), fx=0.25, fy=0.25)\n",
    "    cv.imshow(title,image)\n",
    "    cv.waitKey(0)\n",
    "    cv.destroyAllWindows()\n",
    "\n",
    "def read_image(image_path):\n",
    "    #openCv o citeste ca fiind BGR\n",
    "    img = cv.imread(image_path)\n",
    "    return img.copy()\n",
    "    \n",
    "def apply_hsv_filter(image, l_h, l_s, l_v, u_h, u_s, u_v):\n",
    "    #BGR in BGR out\n",
    "    #h -> hue\n",
    "    #s -> saturation\n",
    "    #v -> value\n",
    "    #l -> low\n",
    "    #h -> high\n",
    "    copie = image.copy()\n",
    "    copie = cv.cvtColor(copie, cv.COLOR_BGR2HSV)\n",
    "    l = np.array([l_h, l_s, l_v])#lower bound pe cele 3 canale\n",
    "    u = np.array([u_h, u_s, u_v])#upper bound pe cele 3 canale\n",
    "    mask_table_hsv = cv.inRange(copie, l, u)\n",
    "    #show_image('masca_hsv', mask_table_hsv)\n",
    "    rez = cv.bitwise_and(copie, copie, mask=mask_table_hsv)\n",
    "    rez = cv.cvtColor(rez, cv.COLOR_HSV2BGR)\n",
    "    return rez\n",
    "\n",
    "def find_contour_positions(edges):\n",
    "    show_image('edge_image', edges)\n",
    "    contours, _ = cv.findContours(edges,  cv.RETR_EXTERNAL, cv.CHAIN_APPROX_SIMPLE)\n",
    "    max_area = 0\n",
    "   \n",
    "    for i in range(len(contours)):\n",
    "        if(len(contours[i]) >3):\n",
    "            possible_top_left = None\n",
    "            possible_bottom_right = None\n",
    "            for point in contours[i].squeeze():\n",
    "                if possible_top_left is None or point[0] + point[1] < possible_top_left[0] + possible_top_left[1]:\n",
    "                    possible_top_left = point\n",
    "\n",
    "                if possible_bottom_right is None or point[0] + point[1] > possible_bottom_right[0] + possible_bottom_right[1] :\n",
    "                    possible_bottom_right = point\n",
    "\n",
    "            diff = np.diff(contours[i].squeeze(), axis = 1)\n",
    "            possible_top_right = contours[i].squeeze()[np.argmin(diff)]\n",
    "            possible_bottom_left = contours[i].squeeze()[np.argmax(diff)]\n",
    "            if cv.contourArea(np.array([[possible_top_left],[possible_top_right],[possible_bottom_right],[possible_bottom_left]])) > max_area:\n",
    "                max_area = cv.contourArea(np.array([[possible_top_left],[possible_top_right],[possible_bottom_right],[possible_bottom_left]]))\n",
    "                top_left = possible_top_left\n",
    "                bottom_right = possible_bottom_right\n",
    "                top_right = possible_top_right\n",
    "                bottom_left = possible_bottom_left\n",
    "\n",
    "    return top_left, top_right, bottom_left, bottom_right"
   ]
  },
  {
   "cell_type": "code",
   "execution_count": 3,
   "id": "4bcbd6c4-8841-44e0-bc74-e9c3ef2fbaf4",
   "metadata": {},
   "outputs": [],
   "source": [
    "#edge detection is susceptible to noise in the image"
   ]
  },
  {
   "cell_type": "code",
   "execution_count": 386,
   "id": "05fa66e9-14a0-422c-a750-201bd9de22f5",
   "metadata": {},
   "outputs": [],
   "source": [
    "def extrage_tabla_joc(imagine):\n",
    "    #in IMAGINE out TABLA DE JOC in BGR(Cu tot cu scrisul Mathable)\n",
    "    original = imagine.copy()\n",
    "    imagine = apply_hsv_filter(imagine, 14, 0, 0, 255, 255, 255)#primul parametru e bun de la 14 in sus\n",
    "    show_image('imagine_dupa_filtru_hsv', imagine)\n",
    "\n",
    "    imagine = cv.cvtColor(imagine, cv.COLOR_BGR2GRAY)\n",
    "    # image_m_blur = cv.medianBlur(imagine, 5)\n",
    "    # image_g_blur = cv.GaussianBlur(image_m_blur, (0,0), 18)\n",
    "    # image_sharpened = cv.addWeighted(image_m_blur, -0.8, image_g_blur, 1.2, 0)\n",
    "    # image_sharpened = image_m_blur\n",
    "    # show_image('imagine_dupa_sharpening', image_m_blur)\n",
    "    \n",
    "    # _, thresh = cv.threshold(image_sharpened, 40, 255, cv.THRESH_BINARY)\n",
    "    # kernel = np.ones((6,6), np.uint8)\n",
    "    # thresh = cv.erode(thresh, kernel)\n",
    "    # show_image('image_thresholded', thresh)\n",
    "\n",
    "    # edges = cv.Canny(thresh, 10, 255)\n",
    "\n",
    "    top_left, top_right, bottom_left, bottom_right = find_contour_positions(imagine)\n",
    "    \n",
    "    image_copy = cv.cvtColor(imagine.copy(),cv.COLOR_GRAY2BGR)\n",
    "    cv.circle(image_copy,tuple(top_left),20,(0,0,255),-1)\n",
    "    cv.circle(image_copy,tuple(top_right),20,(0,0,255),-1)\n",
    "    cv.circle(image_copy,tuple(bottom_left),20,(0,0,255),-1)\n",
    "    cv.circle(image_copy,tuple(bottom_right),20,(0,0,255),-1)\n",
    "    show_image(\"detected corners\",image_copy)\n",
    "\n",
    "    width = top_right[0] - top_left[0] #18x18, each cell will have 80 pixels\n",
    "    height = width\n",
    "    tabla_joc = np.array([top_left, top_right, bottom_right, bottom_left], dtype='float32')\n",
    "    colutri = np.array([[0,0], [width, 0], [width, height], [0,height]], dtype='float32')\n",
    "    M = cv.getPerspectiveTransform(tabla_joc, colutri)\n",
    "    print(imagine.shape)\n",
    "    result = cv.warpPerspective(original, M, (width, height))\n",
    "    crop_image_pixels = 85\n",
    "    return result[crop_image_pixels:result.shape[0] - crop_image_pixels, \n",
    "                    crop_image_pixels:result.shape[1] - crop_image_pixels]\n",
    "\n"
   ]
  },
  {
   "cell_type": "code",
   "execution_count": 387,
   "id": "a842b650-2ad6-4516-8d14-afa0ee34de20",
   "metadata": {},
   "outputs": [],
   "source": [
    "def extrage_careu_joc(imagine):\n",
    "    #in TABLA DE JOC out DOAR CAREUL in BGR(cred)\n",
    "    show_image('imagine_tabla_joc', imagine)\n",
    "\n",
    "    imagine = apply_hsv_filter(imagine, 14, 0, 0, 69, 255, 255)\n",
    "    show_image('imagine_dupa_hsv', imagine)\n",
    "    \n",
    "    imagine = cv.cvtColor(imagine, cv.COLOR_BGR2GRAY)\n",
    "    image_m_blur = cv.medianBlur(imagine, 5)\n",
    "    image_g_blur = cv.GaussianBlur(image_m_blur, (0,0), 5)\n",
    "    image_sharpened = cv.addWeighted(image_m_blur, 1.2, image_g_blur, -0.8, 0)\n",
    "    show_image('image_sharpened', image_sharpened)\n",
    "    _, thresh = cv.threshold(image_sharpened, 0, 255, cv.THRESH_BINARY)\n",
    "\n",
    "    kernel = np.ones((10,10), np.uint8)\n",
    "    thresh = cv.erode(thresh, kernel)\n",
    "    show_image('image_thresholded', thresh)\n",
    "\n",
    "    edges = cv.Canny(thresh, 200, 400)\n",
    "    top_left, top_right, bottom_left, bottom_right = find_contour_positions(edges)\n",
    "    \n",
    "    image_copy = cv.cvtColor(imagine.copy(),cv.COLOR_GRAY2BGR)\n",
    "    cv.circle(image_copy,tuple(top_left),20,(0,0,255),-1)\n",
    "    cv.circle(image_copy,tuple(top_right),20,(0,0,255),-1)\n",
    "    cv.circle(image_copy,tuple(bottom_left),20,(0,0,255),-1)\n",
    "    cv.circle(image_copy,tuple(bottom_right),20,(0,0,255),-1)\n",
    "    show_image(\"detected corners\",image_copy)\n",
    "\n",
    "extrage_careu_joc(tabla)"
   ]
  },
  {
   "cell_type": "code",
   "execution_count": 243,
   "id": "7e89a771-599f-4962-8cdd-e8ee4e9301c2",
   "metadata": {},
   "outputs": [
    {
     "name": "stdout",
     "output_type": "stream",
     "text": [
      "(4080, 3072)\n"
     ]
    }
   ],
   "source": [
    "img = read_image(os.path.join(folder_imagini, 'test.jpg'))\n",
    "tabla = extrage_tabla_joc(img)"
   ]
  },
  {
   "cell_type": "code",
   "execution_count": 252,
   "id": "8370b188-f254-43d2-98fb-0b5077cdc476",
   "metadata": {},
   "outputs": [],
   "source": []
  }
 ],
 "metadata": {
  "kernelspec": {
   "display_name": "Python 3 (ipykernel)",
   "language": "python",
   "name": "python3"
  },
  "language_info": {
   "codemirror_mode": {
    "name": "ipython",
    "version": 3
   },
   "file_extension": ".py",
   "mimetype": "text/x-python",
   "name": "python",
   "nbconvert_exporter": "python",
   "pygments_lexer": "ipython3",
   "version": "3.12.7"
  }
 },
 "nbformat": 4,
 "nbformat_minor": 5
}
