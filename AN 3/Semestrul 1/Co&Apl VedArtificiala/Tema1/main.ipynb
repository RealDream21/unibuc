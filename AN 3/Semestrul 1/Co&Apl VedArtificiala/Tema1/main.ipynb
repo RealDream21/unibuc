{
 "cells": [
  {
   "cell_type": "code",
   "execution_count": null,
   "id": "78f61e8d-275e-4053-ad96-99e5e7ddc930",
   "metadata": {},
   "outputs": [],
   "source": [
    "!pip install opencv-python"
   ]
  },
  {
   "cell_type": "code",
   "execution_count": 4,
   "id": "994be86a-219e-41c9-9fc0-e823f9a95b4a",
   "metadata": {},
   "outputs": [],
   "source": [
    "import cv2\n",
    "import os"
   ]
  },
  {
   "cell_type": "code",
   "execution_count": null,
   "id": "8029cc53-bf26-48a4-8d7c-142051557805",
   "metadata": {},
   "outputs": [],
   "source": [
    "def read_image(filepath):\n",
    "\n",
    "\n",
    "    return "
   ]
  }
 ],
 "metadata": {
  "kernelspec": {
   "display_name": "Python 3 (ipykernel)",
   "language": "python",
   "name": "python3"
  },
  "language_info": {
   "codemirror_mode": {
    "name": "ipython",
    "version": 3
   },
   "file_extension": ".py",
   "mimetype": "text/x-python",
   "name": "python",
   "nbconvert_exporter": "python",
   "pygments_lexer": "ipython3",
   "version": "3.12.7"
  }
 },
 "nbformat": 4,
 "nbformat_minor": 5
}
