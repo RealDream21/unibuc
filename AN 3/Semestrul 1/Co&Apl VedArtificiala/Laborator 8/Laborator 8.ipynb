{
 "cells": [
  {
   "cell_type": "code",
   "execution_count": 5,
   "id": "2ace948d",
   "metadata": {},
   "outputs": [],
   "source": [
    "import cv2 as cv\n",
    "import os\n",
    "import numpy as np"
   ]
  },
  {
   "cell_type": "markdown",
   "id": "61e9edff",
   "metadata": {},
   "source": [
    "## Operatii cu video-uri"
   ]
  },
  {
   "cell_type": "code",
   "execution_count": 7,
   "id": "ec19c5a3",
   "metadata": {},
   "outputs": [],
   "source": [
    "def display_video(video_path, window_name='Video', frame_delay = 25):\n",
    "    cap = cv.VideoCapture(video_path)\n",
    "\n",
    "    if not cap.isOpened():\n",
    "        print(\"Error: Cannot open video.\")\n",
    "        return\n",
    "\n",
    "    while True:\n",
    "        ret, frame = cap.read()\n",
    "        if not ret:\n",
    "            print(\"End of video.\")\n",
    "            break\n",
    "        cv.imshow(window_name, frame)\n",
    "        if cv.waitKey(frame_delay) & 0xFF == ord('q'):\n",
    "            break\n",
    "\n",
    "    cap.release()\n",
    "    cv.destroyAllWindows()\n",
    "video_path = \"highway.mp4\"\n",
    "display_video(video_path)\n"
   ]
  },
  {
   "cell_type": "code",
   "execution_count": 9,
   "id": "4f549e89",
   "metadata": {},
   "outputs": [
    {
     "name": "stdout",
     "output_type": "stream",
     "text": [
      "End of video.\n"
     ]
    }
   ],
   "source": [
    "def extract_frames(video_path, output_folder):\n",
    "    \n",
    "    if not os.path.exists(output_folder):\n",
    "        os.makedirs(output_folder)\n",
    "\n",
    "    cap = cv.VideoCapture(video_path)\n",
    "\n",
    "    if not cap.isOpened():\n",
    "        print(\"Error: Cannot open video.\")\n",
    "        return\n",
    "\n",
    "    frame_count = 0\n",
    "    while True:\n",
    "        ret, frame = cap.read()\n",
    "        if not ret:\n",
    "            print(\"End of video.\")\n",
    "            break\n",
    "        \n",
    "        frame_filename = os.path.join(output_folder, f\"frame_{frame_count:04d}.jpg\")\n",
    "        cv.imwrite(frame_filename, frame)\n",
    "        frame_count += 1\n",
    "\n",
    "    cap.release()\n",
    "\n",
    "video_path = \"highway.mp4\"\n",
    "output_folder = \"frames\"\n",
    "extract_frames(video_path, output_folder)\n"
   ]
  },
  {
   "cell_type": "markdown",
   "id": "316f1924",
   "metadata": {},
   "source": [
    "### Extragerea foreground-ului folosind diferenta dintre frame-uri"
   ]
  },
  {
   "cell_type": "code",
   "execution_count": 13,
   "id": "fc4cb3d2",
   "metadata": {},
   "outputs": [],
   "source": [
    "def foreground_extraction_frame_difference(image_folder, output_video, output_video2, fps= 25):\n",
    "\n",
    "    images = sorted([img for img in os.listdir(image_folder) if img.endswith(('.jpg'))])\n",
    "\n",
    "    first_frame = cv.imread(os.path.join(image_folder, images[0]))\n",
    "\n",
    "    height, width, _ = first_frame.shape\n",
    "    video = cv.VideoWriter(output_video, cv.VideoWriter_fourcc(*'mp4v'), fps, (width, height))\n",
    "    video2 = cv.VideoWriter(output_video2, cv.VideoWriter_fourcc(*'mp4v'), fps, (width, height))\n",
    "    previous_frame = None\n",
    "    for image_name in images:\n",
    "        current_frame = cv.imread(os.path.join(image_folder, image_name))\n",
    "        if previous_frame is not None:\n",
    "            frame_diff = cv.absdiff(current_frame, previous_frame)\n",
    "            gray_diff = cv.cvtColor(frame_diff, cv.COLOR_BGR2GRAY)\n",
    "            _, binary_diff = cv.threshold(gray_diff, 30, 255, cv.THRESH_BINARY)\n",
    "            binary_diff_bgr = cv.cvtColor(binary_diff, cv.COLOR_GRAY2BGR)\n",
    "            video.write(binary_diff_bgr)\n",
    "            binary_diff_color = cv.bitwise_and(current_frame, binary_diff_bgr)\n",
    "            video2.write(binary_diff_color)\n",
    "        previous_frame = current_frame\n",
    "\n",
    "    video.release()\n",
    "    video2.release()\n",
    "\n",
    "image_folder = 'frames'\n",
    "output_video = 'frame_difference.mp4'\n",
    "output_video2 = 'frame_difference_color.mp4'\n",
    "foreground_extraction_frame_difference(image_folder, output_video, output_video2, fps=25)\n"
   ]
  },
  {
   "cell_type": "markdown",
   "id": "fed93112",
   "metadata": {},
   "source": [
    "### Extragerea unei imagini de background"
   ]
  },
  {
   "cell_type": "code",
   "execution_count": 15,
   "id": "6332f4d3",
   "metadata": {},
   "outputs": [],
   "source": [
    "def background_extraction(image_folder, method, k=None, x=None, y=None):\n",
    "    \n",
    "    images = sorted([img for img in os.listdir(image_folder) if img.endswith('.jpg')])\n",
    "    \n",
    "    selected_frames = []\n",
    "    if method == 'mean_first_k':\n",
    "        selected_frames = [cv.imread(os.path.join(image_folder, images[i])) for i in range(k)]\n",
    "    \n",
    "    elif method == 'median_first_k':\n",
    "        selected_frames = [cv.imread(os.path.join(image_folder, images[i])) for i in range(k)]\n",
    "    \n",
    "    elif method == 'mean_range':\n",
    "        selected_frames = [cv.imread(os.path.join(image_folder, images[i])) for i in range(x, y + 1)]\n",
    "    \n",
    "    elif method == 'median_range':\n",
    "        selected_frames = [cv.imread(os.path.join(image_folder, images[i])) for i in range(x, y + 1)]\n",
    "    \n",
    "    else:\n",
    "        raise ValueError(\"Invalid method\")\n",
    "    \n",
    "    \n",
    "    if method.startswith('mean'):\n",
    "        background = np.mean(selected_frames, axis=0).astype(np.uint8)\n",
    "    elif method.startswith('median'):\n",
    "        background = np.median(selected_frames, axis=0).astype(np.uint8)\n",
    "    \n",
    "    return background"
   ]
  },
  {
   "cell_type": "markdown",
   "id": "7f50b275",
   "metadata": {},
   "source": [
    "### Extragerea foreground-ului folosind background fix"
   ]
  },
  {
   "cell_type": "code",
   "execution_count": 26,
   "id": "1e7dcd45",
   "metadata": {},
   "outputs": [],
   "source": [
    "def foreground_extraction_fixed_background(image_folder, method, output_video, output_video2, k=30,x=None,y=None,fps= 25,processing=False):\n",
    "\n",
    "    images = sorted([img for img in os.listdir(image_folder) if img.endswith('.jpg')])\n",
    "\n",
    "    first_frame = cv.imread(os.path.join(image_folder, images[0]))\n",
    "    height, width, _ = first_frame.shape\n",
    "\n",
    "    video = cv.VideoWriter(output_video, cv.VideoWriter_fourcc(*'mp4v'), fps, (width, height))\n",
    "    video2 = cv.VideoWriter(output_video2, cv.VideoWriter_fourcc(*'mp4v'), fps, (width, height))\n",
    "\n",
    "\n",
    "    background = background_extraction(image_folder, method, k, x, y)\n",
    "    for image_name in images:\n",
    "        current_frame = cv.imread(os.path.join(image_folder, image_name))\n",
    "        frame_diff = cv.absdiff(current_frame, background)\n",
    "        gray_diff = cv.cvtColor(frame_diff, cv.COLOR_BGR2GRAY)\n",
    "        _, binary_diff = cv.threshold(gray_diff, 40, 255, cv.THRESH_BINARY)\n",
    "        if processing:\n",
    "            binary_diff = cv.dilate(binary_diff, (5,5))\n",
    "            \n",
    "        binary_diff_bgr = cv.cvtColor(binary_diff, cv.COLOR_GRAY2BGR)\n",
    "        video.write(binary_diff_bgr)\n",
    "        binary_diff_color = cv.bitwise_and(current_frame, binary_diff_bgr)\n",
    "        video2.write(binary_diff_color)\n",
    "\n",
    "    video.release()\n",
    "    video2.release()\n",
    "\n",
    "image_folder = 'frames'\n",
    "output_video = 'mean_k.mp4'\n",
    "output_video2 = 'mean_k_color.mp4'\n",
    "foreground_extraction_fixed_background(image_folder,'mean_range', output_video, output_video2, k=30, x=470,y=480, fps=25, processing=True)\n"
   ]
  },
  {
   "cell_type": "markdown",
   "id": "0f5d09f1",
   "metadata": {},
   "source": [
    "### Extragerea foreground-ului folosind background adaptiv"
   ]
  },
  {
   "cell_type": "code",
   "execution_count": 28,
   "id": "01c8df35",
   "metadata": {},
   "outputs": [],
   "source": [
    "def foreground_extraction_adaptive_background(image_folder, method, output_video, output_video2, k=10,fps= 25,processing=False):\n",
    "\n",
    "    images = sorted([img for img in os.listdir(image_folder) if img.endswith('.jpg')])\n",
    "\n",
    "    first_frame = cv.imread(os.path.join(image_folder, images[0]))\n",
    "    height, width, _ = first_frame.shape\n",
    "\n",
    "    video = cv.VideoWriter(output_video, cv.VideoWriter_fourcc(*'mp4v'), fps, (width, height))\n",
    "    video2 = cv.VideoWriter(output_video2, cv.VideoWriter_fourcc(*'mp4v'), fps, (width, height))\n",
    "\n",
    "    count = k\n",
    "    for image_name in images[k:]:\n",
    "        background = background_extraction(image_folder, method, k, x=count - k, y=count - 1)\n",
    "        current_frame = cv.imread(os.path.join(image_folder, image_name))\n",
    "        frame_diff = cv.absdiff(current_frame, background)\n",
    "        gray_diff = cv.cvtColor(frame_diff, cv.COLOR_BGR2GRAY)\n",
    "        _, binary_diff = cv.threshold(gray_diff, 40, 255, cv.THRESH_BINARY)\n",
    "        count += 1\n",
    "        if processing:\n",
    "            binary_diff = cv.dilate(binary_diff, (5,5))\n",
    "            \n",
    "        binary_diff_bgr = cv.cvtColor(binary_diff, cv.COLOR_GRAY2BGR)\n",
    "        video.write(binary_diff_bgr)\n",
    "        binary_diff_color = cv.bitwise_and(current_frame, binary_diff_bgr)\n",
    "        video2.write(binary_diff_color)\n",
    "    \n",
    "    video.release()\n",
    "    video2.release()\n",
    "\n",
    "image_folder = 'frames'\n",
    "output_video = 'median_adaptive.mp4'\n",
    "output_video2 = 'median_adaptive_color.mp4'\n",
    "foreground_extraction_adaptive_background(image_folder,'median_range', output_video, output_video2,k=10, fps=25, processing=True)\n"
   ]
  },
  {
   "cell_type": "markdown",
   "id": "f6edec22",
   "metadata": {},
   "source": [
    "### Numararea obiectelor din video"
   ]
  },
  {
   "cell_type": "code",
   "execution_count": 30,
   "id": "594baf85",
   "metadata": {},
   "outputs": [],
   "source": [
    "def calculate_iou(bbox1, bbox2):\n",
    "    x1, y1, w1, h1 = bbox1\n",
    "    x2, y2, w2, h2 = bbox2\n",
    "    x_left = max(x1, x2)\n",
    "    y_top = max(y1, y2)\n",
    "    x_right = min(x1 + w1, x2 + w2)\n",
    "    y_bottom = min(y1 + h1, y2 + h2)\n",
    "\n",
    "    if x_right <= x_left or y_bottom <= y_top:\n",
    "        return 0  \n",
    "\n",
    "    intersection_area = (x_right - x_left) * (y_bottom - y_top)\n",
    "    area1 = w1 * h1\n",
    "    area2 = w2 * h2\n",
    "    union_area = area1 + area2 - intersection_area\n",
    "\n",
    "    iou = intersection_area / union_area\n",
    "    return iou"
   ]
  },
  {
   "cell_type": "code",
   "execution_count": 32,
   "id": "224fd156",
   "metadata": {},
   "outputs": [
    {
     "ename": "NameError",
     "evalue": "name 'current_frame' is not defined",
     "output_type": "error",
     "traceback": [
      "\u001b[1;31m---------------------------------------------------------------------------\u001b[0m",
      "\u001b[1;31mNameError\u001b[0m                                 Traceback (most recent call last)",
      "Cell \u001b[1;32mIn[32], line 21\u001b[0m\n\u001b[0;32m     17\u001b[0m total_passed_count \u001b[38;5;241m=\u001b[39m \u001b[38;5;241m0\u001b[39m  \n\u001b[0;32m     19\u001b[0m \u001b[38;5;28;01mfor\u001b[39;00m image_name \u001b[38;5;129;01min\u001b[39;00m images:\n\u001b[1;32m---> 21\u001b[0m     cv\u001b[38;5;241m.\u001b[39mputText(current_frame, \u001b[38;5;124mf\u001b[39m\u001b[38;5;124m'\u001b[39m\u001b[38;5;132;01m{\u001b[39;00mtotal_passed_count\u001b[38;5;132;01m}\u001b[39;00m\u001b[38;5;124m'\u001b[39m, (\u001b[38;5;241m10\u001b[39m, \u001b[38;5;241m30\u001b[39m),\n\u001b[0;32m     22\u001b[0m                cv\u001b[38;5;241m.\u001b[39mFONT_HERSHEY_SIMPLEX, \u001b[38;5;241m1\u001b[39m, (\u001b[38;5;241m255\u001b[39m, \u001b[38;5;241m255\u001b[39m, \u001b[38;5;241m255\u001b[39m), \u001b[38;5;241m2\u001b[39m, cv\u001b[38;5;241m.\u001b[39mLINE_AA) \n\u001b[0;32m     24\u001b[0m     current_frame \u001b[38;5;241m=\u001b[39m cv\u001b[38;5;241m.\u001b[39mimread(os\u001b[38;5;241m.\u001b[39mpath\u001b[38;5;241m.\u001b[39mjoin(image_folder, image_name))\n\u001b[0;32m     25\u001b[0m     frame_diff \u001b[38;5;241m=\u001b[39m cv\u001b[38;5;241m.\u001b[39mabsdiff(current_frame, background)\n",
      "\u001b[1;31mNameError\u001b[0m: name 'current_frame' is not defined"
     ]
    }
   ],
   "source": [
    "image_folder = 'frames'\n",
    "output_video = 'cnt_cars.mp4'\n",
    "output_video2 = 'cnt_cars_color.mp4'\n",
    "fps = 25\n",
    "\n",
    "images = sorted([img for img in os.listdir(image_folder) if img.endswith('.jpg')])\n",
    "\n",
    "first_frame = cv.imread(os.path.join(image_folder, images[0]))\n",
    "height, width, _ = first_frame.shape\n",
    "\n",
    "video = cv.VideoWriter(output_video, cv.VideoWriter_fourcc(*'mp4v'), fps, (width, height))\n",
    "video2 = cv.VideoWriter(output_video2, cv.VideoWriter_fourcc(*'mp4v'), fps, (width, height))\n",
    "\n",
    "background = background_extraction(image_folder, 'median_range', k=30, x=470, y=480)\n",
    "\n",
    "previous_contours = []  \n",
    "total_passed_count = 0  \n",
    "\n",
    "for image_name in images:\n",
    "\n",
    "    cv.putText(current_frame, f'{total_passed_count}', (10, 30),\n",
    "               cv.FONT_HERSHEY_SIMPLEX, 1, (255, 255, 255), 2, cv.LINE_AA) \n",
    "\n",
    "    current_frame = cv.imread(os.path.join(image_folder, image_name))\n",
    "    frame_diff = cv.absdiff(current_frame, background)\n",
    "    gray_diff = cv.cvtColor(frame_diff, cv.COLOR_BGR2GRAY)\n",
    "    _, binary_diff = cv.threshold(gray_diff, 40, 255, cv.THRESH_BINARY)\n",
    "    binary_diff = cv.dilate(binary_diff, (5,5))\n",
    "    binary_diff_bgr = cv.cvtColor(binary_diff, cv.COLOR_GRAY2BGR)\n",
    "    contours = cv.findContours(binary_diff, cv.RETR_EXTERNAL, cv.CHAIN_APPROX_SIMPLE)\n",
    "    mijloc = height//2\n",
    "    cv.line(current_frame, (0, mijloc), (width, mijloc), (0,0,255), 2)\n",
    "    new_contours = []\n",
    "    for contour in contours:\n",
    "        x, y, w, h = cv.boundingRect(contour)\n",
    "        if cv.contourArea(contour) > 700:\n",
    "            center_bbox = y + h//2\n",
    "            if mijloc - 10 <= center_bbox <= mijloc + 10:\n",
    "                is_new = True\n",
    "                for p_contour in previous_contours:\n",
    "                    iou = calculate_iou((x, y, w, h), p_contour)\n",
    "                    if iou > 0.5:\n",
    "                        is_new = False\n",
    "                        break\n",
    "                if is_new:\n",
    "                    total_passed_count += 1\n",
    "                new_contours.append((x, y, w, h))\n",
    "                cv.rectangle(current_frame, (x, y), (x + w, y + h), (0, 255, 0), 2)\n",
    "    previous_contours = new_contours\n",
    "\n",
    "    cv.putText(current_frame, f'{total_passed_count}', (10, 30), cv.FONT_HERSHEY_SIMPLEX, 1, (255, 255, 255), 2, cv.LINE_AA)\n",
    "    \n",
    "    video2.write(current_frame)\n",
    "\n",
    "video.release()\n",
    "video2.release()\n"
   ]
  },
  {
   "cell_type": "code",
   "execution_count": null,
   "id": "862a82b6",
   "metadata": {},
   "outputs": [],
   "source": []
  }
 ],
 "metadata": {
  "kernelspec": {
   "display_name": "Python 3 (ipykernel)",
   "language": "python",
   "name": "python3"
  },
  "language_info": {
   "codemirror_mode": {
    "name": "ipython",
    "version": 3
   },
   "file_extension": ".py",
   "mimetype": "text/x-python",
   "name": "python",
   "nbconvert_exporter": "python",
   "pygments_lexer": "ipython3",
   "version": "3.12.4"
  }
 },
 "nbformat": 4,
 "nbformat_minor": 5
}
