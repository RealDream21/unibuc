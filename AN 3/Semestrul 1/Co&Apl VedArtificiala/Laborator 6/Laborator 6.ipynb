{
 "cells": [
  {
   "cell_type": "code",
   "execution_count": 2,
   "id": "502c42e1",
   "metadata": {},
   "outputs": [],
   "source": [
    "import cv2 as cv\n",
    "import numpy as np\n",
    "import os"
   ]
  },
  {
   "cell_type": "code",
   "execution_count": 3,
   "id": "a3acb222",
   "metadata": {},
   "outputs": [],
   "source": [
    "def show_image(title,image):\n",
    "    image=cv.resize(image,(0,0),fx=0.3,fy=0.3)\n",
    "    cv.imshow(title,image)\n",
    "    cv.waitKey(0)\n",
    "    cv.destroyAllWindows()"
   ]
  },
  {
   "cell_type": "code",
   "execution_count": 14,
   "id": "1d85ce26",
   "metadata": {},
   "outputs": [],
   "source": [
    "def extrage_careu(image):\n",
    "    image = cv.cvtColor(image,cv.COLOR_BGR2GRAY)\n",
    "    image_m_blur = cv.medianBlur(image,3)\n",
    "    image_g_blur = cv.GaussianBlur(image_m_blur, (0, 0), 5) \n",
    "    image_sharpened = cv.addWeighted(image_m_blur, 1.2, image_g_blur, -0.8, 0)\n",
    "    show_image('image_sharpened',image_sharpened)\n",
    "    _, thresh = cv.threshold(image_sharpened, 30, 255, cv.THRESH_BINARY)\n",
    "\n",
    "    kernel = np.ones((3, 3), np.uint8)\n",
    "    thresh = cv.erode(thresh, kernel)\n",
    "    show_image('image_thresholded',thresh)\n",
    "\n",
    "    edges =  cv.Canny(thresh ,200,400)\n",
    "    show_image('edges',edges)\n",
    "    contours, _ = cv.findContours(edges,  cv.RETR_EXTERNAL, cv.CHAIN_APPROX_SIMPLE)\n",
    "    max_area = 0\n",
    "   \n",
    "    for i in range(len(contours)):\n",
    "        if(len(contours[i]) >3):\n",
    "            possible_top_left = None\n",
    "            possible_bottom_right = None\n",
    "            for point in contours[i].squeeze():\n",
    "                if possible_top_left is None or point[0] + point[1] < possible_top_left[0] + possible_top_left[1]:\n",
    "                    possible_top_left = point\n",
    "\n",
    "                if possible_bottom_right is None or point[0] + point[1] > possible_bottom_right[0] + possible_bottom_right[1] :\n",
    "                    possible_bottom_right = point\n",
    "\n",
    "            diff = np.diff(contours[i].squeeze(), axis = 1)\n",
    "            possible_top_right = contours[i].squeeze()[np.argmin(diff)]\n",
    "            possible_bottom_left = contours[i].squeeze()[np.argmax(diff)]\n",
    "            if cv.contourArea(np.array([[possible_top_left],[possible_top_right],[possible_bottom_right],[possible_bottom_left]])) > max_area:\n",
    "                max_area = cv.contourArea(np.array([[possible_top_left],[possible_top_right],[possible_bottom_right],[possible_bottom_left]]))\n",
    "                top_left = possible_top_left\n",
    "                bottom_right = possible_bottom_right\n",
    "                top_right = possible_top_right\n",
    "                bottom_left = possible_bottom_left\n",
    "\n",
    "    width = 810    \n",
    "    height = 810\n",
    "    \n",
    "    image_copy = cv.cvtColor(image.copy(),cv.COLOR_GRAY2BGR)\n",
    "    cv.circle(image_copy,tuple(top_left),20,(0,0,255),-1)\n",
    "    cv.circle(image_copy,tuple(top_right),20,(0,0,255),-1)\n",
    "    cv.circle(image_copy,tuple(bottom_left),20,(0,0,255),-1)\n",
    "    cv.circle(image_copy,tuple(bottom_right),20,(0,0,255),-1)\n",
    "    show_image(\"detected corners\",image_copy)\n",
    "\n",
    "    puzzle = np.array([top_left, top_right, bottom_right, bottom_left],dtype='float32')\n",
    "    destination_puzzle = np.array([[0,0],[width, 0], [width, height], [0, height]], dtype='float32')\n",
    "\n",
    "    q = cv.getPerspectiveTransform(puzzle, destination_puzzle)\n",
    "    #completati codul aici\n",
    "    result = cv.warpPerspective(image, M, (width, height))\n",
    "\n",
    "    result = cv.cvtColor(result, cv.COLOR_GRAY2BGR)\n",
    "    \n",
    "    return result"
   ]
  },
  {
   "cell_type": "code",
   "execution_count": 15,
   "id": "684ecf96",
   "metadata": {},
   "outputs": [
    {
     "ename": "NameError",
     "evalue": "name 'M' is not defined",
     "output_type": "error",
     "traceback": [
      "\u001b[1;31m---------------------------------------------------------------------------\u001b[0m",
      "\u001b[1;31mNameError\u001b[0m                                 Traceback (most recent call last)",
      "Cell \u001b[1;32mIn[15], line 6\u001b[0m\n\u001b[0;32m      4\u001b[0m here \u001b[38;5;241m=\u001b[39m os\u001b[38;5;241m.\u001b[39mpath\u001b[38;5;241m.\u001b[39mjoin(here, \u001b[38;5;124m'\u001b[39m\u001b[38;5;124m01.jpg\u001b[39m\u001b[38;5;124m'\u001b[39m)\n\u001b[0;32m      5\u001b[0m img \u001b[38;5;241m=\u001b[39m cv\u001b[38;5;241m.\u001b[39mimread(here)\n\u001b[1;32m----> 6\u001b[0m result\u001b[38;5;241m=\u001b[39mextrage_careu(img)\n\u001b[0;32m      7\u001b[0m show_image(\u001b[38;5;124m'\u001b[39m\u001b[38;5;124mimg\u001b[39m\u001b[38;5;124m'\u001b[39m,result)\n",
      "Cell \u001b[1;32mIn[14], line 54\u001b[0m, in \u001b[0;36mextrage_careu\u001b[1;34m(image)\u001b[0m\n\u001b[0;32m     52\u001b[0m q \u001b[38;5;241m=\u001b[39m cv\u001b[38;5;241m.\u001b[39mgetPerspectiveTransform(puzzle, destination_puzzle)\n\u001b[0;32m     53\u001b[0m \u001b[38;5;66;03m#completati codul aici\u001b[39;00m\n\u001b[1;32m---> 54\u001b[0m result \u001b[38;5;241m=\u001b[39m cv\u001b[38;5;241m.\u001b[39mwarpPerspective(image, M, (width, height))\n\u001b[0;32m     56\u001b[0m result \u001b[38;5;241m=\u001b[39m cv\u001b[38;5;241m.\u001b[39mcvtColor(result, cv\u001b[38;5;241m.\u001b[39mCOLOR_GRAY2BGR)\n\u001b[0;32m     58\u001b[0m \u001b[38;5;28;01mreturn\u001b[39;00m result\n",
      "\u001b[1;31mNameError\u001b[0m: name 'M' is not defined"
     ]
    }
   ],
   "source": [
    "here = os.getcwd()\n",
    "here = os.path.join(here, 'data')\n",
    "here = os.path.join(here, 'train')\n",
    "here = os.path.join(here, '01.jpg')\n",
    "img = cv.imread(here)\n",
    "result=extrage_careu(img)\n",
    "show_image('img',result)"
   ]
  },
  {
   "cell_type": "code",
   "execution_count": 20,
   "id": "798b51b1-55d0-4523-8e8e-d25c615267e9",
   "metadata": {},
   "outputs": [
    {
     "data": {
      "text/plain": [
       "'C:\\\\Users\\\\Fabi\\\\Desktop\\\\unibuc folder\\\\unibuc\\\\AN 3\\\\Semestrul 1\\\\Co&Apl VedArtificiala\\\\Laborator 6\\\\data\\\\train\\\\01.jpg'"
      ]
     },
     "execution_count": 20,
     "metadata": {},
     "output_type": "execute_result"
    }
   ],
   "source": [
    "here"
   ]
  },
  {
   "cell_type": "code",
   "execution_count": 40,
   "id": "94fe5cea",
   "metadata": {},
   "outputs": [],
   "source": [
    "lines_horizontal=[]\n",
    "for i in range(0,811,90):\n",
    "    l=[]\n",
    "    l.append((0,i))\n",
    "    l.append((809,i))\n",
    "    lines_horizontal.append(l)"
   ]
  },
  {
   "cell_type": "code",
   "execution_count": 42,
   "id": "b64c471f",
   "metadata": {},
   "outputs": [],
   "source": [
    "lines_vertical=[]\n",
    "for i in range(0,811,90):\n",
    "    l=[]\n",
    "    l.append((i,0))\n",
    "    l.append((i,809))\n",
    "    lines_vertical.append(l)"
   ]
  },
  {
   "cell_type": "code",
   "execution_count": 44,
   "id": "004c5de0",
   "metadata": {},
   "outputs": [],
   "source": [
    "img = cv.imread('data/train/01.jpg')\n",
    "result=extrage_careu(img)\n",
    "show_image('img',result)\n",
    "for line in  lines_vertical : \n",
    "    cv.line(result, line[0], line[1], (0, 255, 0), 5)\n",
    "    for line in  lines_horizontal : \n",
    "        cv.line(result, line[0], line[1], (0, 0, 255), 5)\n",
    "show_image('img',result)"
   ]
  },
  {
   "cell_type": "code",
   "execution_count": 72,
   "id": "efeb2c93",
   "metadata": {},
   "outputs": [],
   "source": [
    "def determina_configuratie_careu_ox(thresh,lines_horizontal,lines_vertical):\n",
    "    matrix = np.empty((9,9), dtype='str')\n",
    "    for i in range(len(lines_horizontal)-1):\n",
    "        for j in range(len(lines_vertical)-1):\n",
    "            y_min = lines_vertical[j][0][0] + 20\n",
    "            y_max = lines_vertical[j + 1][1][0] - 20\n",
    "            x_min = lines_horizontal[i][0][1] + 20\n",
    "            x_max = lines_horizontal[i + 1][1][1] - 20\n",
    "            patch = thresh[x_min:x_max, y_min:y_max].copy()\n",
    "\n",
    "            medie = np.mean(patch)\n",
    "            if medie > 0:\n",
    "                matrix[i][j] = 'x'\n",
    "            else:\n",
    "                matrix[i][j] = 'o'\n",
    "    \n",
    "    return matrix"
   ]
  },
  {
   "cell_type": "code",
   "execution_count": 75,
   "id": "1b367418",
   "metadata": {},
   "outputs": [],
   "source": [
    "def vizualizare_configuratie(result,matrix,lines_horizontal,lines_vertical):\n",
    "    for i in range(len(lines_horizontal) - 1):\n",
    "        for j in range(len(lines_vertical) - 1):\n",
    "            y_min = lines_vertical[j][0][0] + 20\n",
    "            y_max = lines_vertical[j + 1][1][0] - 20\n",
    "            x_min = lines_horizontal[i][0][1] + 20\n",
    "            x_max = lines_horizontal[i + 1][1][1] - 20\n",
    "            if matrix[i][j] == 'x': \n",
    "                cv.rectangle(result, (y_min, x_min), (y_max, x_max), color=(255, 0, 0), thickness=5)"
   ]
  },
  {
   "cell_type": "code",
   "execution_count": 93,
   "id": "49438125-51e6-4ed6-a680-cfa03eba3f12",
   "metadata": {},
   "outputs": [
    {
     "ename": "KeyboardInterrupt",
     "evalue": "",
     "output_type": "error",
     "traceback": [
      "\u001b[1;31m---------------------------------------------------------------------------\u001b[0m",
      "\u001b[1;31mKeyboardInterrupt\u001b[0m                         Traceback (most recent call last)",
      "Cell \u001b[1;32mIn[93], line 5\u001b[0m\n\u001b[0;32m      3\u001b[0m \u001b[38;5;28;01mif\u001b[39;00m file[\u001b[38;5;241m-\u001b[39m\u001b[38;5;241m3\u001b[39m:] \u001b[38;5;241m==\u001b[39m \u001b[38;5;124m'\u001b[39m\u001b[38;5;124mjpg\u001b[39m\u001b[38;5;124m'\u001b[39m:\n\u001b[0;32m      4\u001b[0m     img \u001b[38;5;241m=\u001b[39m cv\u001b[38;5;241m.\u001b[39mimread(\u001b[38;5;124m'\u001b[39m\u001b[38;5;124mdata/train/\u001b[39m\u001b[38;5;124m'\u001b[39m \u001b[38;5;241m+\u001b[39m file)\n\u001b[1;32m----> 5\u001b[0m     result \u001b[38;5;241m=\u001b[39m extrage_careu(img)\n\u001b[0;32m      6\u001b[0m     _, thresh \u001b[38;5;241m=\u001b[39m cv\u001b[38;5;241m.\u001b[39mthreshold(result, \u001b[38;5;241m100\u001b[39m, \u001b[38;5;241m255\u001b[39m, cv\u001b[38;5;241m.\u001b[39mTHRESH_BINARY_INV)\n\u001b[0;32m      7\u001b[0m     matrice \u001b[38;5;241m=\u001b[39m determina_configuratie_careu_ox(thresh, lines_horizontal, lines_vertical)\n",
      "Cell \u001b[1;32mIn[25], line 6\u001b[0m, in \u001b[0;36mextrage_careu\u001b[1;34m(image)\u001b[0m\n\u001b[0;32m      4\u001b[0m image_g_blur \u001b[38;5;241m=\u001b[39m cv\u001b[38;5;241m.\u001b[39mGaussianBlur(image_m_blur, (\u001b[38;5;241m0\u001b[39m, \u001b[38;5;241m0\u001b[39m), \u001b[38;5;241m5\u001b[39m) \n\u001b[0;32m      5\u001b[0m image_sharpened \u001b[38;5;241m=\u001b[39m cv\u001b[38;5;241m.\u001b[39maddWeighted(image_m_blur, \u001b[38;5;241m1.2\u001b[39m, image_g_blur, \u001b[38;5;241m-\u001b[39m\u001b[38;5;241m0.8\u001b[39m, \u001b[38;5;241m0\u001b[39m)\n\u001b[1;32m----> 6\u001b[0m show_image(\u001b[38;5;124m'\u001b[39m\u001b[38;5;124mimage_sharpened\u001b[39m\u001b[38;5;124m'\u001b[39m,image_sharpened)\n\u001b[0;32m      7\u001b[0m _, thresh \u001b[38;5;241m=\u001b[39m cv\u001b[38;5;241m.\u001b[39mthreshold(image_sharpened, \u001b[38;5;241m30\u001b[39m, \u001b[38;5;241m255\u001b[39m, cv\u001b[38;5;241m.\u001b[39mTHRESH_BINARY)\n\u001b[0;32m      9\u001b[0m kernel \u001b[38;5;241m=\u001b[39m np\u001b[38;5;241m.\u001b[39mones((\u001b[38;5;241m3\u001b[39m, \u001b[38;5;241m3\u001b[39m), np\u001b[38;5;241m.\u001b[39muint8)\n",
      "Cell \u001b[1;32mIn[4], line 4\u001b[0m, in \u001b[0;36mshow_image\u001b[1;34m(title, image)\u001b[0m\n\u001b[0;32m      2\u001b[0m image\u001b[38;5;241m=\u001b[39mcv\u001b[38;5;241m.\u001b[39mresize(image,(\u001b[38;5;241m0\u001b[39m,\u001b[38;5;241m0\u001b[39m),fx\u001b[38;5;241m=\u001b[39m\u001b[38;5;241m0.3\u001b[39m,fy\u001b[38;5;241m=\u001b[39m\u001b[38;5;241m0.3\u001b[39m)\n\u001b[0;32m      3\u001b[0m cv\u001b[38;5;241m.\u001b[39mimshow(title,image)\n\u001b[1;32m----> 4\u001b[0m cv\u001b[38;5;241m.\u001b[39mwaitKey(\u001b[38;5;241m0\u001b[39m)\n\u001b[0;32m      5\u001b[0m cv\u001b[38;5;241m.\u001b[39mdestroyAllWindows()\n",
      "\u001b[1;31mKeyboardInterrupt\u001b[0m: "
     ]
    }
   ],
   "source": [
    "files = os.listdir('data/train')\n",
    "for file in files:\n",
    "    if file[-3:] == 'jpg':\n",
    "        img = cv.imread('data/train/' + file)\n",
    "        result = extrage_careu(img)\n",
    "        _, thresh = cv.threshold(result, 100, 255, cv.THRESH_BINARY_INV)\n",
    "        matrice = determina_configuratie_careu_ox(thresh, lines_horizontal, lines_vertical)\n",
    "        vizualizare_configuratie(result, matrice, lines_horizontal, lines_vertical)\n",
    "        show_image('img' + file, result)\n",
    "        "
   ]
  },
  {
   "cell_type": "code",
   "execution_count": 96,
   "id": "ce9060a7",
   "metadata": {},
   "outputs": [],
   "source": [
    "def clasifica_cifra(patch):\n",
    "        maxi=-np.inf\n",
    "        poz=-1\n",
    "        for j in range(1,10):\n",
    "            img_template=cv.imread('templates/'+str(j)+'.jpg')\n",
    "            img_template= cv.cvtColor(img_template,cv.COLOR_BGR2GRAY)\n",
    "            corr = cv.matchTemplate(patch,img_template,  cv.TM_CCOEFF_NORMED)\n",
    "            corr=np.max(corr)\n",
    "            if corr > maxi:\n",
    "                maxi = corr\n",
    "                poz = j\n",
    "        return poz"
   ]
  },
  {
   "cell_type": "code",
   "execution_count": 87,
   "id": "96e27679",
   "metadata": {},
   "outputs": [],
   "source": [
    "def determina_configuratie_careu_ocifre(img,thresh,lines_horizontal,lines_vertical):\n",
    "    matrix = np.empty((9,9), dtype='str')\n",
    "    for i in range(len(lines_horizontal)-1):\n",
    "        for j in range(len(lines_vertical)-1):\n",
    "            y_min = lines_vertical[j][0][0] + 15\n",
    "            y_max = lines_vertical[j + 1][1][0] - 15\n",
    "            x_min = lines_horizontal[i][0][1] + 15\n",
    "            x_max = lines_horizontal[i + 1][1][1] - 15\n",
    "            patch = thresh[x_min:x_max, y_min:y_max].copy()\n",
    "            patch_orig=img[x_min:x_max, y_min:y_max].copy()\n",
    "            patch_orig= cv.cvtColor(patch_orig,cv.COLOR_BGR2GRAY)\n",
    "            medie = np.mean(patch)\n",
    "            if medie > 0:\n",
    "                matrix[i][j] = clasifica_cifra(patch_orig) \n",
    "            else:\n",
    "                matrix[i][j] = 'o'\n",
    "    return matrix"
   ]
  },
  {
   "cell_type": "code",
   "execution_count": 98,
   "id": "805f3359-1766-4b1d-b38f-524b0e5cf440",
   "metadata": {},
   "outputs": [
    {
     "name": "stdout",
     "output_type": "stream",
     "text": [
      "[['o' 'o' 'o' 'o' 'o' '1' 'o' '3' '2']\n",
      " ['o' 'o' '5' 'o' '2' '3' '9' 'o' '4']\n",
      " ['o' 'o' '9' '6' 'o' 'o' 'o' 'o' '7']\n",
      " ['o' '5' 'o' '1' 'o' 'o' 'o' '7' 'o']\n",
      " ['o' 'o' 'o' '3' 'o' 'o' '2' 'o' 'o']\n",
      " ['o' '6' 'o' 'o' '8' 'o' 'o' '5' 'o']\n",
      " ['8' 'o' 'o' '2' 'o' '6' '4' '8' '5']\n",
      " ['6' 'o' 'o' 'o' 'o' 'o' 'o' 'o' 'o']\n",
      " ['o' '9' '4' '7' '8' 'o' '6' 'o' 'o']]\n"
     ]
    },
    {
     "ename": "KeyboardInterrupt",
     "evalue": "",
     "output_type": "error",
     "traceback": [
      "\u001b[1;31m---------------------------------------------------------------------------\u001b[0m",
      "\u001b[1;31mKeyboardInterrupt\u001b[0m                         Traceback (most recent call last)",
      "Cell \u001b[1;32mIn[98], line 5\u001b[0m\n\u001b[0;32m      3\u001b[0m \u001b[38;5;28;01mif\u001b[39;00m file[\u001b[38;5;241m-\u001b[39m\u001b[38;5;241m3\u001b[39m:] \u001b[38;5;241m==\u001b[39m \u001b[38;5;124m'\u001b[39m\u001b[38;5;124mjpg\u001b[39m\u001b[38;5;124m'\u001b[39m:\n\u001b[0;32m      4\u001b[0m     img \u001b[38;5;241m=\u001b[39m cv\u001b[38;5;241m.\u001b[39mimread(\u001b[38;5;124m'\u001b[39m\u001b[38;5;124mdata/train/\u001b[39m\u001b[38;5;124m'\u001b[39m \u001b[38;5;241m+\u001b[39m file)\n\u001b[1;32m----> 5\u001b[0m     result \u001b[38;5;241m=\u001b[39m extrage_careu(img)\n\u001b[0;32m      6\u001b[0m     _, thresh \u001b[38;5;241m=\u001b[39m cv\u001b[38;5;241m.\u001b[39mthreshold(result, \u001b[38;5;241m100\u001b[39m, \u001b[38;5;241m255\u001b[39m, cv\u001b[38;5;241m.\u001b[39mTHRESH_BINARY_INV)\n\u001b[0;32m      7\u001b[0m     matrice \u001b[38;5;241m=\u001b[39m determina_configuratie_careu_ocifre(result, thresh, lines_horizontal, lines_vertical)\n",
      "Cell \u001b[1;32mIn[25], line 6\u001b[0m, in \u001b[0;36mextrage_careu\u001b[1;34m(image)\u001b[0m\n\u001b[0;32m      4\u001b[0m image_g_blur \u001b[38;5;241m=\u001b[39m cv\u001b[38;5;241m.\u001b[39mGaussianBlur(image_m_blur, (\u001b[38;5;241m0\u001b[39m, \u001b[38;5;241m0\u001b[39m), \u001b[38;5;241m5\u001b[39m) \n\u001b[0;32m      5\u001b[0m image_sharpened \u001b[38;5;241m=\u001b[39m cv\u001b[38;5;241m.\u001b[39maddWeighted(image_m_blur, \u001b[38;5;241m1.2\u001b[39m, image_g_blur, \u001b[38;5;241m-\u001b[39m\u001b[38;5;241m0.8\u001b[39m, \u001b[38;5;241m0\u001b[39m)\n\u001b[1;32m----> 6\u001b[0m show_image(\u001b[38;5;124m'\u001b[39m\u001b[38;5;124mimage_sharpened\u001b[39m\u001b[38;5;124m'\u001b[39m,image_sharpened)\n\u001b[0;32m      7\u001b[0m _, thresh \u001b[38;5;241m=\u001b[39m cv\u001b[38;5;241m.\u001b[39mthreshold(image_sharpened, \u001b[38;5;241m30\u001b[39m, \u001b[38;5;241m255\u001b[39m, cv\u001b[38;5;241m.\u001b[39mTHRESH_BINARY)\n\u001b[0;32m      9\u001b[0m kernel \u001b[38;5;241m=\u001b[39m np\u001b[38;5;241m.\u001b[39mones((\u001b[38;5;241m3\u001b[39m, \u001b[38;5;241m3\u001b[39m), np\u001b[38;5;241m.\u001b[39muint8)\n",
      "Cell \u001b[1;32mIn[4], line 4\u001b[0m, in \u001b[0;36mshow_image\u001b[1;34m(title, image)\u001b[0m\n\u001b[0;32m      2\u001b[0m image\u001b[38;5;241m=\u001b[39mcv\u001b[38;5;241m.\u001b[39mresize(image,(\u001b[38;5;241m0\u001b[39m,\u001b[38;5;241m0\u001b[39m),fx\u001b[38;5;241m=\u001b[39m\u001b[38;5;241m0.3\u001b[39m,fy\u001b[38;5;241m=\u001b[39m\u001b[38;5;241m0.3\u001b[39m)\n\u001b[0;32m      3\u001b[0m cv\u001b[38;5;241m.\u001b[39mimshow(title,image)\n\u001b[1;32m----> 4\u001b[0m cv\u001b[38;5;241m.\u001b[39mwaitKey(\u001b[38;5;241m0\u001b[39m)\n\u001b[0;32m      5\u001b[0m cv\u001b[38;5;241m.\u001b[39mdestroyAllWindows()\n",
      "\u001b[1;31mKeyboardInterrupt\u001b[0m: "
     ]
    }
   ],
   "source": [
    "files = os.listdir('data/train')\n",
    "for file in files:\n",
    "    if file[-3:] == 'jpg':\n",
    "        img = cv.imread('data/train/' + file)\n",
    "        result = extrage_careu(img)\n",
    "        _, thresh = cv.threshold(result, 100, 255, cv.THRESH_BINARY_INV)\n",
    "        matrice = determina_configuratie_careu_ocifre(result, thresh, lines_horizontal, lines_vertical)\n",
    "        show_image('img' + file, result)\n",
    "        print(matrice)\n"
   ]
  }
 ],
 "metadata": {
  "kernelspec": {
   "display_name": "Python 3 (ipykernel)",
   "language": "python",
   "name": "python3"
  },
  "language_info": {
   "codemirror_mode": {
    "name": "ipython",
    "version": 3
   },
   "file_extension": ".py",
   "mimetype": "text/x-python",
   "name": "python",
   "nbconvert_exporter": "python",
   "pygments_lexer": "ipython3",
   "version": "3.12.7"
  }
 },
 "nbformat": 4,
 "nbformat_minor": 5
}
