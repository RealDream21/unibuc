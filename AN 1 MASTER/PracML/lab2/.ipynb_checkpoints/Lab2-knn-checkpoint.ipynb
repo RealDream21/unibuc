{
 "cells": [
  {
   "cell_type": "markdown",
   "metadata": {
    "colab_type": "text",
    "id": "4KB6d3U4XhPI"
   },
   "source": [
    "# Practical Machine Learning\n",
    "# Lab 2\n"
   ]
  },
  {
   "cell_type": "markdown",
   "metadata": {
    "colab_type": "text",
    "id": "WG4LSTnnXhPJ"
   },
   "source": [
    "## k-Nearest Neighbor\n",
    "\n",
    "In this lab, we are going to classify handwritten digits from the MNIST database using k-NN and Naive Bayes. This dataset consists of 60000 training images and 10000 testing images. Each image is labeled with one of 10 classes (0-9 digit). The images are gray-scale and have 28 pixels high and wide. We are going to use a subset divided as follows:\n",
    "    \n",
    "    ‘train_images.npy’ is a matrix of 1000 x 784, containing 1000 training images, each row is an image (28 x 28 = 784).\n",
    "    ‘test_images.npy’ is a matrix of 500 x 784 containing 500 testing images.\n",
    "    ‘train_labels.npy’ and ‘test_labels.npy’ contains the ground-truth labels.\n",
    "\n",
    "![mnist_examples.png](attachment:mnist_examples.png)"
   ]
  },
  {
   "cell_type": "markdown",
   "metadata": {
    "colab_type": "text",
    "collapsed": true,
    "id": "zMsMvpZnXhPK",
    "jupyter": {
     "outputs_hidden": true
    }
   },
   "source": [
    "Download the images and the ground-truth labels from [here](url). \n"
   ]
  },
  {
   "cell_type": "code",
   "execution_count": null,
   "metadata": {},
   "outputs": [],
   "source": []
  },
  {
   "cell_type": "code",
   "execution_count": 4,
   "metadata": {
    "colab": {},
    "colab_type": "code",
    "id": "bL4SVxagXhPL"
   },
   "outputs": [],
   "source": [
    "# import matplotlib and numpy libraries\n",
    "# you should run it only once\n",
    "import matplotlib.pyplot as plt\n",
    "import numpy as np "
   ]
  },
  {
   "cell_type": "code",
   "execution_count": 14,
   "metadata": {
    "colab": {
     "base_uri": "https://localhost:8080/",
     "height": 351
    },
    "colab_type": "code",
    "executionInfo": {
     "elapsed": 456,
     "status": "error",
     "timestamp": 1571258374102,
     "user": {
      "displayName": "Mihail Burduja",
      "photoUrl": "https://lh3.googleusercontent.com/a-/AAuE7mBsbb8Z2nES1p7u5hO8eYtUVNns_F_GTDUX-H11k-4=s64",
      "userId": "06467582067569643852"
     },
     "user_tz": -180
    },
    "id": "m4_kNIIZXhPN",
    "outputId": "bdf8a2c0-88fb-4d08-8969-3f0a4c9987f6"
   },
   "outputs": [
    {
     "data": {
      "image/png": "[encoded data removed]",
      "text/plain": [
       "<Figure size 640x480 with 1 Axes>"
      ]
     },
     "metadata": {},
     "output_type": "display_data"
    },
    {
     "name": "stdout",
     "output_type": "stream",
     "text": [
      "(1000, 784)\n"
     ]
    }
   ],
   "source": [
    "train_images = np.load('data/train_images.npy') # load training images\n",
    "train_labels = np.load('data/train_labels.npy') # load training labels\n",
    "image = train_images[12, :] # the first image\n",
    "image = np.reshape(image, (28, 28)) \n",
    "plt.imshow(np.uint8(image))\n",
    "plt.show()\n",
    "print(train_images.shape)"
   ]
  },
  {
   "cell_type": "markdown",
   "metadata": {
    "colab_type": "text",
    "id": "uDQfxC7FXhPP"
   },
   "source": [
    "## k-Nearest Neighbor\n",
    "\n",
    "The **nearest neighbor** method takes a **test** example, compare it to every single **training** example, and predict the label of the **closest** training example.\n",
    "\n",
    "In order to find the closest example(s), we have to define (or choose) a **metric**.\n",
    "\n",
    "Instead of using the closest example in the training set, we can find the top **k** closest examples and predict their majority label (*classification*) or the mean of their labels (*regression*). This strategy is called **k-NN**.\n",
    "\n"
   ]
  },
  {
   "cell_type": "markdown",
   "metadata": {
    "colab_type": "text",
    "id": "vkSnVUJyXhPQ"
   },
   "source": [
    "![knn.jpeg](attachment:knn.jpeg)\n",
    "\n",
    "An example of the difference between Nearest Neighbor and a 5-Nearest Neighbor classifier, using 2-dimensional points and 3 classes (red, blue, green). The colored regions show the decision boundaries induced by the classifier with an L2 distance. The white regions show points that are ambiguously classified (i.e. class votes are tied for at least two classes). Notice that in the case of a NN classifier, outlier datapoints (e.g. green point in the middle of a cloud of blue points) create small islands of likely incorrect predictions, while the 5-NN classifier smooths over these irregularities, likely leading to better generalization on the test data (not shown). Also note that the gray regions in the 5-NN image are caused by ties in the votes among the nearest neighbors (e.g. 2 neighbors are red, next two neighbors are blue, last neighbor is green)."
   ]
  },
  {
   "cell_type": "markdown",
   "metadata": {
    "colab_type": "text",
    "id": "_JVqo1ZtXhPR"
   },
   "source": [
    "The most common distances are:\n",
    "    $$L_1(X, Y) = \\sum_i{\\mid X_i - Y_i \\mid}$$\n",
    "    $$L_2(X, Y) = \\sqrt{\\sum_i{(X_i - Y_i) ^ 2}}$$"
   ]
  },
  {
   "cell_type": "markdown",
   "metadata": {
    "colab_type": "text",
    "id": "fMU4FdUuXhPR"
   },
   "source": [
    "# Execises"
   ]
  },
  {
   "cell_type": "markdown",
   "metadata": {
    "colab_type": "text",
    "id": "wdBi6Z60XhPS"
   },
   "source": [
    "#### 1. Create the 'Knn_classifier' class in order to classify the MNIST testset."
   ]
  },
  {
   "cell_type": "code",
   "execution_count": 162,
   "metadata": {},
   "outputs": [],
   "source": [
    "arr = np.array([1,1,1,3,4])"
   ]
  },
  {
   "cell_type": "code",
   "execution_count": 163,
   "metadata": {},
   "outputs": [
    {
     "data": {
      "text/plain": [
       "(array([1, 3, 4]), array([3, 1, 1]))"
      ]
     },
     "execution_count": 163,
     "metadata": {},
     "output_type": "execute_result"
    }
   ],
   "source": [
    "np.unique(arr, return_counts=True)"
   ]
  },
  {
   "cell_type": "code",
   "execution_count": 160,
   "metadata": {
    "colab": {},
    "colab_type": "code",
    "id": "eHiBQbFZXhPT"
   },
   "outputs": [],
   "source": [
    "class Knn_classifier:\n",
    "    \n",
    "    def __init__(self, train_images, train_labels):\n",
    "        self.train_images = train_images\n",
    "        self.train_labels = train_labels\n",
    "    \n",
    "    # a. Write the classify_image(self, test_image, num_neighbors=3, metric='l2') function in order to classify 'test_image'\n",
    "    # example using the k-NN method with 'num_neighbors' neighbors and 'metric' distance.\n",
    "    def classify_image(self, test_image, num_neighbors=3, metric='l2'):\n",
    "        # write your code here\n",
    "        # compute the distance between the test image and each train image\n",
    "        # get the closest num_neighbors neighbors\n",
    "        # get their labels\n",
    "        # return the label with the highest count from the neighbors\n",
    "        distances = None\n",
    "        if metric == 'l1':\n",
    "            diff = test_image - self.train_images\n",
    "            diff_abs = np.abs(diff)\n",
    "            sum_diff_abs = np.sum(diff_abs, axis=1)\n",
    "            distances = sum_diff_abs\n",
    "        if metric == 'l2':\n",
    "            diff = test_image - self.train_images\n",
    "            diff_pow_2 = np.pow(diff, 2)\n",
    "            sum_diff_pow_2 = np.sum(diff_pow_2, axis=1)\n",
    "            sqrt_sum_diff_pow_2 = np.sqrt(sum_diff_pow_2)\n",
    "            distances = sqrt_sum_diff_pow_2\n",
    "    \n",
    "        sample_dist_label = [(int(a), int(b)) for a, b in zip(list(distances), self.train_labels)]\n",
    "\n",
    "        sorted_neighbours = np.array(sorted(sample_dist_label, key=lambda t: t[0]))\n",
    " \n",
    "        neighbour_votes = sorted_neighbours[:num_neighbors, 1]\n",
    "        counts = np.unique(neighbour_votes, return_counts=True)\n",
    "        label_index = counts[1].argmax()\n",
    "        label = counts[0][label_index]\n",
    "        print(counts, label)\n",
    "        return label\n",
    "        \n",
    "    \n",
    "    # b. Write the classify_images(self, test_images, num_neighbors=3, metric='l2') function in order to predict the labels of \n",
    "    # the test images.\n",
    "    def classify_images(self, test_images, num_neighbors=3, metric='l2'):\n",
    "        labels = []\n",
    "        for image in test_images:\n",
    "            labels.append(self.classify_image(image, num_neighbors, metric))\n",
    "        return labels\n",
    "    \n",
    "    # c. Define a function to compute the accurracy score given the predicted labels and the ground-truth labels.\n",
    "    def accuracy_score(self, y_true, y_pred):\n",
    "        TP = 0\n",
    "        TN = 0\n",
    "        FP = 0\n",
    "        FN = 0\n",
    "        for true, pred in zip(y_true, y_pred):\n",
    "            if true == 1 and pred == 1:\n",
    "                TP += 1\n",
    "            if true == 1 and pred == 0:\n",
    "                FN += 1\n",
    "            if true == 0 and pred == 1:\n",
    "                FP += 1\n",
    "            if true == 0 and pred == 0:\n",
    "                TN += 1\n",
    "        return (TP + TN) / (TP + TN + FP + FN)\n",
    "\n"
   ]
  },
  {
   "cell_type": "markdown",
   "metadata": {
    "colab_type": "text",
    "id": "n4VO2ToFXhPV"
   },
   "source": [
    "#### 2. Compute the accuracy score of the 3-NN method on the test set using L_2 distance."
   ]
  },
  {
   "cell_type": "code",
   "execution_count": 161,
   "metadata": {
    "colab": {},
    "colab_type": "code",
    "id": "tRBYUTMnXhPV"
   },
   "outputs": [
    {
     "name": "stdout",
     "output_type": "stream",
     "text": [
      "(array([2]), array([3])) 2\n",
      "(array([7]), array([3])) 7\n",
      "(array([3]), array([3])) 3\n",
      "(array([1]), array([3])) 1\n",
      "(array([2]), array([3])) 2\n",
      "(array([1]), array([3])) 1\n",
      "(array([0]), array([3])) 0\n",
      "(array([5]), array([3])) 5\n",
      "(array([1]), array([3])) 1\n",
      "(array([1, 4]), array([1, 2])) 4\n",
      "(array([7]), array([3])) 7\n",
      "(array([3]), array([3])) 3\n",
      "(array([1, 2]), array([1, 2])) 2\n",
      "(array([0, 6]), array([1, 2])) 6\n",
      "(array([8]), array([3])) 8\n",
      "(array([3]), array([3])) 3\n",
      "(array([8]), array([3])) 8\n",
      "(array([4, 9]), array([1, 2])) 9\n",
      "(array([9]), array([3])) 9\n",
      "(array([1]), array([3])) 1\n",
      "(array([8]), array([3])) 8\n",
      "(array([1, 2]), array([1, 2])) 2\n",
      "(array([0]), array([3])) 0\n",
      "(array([0]), array([3])) 0\n",
      "(array([5]), array([3])) 5\n",
      "(array([4, 9]), array([2, 1])) 4\n",
      "(array([6]), array([3])) 6\n",
      "(array([2]), array([3])) 2\n",
      "(array([6]), array([3])) 6\n",
      "(array([7]), array([3])) 7\n",
      "(array([3]), array([3])) 3\n",
      "(array([2, 3]), array([2, 1])) 2\n",
      "(array([4]), array([3])) 4\n",
      "(array([7, 9]), array([2, 1])) 7\n",
      "(array([6]), array([3])) 6\n",
      "(array([6]), array([3])) 6\n",
      "(array([1]), array([3])) 1\n",
      "(array([7]), array([3])) 7\n",
      "(array([5]), array([3])) 5\n",
      "(array([1, 2, 8]), array([1, 1, 1])) 1\n",
      "(array([0]), array([3])) 0\n",
      "(array([1]), array([3])) 1\n",
      "(array([1]), array([3])) 1\n",
      "(array([2, 3]), array([2, 1])) 2\n",
      "(array([2]), array([3])) 2\n",
      "(array([1]), array([3])) 1\n",
      "(array([3]), array([3])) 3\n",
      "(array([7]), array([3])) 7\n",
      "(array([9]), array([3])) 9\n",
      "(array([6]), array([3])) 6\n",
      "(array([7]), array([3])) 7\n",
      "(array([6]), array([3])) 6\n",
      "(array([7]), array([3])) 7\n",
      "(array([7]), array([3])) 7\n",
      "(array([5, 7, 8]), array([1, 1, 1])) 5\n",
      "(array([7]), array([3])) 7\n",
      "(array([2, 3]), array([1, 2])) 3\n",
      "(array([1]), array([3])) 1\n",
      "(array([2]), array([3])) 2\n",
      "(array([1]), array([3])) 1\n",
      "(array([7]), array([3])) 7\n",
      "(array([8]), array([3])) 8\n",
      "(array([0]), array([3])) 0\n",
      "(array([1]), array([3])) 1\n",
      "(array([8]), array([3])) 8\n",
      "(array([3]), array([3])) 3\n",
      "(array([1]), array([3])) 1\n",
      "(array([6]), array([3])) 6\n",
      "(array([0]), array([3])) 0\n",
      "(array([5]), array([3])) 5\n",
      "(array([2, 8]), array([1, 2])) 8\n",
      "(array([6, 8]), array([2, 1])) 6\n",
      "(array([6]), array([3])) 6\n",
      "(array([3]), array([3])) 3\n",
      "(array([2]), array([3])) 2\n",
      "(array([4, 9]), array([1, 2])) 9\n",
      "(array([4, 7]), array([1, 2])) 7\n",
      "(array([0]), array([3])) 0\n",
      "(array([7, 9]), array([1, 2])) 9\n",
      "(array([1]), array([3])) 1\n",
      "(array([4, 9]), array([2, 1])) 4\n",
      "(array([4]), array([3])) 4\n",
      "(array([3]), array([3])) 3\n",
      "(array([3, 5]), array([2, 1])) 3\n",
      "(array([1]), array([3])) 1\n",
      "(array([4, 9]), array([2, 1])) 4\n",
      "(array([0]), array([3])) 0\n",
      "(array([5]), array([3])) 5\n",
      "(array([7]), array([3])) 7\n",
      "(array([9]), array([3])) 9\n",
      "(array([0]), array([3])) 0\n",
      "(array([5]), array([3])) 5\n",
      "(array([2]), array([3])) 2\n",
      "(array([3]), array([3])) 3\n",
      "(array([4]), array([3])) 4\n",
      "(array([4]), array([3])) 4\n",
      "(array([4]), array([3])) 4\n",
      "(array([9]), array([3])) 9\n",
      "(array([5]), array([3])) 5\n",
      "(array([0]), array([3])) 0\n",
      "(array([0]), array([3])) 0\n",
      "(array([6]), array([3])) 6\n",
      "(array([8]), array([3])) 8\n",
      "(array([4, 9]), array([2, 1])) 4\n",
      "(array([6]), array([3])) 6\n",
      "(array([0]), array([3])) 0\n",
      "(array([7, 9]), array([2, 1])) 7\n",
      "(array([5]), array([3])) 5\n",
      "(array([5, 8]), array([1, 2])) 8\n",
      "(array([0]), array([3])) 0\n",
      "(array([7]), array([3])) 7\n",
      "(array([3, 9]), array([1, 2])) 9\n",
      "(array([3]), array([3])) 3\n",
      "(array([0]), array([3])) 0\n",
      "(array([5, 7, 9]), array([1, 1, 1])) 5\n",
      "(array([7]), array([3])) 7\n",
      "(array([3, 5]), array([1, 2])) 5\n",
      "(array([3, 7]), array([2, 1])) 3\n",
      "(array([5, 8]), array([2, 1])) 5\n",
      "(array([7]), array([3])) 7\n",
      "(array([3]), array([3])) 3\n",
      "(array([4, 9]), array([1, 2])) 9\n",
      "(array([7, 9]), array([1, 2])) 9\n",
      "(array([4]), array([3])) 4\n",
      "(array([1, 5]), array([2, 1])) 1\n",
      "(array([9]), array([3])) 9\n",
      "(array([3, 8]), array([2, 1])) 3\n",
      "(array([0]), array([3])) 0\n",
      "(array([6]), array([3])) 6\n",
      "(array([1]), array([3])) 1\n",
      "(array([0]), array([3])) 0\n",
      "(array([9]), array([3])) 9\n",
      "(array([1, 2]), array([2, 1])) 1\n",
      "(array([6]), array([3])) 6\n",
      "(array([6]), array([3])) 6\n",
      "(array([3]), array([3])) 3\n",
      "(array([7]), array([3])) 7\n",
      "(array([0]), array([3])) 0\n",
      "(array([2]), array([3])) 2\n",
      "(array([8]), array([3])) 8\n",
      "(array([7]), array([3])) 7\n",
      "(array([0, 3]), array([2, 1])) 0\n",
      "(array([4]), array([3])) 4\n",
      "(array([2]), array([3])) 2\n",
      "(array([1]), array([3])) 1\n",
      "(array([3]), array([3])) 3\n",
      "(array([6]), array([3])) 6\n",
      "(array([5]), array([3])) 5\n",
      "(array([5]), array([3])) 5\n",
      "(array([3]), array([3])) 3\n",
      "(array([4]), array([3])) 4\n",
      "(array([3]), array([3])) 3\n",
      "(array([0]), array([3])) 0\n",
      "(array([0]), array([3])) 0\n",
      "(array([3]), array([3])) 3\n",
      "(array([6]), array([3])) 6\n",
      "(array([3]), array([3])) 3\n",
      "(array([0, 2]), array([1, 2])) 2\n",
      "(array([0]), array([3])) 0\n",
      "(array([1]), array([3])) 1\n",
      "(array([6]), array([3])) 6\n",
      "(array([4]), array([3])) 4\n",
      "(array([3]), array([3])) 3\n",
      "(array([2]), array([3])) 2\n",
      "(array([5]), array([3])) 5\n",
      "(array([3]), array([3])) 3\n",
      "(array([8]), array([3])) 8\n",
      "(array([4]), array([3])) 4\n",
      "(array([1]), array([3])) 1\n",
      "(array([8]), array([3])) 8\n",
      "(array([5]), array([3])) 5\n",
      "(array([3, 5]), array([2, 1])) 3\n",
      "(array([7]), array([3])) 7\n",
      "(array([4, 9]), array([2, 1])) 4\n",
      "(array([0, 2]), array([1, 2])) 2\n",
      "(array([8]), array([3])) 8\n",
      "(array([0]), array([3])) 0\n",
      "(array([0]), array([3])) 0\n",
      "(array([0, 5]), array([2, 1])) 0\n",
      "(array([3]), array([3])) 3\n",
      "(array([1]), array([3])) 1\n",
      "(array([6]), array([3])) 6\n",
      "(array([6]), array([3])) 6\n",
      "(array([2, 7]), array([2, 1])) 2\n",
      "(array([5]), array([3])) 5\n",
      "(array([2]), array([3])) 2\n",
      "(array([9]), array([3])) 9\n",
      "(array([2]), array([3])) 2\n",
      "(array([7, 8]), array([2, 1])) 7\n",
      "(array([3, 7]), array([2, 1])) 3\n",
      "(array([5]), array([3])) 5\n",
      "(array([3, 8]), array([1, 2])) 8\n",
      "(array([7]), array([3])) 7\n",
      "(array([0]), array([3])) 0\n",
      "(array([0]), array([3])) 0\n",
      "(array([3]), array([3])) 3\n",
      "(array([7]), array([3])) 7\n",
      "(array([8]), array([3])) 8\n",
      "(array([6]), array([3])) 6\n",
      "(array([7, 9]), array([2, 1])) 7\n",
      "(array([8]), array([3])) 8\n",
      "(array([7]), array([3])) 7\n",
      "(array([0, 6]), array([2, 1])) 0\n",
      "(array([5]), array([3])) 5\n",
      "(array([3]), array([3])) 3\n",
      "(array([2, 5]), array([2, 1])) 2\n",
      "(array([8]), array([3])) 8\n",
      "(array([2]), array([3])) 2\n",
      "(array([4]), array([3])) 4\n",
      "(array([7]), array([3])) 7\n",
      "(array([8]), array([3])) 8\n",
      "(array([4, 9]), array([2, 1])) 4\n",
      "(array([4]), array([3])) 4\n",
      "(array([4, 7, 9]), array([1, 1, 1])) 4\n",
      "(array([2, 5]), array([1, 2])) 5\n",
      "(array([0, 2]), array([1, 2])) 2\n",
      "(array([7]), array([3])) 7\n",
      "(array([6]), array([3])) 6\n",
      "(array([3]), array([3])) 3\n",
      "(array([9]), array([3])) 9\n",
      "(array([2, 6]), array([1, 2])) 6\n",
      "(array([5]), array([3])) 5\n",
      "(array([6]), array([3])) 6\n",
      "(array([0]), array([3])) 0\n",
      "(array([1]), array([3])) 1\n",
      "(array([4, 9]), array([1, 2])) 9\n",
      "(array([6]), array([3])) 6\n",
      "(array([0]), array([3])) 0\n",
      "(array([2]), array([3])) 2\n",
      "(array([5]), array([3])) 5\n",
      "(array([9]), array([3])) 9\n",
      "(array([2, 3, 5]), array([1, 1, 1])) 2\n",
      "(array([5, 8]), array([1, 2])) 8\n",
      "(array([4, 9]), array([1, 2])) 9\n",
      "(array([1]), array([3])) 1\n",
      "(array([9]), array([3])) 9\n",
      "(array([6]), array([3])) 6\n",
      "(array([2, 5, 9]), array([1, 1, 1])) 2\n",
      "(array([6]), array([3])) 6\n",
      "(array([7, 9]), array([1, 2])) 9\n",
      "(array([4]), array([3])) 4\n",
      "(array([4, 9]), array([2, 1])) 4\n",
      "(array([5]), array([3])) 5\n",
      "(array([2]), array([3])) 2\n",
      "(array([4]), array([3])) 4\n",
      "(array([5]), array([3])) 5\n",
      "(array([3, 5]), array([2, 1])) 3\n",
      "(array([3, 8]), array([1, 2])) 8\n",
      "(array([3]), array([3])) 3\n",
      "(array([8]), array([3])) 8\n",
      "(array([8]), array([3])) 8\n",
      "(array([4, 5, 8]), array([1, 1, 1])) 4\n",
      "(array([1]), array([3])) 1\n",
      "(array([0]), array([3])) 0\n",
      "(array([4]), array([3])) 4\n",
      "(array([8]), array([3])) 8\n",
      "(array([2]), array([3])) 2\n",
      "(array([9]), array([3])) 9\n",
      "(array([3]), array([3])) 3\n",
      "(array([4]), array([3])) 4\n",
      "(array([9]), array([3])) 9\n",
      "(array([5]), array([3])) 5\n",
      "(array([4, 9]), array([2, 1])) 4\n",
      "(array([0]), array([3])) 0\n",
      "(array([1]), array([3])) 1\n",
      "(array([7]), array([3])) 7\n",
      "(array([7, 9]), array([2, 1])) 7\n",
      "(array([4]), array([3])) 4\n",
      "(array([5]), array([3])) 5\n",
      "(array([0]), array([3])) 0\n",
      "(array([1]), array([3])) 1\n",
      "(array([3, 9]), array([2, 1])) 3\n",
      "(array([7]), array([3])) 7\n",
      "(array([5]), array([3])) 5\n",
      "(array([6]), array([3])) 6\n",
      "(array([9]), array([3])) 9\n",
      "(array([2]), array([3])) 2\n",
      "(array([1]), array([3])) 1\n",
      "(array([2]), array([3])) 2\n",
      "(array([8]), array([3])) 8\n",
      "(array([7, 9]), array([1, 2])) 9\n",
      "(array([0, 6]), array([1, 2])) 6\n",
      "(array([8]), array([3])) 8\n",
      "(array([7, 9]), array([2, 1])) 7\n",
      "(array([6]), array([3])) 6\n",
      "(array([4, 7, 9]), array([1, 1, 1])) 4\n",
      "(array([0]), array([3])) 0\n",
      "(array([5]), array([3])) 5\n",
      "(array([3]), array([3])) 3\n",
      "(array([3]), array([3])) 3\n",
      "(array([5]), array([3])) 5\n",
      "(array([6]), array([3])) 6\n",
      "(array([6]), array([3])) 6\n",
      "(array([5]), array([3])) 5\n",
      "(array([3, 5, 8]), array([1, 1, 1])) 3\n",
      "(array([2]), array([3])) 2\n",
      "(array([5]), array([3])) 5\n",
      "(array([3, 9]), array([2, 1])) 3\n",
      "(array([6]), array([3])) 6\n",
      "(array([1]), array([3])) 1\n",
      "(array([1]), array([3])) 1\n",
      "(array([7]), array([3])) 7\n",
      "(array([0]), array([3])) 0\n",
      "(array([8]), array([3])) 8\n",
      "(array([1]), array([3])) 1\n",
      "(array([3]), array([3])) 3\n",
      "(array([2]), array([3])) 2\n",
      "(array([1]), array([3])) 1\n",
      "(array([0]), array([3])) 0\n",
      "(array([0]), array([3])) 0\n",
      "(array([8]), array([3])) 8\n",
      "(array([0, 6]), array([2, 1])) 0\n",
      "(array([0]), array([3])) 0\n",
      "(array([1]), array([3])) 1\n",
      "(array([1]), array([3])) 1\n",
      "(array([6]), array([3])) 6\n",
      "(array([4, 7, 9]), array([1, 1, 1])) 4\n",
      "(array([3]), array([3])) 3\n",
      "(array([4]), array([3])) 4\n",
      "(array([2]), array([3])) 2\n",
      "(array([7]), array([3])) 7\n",
      "(array([0]), array([3])) 0\n",
      "(array([3, 8]), array([1, 2])) 8\n",
      "(array([8]), array([3])) 8\n",
      "(array([4]), array([3])) 4\n",
      "(array([1]), array([3])) 1\n",
      "(array([7]), array([3])) 7\n",
      "(array([2]), array([3])) 2\n",
      "(array([4]), array([3])) 4\n",
      "(array([1, 2]), array([2, 1])) 1\n",
      "(array([0]), array([3])) 0\n",
      "(array([4, 9]), array([2, 1])) 4\n",
      "(array([6]), array([3])) 6\n",
      "(array([1]), array([3])) 1\n",
      "(array([0, 3]), array([2, 1])) 0\n",
      "(array([3]), array([3])) 3\n",
      "(array([4, 9]), array([1, 2])) 9\n",
      "(array([0]), array([3])) 0\n",
      "(array([0, 5]), array([2, 1])) 0\n",
      "(array([4]), array([3])) 4\n",
      "(array([6]), array([3])) 6\n",
      "(array([7]), array([3])) 7\n",
      "(array([1]), array([3])) 1\n",
      "(array([0, 8]), array([2, 1])) 0\n",
      "(array([1]), array([3])) 1\n",
      "(array([3]), array([3])) 3\n",
      "(array([2]), array([3])) 2\n",
      "(array([5]), array([3])) 5\n",
      "(array([5]), array([3])) 5\n",
      "(array([3, 8]), array([2, 1])) 3\n",
      "(array([2]), array([3])) 2\n",
      "(array([9]), array([3])) 9\n",
      "(array([1]), array([3])) 1\n",
      "(array([6]), array([3])) 6\n",
      "(array([6, 8]), array([1, 2])) 8\n",
      "(array([8]), array([3])) 8\n",
      "(array([4, 9]), array([1, 2])) 9\n",
      "(array([4, 9]), array([2, 1])) 4\n",
      "(array([1]), array([3])) 1\n",
      "(array([3]), array([3])) 3\n",
      "(array([7, 9]), array([2, 1])) 7\n",
      "(array([0]), array([3])) 0\n",
      "(array([5]), array([3])) 5\n",
      "(array([4, 9]), array([1, 2])) 9\n",
      "(array([3, 9]), array([2, 1])) 3\n",
      "(array([4, 9]), array([2, 1])) 4\n",
      "(array([1]), array([3])) 1\n",
      "(array([3, 5]), array([1, 2])) 5\n",
      "(array([1]), array([3])) 1\n",
      "(array([2]), array([3])) 2\n",
      "(array([1, 4]), array([1, 2])) 4\n",
      "(array([2, 4]), array([2, 1])) 2\n",
      "(array([2, 6]), array([1, 2])) 6\n",
      "(array([2]), array([3])) 2\n",
      "(array([2]), array([3])) 2\n",
      "(array([3, 8, 9]), array([1, 1, 1])) 3\n",
      "(array([4, 7]), array([2, 1])) 4\n",
      "(array([2, 4]), array([2, 1])) 2\n",
      "(array([7]), array([3])) 7\n",
      "(array([1]), array([3])) 1\n",
      "(array([3]), array([3])) 3\n",
      "(array([7]), array([3])) 7\n",
      "(array([6]), array([3])) 6\n",
      "(array([5]), array([3])) 5\n",
      "(array([1, 7]), array([1, 2])) 7\n",
      "(array([0, 4, 7]), array([1, 1, 1])) 0\n",
      "(array([3, 9]), array([2, 1])) 3\n",
      "(array([0]), array([3])) 0\n",
      "(array([8]), array([3])) 8\n",
      "(array([4]), array([3])) 4\n",
      "(array([9]), array([3])) 9\n",
      "(array([9]), array([3])) 9\n",
      "(array([9]), array([3])) 9\n",
      "(array([6]), array([3])) 6\n",
      "(array([2]), array([3])) 2\n",
      "(array([2]), array([3])) 2\n",
      "(array([1]), array([3])) 1\n",
      "(array([5]), array([3])) 5\n",
      "(array([6]), array([3])) 6\n",
      "(array([6]), array([3])) 6\n",
      "(array([7, 9]), array([2, 1])) 7\n",
      "(array([9]), array([3])) 9\n",
      "(array([9]), array([3])) 9\n",
      "(array([0, 3]), array([1, 2])) 3\n",
      "(array([5]), array([3])) 5\n",
      "(array([4, 9]), array([2, 1])) 4\n",
      "(array([1]), array([3])) 1\n",
      "(array([1]), array([3])) 1\n",
      "(array([3]), array([3])) 3\n",
      "(array([3, 5]), array([1, 2])) 5\n",
      "(array([5]), array([3])) 5\n",
      "(array([6]), array([3])) 6\n",
      "(array([3, 5]), array([1, 2])) 5\n",
      "(array([9]), array([3])) 9\n",
      "(array([0]), array([3])) 0\n",
      "(array([0, 9]), array([2, 1])) 0\n",
      "(array([4, 7]), array([2, 1])) 4\n",
      "(array([2]), array([3])) 2\n",
      "(array([2, 8]), array([2, 1])) 2\n",
      "(array([7, 9]), array([2, 1])) 7\n",
      "(array([2]), array([3])) 2\n",
      "(array([7, 9]), array([2, 1])) 7\n",
      "(array([3]), array([3])) 3\n",
      "(array([7, 9]), array([1, 2])) 9\n",
      "(array([7]), array([3])) 7\n",
      "(array([2]), array([3])) 2\n",
      "(array([0]), array([3])) 0\n",
      "(array([9]), array([3])) 9\n",
      "(array([7]), array([3])) 7\n",
      "(array([0]), array([3])) 0\n",
      "(array([3]), array([3])) 3\n",
      "(array([1]), array([3])) 1\n",
      "(array([7]), array([3])) 7\n",
      "(array([4]), array([3])) 4\n",
      "(array([4, 9]), array([2, 1])) 4\n",
      "(array([2]), array([3])) 2\n",
      "(array([2]), array([3])) 2\n",
      "(array([7]), array([3])) 7\n",
      "(array([3]), array([3])) 3\n",
      "(array([3, 8]), array([1, 2])) 8\n",
      "(array([2]), array([3])) 2\n",
      "(array([9]), array([3])) 9\n",
      "(array([3]), array([3])) 3\n",
      "(array([2, 9]), array([2, 1])) 2\n",
      "(array([3, 8]), array([2, 1])) 3\n",
      "(array([0]), array([3])) 0\n",
      "(array([4, 9]), array([1, 2])) 9\n",
      "(array([7, 9]), array([1, 2])) 9\n",
      "(array([4, 9]), array([2, 1])) 4\n",
      "(array([3]), array([3])) 3\n",
      "(array([4]), array([3])) 4\n",
      "(array([3]), array([3])) 3\n",
      "(array([1]), array([3])) 1\n",
      "(array([1]), array([3])) 1\n",
      "(array([1]), array([3])) 1\n",
      "(array([2]), array([3])) 2\n",
      "(array([4]), array([3])) 4\n",
      "(array([4, 7]), array([2, 1])) 4\n",
      "(array([6]), array([3])) 6\n",
      "(array([1, 6]), array([1, 2])) 6\n",
      "(array([0]), array([3])) 0\n",
      "(array([1]), array([3])) 1\n",
      "(array([1, 2, 8]), array([1, 1, 1])) 1\n",
      "(array([5, 6]), array([1, 2])) 6\n",
      "(array([6]), array([3])) 6\n",
      "(array([1]), array([3])) 1\n",
      "(array([7]), array([3])) 7\n",
      "(array([6]), array([3])) 6\n",
      "(array([1]), array([3])) 1\n",
      "(array([1]), array([3])) 1\n",
      "(array([4]), array([3])) 4\n",
      "(array([3]), array([3])) 3\n",
      "(array([1]), array([3])) 1\n",
      "(array([1]), array([3])) 1\n",
      "(array([6]), array([3])) 6\n",
      "(array([8]), array([3])) 8\n",
      "(array([7]), array([3])) 7\n",
      "(array([8]), array([3])) 8\n",
      "(array([3, 5]), array([1, 2])) 5\n",
      "(array([1]), array([3])) 1\n",
      "(array([9]), array([3])) 9\n",
      "(array([8]), array([3])) 8\n",
      "(array([5, 6]), array([2, 1])) 5\n",
      "(array([7]), array([3])) 7\n",
      "(array([3, 5]), array([2, 1])) 3\n",
      "(array([3]), array([3])) 3\n",
      "(array([0]), array([3])) 0\n",
      "(array([6]), array([3])) 6\n",
      "(array([0, 6]), array([2, 1])) 0\n",
      "(array([3, 8]), array([2, 1])) 3\n",
      "(array([0, 3, 5]), array([1, 1, 1])) 0\n",
      "(array([1]), array([3])) 1\n",
      "(array([5]), array([3])) 5\n",
      "(array([4, 7]), array([1, 2])) 7\n",
      "(array([9]), array([3])) 9\n",
      "(array([3]), array([3])) 3\n",
      "(array([1]), array([3])) 1\n",
      "(array([3, 8]), array([1, 2])) 8\n",
      "(array([6]), array([3])) 6\n",
      "(array([5]), array([3])) 5\n",
      "1.0\n"
     ]
    }
   ],
   "source": [
    "train_images = np.load('data/train_images.npy') # load training images\n",
    "train_labels = np.load('data/train_labels.npy') # load training labels\n",
    "test_images = np.load('data/test_images.npy') # load testing images\n",
    "test_labels = np.load('data/test_labels.npy') # load testing labels\n",
    "\n",
    "# write your code here\n",
    "model = Knn_classifier(train_images=train_images, train_labels=train_labels)\n",
    "y_true = test_labels\n",
    "y_pred = model.classify_images(test_images, metric='l2')\n",
    "\n",
    "print(model.accuracy_score(y_true, y_pred))"
   ]
  },
  {
   "cell_type": "markdown",
   "metadata": {
    "colab_type": "text",
    "id": "RLoU_VrgXhPY"
   },
   "source": [
    "#### 3. Compute the confusion matrix of the previous classifier.\n",
    "\n",
    "Confusion matrix: $$C = c_{i, j}$$ number of examples in class __i that were classified as j__.\n"
   ]
  },
  {
   "cell_type": "code",
   "execution_count": 155,
   "metadata": {
    "colab": {},
    "colab_type": "code",
    "id": "hr2Uek3lXhPY"
   },
   "outputs": [],
   "source": [
    "cm = np.zeros(shape=(10, 10))\n",
    "for true, pred in zip(y_true, y_pred):\n",
    "    cm[true][pred] += 1"
   ]
  },
  {
   "cell_type": "code",
   "execution_count": 156,
   "metadata": {},
   "outputs": [
    {
     "data": {
      "text/plain": [
       "array([[51.,  0.,  0.,  0.,  0.,  1.,  1.,  0.,  0.,  0.],\n",
       "       [ 0., 52.,  0.,  0.,  0.,  0.,  0.,  0.,  0.,  0.],\n",
       "       [ 1.,  6., 47.,  1.,  0.,  0.,  1.,  2.,  0.,  0.],\n",
       "       [ 0.,  0.,  0., 51.,  0.,  1.,  0.,  0.,  0.,  1.],\n",
       "       [ 0.,  0.,  0.,  0., 44.,  0.,  0.,  0.,  0.,  2.],\n",
       "       [ 2.,  1.,  1.,  6.,  0., 40.,  1.,  0.,  0.,  1.],\n",
       "       [ 0.,  0.,  0.,  0.,  0.,  1., 47.,  0.,  0.,  0.],\n",
       "       [ 1.,  2.,  0.,  0.,  1.,  0.,  0., 46.,  0.,  0.],\n",
       "       [ 1.,  0.,  2.,  2.,  1.,  1.,  1.,  1., 36.,  1.],\n",
       "       [ 0.,  0.,  1.,  1.,  3.,  1.,  0.,  1.,  0., 35.]])"
      ]
     },
     "execution_count": 156,
     "metadata": {},
     "output_type": "execute_result"
    }
   ],
   "source": [
    "cm"
   ]
  },
  {
   "cell_type": "markdown",
   "metadata": {
    "colab_type": "text",
    "id": "g5Be4imeXhPb"
   },
   "source": [
    "#### 4. Plot the accuracy score of the k-NN method with  $k \\in \\{1, 3, 5, 7, 9\\}$ and distance $L_2.$\n"
   ]
  },
  {
   "cell_type": "code",
   "execution_count": 157,
   "metadata": {
    "colab": {},
    "colab_type": "code",
    "id": "Jkh53rY_XhPb"
   },
   "outputs": [],
   "source": [
    "# write your code here\n",
    "possible_k = [1, 3, 5, 7, 9]\n",
    "scores = []\n",
    "for k in possible_k:\n",
    "    y_true = test_labels\n",
    "    y_pred = model.classify_images(test_images, metric='l2', num_neighbors=k)\n",
    "    scores.append(model.accuracy_score(y_true, y_pred))"
   ]
  },
  {
   "cell_type": "code",
   "execution_count": 158,
   "metadata": {
    "colab": {},
    "colab_type": "code",
    "id": "wsLAni9iXhPd"
   },
   "outputs": [
    {
     "data": {
      "image/png": "[encoded data removed]",
      "text/plain": [
       "<Figure size 640x480 with 1 Axes>"
      ]
     },
     "metadata": {},
     "output_type": "display_data"
    }
   ],
   "source": [
    "plt.plot(possible_k, scores)\n",
    "plt.show()"
   ]
  },
  {
   "cell_type": "code",
   "execution_count": 159,
   "metadata": {},
   "outputs": [
    {
     "data": {
      "image/png": "[encoded data removed]",
      "text/plain": [
       "<Figure size 640x480 with 1 Axes>"
      ]
     },
     "metadata": {},
     "output_type": "display_data"
    }
   ],
   "source": [
    "# write your code here\n",
    "possible_k = [1, 3, 5, 7, 9]\n",
    "scores = []\n",
    "for k in possible_k:\n",
    "    y_true = train_labels\n",
    "    y_pred = model.classify_images(train_images, metric='l2', num_neighbors=k)\n",
    "    scores.append(model.accuracy_score(y_true, y_pred))\n",
    "plt.plot(possible_k, scores)\n",
    "plt.show()"
   ]
  },
  {
   "cell_type": "code",
   "execution_count": null,
   "metadata": {},
   "outputs": [],
   "source": []
  },
  {
   "cell_type": "code",
   "execution_count": null,
   "metadata": {},
   "outputs": [],
   "source": []
  }
 ],
 "metadata": {
  "colab": {
   "name": "Lab2-knn.ipynb",
   "provenance": []
  },
  "kernelspec": {
   "display_name": "Python 3 (ipykernel)",
   "language": "python",
   "name": "python3"
  },
  "language_info": {
   "codemirror_mode": {
    "name": "ipython",
    "version": 3
   },
   "file_extension": ".py",
   "mimetype": "text/x-python",
   "name": "python",
   "nbconvert_exporter": "python",
   "pygments_lexer": "ipython3",
   "version": "3.13.6"
  }
 },
 "nbformat": 4,
 "nbformat_minor": 4
}
