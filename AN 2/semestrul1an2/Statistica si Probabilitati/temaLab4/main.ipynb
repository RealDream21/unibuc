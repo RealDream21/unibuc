{
 "cells": [
  {
   "cell_type": "raw",
   "id": "8cd3e831-95ba-461c-95b7-f90040aab8ef",
   "metadata": {},
   "source": [
    "import pandas as pd\n",
    "from collections import Counter\n",
    "import numpy as np\n",
    "\n",
    "date = pd.read_excel('tema_2_date_interviu.xlsx')\n",
    "date = date.fillna(\"empty\")\n",
    "date.columns"
   ]
  },
  {
   "cell_type": "code",
   "execution_count": 34,
   "id": "c54dee0d-994d-43a2-98a4-8f98bedba4d2",
   "metadata": {
    "tags": []
   },
   "outputs": [],
   "source": [
    "class NaiveBayesClassifier():\n",
    "    def __init__(self, date, no_labels):\n",
    "        self.data = date\n",
    "        self.no_lables = no_labels\n",
    "        self.prior = [1/no_labels for _ in range(no_labels)]\n",
    "        self.yes_counter = 0\n",
    "        self.no_counter = 0\n",
    "\n",
    "        self.coloane_de_interes = [column for column in self.data.columns if column != 'A_VENIT_LA_INTERVIU']\n",
    "        self.prob_map = {column:{} for column in self.coloane_de_interes}\n",
    "        \n",
    "        self.prob_map = [[] for _ in range(no_labels)]\n",
    "        self.prob_map[0] = {column: {} for column in self.coloane_de_interes}\n",
    "        self.prob_map[1] = {column: {} for column in self.coloane_de_interes}\n",
    "        \n",
    "        self.words = {'yes':{column: [] for column in self.coloane_de_interes}, 'no':{column: [] for column in self.coloane_de_interes}}"
   ]
  },
  {
   "cell_type": "code",
   "execution_count": 35,
   "id": "48671424-9674-4b94-9664-4327c943f7b5",
   "metadata": {
    "tags": []
   },
   "outputs": [],
   "source": [
    "clas = NaiveBayesClassifier(date, 2)"
   ]
  },
  {
   "cell_type": "code",
   "execution_count": 39,
   "id": "135724e0-fca7-4e67-864d-3fb76f1ffef8",
   "metadata": {
    "tags": []
   },
   "outputs": [
    {
     "data": {
      "text/plain": [
       "[{'COMPANIA': {},\n",
       "  'INDUSTRIA': {},\n",
       "  'ID_CANDIDAT': {},\n",
       "  'SEX': {},\n",
       "  'LOCATIA_COMPANIEI': {},\n",
       "  'LOCATIA_CANDIDATULUI': {},\n",
       "  'RASPUNS_LA_TELEFON': {},\n",
       "  'STARE_CIVILA': {}},\n",
       " {'COMPANIA': {},\n",
       "  'INDUSTRIA': {},\n",
       "  'ID_CANDIDAT': {},\n",
       "  'SEX': {},\n",
       "  'LOCATIA_COMPANIEI': {},\n",
       "  'LOCATIA_CANDIDATULUI': {},\n",
       "  'RASPUNS_LA_TELEFON': {},\n",
       "  'STARE_CIVILA': {}}]"
      ]
     },
     "execution_count": 39,
     "metadata": {},
     "output_type": "execute_result"
    }
   ],
   "source": [
    "clas.prob_map"
   ]
  }
 ],
 "metadata": {
  "kernelspec": {
   "display_name": "Python 3 (ipykernel)",
   "language": "python",
   "name": "python3"
  },
  "language_info": {
   "codemirror_mode": {
    "name": "ipython",
    "version": 3
   },
   "file_extension": ".py",
   "mimetype": "text/x-python",
   "name": "python",
   "nbconvert_exporter": "python",
   "pygments_lexer": "ipython3",
   "version": "3.11.5"
  }
 },
 "nbformat": 4,
 "nbformat_minor": 5
}
