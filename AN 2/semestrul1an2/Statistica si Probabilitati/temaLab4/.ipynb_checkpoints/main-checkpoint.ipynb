{
 "cells": [
  {
   "cell_type": "code",
   "execution_count": 26,
   "id": "b64f1d49-0b7a-4dbe-8518-7fef42eb29b6",
   "metadata": {
    "tags": []
   },
   "outputs": [
    {
     "data": {
      "text/plain": [
       "Index(['COMPANIA', 'INDUSTRIA', 'ID_CANDIDAT', 'SEX', 'LOCATIA_COMPANIEI',\n",
       "       'LOCATIA_CANDIDATULUI', 'RASPUNS_LA_TELEFON', 'A_VENIT_LA_INTERVIU',\n",
       "       'STARE_CIVILA'],\n",
       "      dtype='object')"
      ]
     },
     "execution_count": 26,
     "metadata": {},
     "output_type": "execute_result"
    }
   ],
   "source": [
    "import pandas as pd\n",
    "from collections import Counter\n",
    "import numpy as np\n",
    "\n",
    "date = pd.read_excel('tema_2_date_interviu.xlsx')\n",
    "date = date.fillna(\"empty\")\n",
    "date.columns"
   ]
  },
  {
   "cell_type": "code",
   "execution_count": 144,
   "id": "c54dee0d-994d-43a2-98a4-8f98bedba4d2",
   "metadata": {
    "tags": []
   },
   "outputs": [],
   "source": [
    "class NaiveBayesClassifier():\n",
    "    \n",
    "    def __init__(self, date, no_labels):\n",
    "        self.data = date\n",
    "        self.no_lables = no_labels\n",
    "        self.prior = [1/no_labels for _ in range(no_labels)]\n",
    "        self.yes_counter = 0\n",
    "        self.no_counter = 0\n",
    "\n",
    "        self.coloane_de_interes = [column for column in self.data.columns if column != 'A_VENIT_LA_INTERVIU']\n",
    "        self.prob_map = {column:{} for column in self.coloane_de_interes}\n",
    "        \n",
    "        self.prob_map = [[] for _ in range(no_labels)]\n",
    "        self.prob_map[0] = {column: {} for column in self.coloane_de_interes}\n",
    "        self.prob_map[1] = {column: {} for column in self.coloane_de_interes}\n",
    "        \n",
    "        self.words = {'yes':{column: [] for column in self.coloane_de_interes}, 'no':{column: [] for column in self.coloane_de_interes}}\n",
    "        \n",
    "    def fit(self):\n",
    "        self.adauga_cuvinte_in_lista()\n",
    "        self.calculeaza_probabilitati(self.words[\"yes\"], self.prob_map[1], self.yes_counter)\n",
    "        self.calculeaza_probabilitati(self.words[\"no\"], self.prob_map[0], self.yes_counter)\n",
    "        \n",
    "    def adauga_cuvinte_in_lista(self):\n",
    "        for key, rand in self.data.iterrows():\n",
    "            if rand['A_VENIT_LA_INTERVIU'] == 'Yes':\n",
    "                for coloana in self.coloane_de_interes:\n",
    "                    self.words['yes'][coloana].append(rand[coloana])\n",
    "                self.yes_counter += 1\n",
    "            else:\n",
    "                for coloana in self.coloane_de_interes:\n",
    "                    self.words['no'][coloana].append(rand[coloana])\n",
    "                self.no_counter += 1\n",
    "        \n",
    "    @staticmethod\n",
    "    def calculeaza_probabilitati(liste, prob_map, total_counter):\n",
    "        for coloana in liste:\n",
    "            counter_dict = Counter(liste[coloana])\n",
    "            for cuvant, numar_aparitii in counter_dict.items():\n",
    "                prob_map[coloana][cuvant] = numar_aparitii/total_counter\n",
    "                \n",
    "    #def itereaza_peste_rand(self, rand, lista_cuvinte):\n",
    "    #    for nume_coloana in self.coloane_de_interes:\n",
    "            \n",
    "    def predict(self, rand_din_data_frame):\n",
    "        logs = self.inference(rand_din_data_frame)\n",
    "        return np.argmax(logs)\n",
    "    \n",
    "    def inference(self, rand_din_data_frame):\n",
    "        yes_sum = 0\n",
    "        no_sum = 0\n",
    "        for coloana in self.coloane_de_interes:\n",
    "            valoare_din_coloana = rand_din_data_frame[coloana]\n",
    "            \n",
    "            for cuv in valoare_din_coloana:\n",
    "                if cuv not in self.prob_map[1][coloana]:\n",
    "                    yes_sum += np.log(0.00001)\n",
    "                else:\n",
    "                    yes_sum += np.log(self.prob_map[1][coloana][valoare_din_coloana])\n",
    "                if cuv not in self.prob_map[0][coloana]:\n",
    "                    no_sum += np.log(0.00001)\n",
    "                else:\n",
    "                    no_sum += np.log(self.prob_map[0][coloana][valoare_din_coloana])\n",
    "        \n",
    "        yes_sum += np.log(self.prior[1])\n",
    "        no_sum += np.log(self.prior[0])\n",
    "        \n",
    "        return [no_sum, yes_sum]\n",
    "\n",
    "        "
   ]
  },
  {
   "cell_type": "code",
   "execution_count": 145,
   "id": "e641760a-0e44-4c6a-b255-455ee8a10a4e",
   "metadata": {
    "tags": []
   },
   "outputs": [],
   "source": [
    "clasificatoooorul = NaiveBayesClassifier(date, 2)\n",
    "clasificatoooorul.fit()"
   ]
  },
  {
   "cell_type": "code",
   "execution_count": 147,
   "id": "73869e09-0c38-46d6-910c-49de8fca48be",
   "metadata": {
    "tags": []
   },
   "outputs": [
    {
     "name": "stderr",
     "output_type": "stream",
     "text": [
      "965it [00:00, 2068.53it/s]"
     ]
    },
    {
     "name": "stdout",
     "output_type": "stream",
     "text": [
      "              precision    recall  f1-score   support\n",
      "\n",
      "           0       0.30      1.00      0.47       293\n",
      "           1       0.00      0.00      0.00       672\n",
      "\n",
      "    accuracy                           0.30       965\n",
      "   macro avg       0.15      0.50      0.23       965\n",
      "weighted avg       0.09      0.30      0.14       965\n",
      "\n"
     ]
    },
    {
     "name": "stderr",
     "output_type": "stream",
     "text": [
      "\n",
      "C:\\Users\\Fabi\\anaconda3\\Lib\\site-packages\\sklearn\\metrics\\_classification.py:1469: UndefinedMetricWarning: Precision and F-score are ill-defined and being set to 0.0 in labels with no predicted samples. Use `zero_division` parameter to control this behavior.\n",
      "  _warn_prf(average, modifier, msg_start, len(result))\n",
      "C:\\Users\\Fabi\\anaconda3\\Lib\\site-packages\\sklearn\\metrics\\_classification.py:1469: UndefinedMetricWarning: Precision and F-score are ill-defined and being set to 0.0 in labels with no predicted samples. Use `zero_division` parameter to control this behavior.\n",
      "  _warn_prf(average, modifier, msg_start, len(result))\n",
      "C:\\Users\\Fabi\\anaconda3\\Lib\\site-packages\\sklearn\\metrics\\_classification.py:1469: UndefinedMetricWarning: Precision and F-score are ill-defined and being set to 0.0 in labels with no predicted samples. Use `zero_division` parameter to control this behavior.\n",
      "  _warn_prf(average, modifier, msg_start, len(result))\n"
     ]
    }
   ],
   "source": [
    "def evaluate_model(model, data):\n",
    "    \n",
    "    from sklearn.metrics import  classification_report\n",
    "    from tqdm import tqdm\n",
    "    \n",
    "    predictions = []\n",
    "    true_values = []\n",
    "    for key, row in tqdm(data.iterrows()):\n",
    "        predictions.append(model.predict(row)) # aici adaug in lista predictia modelului\n",
    "        true_values.append(1 if row['A_VENIT_LA_INTERVIU'] == 'Yes' else 0) # aici adaug in lista 1 daca este YES sau 0 daca este NO\n",
    "        \n",
    "    print(classification_report(true_values, predictions))\n",
    "    \n",
    "evaluate_model(clasificatoooorul, date)"
   ]
  },
  {
   "cell_type": "code",
   "execution_count": null,
   "id": "d4329a31-e74a-4eff-b48e-fcdf0cec58fd",
   "metadata": {},
   "outputs": [],
   "source": []
  }
 ],
 "metadata": {
  "kernelspec": {
   "display_name": "Python 3 (ipykernel)",
   "language": "python",
   "name": "python3"
  },
  "language_info": {
   "codemirror_mode": {
    "name": "ipython",
    "version": 3
   },
   "file_extension": ".py",
   "mimetype": "text/x-python",
   "name": "python",
   "nbconvert_exporter": "python",
   "pygments_lexer": "ipython3",
   "version": "3.11.5"
  }
 },
 "nbformat": 4,
 "nbformat_minor": 5
}
