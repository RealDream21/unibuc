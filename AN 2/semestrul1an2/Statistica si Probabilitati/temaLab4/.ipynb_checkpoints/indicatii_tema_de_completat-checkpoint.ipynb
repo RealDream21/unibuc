{
 "cells": [
  {
   "cell_type": "code",
   "execution_count": 1,
   "id": "d846394f-c3fe-44c0-a2de-9babca01f40f",
   "metadata": {},
   "outputs": [
    {
     "data": {
      "text/plain": [
       "Index(['COMPANIA', 'INDUSTRIA', 'ID_CANDIDAT', 'SEX', 'LOCATIA_COMPANIEI',\n",
       "       'LOCATIA_CANDIDATULUI', 'RASPUNS_LA_TELEFON', 'A_VENIT_LA_INTERVIU',\n",
       "       'STARE_CIVILA'],\n",
       "      dtype='object')"
      ]
     },
     "execution_count": 1,
     "metadata": {},
     "output_type": "execute_result"
    }
   ],
   "source": [
    "import pandas as pd\n",
    "from collections import Counter\n",
    "import numpy as np\n",
    "\n",
    "date = pd.read_excel('tema_2_date_interviu.xlsx')\n",
    "date = date.fillna(\"empty\")\n",
    "date.columns"
   ]
  },
  {
   "cell_type": "code",
   "execution_count": 1,
   "id": "ea8edf32-5b3f-4e41-a7fc-3c38e2af133f",
   "metadata": {},
   "outputs": [],
   "source": [
    "class CLASIFICATOOOORUL():\n",
    "\n",
    "    def __init__(self, date, no_labels):\n",
    "        \n",
    "        # aici stocam tabelul initial cu toate informatiile pe care le avem\n",
    "        self.data = date \n",
    "        self.no_labels = no_labels\n",
    "        self.prior = [1/no_labels for _ in range(no_labels)]\n",
    "        self.yes_counter = 0\n",
    "        self.no_counter = 0\n",
    "        \n",
    "        # selectez toate informatiile despre candidati (ignor variabila pe care trebuie sa o prezic si id-ul pentru ca nu este relevant)\n",
    "        # Poate ar trebui sa ignor si alte variabile\n",
    "        self.coloane_de_interes = [column for column in self.data.columns if column not in ['A_VENIT_LA_INTERVIU', 'ID_CANDIDAT']]\n",
    "        \n",
    "        \n",
    "        \"\"\"\n",
    "        Pentru fiecare coloana (COMPANIE, INDUSTRIE, SEX, etc.) construiesc un dictionar uite voi stoca toate probabilitatile. De exemplu pentru\n",
    "        coloanele din paranteze dictionarul meu va arata asa:\n",
    "        self.prob_map = {\n",
    "            \"COMPANIE\": {}, # dictionar gol unde voi pune probabilitati\n",
    "            \"INDUSTRIE\": {}, # alt dictionar gol unde voi pune probabilitati (veti pune)\n",
    "            \"SEX\": {}, # alt dictionar gol. si asa mai departe.\n",
    "        \n",
    "        }\n",
    "        Pentru ca trebuie sa prezicem doar doua valori (YES/NO) avem nevoie de cate doua dictionare pentru fiecare coloana.\n",
    "        Puteti sa printati ambele dictionare ca sa vedeti ce continut au. (Vedeti urmatoarea celula)\n",
    "        \"\"\"\n",
    "        self.yes_prob_map = {column: {} for column in self.coloane_de_interes}\n",
    "        self.no_prob_map = {column: {} for column in self.coloane_de_interes}\n",
    "        \n",
    "        \"\"\"\n",
    "        Avem de asemenea nevoie de niste liste in care sa tinem minte ce cuvinte am intalnit in cazurile in care au venit\n",
    "        la interviu, cat si in cazurile in care nu au venit. Am pus aceste liste intr-un dictionar ca sa le pot identifica usor\n",
    "        \"\"\"\n",
    "        self.yes_words = {column: [] for column in self.coloane_de_interes}\n",
    "        self.no_words = {column: [] for column in self.coloane_de_interes}\n",
    "    \n",
    "    \n",
    "    def fit(self):\n",
    "        \n",
    "        self.adauga_cuvinte_in_lista()\n",
    "        self.calculeaza_probabilitati(self.yes_words, self.yes_prob_map, self.yes_counter)\n",
    "        self.calculeaza_probabilitati(self.no_words, self.no_prob_map, self.no_counter)\n",
    "                \n",
    "    def adauga_cuvinte_in_lista(self):\n",
    "        \n",
    "        for key, rand in self.data.iterrows():\n",
    "            if rand['A_VENIT_LA_INTERVIU'] == 'Yes':\n",
    "                # de completat: iterez_peste_rand si actualizez yes_words\n",
    "                self.yes_counter += None # trebuie sa actualizam si counterul\n",
    "            else:\n",
    "                # de completat: iterez_peste_rand si actualizez no_words\n",
    "                self.no_counter += None # trebuie sa actualizam si counterul\n",
    "    \n",
    "    @staticmethod\n",
    "    def calculeaza_probabilitati(liste, prob_map, total_counter):\n",
    "        \n",
    "        \"\"\"\n",
    "        Liste este un dictionar care are coloane drep chei si liste de cuvinte drept valori. Vezi exemplele de poze de mai jos. \n",
    "        Trebuie sa trecem prin fiecare lista, sa numaram cate aparitii sunt si sa actualizam dictionarul de probabiliati.\n",
    "        \"\"\"\n",
    "        for coloana in liste: \n",
    "            counter_dict = Counter(liste[coloana]) # \n",
    "            for cuvant, numar_aparitii in counter_dict.items():\n",
    "                # de completat: trebuie sa calculam probabilitatea pentru fiecare cuvant din coloana si sa ne raportam la cate YES/NO avem.\n",
    "                \n",
    "    \n",
    "    def itereaza_peste_rand(self, rand, lista_cuvinte):\n",
    "        \"\"\"\n",
    "        Iteram peste fiecare coloana de interes si inseram cuvintele in liste. Randurile vor avea ca index numele coloanelor,\n",
    "        deci putem sa selectam o valoare folosind 'nume_coloana'.\n",
    "        \"\"\"\n",
    "        for nume_coloana in self.coloane_de_interes:\n",
    "            # de completat\n",
    "            \n",
    "        \n",
    "    def predict(self, rand_din_data_frame):\n",
    "        \n",
    "        logs = self.inference(rand_din_data_frame)\n",
    "        \n",
    "        return np.argmax(logs)\n",
    "    \n",
    "    def inference(self, rand_din_data_frame):\n",
    "        \"\"\"\n",
    "        rand_din_data_frame: primim pentru predictie un rand si returnam valorile pentru yes and no.\n",
    "        \"\"\"\n",
    "        yes_sum = 0\n",
    "        no_sum = 0\n",
    "        for coloana in self.coloane_de_interes:\n",
    "            valoare_din_coloana = rand_din_data_frame[coloana]\n",
    "            \n",
    "            if valoare_din_coloana not in self.yes_prob_map[coloana]:\n",
    "                yes_sum += np.log(0.00001) # daca nu am cuvant acolo, adaug o probabilitate de forma.\n",
    "            else:\n",
    "                yes_sum += np.log(\n",
    "                    # cauta probabilitatea pentru cuvantul din coloana (valoarea coloana)\n",
    "                    # de completat\n",
    "                )\n",
    "                \n",
    "            if valoare_din_coloana not in self.no_prob_map[coloana]:\n",
    "                no_sum += np.log(0.00001) # daca nu am cuvant acolo, adaug o probabilitate de forma.\n",
    "            else:\n",
    "                no_sum += np.log(\n",
    "                    # cauta probabilitatea pentru cuvantul din coloana (valoarea din coloana)\n",
    "                    # de completat\n",
    "                )\n",
    "        \n",
    "        yes_sum += np.log(self.prior[1])\n",
    "        no_sum += np.log(self.prior[0])\n",
    "        \n",
    "        # nu trebuie sa transform inapoi folosind exp pentru ca logaritmul pastreaza ordinea. Adica de exemplu,\n",
    "        # daca no_sum este mai mare, va fi mai mare chiar daca aplic log.\n",
    "        return [no_sum, yes_sum]\n",
    "    "
   ]
  },
  {
   "cell_type": "code",
   "execution_count": 8,
   "id": "d279527d-27cd-4d85-b5e9-7af717e80bf2",
   "metadata": {},
   "outputs": [
    {
     "name": "stdout",
     "output_type": "stream",
     "text": [
      "------ Dictionarul de probabilitati ------\n",
      "\n",
      "{'COMPANIA': {}, 'INDUSTRIA': {}, 'SEX': {}, 'LOCATIA_COMPANIEI': {}, 'LOCATIA_CANDIDATULUI': {}, 'RASPUNS_LA_TELEFON': {}, 'STARE_CIVILA': {}}\n",
      "{'COMPANIA': {}, 'INDUSTRIA': {}, 'SEX': {}, 'LOCATIA_COMPANIEI': {}, 'LOCATIA_CANDIDATULUI': {}, 'RASPUNS_LA_TELEFON': {}, 'STARE_CIVILA': {}}\n",
      "------ Listele de cuvinte ------\n",
      "\n",
      "{'COMPANIA': [], 'INDUSTRIA': [], 'SEX': [], 'LOCATIA_COMPANIEI': [], 'LOCATIA_CANDIDATULUI': [], 'RASPUNS_LA_TELEFON': [], 'STARE_CIVILA': []}\n",
      "{'COMPANIA': [], 'INDUSTRIA': [], 'SEX': [], 'LOCATIA_COMPANIEI': [], 'LOCATIA_CANDIDATULUI': [], 'RASPUNS_LA_TELEFON': [], 'STARE_CIVILA': []}\n"
     ]
    }
   ],
   "source": [
    "# clasificatoooorul = CLASIFICATOOOORUL(date, 2)\n",
    "print('------ Dictionarul de probabilitati ------')\n",
    "print()\n",
    "print(clasificatoooorul.yes_prob_map) # unul pentru YES (VINE LA INTERVIU)\n",
    "print(clasificatoooorul.no_prob_map) # unul pentru NO (NU VINE LA INTERVIU)\n",
    "\n",
    "\n",
    "print('------ Listele de cuvinte ------' )\n",
    "print()\n",
    "print(clasificatoooorul.yes_words)\n",
    "print(clasificatoooorul.no_words)"
   ]
  },
  {
   "cell_type": "markdown",
   "id": "f01cecd4-c678-4aa9-a9b7-531b20b1474c",
   "metadata": {},
   "source": [
    "#### Aveti aici doua imagini unde am aratat rezultatul calculelor\n",
    "\n",
    "Am atasat doua print screens. Cam asa ar trebui sa arate dicionarele de mai sus dupa ce calculam probabilitatile.\n",
    "\n",
    "\n",
    "![Liste de Cuvinte](rezultat_liste_cuvinte.png)\n",
    "\n",
    "![Liste de probabilitati](rezultat_liste_probabilitati.png)"
   ]
  },
  {
   "cell_type": "code",
   "execution_count": 4,
   "id": "cfea225a-7446-435c-8c93-f6a4ebdfa4cd",
   "metadata": {},
   "outputs": [],
   "source": [
    "clasificatoooorul = CLASIFICATOOOORUL(date, 2)\n",
    "clasificatoooorul.fit()"
   ]
  },
  {
   "cell_type": "code",
   "execution_count": 5,
   "id": "13eb4db6-5ee9-42b2-9df3-bdd1bb931330",
   "metadata": {},
   "outputs": [
    {
     "name": "stderr",
     "output_type": "stream",
     "text": [
      "965it [00:00, 8567.70it/s]"
     ]
    },
    {
     "name": "stdout",
     "output_type": "stream",
     "text": [
      "              precision    recall  f1-score   support\n",
      "\n",
      "           0       0.38      0.70      0.49       293\n",
      "           1       0.79      0.50      0.61       672\n",
      "\n",
      "    accuracy                           0.56       965\n",
      "   macro avg       0.58      0.60      0.55       965\n",
      "weighted avg       0.67      0.56      0.57       965\n",
      "\n"
     ]
    },
    {
     "name": "stderr",
     "output_type": "stream",
     "text": [
      "\n"
     ]
    }
   ],
   "source": [
    "\n",
    "def evaluate_model(model, data):\n",
    "    \n",
    "    from sklearn.metrics import  classification_report\n",
    "    from tqdm import tqdm\n",
    "    \n",
    "    predictions = []\n",
    "    true_values = []\n",
    "    for key, row in tqdm(data.iterrows()):\n",
    "        predictions.append(model.predict(row)) # aici adaug in lista predictia modelului\n",
    "        true_values.append(1 if row['A_VENIT_LA_INTERVIU'] == 'Yes' else 0) # aici adaug in lista 1 daca este YES sau 0 daca este NO\n",
    "        \n",
    "    print(classification_report(true_values, predictions))\n",
    "    \n",
    "evaluate_model(clasificatoooorul, date)"
   ]
  },
  {
   "cell_type": "markdown",
   "id": "ce3d39ec-37c7-4a98-b627-ff7e75ae3bff",
   "metadata": {},
   "source": [
    "\n",
    "##### Scorul nu da foarte bine. Incercati sa mai eliminati din coloane. Poate avem prea multa informatie neimportanta. Incercati sa gasiti un set de coloane care da un scor mai bun.\n"
   ]
  }
 ],
 "metadata": {
  "kernelspec": {
   "display_name": "Python 3",
   "language": "python",
   "name": "python3"
  },
  "language_info": {
   "codemirror_mode": {
    "name": "ipython",
    "version": 3
   },
   "file_extension": ".py",
   "mimetype": "text/x-python",
   "name": "python",
   "nbconvert_exporter": "python",
   "pygments_lexer": "ipython3",
   "version": "3.8.8"
  }
 },
 "nbformat": 4,
 "nbformat_minor": 5
}
