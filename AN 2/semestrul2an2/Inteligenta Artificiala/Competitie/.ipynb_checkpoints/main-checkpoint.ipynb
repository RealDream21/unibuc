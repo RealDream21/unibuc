{
 "cells": [
  {
   "cell_type": "code",
   "execution_count": 98,
   "id": "56a2ee6f-d37d-40d3-8a94-ec536c0f2da2",
   "metadata": {
    "tags": []
   },
   "outputs": [],
   "source": [
    "import numpy as np\n",
    "import pandas as pd\n",
    "from PIL import Image\n",
    "import os\n",
    "from skimage import io\n",
    "from tqdm import tqdm\n",
    "from sklearn.svm import SVC\n",
    "from sklearn.metrics import accuracy_score\n",
    "from sklearn.neighbors import KNeighborsClassifier\n",
    "from sklearn.linear_model import SGDClassifier\n",
    "from sklearn.neural_network import MLPClassifier\n",
    "from sklearn.ensemble import RandomForestClassifier\n",
    "from skimage.color import rgb2gray\n",
    "from sklearn.preprocessing import Normalizer\n",
    "from skimage.filters import gaussian\n",
    "import seaborn as sns"
   ]
  },
  {
   "cell_type": "code",
   "execution_count": 2,
   "id": "42ef185f-11dc-449f-82cc-e81abfa9a266",
   "metadata": {
    "tags": []
   },
   "outputs": [],
   "source": [
    "# train_labels = pd.read_csv(\"train.csv\", index_col=\"image_id\")\n",
    "# test_labels = pd.read_csv(\"test.csv\", index_col=\"image_id\")\n",
    "# validation_labels = pd.read_csv(\"validation.csv\", index_col=\"image_id\")\n",
    "\n",
    "train_labels = pd.read_csv(\"train.csv\")\n",
    "test_labels = pd.read_csv(\"test.csv\")\n",
    "validation_labels = pd.read_csv(\"validation.csv\")"
   ]
  },
  {
   "cell_type": "code",
   "execution_count": 3,
   "id": "19e60910-7198-4351-8044-40488bf2c752",
   "metadata": {
    "tags": []
   },
   "outputs": [],
   "source": [
    "def show_image(image):\n",
    "    io.imshow(image.astype(np.float32))\n",
    "    io.show()"
   ]
  },
  {
   "cell_type": "code",
   "execution_count": 4,
   "id": "da1ff9f4-1e4f-44bb-bd50-3aa10d8cd48a",
   "metadata": {
    "tags": []
   },
   "outputs": [],
   "source": [
    "def calculeaza_std_si_mean(folder, label_file):\n",
    "    pathtodir = os.getcwd()\n",
    "    pathtodir = os.path.join(pathtodir, folder)\n",
    "    print(pathtodir)\n",
    "\n",
    "    aux_imagini = []\n",
    "    cnt = 0\n",
    "    for nume_imagine in tqdm(label_file.loc[:, \"image_id\"]):\n",
    "        image_name = nume_imagine + \".png\"\n",
    "        pathToImage = os.path.join(pathtodir, image_name)\n",
    "        imagine = np.array(Image.open(pathToImage))\n",
    "        imagine = np.ravel(imagine.copy())\n",
    "        if(imagine.shape == (6400, )):\n",
    "            # if folder == \"train\":#in viitor va trb sa sterg imaginile alb/negru\n",
    "            #     continue\n",
    "            imagine = np.concatenate((imagine, imagine, imagine))\n",
    "        #imagine = np.digitize(imagine, intervale)\n",
    "        #imagine = (imagine - min(imagine))/(max(imagine) - min(imagine))\n",
    "        aux_imagini.append(imagine)\n",
    "    imagini = np.array(aux_imagini)\n",
    "    return (np.mean(imagini), np.std(imagini))\n",
    "    "
   ]
  },
  {
   "cell_type": "code",
   "execution_count": 28,
   "id": "7b96e4ea-f9ee-443e-b426-dfd87c9037c5",
   "metadata": {
    "tags": []
   },
   "outputs": [],
   "source": [
    "def load_images_from_dir(folder, label_file,mean, std):\n",
    "    pathtodir = os.getcwd()\n",
    "    pathtodir = os.path.join(pathtodir, folder)\n",
    "    print(pathtodir)\n",
    "\n",
    "    aux_imagini = []\n",
    "    intervale = np.linspace(start=0, stop=1.1, num=25)\n",
    "    cnt = 0\n",
    "    for nume_imagine in tqdm(label_file.loc[:, \"image_id\"]):\n",
    "        image_name = nume_imagine + \".png\"\n",
    "        pathToImage = os.path.join(pathtodir, image_name)\n",
    "        imagine = np.array(Image.open(pathToImage))\n",
    "        imagine = np.ravel(imagine.copy())\n",
    "        if(imagine.shape == (6400, )):\n",
    "            # if folder == \"train\":#in viitor va trb sa sterg imaginile alb/negru\n",
    "            #     continue\n",
    "            imagine = np.concatenate((imagine, imagine, imagine))\n",
    "        #imagine = np.digitize(imagine, intervale)\n",
    "        img = imagine.copy()\n",
    "        #imagine = img.astype(np.float32)\n",
    "        #imagine = (img - mean)/ std\n",
    "        #imagine = (imagine - np.mean(imagine))/np.std(imagine)\n",
    "        imagine = imagine/255\n",
    "        imagine = imagine[:, :, 0]\n",
    "        #imagine = np.digitize(imagine, intervale)/25\n",
    "        \n",
    "        aux_imagini.append(imagine)\n",
    "        cnt += 1\n",
    "    imagini = np.array(aux_imagini)\n",
    "    return imagini\n",
    "    "
   ]
  },
  {
   "cell_type": "code",
   "execution_count": 110,
   "id": "ed187200-ffc9-4190-8377-f2c4df64126a",
   "metadata": {},
   "outputs": [],
   "source": [
    "def load_grey_image_from_dir(folder, label_file,mean, std):\n",
    "    pathtodir = os.getcwd()\n",
    "    pathtodir = os.path.join(pathtodir, folder)\n",
    "    print(pathtodir)\n",
    "\n",
    "    aux_imagini = []\n",
    "    intervale = np.linspace(start=0, stop=1.1, num=25)\n",
    "    cnt = 0\n",
    "    for nume_imagine in tqdm(label_file.loc[:, \"image_id\"]):\n",
    "        image_name = nume_imagine + \".png\"\n",
    "        pathToImage = os.path.join(pathtodir, image_name)\n",
    "        imagine = np.array(Image.open(pathToImage))\n",
    "        if(imagine.shape == (80, 80, 3)):\n",
    "            imagine = rgb2gray(imagine)\n",
    "        #imagine = gaussian(imagine)\n",
    "        imagine = np.ravel(imagine)\n",
    "\n",
    "        \n",
    "        aux_imagini.append(imagine)\n",
    "        cnt += 1\n",
    "    imagini = np.array(aux_imagini)\n",
    "    return imagini\n",
    "    "
   ]
  },
  {
   "cell_type": "code",
   "execution_count": 6,
   "id": "0defdaf0-9618-4ac9-8336-e307dbf252b4",
   "metadata": {
    "tags": []
   },
   "outputs": [
    {
     "name": "stdout",
     "output_type": "stream",
     "text": [
      "C:\\Users\\fabia\\Desktop\\unibuc\\AN 2\\semestrul2an2\\Inteligenta Artificiala\\Competitie\\train\n"
     ]
    },
    {
     "name": "stderr",
     "output_type": "stream",
     "text": [
      "100%|███████████████████████████████████████████████████████████████████████████| 10500/10500 [00:13<00:00, 776.74it/s]\n"
     ]
    }
   ],
   "source": [
    "mean, std = calculeaza_std_si_mean(\"train\", train_labels)"
   ]
  },
  {
   "cell_type": "code",
   "execution_count": 111,
   "id": "59923b06-a714-49c8-8714-f0d7ffa46d27",
   "metadata": {
    "tags": []
   },
   "outputs": [
    {
     "name": "stdout",
     "output_type": "stream",
     "text": [
      "C:\\Users\\fabia\\Desktop\\unibuc\\AN 2\\semestrul2an2\\Inteligenta Artificiala\\Competitie\\train\n"
     ]
    },
    {
     "name": "stderr",
     "output_type": "stream",
     "text": [
      "100%|██████████████████████████████████████████████████████████████████████████| 10500/10500 [00:06<00:00, 1521.10it/s]\n"
     ]
    },
    {
     "name": "stdout",
     "output_type": "stream",
     "text": [
      "C:\\Users\\fabia\\Desktop\\unibuc\\AN 2\\semestrul2an2\\Inteligenta Artificiala\\Competitie\\test\n"
     ]
    },
    {
     "name": "stderr",
     "output_type": "stream",
     "text": [
      "100%|████████████████████████████████████████████████████████████████████████████| 4500/4500 [00:02<00:00, 1554.98it/s]\n"
     ]
    },
    {
     "name": "stdout",
     "output_type": "stream",
     "text": [
      "C:\\Users\\fabia\\Desktop\\unibuc\\AN 2\\semestrul2an2\\Inteligenta Artificiala\\Competitie\\validation\n"
     ]
    },
    {
     "name": "stderr",
     "output_type": "stream",
     "text": [
      "100%|████████████████████████████████████████████████████████████████████████████| 3000/3000 [00:01<00:00, 1532.34it/s]\n"
     ]
    }
   ],
   "source": [
    "train_images = load_grey_image_from_dir(\"train\", train_labels, mean, std)\n",
    "test_images = load_grey_image_from_dir(\"test\", test_labels, mean, std)\n",
    "validation_images = load_grey_image_from_dir(\"validation\", validation_labels,mean, std)"
   ]
  },
  {
   "cell_type": "code",
   "execution_count": 113,
   "id": "d1900879-14e4-4fbf-9b0d-549e9c524589",
   "metadata": {
    "tags": []
   },
   "outputs": [
    {
     "data": {
      "image/png": "[encoded data removed]",
      "text/plain": [
       "<Figure size 640x480 with 1 Axes>"
      ]
     },
     "metadata": {},
     "output_type": "display_data"
    },
    {
     "name": "stdout",
     "output_type": "stream",
     "text": [
      "0.7246796802029668\n"
     ]
    }
   ],
   "source": [
    "show_image(np.reshape(train_images[1200], (80, 80, 1))) #279 e interesant\n",
    "print(max(validation_images[279]))"
   ]
  },
  {
   "cell_type": "code",
   "execution_count": 107,
   "id": "f46266b3-6393-4ccf-a1c5-a8836aeb4da3",
   "metadata": {},
   "outputs": [
    {
     "data": {
      "text/plain": [
       "array([[0.01267682, 0.0126858 , 0.01270011, ..., 0.01315331, 0.0131559 ,\n",
       "        0.01315708],\n",
       "       [0.01351712, 0.01292028, 0.0129303 , ..., 0.00377189, 0.00389133,\n",
       "        0.0038124 ],\n",
       "       [0.00673575, 0.00667491, 0.00711586, ..., 0.01449926, 0.0144219 ,\n",
       "        0.01433649],\n",
       "       ...,\n",
       "       [0.01404079, 0.01402714, 0.01400887, ..., 0.0139795 , 0.01397738,\n",
       "        0.01397553],\n",
       "       [0.01119057, 0.01129237, 0.01141879, ..., 0.01116349, 0.01108576,\n",
       "        0.01102849],\n",
       "       [0.0103796 , 0.01049329, 0.01063494, ..., 0.00731812, 0.00856523,\n",
       "        0.00958423]])"
      ]
     },
     "execution_count": 107,
     "metadata": {},
     "output_type": "execute_result"
    }
   ],
   "source": [
    "#normalizam imaginile\n",
    "normalizator = Normalizer()\n",
    "normalizator.fit_transform(train_images)\n",
    "normalizator.transform(validation_images)\n",
    "normalizator.transform(validation_images)"
   ]
  },
  {
   "cell_type": "code",
   "execution_count": 109,
   "id": "c495d6ff-3676-41ec-9572-7712994a1dcd",
   "metadata": {
    "tags": []
   },
   "outputs": [
    {
     "data": {
      "text/plain": [
       "0.49066666666666664"
      ]
     },
     "execution_count": 109,
     "metadata": {},
     "output_type": "execute_result"
    }
   ],
   "source": [
    "#incercam un model simplu doar asa ca exemplu\n",
    "model = SVC(C=2.5)\n",
    "model.fit(train_images, train_labels.iloc[:, 1])\n",
    "predictions = model.predict(validation_images)\n",
    "scor = accuracy_score(validation_labels.iloc[:, 1], predictions)\n",
    "scor"
   ]
  },
  {
   "cell_type": "code",
   "execution_count": 108,
   "id": "b3d7a7e8-5e1b-4a40-bb26-fd50fca77e5d",
   "metadata": {},
   "outputs": [
    {
     "data": {
      "text/plain": [
       "0.5066666666666667"
      ]
     },
     "execution_count": 108,
     "metadata": {},
     "output_type": "execute_result"
    }
   ],
   "source": [
    "#alt model\n",
    "model1 = RandomForestClassifier()\n",
    "model1.fit(train_images, train_labels.iloc[:, 1])\n",
    "predictions1 = model1.predict(validation_images)\n",
    "scor1 = accuracy_score(validation_labels.iloc[:, 1], predictions1)\n",
    "scor1"
   ]
  },
  {
   "cell_type": "code",
   "execution_count": 34,
   "id": "77f09bf4-8476-42e1-b02e-783e70b16f2f",
   "metadata": {
    "tags": []
   },
   "outputs": [
    {
     "data": {
      "text/plain": [
       "0.526"
      ]
     },
     "execution_count": 34,
     "metadata": {},
     "output_type": "execute_result"
    }
   ],
   "source": []
  },
  {
   "cell_type": "code",
   "execution_count": 35,
   "id": "a8648f6d-5511-4905-a3e1-e647cdcf692c",
   "metadata": {
    "tags": []
   },
   "outputs": [],
   "source": [
    "predictii_test = model.predict(test_images)\n",
    "raspuns = pd.Series(data=predictii_test, index=test_labels.iloc[:, 0], name=\"label\")\n",
    "raspuns.to_csv(\"raspuns.csv\")"
   ]
  }
 ],
 "metadata": {
  "kernelspec": {
   "display_name": "Python 3 (ipykernel)",
   "language": "python",
   "name": "python3"
  },
  "language_info": {
   "codemirror_mode": {
    "name": "ipython",
    "version": 3
   },
   "file_extension": ".py",
   "mimetype": "text/x-python",
   "name": "python",
   "nbconvert_exporter": "python",
   "pygments_lexer": "ipython3",
   "version": "3.11.7"
  }
 },
 "nbformat": 4,
 "nbformat_minor": 5
}
