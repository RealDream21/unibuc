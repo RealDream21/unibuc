{
 "cells": [
  {
   "cell_type": "code",
   "execution_count": 152,
   "id": "0b29fbad-ab5d-4a37-9ce6-5454d0f56bb3",
   "metadata": {},
   "outputs": [],
   "source": [
    "from sklearn.preprocessing import StandardScaler\n",
    "from sklearn.preprocessing import normalize\n",
    "from sklearn.feature_extraction.text import CountVectorizer\n",
    "from sklearn.svm import SVC\n",
    "from sklearn.metrics import accuracy_score\n",
    "from sklearn.metrics import f1_score\n",
    "import numpy as np"
   ]
  },
  {
   "cell_type": "code",
   "execution_count": 133,
   "id": "252eee5e-1361-4485-be96-e0397193b9c1",
   "metadata": {},
   "outputs": [],
   "source": [
    "def normalize_data(train_data, test_data, type=None):\n",
    "    if type == None:\n",
    "        return (train_data, test_data)\n",
    "    elif type == 'l2':\n",
    "        return (normalize(train_data, norm='l2'), normalize(test_data, norm='l2'))\n",
    "    elif type == 'l1':\n",
    "        return (normalize(train_data, norm='l1'), normalize(test_data, norm='l1'))\n"
   ]
  },
  {
   "cell_type": "code",
   "execution_count": 126,
   "id": "456cf138-ebc8-4f37-bd57-e3f031fff8d1",
   "metadata": {},
   "outputs": [],
   "source": [
    "class BagOfWords:\n",
    "    def __init__(self, data):\n",
    "        self.data = data\n",
    "        self.dict_id_cuvinte = dict()\n",
    "        self.dict_frecv_cuvinte = dict()\n",
    "        for text in data:\n",
    "            for cuvant in text:\n",
    "                cuvant = cuvant.strip()\n",
    "                if cuvant not in self.dict_id_cuvinte:\n",
    "                    self.dict_id_cuvinte.update({cuvant:len(self.dict_id_cuvinte)})\n",
    "                    self.dict_frecv_cuvinte.update({cuvant:0})\n",
    "                self.dict_frecv_cuvinte[cuvant] += 1\n",
    "\n",
    "    def get_features(self, data):\n",
    "        matrice = []\n",
    "        for text in data:\n",
    "            linie = []\n",
    "            dict_cuvinte = dict()\n",
    "            for cuvant in text:\n",
    "                if cuvant not in dict_cuvinte:\n",
    "                    dict_cuvinte.update({cuvant:0})\n",
    "                dict_cuvinte[cuvant] += 1\n",
    "            for cuvant_din_dict in self.dict_frecv_cuvinte:\n",
    "                if cuvant_din_dict in dict_cuvinte:\n",
    "                    linie.append(dict_cuvinte[cuvant_din_dict])\n",
    "                else:\n",
    "                    linie.append(0)\n",
    "            matrice.append(linie)\n",
    "        return matrice\n",
    "        "
   ]
  },
  {
   "cell_type": "code",
   "execution_count": 149,
   "id": "646807eb-c072-432a-93e8-1d90c34a2734",
   "metadata": {},
   "outputs": [],
   "source": [
    "train_data = np.load(\"training_sentences.npy\", allow_pickle=True)\n",
    "train_labels = np.load(\"training_labels.npy\", allow_pickle=True)\n",
    "test_data = np.load(\"test_sentences.npy\", allow_pickle=True)\n",
    "test_labels = np.load(\"test_labels.npy\", allow_pickle=True)"
   ]
  },
  {
   "cell_type": "code",
   "execution_count": 128,
   "id": "8531a50e-a6f1-469f-b7cc-2fcb8f8fd918",
   "metadata": {},
   "outputs": [
    {
     "data": {
      "text/plain": [
       "9522"
      ]
     },
     "execution_count": 128,
     "metadata": {},
     "output_type": "execute_result"
    }
   ],
   "source": [
    "bag = BagOfWords(train_data)\n",
    "len(bag.dict_id_cuvinte)"
   ]
  },
  {
   "cell_type": "code",
   "execution_count": 129,
   "id": "19ba44f2-3d37-4ab6-a021-589ad92be4c6",
   "metadata": {},
   "outputs": [],
   "source": [
    "bow_train_data = bag.get_features(train_data)\n",
    "bow_test_data = bag.get_features(test_data)"
   ]
  },
  {
   "cell_type": "code",
   "execution_count": 132,
   "id": "a966a86e-0182-40c6-95f3-e0f54cd53581",
   "metadata": {},
   "outputs": [],
   "source": [
    "norm_bow_train_data, norm_bow_test_data = normalize_data(bow_train_data, bow_test_data, type ='l2')"
   ]
  },
  {
   "cell_type": "code",
   "execution_count": 158,
   "id": "fcb0067e-e143-4852-9ace-38c2f9509a98",
   "metadata": {},
   "outputs": [
    {
     "data": {
      "text/html": [
       "<style>#sk-container-id-3 {color: black;background-color: white;}#sk-container-id-3 pre{padding: 0;}#sk-container-id-3 div.sk-toggleable {background-color: white;}#sk-container-id-3 label.sk-toggleable__label {cursor: pointer;display: block;width: 100%;margin-bottom: 0;padding: 0.3em;box-sizing: border-box;text-align: center;}#sk-container-id-3 label.sk-toggleable__label-arrow:before {content: \"▸\";float: left;margin-right: 0.25em;color: #696969;}#sk-container-id-3 label.sk-toggleable__label-arrow:hover:before {color: black;}#sk-container-id-3 div.sk-estimator:hover label.sk-toggleable__label-arrow:before {color: black;}#sk-container-id-3 div.sk-toggleable__content {max-height: 0;max-width: 0;overflow: hidden;text-align: left;background-color: #f0f8ff;}#sk-container-id-3 div.sk-toggleable__content pre {margin: 0.2em;color: black;border-radius: 0.25em;background-color: #f0f8ff;}#sk-container-id-3 input.sk-toggleable__control:checked~div.sk-toggleable__content {max-height: 200px;max-width: 100%;overflow: auto;}#sk-container-id-3 input.sk-toggleable__control:checked~label.sk-toggleable__label-arrow:before {content: \"▾\";}#sk-container-id-3 div.sk-estimator input.sk-toggleable__control:checked~label.sk-toggleable__label {background-color: #d4ebff;}#sk-container-id-3 div.sk-label input.sk-toggleable__control:checked~label.sk-toggleable__label {background-color: #d4ebff;}#sk-container-id-3 input.sk-hidden--visually {border: 0;clip: rect(1px 1px 1px 1px);clip: rect(1px, 1px, 1px, 1px);height: 1px;margin: -1px;overflow: hidden;padding: 0;position: absolute;width: 1px;}#sk-container-id-3 div.sk-estimator {font-family: monospace;background-color: #f0f8ff;border: 1px dotted black;border-radius: 0.25em;box-sizing: border-box;margin-bottom: 0.5em;}#sk-container-id-3 div.sk-estimator:hover {background-color: #d4ebff;}#sk-container-id-3 div.sk-parallel-item::after {content: \"\";width: 100%;border-bottom: 1px solid gray;flex-grow: 1;}#sk-container-id-3 div.sk-label:hover label.sk-toggleable__label {background-color: #d4ebff;}#sk-container-id-3 div.sk-serial::before {content: \"\";position: absolute;border-left: 1px solid gray;box-sizing: border-box;top: 0;bottom: 0;left: 50%;z-index: 0;}#sk-container-id-3 div.sk-serial {display: flex;flex-direction: column;align-items: center;background-color: white;padding-right: 0.2em;padding-left: 0.2em;position: relative;}#sk-container-id-3 div.sk-item {position: relative;z-index: 1;}#sk-container-id-3 div.sk-parallel {display: flex;align-items: stretch;justify-content: center;background-color: white;position: relative;}#sk-container-id-3 div.sk-item::before, #sk-container-id-3 div.sk-parallel-item::before {content: \"\";position: absolute;border-left: 1px solid gray;box-sizing: border-box;top: 0;bottom: 0;left: 50%;z-index: -1;}#sk-container-id-3 div.sk-parallel-item {display: flex;flex-direction: column;z-index: 1;position: relative;background-color: white;}#sk-container-id-3 div.sk-parallel-item:first-child::after {align-self: flex-end;width: 50%;}#sk-container-id-3 div.sk-parallel-item:last-child::after {align-self: flex-start;width: 50%;}#sk-container-id-3 div.sk-parallel-item:only-child::after {width: 0;}#sk-container-id-3 div.sk-dashed-wrapped {border: 1px dashed gray;margin: 0 0.4em 0.5em 0.4em;box-sizing: border-box;padding-bottom: 0.4em;background-color: white;}#sk-container-id-3 div.sk-label label {font-family: monospace;font-weight: bold;display: inline-block;line-height: 1.2em;}#sk-container-id-3 div.sk-label-container {text-align: center;}#sk-container-id-3 div.sk-container {/* jupyter's `normalize.less` sets `[hidden] { display: none; }` but bootstrap.min.css set `[hidden] { display: none !important; }` so we also need the `!important` here to be able to override the default hidden behavior on the sphinx rendered scikit-learn.org. See: https://github.com/scikit-learn/scikit-learn/issues/21755 */display: inline-block !important;position: relative;}#sk-container-id-3 div.sk-text-repr-fallback {display: none;}</style><div id=\"sk-container-id-3\" class=\"sk-top-container\"><div class=\"sk-text-repr-fallback\"><pre>SVC(C=1, kernel=&#x27;linear&#x27;)</pre><b>In a Jupyter environment, please rerun this cell to show the HTML representation or trust the notebook. <br />On GitHub, the HTML representation is unable to render, please try loading this page with nbviewer.org.</b></div><div class=\"sk-container\" hidden><div class=\"sk-item\"><div class=\"sk-estimator sk-toggleable\"><input class=\"sk-toggleable__control sk-hidden--visually\" id=\"sk-estimator-id-3\" type=\"checkbox\" checked><label for=\"sk-estimator-id-3\" class=\"sk-toggleable__label sk-toggleable__label-arrow\">SVC</label><div class=\"sk-toggleable__content\"><pre>SVC(C=1, kernel=&#x27;linear&#x27;)</pre></div></div></div></div></div>"
      ],
      "text/plain": [
       "SVC(C=1, kernel='linear')"
      ]
     },
     "execution_count": 158,
     "metadata": {},
     "output_type": "execute_result"
    }
   ],
   "source": [
    "C = 1\n",
    "model = SVC(C = 1, kernel='linear')\n",
    "model.fit(norm_bow_train_data, train_labels)"
   ]
  },
  {
   "cell_type": "code",
   "execution_count": 159,
   "id": "30796de5-d581-4223-840c-647994bd1d14",
   "metadata": {},
   "outputs": [],
   "source": [
    "predictions = model.predict(norm_bow_test_data)"
   ]
  },
  {
   "cell_type": "code",
   "execution_count": 160,
   "id": "692cca69-ced7-49b9-90b0-ed304641f21a",
   "metadata": {},
   "outputs": [
    {
     "data": {
      "text/plain": [
       "0.9842391304347826"
      ]
     },
     "execution_count": 160,
     "metadata": {},
     "output_type": "execute_result"
    }
   ],
   "source": [
    "score = accuracy_score(test_labels, predictions)\n",
    "score"
   ]
  },
  {
   "cell_type": "code",
   "execution_count": 172,
   "id": "f70e91cf-d9c2-401a-931a-a15757d3549a",
   "metadata": {},
   "outputs": [
    {
     "ename": "TypeError",
     "evalue": "'numpy.float64' object is not callable",
     "output_type": "error",
     "traceback": [
      "\u001b[1;31m---------------------------------------------------------------------------\u001b[0m",
      "\u001b[1;31mTypeError\u001b[0m                                 Traceback (most recent call last)",
      "Cell \u001b[1;32mIn[172], line 1\u001b[0m\n\u001b[1;32m----> 1\u001b[0m f1_scor \u001b[38;5;241m=\u001b[39m f1_score(test_labels, predictions)\n\u001b[0;32m      2\u001b[0m f1_scor\n",
      "\u001b[1;31mTypeError\u001b[0m: 'numpy.float64' object is not callable"
     ]
    }
   ],
   "source": [
    "f1_scor = f1_score(test_labels, predictions)\n",
    "f1_scor"
   ]
  },
  {
   "cell_type": "code",
   "execution_count": 186,
   "id": "63660084-1a42-4d7f-a6d7-a28f0d8a5fc5",
   "metadata": {},
   "outputs": [
    {
     "data": {
      "text/plain": [
       "[(-1.5205677595408342, '&lt#&gt'),\n",
       " (-1.1548610245925364, 'me'),\n",
       " (-1.0480471686435435, 'i'),\n",
       " (-0.9129849947306246, 'Going'),\n",
       " (-0.9103059947230119, 'him'),\n",
       " (-0.9081877355610026, 'Ok'),\n",
       " (-0.9012561474618785, 'I'),\n",
       " (-0.8841189959109963, 'Ill'),\n",
       " (-0.8469436292175161, 'my'),\n",
       " (-0.8446178462312, 'Im')]"
      ]
     },
     "execution_count": 186,
     "metadata": {},
     "output_type": "execute_result"
    }
   ],
   "source": [
    "max_coef = -1000\n",
    "index_coef = -1\n",
    "lista_1 = model.coef_.tolist()[0]\n",
    "lista_2 = list(bag.dict_id_cuvinte)\n",
    "feature_zip = zip(lista_1, lista_2)\n",
    "feature_zip = sorted(feature_zip, key= lambda x : x[0])\n",
    "feature_zip[:10]"
   ]
  },
  {
   "cell_type": "code",
   "execution_count": 187,
   "id": "e67b0f82-08f3-46db-9f1d-2e3949ff9a00",
   "metadata": {},
   "outputs": [
    {
     "data": {
      "text/plain": [
       "[(1.6860166576147766, 'Text'),\n",
       " (1.719852017272695, 'To'),\n",
       " (1.822243704854643, 'mobile'),\n",
       " (1.8359081155999426, 'CALL'),\n",
       " (1.9378176049163187, 'FREE'),\n",
       " (2.0004656327762125, 'txt'),\n",
       " (2.0473772767542147, '&'),\n",
       " (2.282199698507226, 'Call'),\n",
       " (2.5104356003217836, 'Txt'),\n",
       " (2.5109795106236437, 'STOP')]"
      ]
     },
     "execution_count": 187,
     "metadata": {},
     "output_type": "execute_result"
    }
   ],
   "source": [
    "feature_zip[-10:]"
   ]
  }
 ],
 "metadata": {
  "kernelspec": {
   "display_name": "Python 3 (ipykernel)",
   "language": "python",
   "name": "python3"
  },
  "language_info": {
   "codemirror_mode": {
    "name": "ipython",
    "version": 3
   },
   "file_extension": ".py",
   "mimetype": "text/x-python",
   "name": "python",
   "nbconvert_exporter": "python",
   "pygments_lexer": "ipython3",
   "version": "3.11.7"
  }
 },
 "nbformat": 4,
 "nbformat_minor": 5
}
