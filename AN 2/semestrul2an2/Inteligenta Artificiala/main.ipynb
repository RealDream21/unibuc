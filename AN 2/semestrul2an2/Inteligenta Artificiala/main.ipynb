{
 "cells": [
  {
   "cell_type": "code",
   "execution_count": 1,
   "id": "56a2ee6f-d37d-40d3-8a94-ec536c0f2da2",
   "metadata": {
    "tags": []
   },
   "outputs": [],
   "source": [
    "import numpy as np\n",
    "import pandas as pd\n",
    "from PIL import Image\n",
    "import os\n",
    "from skimage import io\n",
    "from tqdm import tqdm\n",
    "from sklearn.svm import SVC\n",
    "from sklearn.metrics import accuracy_score\n",
    "from sklearn.neighbors import KNeighborsClassifier\n",
    "from sklearn.linear_model import SGDClassifier\n",
    "from sklearn.neural_network import MLPClassifier\n",
    "import seaborn as sns"
   ]
  },
  {
   "cell_type": "code",
   "execution_count": 2,
   "id": "42ef185f-11dc-449f-82cc-e81abfa9a266",
   "metadata": {
    "tags": []
   },
   "outputs": [],
   "source": [
    "# train_labels = pd.read_csv(\"train.csv\", index_col=\"image_id\")\n",
    "# test_labels = pd.read_csv(\"test.csv\", index_col=\"image_id\")\n",
    "# validation_labels = pd.read_csv(\"validation.csv\", index_col=\"image_id\")\n",
    "\n",
    "train_labels = pd.read_csv(\"train.csv\")\n",
    "test_labels = pd.read_csv(\"test.csv\")\n",
    "validation_labels = pd.read_csv(\"validation.csv\")"
   ]
  },
  {
   "cell_type": "code",
   "execution_count": 3,
   "id": "19e60910-7198-4351-8044-40488bf2c752",
   "metadata": {
    "tags": []
   },
   "outputs": [],
   "source": [
    "def show_image(image):\n",
    "    io.imshow(image.astype(np.float32))\n",
    "    io.show()"
   ]
  },
  {
   "cell_type": "code",
   "execution_count": 4,
   "id": "da1ff9f4-1e4f-44bb-bd50-3aa10d8cd48a",
   "metadata": {
    "tags": []
   },
   "outputs": [],
   "source": [
    "def calculeaza_std_si_mean(folder, label_file):\n",
    "    pathtodir = os.getcwd()\n",
    "    pathtodir = os.path.join(pathtodir, folder)\n",
    "    print(pathtodir)\n",
    "\n",
    "    aux_imagini = []\n",
    "    cnt = 0\n",
    "    for nume_imagine in tqdm(label_file.loc[:, \"image_id\"]):\n",
    "        image_name = nume_imagine + \".png\"\n",
    "        pathToImage = os.path.join(pathtodir, image_name)\n",
    "        imagine = np.array(Image.open(pathToImage))\n",
    "        imagine = np.ravel(imagine.copy())\n",
    "        if(imagine.shape == (6400, )):\n",
    "            # if folder == \"train\":#in viitor va trb sa sterg imaginile alb/negru\n",
    "            #     continue\n",
    "            imagine = np.concatenate((imagine, imagine, imagine))\n",
    "        #imagine = np.digitize(imagine, intervale)\n",
    "        #imagine = (imagine - min(imagine))/(max(imagine) - min(imagine))\n",
    "        aux_imagini.append(imagine)\n",
    "    imagini = np.array(aux_imagini)\n",
    "    return (np.mean(imagini), np.std(imagini))\n",
    "    "
   ]
  },
  {
   "cell_type": "code",
   "execution_count": 27,
   "id": "7b96e4ea-f9ee-443e-b426-dfd87c9037c5",
   "metadata": {
    "tags": []
   },
   "outputs": [],
   "source": [
    "def load_images_from_dir(folder, label_file,mean, std):\n",
    "    pathtodir = os.getcwd()\n",
    "    pathtodir = os.path.join(pathtodir, folder)\n",
    "    print(pathtodir)\n",
    "\n",
    "    aux_imagini = []\n",
    "    intervale = np.linspace(start=0, stop=1.1, num=25)\n",
    "    cnt = 0\n",
    "    for nume_imagine in tqdm(label_file.loc[:, \"image_id\"]):\n",
    "        image_name = nume_imagine + \".png\"\n",
    "        pathToImage = os.path.join(pathtodir, image_name)\n",
    "        imagine = np.array(Image.open(pathToImage))\n",
    "        imagine = np.ravel(imagine.copy())\n",
    "        if(imagine.shape == (6400, )):\n",
    "            # if folder == \"train\":#in viitor va trb sa sterg imaginile alb/negru\n",
    "            #     continue\n",
    "            imagine = np.concatenate((imagine, imagine, imagine))\n",
    "        #imagine = np.digitize(imagine, intervale)\n",
    "        img = imagine.copy()\n",
    "        #imagine = img.astype(np.float32)\n",
    "        imagine = (img - mean)/ std\n",
    "        #imagine = (imagine - np.mean(imagine))/np.std(imagine)\n",
    "        #imagine = imagine/255\n",
    "        #imagine = np.digitize(imagine, intervale)/25\n",
    "        \n",
    "        aux_imagini.append(imagine)\n",
    "        cnt += 1\n",
    "    imagini = np.array(aux_imagini)\n",
    "    return imagini\n",
    "    "
   ]
  },
  {
   "cell_type": "code",
   "execution_count": 28,
   "id": "0defdaf0-9618-4ac9-8336-e307dbf252b4",
   "metadata": {
    "tags": []
   },
   "outputs": [
    {
     "name": "stdout",
     "output_type": "stream",
     "text": [
      "C:\\Users\\Fabi\\Desktop\\ml\\kaggle\\Realistic Image Classification @ UnivBuc\\train\n"
     ]
    },
    {
     "name": "stderr",
     "output_type": "stream",
     "text": [
      "100%|██████████████████████████████████████████████████████████████████████████| 10500/10500 [00:04<00:00, 2585.24it/s]\n"
     ]
    }
   ],
   "source": [
    "mean, std = calculeaza_std_si_mean(\"train\", train_labels)"
   ]
  },
  {
   "cell_type": "code",
   "execution_count": 29,
   "id": "59923b06-a714-49c8-8714-f0d7ffa46d27",
   "metadata": {
    "tags": []
   },
   "outputs": [
    {
     "name": "stdout",
     "output_type": "stream",
     "text": [
      "C:\\Users\\Fabi\\Desktop\\ml\\kaggle\\Realistic Image Classification @ UnivBuc\\train\n"
     ]
    },
    {
     "name": "stderr",
     "output_type": "stream",
     "text": [
      "100%|██████████████████████████████████████████████████████████████████████████| 10500/10500 [00:04<00:00, 2176.76it/s]\n"
     ]
    },
    {
     "name": "stdout",
     "output_type": "stream",
     "text": [
      "C:\\Users\\Fabi\\Desktop\\ml\\kaggle\\Realistic Image Classification @ UnivBuc\\test\n"
     ]
    },
    {
     "name": "stderr",
     "output_type": "stream",
     "text": [
      "100%|████████████████████████████████████████████████████████████████████████████| 4500/4500 [00:02<00:00, 2158.41it/s]\n"
     ]
    },
    {
     "name": "stdout",
     "output_type": "stream",
     "text": [
      "C:\\Users\\Fabi\\Desktop\\ml\\kaggle\\Realistic Image Classification @ UnivBuc\\validation\n"
     ]
    },
    {
     "name": "stderr",
     "output_type": "stream",
     "text": [
      "100%|████████████████████████████████████████████████████████████████████████████| 3000/3000 [00:01<00:00, 2175.51it/s]\n"
     ]
    }
   ],
   "source": [
    "train_images = load_images_from_dir(\"train\", train_labels, mean, std)\n",
    "test_images = load_images_from_dir(\"test\", test_labels, mean, std)\n",
    "validation_images = load_images_from_dir(\"validation\", validation_labels,mean, std)"
   ]
  },
  {
   "cell_type": "code",
   "execution_count": 31,
   "id": "d1900879-14e4-4fbf-9b0d-549e9c524589",
   "metadata": {
    "tags": []
   },
   "outputs": [
    {
     "name": "stderr",
     "output_type": "stream",
     "text": [
      "Clipping input data to the valid range for imshow with RGB data ([0..1] for floats or [0..255] for integers).\n"
     ]
    },
    {
     "data": {
      "image/png": "[encoded data removed]",
      "text/plain": [
       "<Figure size 640x480 with 2 Axes>"
      ]
     },
     "metadata": {},
     "output_type": "display_data"
    },
    {
     "name": "stdout",
     "output_type": "stream",
     "text": [
      "1.58718372427266\n"
     ]
    }
   ],
   "source": [
    "show_image(np.reshape(train_images[300], (80, 80, 3))) #279 e interesant\n",
    "print(max(validation_images[279]))"
   ]
  },
  {
   "cell_type": "code",
   "execution_count": 32,
   "id": "c495d6ff-3676-41ec-9572-7712994a1dcd",
   "metadata": {
    "tags": []
   },
   "outputs": [
    {
     "data": {
      "text/html": [
       "<style>#sk-container-id-3 {color: black;}#sk-container-id-3 pre{padding: 0;}#sk-container-id-3 div.sk-toggleable {background-color: white;}#sk-container-id-3 label.sk-toggleable__label {cursor: pointer;display: block;width: 100%;margin-bottom: 0;padding: 0.3em;box-sizing: border-box;text-align: center;}#sk-container-id-3 label.sk-toggleable__label-arrow:before {content: \"▸\";float: left;margin-right: 0.25em;color: #696969;}#sk-container-id-3 label.sk-toggleable__label-arrow:hover:before {color: black;}#sk-container-id-3 div.sk-estimator:hover label.sk-toggleable__label-arrow:before {color: black;}#sk-container-id-3 div.sk-toggleable__content {max-height: 0;max-width: 0;overflow: hidden;text-align: left;background-color: #f0f8ff;}#sk-container-id-3 div.sk-toggleable__content pre {margin: 0.2em;color: black;border-radius: 0.25em;background-color: #f0f8ff;}#sk-container-id-3 input.sk-toggleable__control:checked~div.sk-toggleable__content {max-height: 200px;max-width: 100%;overflow: auto;}#sk-container-id-3 input.sk-toggleable__control:checked~label.sk-toggleable__label-arrow:before {content: \"▾\";}#sk-container-id-3 div.sk-estimator input.sk-toggleable__control:checked~label.sk-toggleable__label {background-color: #d4ebff;}#sk-container-id-3 div.sk-label input.sk-toggleable__control:checked~label.sk-toggleable__label {background-color: #d4ebff;}#sk-container-id-3 input.sk-hidden--visually {border: 0;clip: rect(1px 1px 1px 1px);clip: rect(1px, 1px, 1px, 1px);height: 1px;margin: -1px;overflow: hidden;padding: 0;position: absolute;width: 1px;}#sk-container-id-3 div.sk-estimator {font-family: monospace;background-color: #f0f8ff;border: 1px dotted black;border-radius: 0.25em;box-sizing: border-box;margin-bottom: 0.5em;}#sk-container-id-3 div.sk-estimator:hover {background-color: #d4ebff;}#sk-container-id-3 div.sk-parallel-item::after {content: \"\";width: 100%;border-bottom: 1px solid gray;flex-grow: 1;}#sk-container-id-3 div.sk-label:hover label.sk-toggleable__label {background-color: #d4ebff;}#sk-container-id-3 div.sk-serial::before {content: \"\";position: absolute;border-left: 1px solid gray;box-sizing: border-box;top: 0;bottom: 0;left: 50%;z-index: 0;}#sk-container-id-3 div.sk-serial {display: flex;flex-direction: column;align-items: center;background-color: white;padding-right: 0.2em;padding-left: 0.2em;position: relative;}#sk-container-id-3 div.sk-item {position: relative;z-index: 1;}#sk-container-id-3 div.sk-parallel {display: flex;align-items: stretch;justify-content: center;background-color: white;position: relative;}#sk-container-id-3 div.sk-item::before, #sk-container-id-3 div.sk-parallel-item::before {content: \"\";position: absolute;border-left: 1px solid gray;box-sizing: border-box;top: 0;bottom: 0;left: 50%;z-index: -1;}#sk-container-id-3 div.sk-parallel-item {display: flex;flex-direction: column;z-index: 1;position: relative;background-color: white;}#sk-container-id-3 div.sk-parallel-item:first-child::after {align-self: flex-end;width: 50%;}#sk-container-id-3 div.sk-parallel-item:last-child::after {align-self: flex-start;width: 50%;}#sk-container-id-3 div.sk-parallel-item:only-child::after {width: 0;}#sk-container-id-3 div.sk-dashed-wrapped {border: 1px dashed gray;margin: 0 0.4em 0.5em 0.4em;box-sizing: border-box;padding-bottom: 0.4em;background-color: white;}#sk-container-id-3 div.sk-label label {font-family: monospace;font-weight: bold;display: inline-block;line-height: 1.2em;}#sk-container-id-3 div.sk-label-container {text-align: center;}#sk-container-id-3 div.sk-container {/* jupyter's `normalize.less` sets `[hidden] { display: none; }` but bootstrap.min.css set `[hidden] { display: none !important; }` so we also need the `!important` here to be able to override the default hidden behavior on the sphinx rendered scikit-learn.org. See: https://github.com/scikit-learn/scikit-learn/issues/21755 */display: inline-block !important;position: relative;}#sk-container-id-3 div.sk-text-repr-fallback {display: none;}</style><div id=\"sk-container-id-3\" class=\"sk-top-container\"><div class=\"sk-text-repr-fallback\"><pre>SVC(C=2.5)</pre><b>In a Jupyter environment, please rerun this cell to show the HTML representation or trust the notebook. <br />On GitHub, the HTML representation is unable to render, please try loading this page with nbviewer.org.</b></div><div class=\"sk-container\" hidden><div class=\"sk-item\"><div class=\"sk-estimator sk-toggleable\"><input class=\"sk-toggleable__control sk-hidden--visually\" id=\"sk-estimator-id-3\" type=\"checkbox\" checked><label for=\"sk-estimator-id-3\" class=\"sk-toggleable__label sk-toggleable__label-arrow\">SVC</label><div class=\"sk-toggleable__content\"><pre>SVC(C=2.5)</pre></div></div></div></div></div>"
      ],
      "text/plain": [
       "SVC(C=2.5)"
      ]
     },
     "execution_count": 32,
     "metadata": {},
     "output_type": "execute_result"
    }
   ],
   "source": [
    "#incercam un model simplu doar asa ca exemplu\n",
    "model = SVC(C=2.5)\n",
    "model.fit(train_images, train_labels.iloc[:, 1])"
   ]
  },
  {
   "cell_type": "code",
   "execution_count": 33,
   "id": "e2700944-2c4e-4f02-93d5-a03b925aced8",
   "metadata": {
    "tags": []
   },
   "outputs": [],
   "source": [
    "predictions = model.predict(validation_images)"
   ]
  },
  {
   "cell_type": "code",
   "execution_count": 34,
   "id": "77f09bf4-8476-42e1-b02e-783e70b16f2f",
   "metadata": {
    "tags": []
   },
   "outputs": [
    {
     "data": {
      "text/plain": [
       "0.526"
      ]
     },
     "execution_count": 34,
     "metadata": {},
     "output_type": "execute_result"
    }
   ],
   "source": [
    "scor = accuracy_score(validation_labels.iloc[:, 1], predictions)\n",
    "scor"
   ]
  },
  {
   "cell_type": "code",
   "execution_count": 35,
   "id": "a8648f6d-5511-4905-a3e1-e647cdcf692c",
   "metadata": {
    "tags": []
   },
   "outputs": [],
   "source": [
    "predictii_test = model.predict(test_images)\n",
    "raspuns = pd.Series(data=predictii_test, index=test_labels.iloc[:, 0], name=\"label\")\n",
    "raspuns.to_csv(\"raspuns.csv\")"
   ]
  }
 ],
 "metadata": {
  "kernelspec": {
   "display_name": "Python 3 (ipykernel)",
   "language": "python",
   "name": "python3"
  },
  "language_info": {
   "codemirror_mode": {
    "name": "ipython",
    "version": 3
   },
   "file_extension": ".py",
   "mimetype": "text/x-python",
   "name": "python",
   "nbconvert_exporter": "python",
   "pygments_lexer": "ipython3",
   "version": "3.11.5"
  }
 },
 "nbformat": 4,
 "nbformat_minor": 5
}
