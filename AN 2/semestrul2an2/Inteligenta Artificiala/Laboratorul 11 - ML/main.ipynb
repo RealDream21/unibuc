{
 "cells": [
  {
   "cell_type": "code",
   "execution_count": 55,
   "id": "0931c6ae-c521-44c2-bcdc-28ba9040113c",
   "metadata": {},
   "outputs": [],
   "source": [
    "from sklearn.preprocessing import normalize\n",
    "from sklearn.model_selection import train_test_split\n",
    "from sklearn.utils import shuffle\n",
    "from sklearn.model_selection import KFold\n",
    "from sklearn.linear_model import LinearRegression\n",
    "from sklearn.metrics import mean_absolute_error\n",
    "from sklearn.linear_model import Ridge\n",
    "import numpy as np"
   ]
  },
  {
   "cell_type": "code",
   "execution_count": 18,
   "id": "97a4e7f5-12f0-4e01-8ac0-6a1a84d7de28",
   "metadata": {},
   "outputs": [],
   "source": [
    "training_data = np.load('training_data.npy')\n",
    "prices = np.load('prices.npy')\n",
    "training_data, prices = shuffle(training_data, prices)"
   ]
  },
  {
   "cell_type": "code",
   "execution_count": 10,
   "id": "d2b29378-5c6a-49ec-8974-0dfb6b60446f",
   "metadata": {},
   "outputs": [],
   "source": [
    "def normalize_data(train_data, test_data, type=None):\n",
    "    if type == None:\n",
    "        return (train_data, test_data)\n",
    "    elif type == 'l2':\n",
    "        return (normalize(train_data, norm='l2'), normalize(test_data, norm='l2'))\n",
    "    elif type == 'l1':\n",
    "        return (normalize(train_data, norm='l1'), normalize(test_data, norm='l1'))"
   ]
  },
  {
   "cell_type": "code",
   "execution_count": 54,
   "id": "6cc07477-ddd2-4d46-b1e2-ca3219e7f229",
   "metadata": {},
   "outputs": [
    {
     "name": "stdout",
     "output_type": "stream",
     "text": [
      "1.2943462\n",
      "1.3641623\n",
      "1.2994887\n"
     ]
    }
   ],
   "source": [
    "splitter = KFold(n_splits=3)\n",
    "splitter.get_n_splits(training_data, prices)\n",
    "\n",
    "for i, (train_index, test_index) in enumerate(splitter.split(training_data, prices)):\n",
    "    model_liniar = LinearRegression()\n",
    "    model_liniar.fit(training_data[train_index, :], prices[train_index])\n",
    "    predictii = model_liniar.predict(training_data[test_index, :])\n",
    "    print(mean_absolute_error(prices[test_index], predictii)) "
   ]
  },
  {
   "cell_type": "code",
   "execution_count": 61,
   "id": "77ea70e9-7eef-45ea-a060-b6d6072ee2f4",
   "metadata": {},
   "outputs": [
    {
     "name": "stdout",
     "output_type": "stream",
     "text": [
      "Best alpha este:\n",
      "1000 1.2943462\n"
     ]
    }
   ],
   "source": [
    "splitter = KFold(n_splits=3)\n",
    "splitter.get_n_splits(training_data, prices)\n",
    "\n",
    "performanta = 10\n",
    "alpha = -1\n",
    "\n",
    "for alpha in [1, 10, 100, 1000]:\n",
    "    for i, (train_index, test_index) in enumerate(splitter.split(training_data, prices)):\n",
    "        model_ridge = Ridge(alpha=alpha)\n",
    "        model_liniar.fit(training_data[train_index, :], prices[train_index])\n",
    "        predictii = model_liniar.predict(training_data[test_index, :])\n",
    "        scor = mean_absolute_error(prices[test_index], predictii)\n",
    "        if scor < performanta:\n",
    "            alpha = alpha\n",
    "            performanta = scor\n",
    "print(\"Best alpha este:\")\n",
    "print(alpha, performanta)\n"
   ]
  },
  {
   "cell_type": "code",
   "execution_count": 71,
   "id": "cd81c1ef-1174-4a07-aed7-93bbeaa72413",
   "metadata": {},
   "outputs": [
    {
     "name": "stdout",
     "output_type": "stream",
     "text": [
      "0.5091063\n",
      "0\n"
     ]
    },
    {
     "name": "stderr",
     "output_type": "stream",
     "text": [
      "D:\\Anaconda\\Lib\\site-packages\\sklearn\\linear_model\\_ridge.py:216: LinAlgWarning: Ill-conditioned matrix (rcond=1.21489e-10): result may not be accurate.\n",
      "  return linalg.solve(A, Xy, assume_a=\"pos\", overwrite_a=True).T\n"
     ]
    }
   ],
   "source": [
    "model_ridge = Ridge(alpha=alpha)\n",
    "model_ridge.fit(training_data, prices)\n",
    "lista_weight = list(model_ridge.coef_)\n",
    "print(max(lista_weight))\n",
    "print(lista_weight.index(max(lista_weight)))"
   ]
  }
 ],
 "metadata": {
  "kernelspec": {
   "display_name": "Python 3 (ipykernel)",
   "language": "python",
   "name": "python3"
  },
  "language_info": {
   "codemirror_mode": {
    "name": "ipython",
    "version": 3
   },
   "file_extension": ".py",
   "mimetype": "text/x-python",
   "name": "python",
   "nbconvert_exporter": "python",
   "pygments_lexer": "ipython3",
   "version": "3.11.7"
  }
 },
 "nbformat": 4,
 "nbformat_minor": 5
}
